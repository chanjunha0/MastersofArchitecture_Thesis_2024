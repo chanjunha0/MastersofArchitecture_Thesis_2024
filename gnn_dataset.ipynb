{
 "cells": [
  {
   "cell_type": "markdown",
   "id": "db35fde5-535f-48b9-9e12-564bea8bedba",
   "metadata": {},
   "source": [
    "## **README**"
   ]
  },
  {
   "cell_type": "markdown",
   "id": "4c21a315-f5ad-4a6d-af9c-b1641033e444",
   "metadata": {},
   "source": [
    "**Input**"
   ]
  },
  {
   "cell_type": "markdown",
   "id": "3e75b865-5a91-49a5-b13f-ba4d865b63ea",
   "metadata": {},
   "source": [
    "Training/prediction csv data from the rhino-grasshopper simulation"
   ]
  },
  {
   "cell_type": "markdown",
   "id": "f4f61f3b-80ab-44e1-9827-7413818fc149",
   "metadata": {},
   "source": [
    "**Output**"
   ]
  },
  {
   "cell_type": "markdown",
   "id": "930b929e-34cd-4eed-83f4-1482fa31c29b",
   "metadata": {},
   "source": [
    "Pytorch graph data object"
   ]
  },
  {
   "cell_type": "markdown",
   "id": "8e43a466-4d3c-49e3-9e19-1a77b8da89ce",
   "metadata": {},
   "source": [
    "## **Import Libraries**"
   ]
  },
  {
   "cell_type": "code",
   "execution_count": 1,
   "id": "14692659-1b83-4390-9a35-be265d139600",
   "metadata": {},
   "outputs": [],
   "source": [
    "# import libraries\n",
    "import os\n",
    "import pandas as pd\n",
    "import torch                                 # pytorch\n",
    "from torch_geometric.data import Data        # to work with graph data"
   ]
  },
  {
   "cell_type": "markdown",
   "id": "fc0d8c74-f71c-4edb-b5ee-9cfb6fc994fe",
   "metadata": {},
   "source": [
    "## **Pipeline Settings**"
   ]
  },
  {
   "cell_type": "code",
   "execution_count": 2,
   "id": "e41d3212-b6ad-4a09-b8b8-249ccc0f3b01",
   "metadata": {},
   "outputs": [],
   "source": [
    "# Define the mode at the start of your code\n",
    "pipeline_mode = \"training\"  # Change to \"prediction\" when needed"
   ]
  },
  {
   "cell_type": "code",
   "execution_count": 3,
   "id": "075e3a51-8643-4dc7-bc4c-3031abcb960b",
   "metadata": {},
   "outputs": [],
   "source": [
    "# Csv Training Data\n",
    "run_num = 'run_4'\n",
    "file_path_training = rf'data\\csv_training\\{run_num}'"
   ]
  },
  {
   "cell_type": "markdown",
   "id": "4bb460fe-1e14-4314-85ed-70f4421ee7db",
   "metadata": {},
   "source": [
    "**No changes to input below for each run**"
   ]
  },
  {
   "cell_type": "code",
   "execution_count": 4,
   "id": "6573a7d9-2afa-4c55-b2b2-2f436e7d42cd",
   "metadata": {},
   "outputs": [],
   "source": [
    "# Pytorch Training Path\n",
    "filename_training = rf'data/torch_data_object_training/{run_num}.pt'"
   ]
  },
  {
   "cell_type": "code",
   "execution_count": 5,
   "id": "4548b764-8ec4-4792-a207-cfd17563fa2d",
   "metadata": {},
   "outputs": [],
   "source": [
    "# Pytorch Prediction Path\n",
    "filename_prediction = rf'data/torch_data_object_prediction/{run_num}.pt'"
   ]
  },
  {
   "cell_type": "code",
   "execution_count": 6,
   "id": "edbd1f31-c9c4-4307-80bb-5531b8e46e7f",
   "metadata": {},
   "outputs": [],
   "source": [
    "# Csv Files to Import\n",
    "file_names = [ \n",
    "    'building_alum_vertex',\n",
    "    'building_brick_vertex',\n",
    "    'building_conc_vertex',\n",
    "    'building_glass_vertex',\n",
    "    'building_wood_vertex',\n",
    "    'distance_alum',\n",
    "    'distance_brick',\n",
    "    'distance_conc',\n",
    "    'distance_glass',\n",
    "    'distance_wood',\n",
    "    'label',  \n",
    "    'sensor',\n",
    "    'sensor_length',\n",
    "    'vertex_length_alum',\n",
    "    'vertex_length_brick',\n",
    "    'vertex_length_conc',\n",
    "    'vertex_length_glass',\n",
    "    'vertex_length_wood',\n",
    "]  "
   ]
  },
  {
   "cell_type": "code",
   "execution_count": 7,
   "id": "450e57ba-6527-47c0-a8a1-400420994665",
   "metadata": {},
   "outputs": [],
   "source": [
    "# Dictionary mapping DataFrame names to material names\n",
    "df_material_map = {\n",
    "    'building_conc_vertex_df': 'exterior_concrete_wall',\n",
    "    'building_glass_vertex_df': 'exterior_glass',\n",
    "    'building_wood_vertex_df': 'exterior_wood_wall',\n",
    "    'building_brick_vertex_df': 'exterior_white_brick',\n",
    "    'building_alum_vertex_df': 'exterior_alum_cladding'\n",
    "}"
   ]
  },
  {
   "cell_type": "code",
   "execution_count": 8,
   "id": "efa4574f-a66a-4ec6-a84e-09b9dd1bcd26",
   "metadata": {},
   "outputs": [],
   "source": [
    "# List to combine into building_df\n",
    "append_list = (\n",
    "    'building_alum_vertex_df_append',\n",
    "    'building_brick_vertex_df_append',\n",
    "    'building_conc_vertex_df_append',\n",
    "    'building_glass_vertex_df_append',\n",
    "    'building_wood_vertex_df_append',\n",
    ")"
   ]
  },
  {
   "cell_type": "code",
   "execution_count": 9,
   "id": "786dc752-b3b9-41d9-afe0-119e4b663839",
   "metadata": {},
   "outputs": [],
   "source": [
    "# List of dfs to extract vertex length\n",
    "df_vertex_names = [\n",
    "    'vertex_length_alum_df',\n",
    "    'vertex_length_brick_df',\n",
    "    'vertex_length_conc_df',\n",
    "    'vertex_length_glass_df',\n",
    "    'vertex_length_wood_df'\n",
    "]"
   ]
  },
  {
   "cell_type": "code",
   "execution_count": 10,
   "id": "9b6d7be6-3130-481f-bd4d-fc711e0fc9a2",
   "metadata": {},
   "outputs": [],
   "source": [
    "# Material list\n",
    "material_list = ['alum', 'brick','conc', 'glass', 'wood']  "
   ]
  },
  {
   "cell_type": "markdown",
   "id": "5c154157-7b6e-452a-8f10-05e9f65e2945",
   "metadata": {},
   "source": [
    "## **Functions**"
   ]
  },
  {
   "cell_type": "code",
   "execution_count": 11,
   "id": "edfbdbf9-8793-472d-b367-6276dc332c3c",
   "metadata": {},
   "outputs": [],
   "source": [
    "def print_df(dataframes, line_length=50):\n",
    "    \"\"\"\n",
    "    Prints the head of each DataFrame in the list, separated by a line.\n",
    "\n",
    "    Parameters:\n",
    "    - dataframes (list of tuple): A list where each tuple contains a string (the name of the DataFrame) and a DataFrame.\n",
    "    - line_length (int): The length of the separating line. Default is 50.\n",
    "    \"\"\"\n",
    "    line = '-' * line_length\n",
    "    for name, df in dataframes:\n",
    "        print(name)\n",
    "        print(df.head())\n",
    "        print(line)"
   ]
  },
  {
   "cell_type": "code",
   "execution_count": 12,
   "id": "e87ce78e-15b3-46df-9e0c-76133a1ecfbd",
   "metadata": {},
   "outputs": [],
   "source": [
    "def check_nulls_in_dfs(dfs):\n",
    "    \"\"\"\n",
    "    Checks for null values in each DataFrame within a dictionary and prints a message indicating the presence of null values.\n",
    "\n",
    "    Args:\n",
    "    - dfs (dict): A dictionary where each key is the name of a DataFrame and each value is the DataFrame object.\n",
    "    \"\"\"\n",
    "    for df_name, df in dfs.items():\n",
    "        # Check if there are any null values in the DataFrame\n",
    "        if df.isnull().values.any():\n",
    "            print(f'Null values found in \\'{df_name}\\' DataFrame.')\n",
    "        else:\n",
    "            print(f'No null values in \\'{df_name}\\' DataFrame.')"
   ]
  },
  {
   "cell_type": "code",
   "execution_count": 13,
   "id": "5dcfe90a-5551-402d-b789-5994f53583f4",
   "metadata": {},
   "outputs": [],
   "source": [
    "def format_and_insert_id_column(df, id_base_name):\n",
    "    \"\"\"\n",
    "    Resets the index of the DataFrame, creates a new column with formatted IDs based on the new index,\n",
    "    and inserts this new column as the first column of the DataFrame.\n",
    "    \n",
    "    Args:\n",
    "    - df (pd.DataFrame): The DataFrame to operate on.\n",
    "    - id_base_name (str): The base name for the new ID column (e.g., 'sensor_id', 'vertex_id').\n",
    "    \n",
    "    Returns:\n",
    "    - pd.DataFrame: The modified DataFrame with the new ID column as the first column.\n",
    "    \"\"\"\n",
    "    # Resetting the index so the specified ID column is no longer the index column, if it was.\n",
    "    df.reset_index(drop=True, inplace=True)\n",
    "    \n",
    "    # Creating a new ID column with formatted values.\n",
    "    df[id_base_name] = [f'{id_base_name}_{i + 1}' for i in df.index]\n",
    "    \n",
    "    # Inserting the new ID column as the first column.\n",
    "    df.insert(0, id_base_name, df.pop(id_base_name))\n",
    "    \n",
    "    return df"
   ]
  },
  {
   "cell_type": "code",
   "execution_count": 14,
   "id": "f08b6887-028b-48f1-b814-bfed5508e32d",
   "metadata": {},
   "outputs": [],
   "source": [
    "def load_csv_files_as_dict(file_path_training, file_names):\n",
    "    \"\"\"\n",
    "    Loads CSV files into pandas DataFrames and stores them in a dictionary with dynamically constructed keys.\n",
    "    Skips empty CSV files.\n",
    "\n",
    "    Args:\n",
    "    - file_path_training (str): The directory path where the CSV files are stored.\n",
    "    - file_names (list of str): List of file names without the '.csv' extension.\n",
    "\n",
    "    Returns:\n",
    "    - dict: A dictionary where each key is a dynamically constructed name based on the file name and\n",
    "            each value is the corresponding DataFrame loaded from the CSV file.\n",
    "    \"\"\"\n",
    "    # Dictionary to store the DataFrames, with keys as dynamically constructed names\n",
    "    dataframes = {}\n",
    "\n",
    "    # Loop over the list of file names\n",
    "    for file_name in file_names:\n",
    "        file_path = os.path.join(file_path_training, f'{file_name}.csv')\n",
    "        # Check if the file is not empty (size > 0)\n",
    "        if os.path.getsize(file_path) > 0:\n",
    "            # Construct the DataFrame name and load the CSV file into a DataFrame\n",
    "            df_name = f'{file_name}_df'\n",
    "            dataframes[df_name] = pd.read_csv(file_path, header=None)\n",
    "        else:\n",
    "            print(f'Skipped empty file: {file_name}.csv')\n",
    "\n",
    "    return dataframes"
   ]
  },
  {
   "cell_type": "code",
   "execution_count": 15,
   "id": "60b8ddc9-11ec-4668-8a20-d0ea874a9b27",
   "metadata": {},
   "outputs": [],
   "source": [
    "def append_material_properties(dfs, material_df, df_material_map):\n",
    "    \"\"\"\n",
    "    Appends material properties to each row of specified building DataFrames based on a mapping dictionary,\n",
    "    creating new DataFrames for the appended versions without modifying the originals.\n",
    "    Skips empty DataFrames and those not found in the dfs dictionary.\n",
    "    \n",
    "    Args:\n",
    "    - dfs (dict): Dictionary of DataFrames to be updated, where keys are DataFrame names.\n",
    "    - material_df (pd.DataFrame): DataFrame containing material properties.\n",
    "    - df_material_map (dict): Dictionary mapping DataFrame names to material names.\n",
    "    \n",
    "    Returns:\n",
    "    - dict: The dfs dictionary with new DataFrames added that contain the original data\n",
    "            with material properties appended. The new DataFrames have keys with an `_append` suffix.\n",
    "    \"\"\"\n",
    "    for df_name, material_name in df_material_map.items():\n",
    "        # Construct new DataFrame name with '_append' suffix\n",
    "        new_df_name = f\"{df_name}_append\"\n",
    "        \n",
    "        # Check if the original DataFrame is present in dfs and not empty\n",
    "        if df_name in dfs and not dfs[df_name].empty:\n",
    "            # Find the row in material_df for the specified material\n",
    "            material_row = material_df[material_df['material_name'] == material_name].drop('material_name', axis=1)\n",
    "            # Replicate the material row to match the size of the building DataFrame\n",
    "            repeated_material = pd.concat([material_row] * len(dfs[df_name]), ignore_index=True)\n",
    "            # Create a new DataFrame by appending the material properties\n",
    "            dfs[new_df_name] = pd.concat([dfs[df_name].reset_index(drop=True), repeated_material.reset_index(drop=True)], axis=1)\n",
    "        else:\n",
    "            print(f\"Skipped empty or missing DataFrame: {df_name}\")\n",
    "    \n",
    "    return dfs"
   ]
  },
  {
   "cell_type": "code",
   "execution_count": 16,
   "id": "da9ff193-a27f-48a2-aeff-8ddf2dc75d3c",
   "metadata": {},
   "outputs": [],
   "source": [
    "def combine_dataframes_in_order(dfs, append_list):\n",
    "    \"\"\"\n",
    "    Combines a list of DataFrames found in the dictionary 'dfs' into a single DataFrame,\n",
    "    strictly following the order specified in 'append_list'. Skips any DataFrame names\n",
    "    not found in the 'dfs' dictionary.\n",
    "\n",
    "    Args:\n",
    "    - dfs (dict): Dictionary containing DataFrames.\n",
    "    - append_list (tuple): Tuple containing the names of the DataFrames to be combined in order.\n",
    "\n",
    "    Returns:\n",
    "    - pd.DataFrame: The combined DataFrame.\n",
    "    \"\"\"\n",
    "    combined_df = pd.DataFrame()  # Initialize an empty DataFrame to start with\n",
    "\n",
    "    for df_name in append_list:\n",
    "        if df_name in dfs:  # Check if DataFrame name exists in the dictionary\n",
    "            # If the combined DataFrame is empty, initialize it with the first DataFrame\n",
    "            if combined_df.empty:\n",
    "                combined_df = dfs[df_name].copy()\n",
    "            else:\n",
    "                # Concatenate the current DataFrame to the combined DataFrame\n",
    "                combined_df = pd.concat([combined_df, dfs[df_name]], ignore_index=True)\n",
    "        else:\n",
    "            print(f\"DataFrame name '{df_name}' not found in the dictionary. Skipping...\")\n",
    "\n",
    "    return combined_df"
   ]
  },
  {
   "cell_type": "code",
   "execution_count": 17,
   "id": "6ef9d629-8bb9-43d1-b8ac-33daa567fa24",
   "metadata": {},
   "outputs": [],
   "source": [
    "def extract_values_to_dict(dfs, df_names):\n",
    "    \"\"\"\n",
    "    Extracts a single value from each specified DataFrame and stores it in a dictionary.\n",
    "\n",
    "    Args:\n",
    "    - dfs (dict): Dictionary containing the DataFrames.\n",
    "    - df_names (list of str): List of the names of the DataFrames to extract values from.\n",
    "\n",
    "    Returns:\n",
    "    - dict: A dictionary with the DataFrame names as keys and their extracted values as values.\n",
    "    \"\"\"\n",
    "    values_dict = {}\n",
    "\n",
    "    for df_name in df_names:\n",
    "        if df_name in dfs and not dfs[df_name].empty:\n",
    "            # Assuming each DataFrame contains only one value, extract it\n",
    "            value = dfs[df_name].iloc[0, 0]  # Extract the first value of the DataFrame\n",
    "            values_dict[df_name] = value\n",
    "        else:\n",
    "            print(f\"DataFrame '{df_name}' does not exist or is empty. Skipping...\")\n",
    "\n",
    "    return values_dict"
   ]
  },
  {
   "cell_type": "code",
   "execution_count": 18,
   "id": "e5bb53c6-6f74-4886-99b8-7fc2b13cf293",
   "metadata": {},
   "outputs": [],
   "source": [
    "def map_sensor_to_vertex(sensor_length, values_dict):\n",
    "    \"\"\"\n",
    "    Creates mappings of sensor IDs to vertex material IDs based on values_dict.\n",
    "    \n",
    "    Args:\n",
    "    - sensor_length (int): The number of sensors.\n",
    "    - values_dict (dict): Dictionary with vertex lengths for each material.\n",
    "    \n",
    "    Returns:\n",
    "    - dict: A dictionary of DataFrames, each representing sensor to vertex mappings for a material.\n",
    "    \"\"\"\n",
    "    mapped_dfs = {}\n",
    "    for material, length in values_dict.items():\n",
    "        material_name = material.split('_df')[0]  # Extract material name from the key\n",
    "        data = [(f'sensor_id_{sensor_id}', f'{material_name}_{i}') for sensor_id in range(1, sensor_length + 1) for i in range(1, length + 1)]\n",
    "        mapped_df = pd.DataFrame(data, columns=['sensor_id', 'vertex_id'])\n",
    "        mapped_dfs[material_name] = mapped_df\n",
    "    \n",
    "    return mapped_dfs"
   ]
  },
  {
   "cell_type": "code",
   "execution_count": 19,
   "id": "dc806568-56ba-4eb7-bdfc-156e6cb220c8",
   "metadata": {},
   "outputs": [],
   "source": [
    "def append_distance_to_mapped_dfs(mapped_dfs, dfs, material_list):\n",
    "    \"\"\"\n",
    "    Correctly appends distance values from distance DataFrames in dfs to each corresponding mapped DataFrame.\n",
    "    Correctly references the material name in mapped_dfs and skips materials if their corresponding distance DataFrame cannot be found in dfs.\n",
    "    \n",
    "    Args:\n",
    "    - mapped_dfs (dict): Dictionary of mapped DataFrames.\n",
    "    - dfs (dict): Dictionary containing distance DataFrames.\n",
    "    - material_list (list): List of materials to search distance data for.\n",
    "    \n",
    "    Returns:\n",
    "    - dict: Updated dictionary of mapped DataFrames with distance values appended.\n",
    "    \"\"\"\n",
    "    for material in material_list:\n",
    "        distance_df_name = f'distance_{material}_df'\n",
    "        mapped_df_name = f'vertex_length_{material}'  # Adjusted to match the naming convention in mapped_dfs\n",
    "\n",
    "        # Check if both the distance DataFrame and the mapped DataFrame exist\n",
    "        if distance_df_name in dfs and mapped_df_name in mapped_dfs:\n",
    "            distance_df = dfs[distance_df_name]\n",
    "            # Assuming the distance values are in the first column of distance_df\n",
    "            mapped_df = mapped_dfs[mapped_df_name]\n",
    "            # Ensure the distance DataFrame has enough rows to match the mapped DataFrame\n",
    "            if len(distance_df) >= len(mapped_df):\n",
    "                mapped_df['distance'] = distance_df.iloc[:len(mapped_df), 0].values\n",
    "            else:\n",
    "                print(f\"Warning: Not enough distance values for {material}, distances not appended.\")\n",
    "            mapped_dfs[mapped_df_name] = mapped_df\n",
    "        else:\n",
    "            # Print a warning if the distance DataFrame is not found\n",
    "            print(f\"Warning: Distance DataFrame for '{material}' not found, skipping.\")\n",
    "\n",
    "    return mapped_dfs"
   ]
  },
  {
   "cell_type": "markdown",
   "id": "2bb0312f-a68a-4e7e-b9bc-593d5d17822d",
   "metadata": {},
   "source": [
    "## **Import Dataset**"
   ]
  },
  {
   "cell_type": "code",
   "execution_count": 20,
   "id": "29d1bd54-1586-4775-af47-f396ce869eb7",
   "metadata": {},
   "outputs": [
    {
     "name": "stdout",
     "output_type": "stream",
     "text": [
      "Skipped empty file: building_alum_vertex.csv\n",
      "Skipped empty file: building_brick_vertex.csv\n",
      "Skipped empty file: distance_alum.csv\n",
      "Skipped empty file: distance_brick.csv\n",
      "Skipped empty file: vertex_length_alum.csv\n",
      "Skipped empty file: vertex_length_brick.csv\n"
     ]
    }
   ],
   "source": [
    "# Call function to import csv and convert to dataframe, storing them in a dictionary\n",
    "dfs = load_csv_files_as_dict(file_path_training, file_names)\n",
    "# Access a specific DataFrame, e.g., sensor_df = dfs['sensor_df']"
   ]
  },
  {
   "cell_type": "code",
   "execution_count": 21,
   "id": "a191db67-7196-40fb-8044-90934ebfb709",
   "metadata": {},
   "outputs": [
    {
     "name": "stdout",
     "output_type": "stream",
     "text": [
      "DataFrame Name: building_conc_vertex_df\n",
      "              0           1          2\n",
      "0    360.978140  438.952231   0.000000\n",
      "1    360.436820  438.007320   0.000000\n",
      "2    360.436820  438.007320  17.788885\n",
      "3    360.978140  438.952231  17.788885\n",
      "4    370.925848  432.007495   0.000000\n",
      "..          ...         ...        ...\n",
      "527  405.335995  383.873168  42.000000\n",
      "528  404.170548  384.540845   0.000000\n",
      "529  404.170548  384.540845  42.000000\n",
      "530  401.491986  379.946006   0.000000\n",
      "531  401.491986  379.946006  42.000000\n",
      "\n",
      "[532 rows x 3 columns]\n",
      "\n",
      "DataFrame Name: building_glass_vertex_df\n",
      "             0           1          2\n",
      "0   360.978140  438.952231  17.788885\n",
      "1   360.436820  438.007320  17.788885\n",
      "2   360.436820  438.007320  23.566007\n",
      "3   360.978140  438.952231  23.566007\n",
      "4   370.925848  432.007495  17.788885\n",
      "5   370.925848  432.007495  23.566007\n",
      "6   380.706836  448.858343  17.788885\n",
      "7   380.706836  448.858343  23.566007\n",
      "8   378.543764  450.091695  17.788885\n",
      "9   378.543764  450.091695  23.566007\n",
      "10  380.270365  453.056107  17.788885\n",
      "11  380.270365  453.056107  23.566007\n",
      "12  379.123562  453.705243  17.788885\n",
      "13  379.123562  453.705243  23.566007\n",
      "14  380.495521  456.086044  17.788885\n",
      "15  380.495521  456.086044  23.566007\n",
      "16  376.010873  458.636213  17.788885\n",
      "17  376.010873  458.636213  23.566007\n",
      "18  374.256265  455.606949  17.788885\n",
      "19  374.256265  455.606949  23.566007\n",
      "20  373.398500  456.107700  17.788885\n",
      "21  373.398500  456.107700  23.566007\n",
      "22  367.360042  445.695189  17.788885\n",
      "23  367.360042  445.695189  23.566007\n",
      "24  367.872838  445.398446  17.788885\n",
      "25  367.872838  445.398446  23.566007\n",
      "26  366.472884  442.980594  17.788885\n",
      "27  366.472884  442.980594  23.566007\n",
      "28  363.396096  444.723987  17.788885\n",
      "29  363.396096  444.723987  23.566007\n",
      "30  362.789450  443.677177  17.788885\n",
      "31  362.789450  443.677177  23.566007\n",
      "32  360.505169  444.975446  17.788885\n",
      "33  360.505169  444.975446  23.566007\n",
      "34  358.003920  440.658514  17.788885\n",
      "35  358.003920  440.658514  23.566007\n",
      "\n",
      "DataFrame Name: building_wood_vertex_df\n",
      "              0           1          2\n",
      "0    360.978140  438.952231  23.566007\n",
      "1    360.436820  438.007320  23.566007\n",
      "2    360.436820  438.007320  36.000000\n",
      "3    360.978140  438.952231  36.000000\n",
      "4    370.925848  432.007495  23.566007\n",
      "..          ...         ...        ...\n",
      "449  278.823743  349.032461  48.000000\n",
      "450  276.725943  350.247252   0.000000\n",
      "451  276.725943  350.247252  48.000000\n",
      "452  273.543410  344.818679   0.000000\n",
      "453  273.543410  344.818679  48.000000\n",
      "\n",
      "[454 rows x 3 columns]\n",
      "\n",
      "DataFrame Name: distance_conc_df\n",
      "               0\n",
      "0       6.025483\n",
      "1       6.025487\n",
      "2      11.801877\n",
      "3      11.801876\n",
      "4      13.591615\n",
      "...          ...\n",
      "30319  73.273763\n",
      "30320  77.105766\n",
      "30321  72.036791\n",
      "30322  79.000204\n",
      "30323  74.061003\n",
      "\n",
      "[30324 rows x 1 columns]\n",
      "\n",
      "DataFrame Name: distance_glass_df\n",
      "              0\n",
      "0     11.801876\n",
      "1     11.801877\n",
      "2     17.574729\n",
      "3     17.574728\n",
      "4     16.962011\n",
      "...         ...\n",
      "2047   8.262970\n",
      "2048  13.337062\n",
      "2049   8.376285\n",
      "2050  12.331286\n",
      "2051   6.659245\n",
      "\n",
      "[2052 rows x 1 columns]\n",
      "\n",
      "DataFrame Name: distance_wood_df\n",
      "                0\n",
      "0       17.574728\n",
      "1       17.574729\n",
      "2       30.005108\n",
      "3       30.005107\n",
      "4       21.384495\n",
      "...           ...\n",
      "25873  122.666893\n",
      "25874  125.486862\n",
      "25875  123.170420\n",
      "25876  131.470311\n",
      "25877  129.261141\n",
      "\n",
      "[25878 rows x 1 columns]\n",
      "\n",
      "DataFrame Name: label_df\n",
      "             0\n",
      "0   792.336908\n",
      "1   752.054187\n",
      "2   751.833874\n",
      "3   687.277228\n",
      "4   701.548791\n",
      "5   712.486573\n",
      "6     0.000000\n",
      "7     0.000000\n",
      "8     0.000000\n",
      "9     0.000000\n",
      "10    0.000000\n",
      "11    0.000000\n",
      "12   81.208266\n",
      "13  111.053097\n",
      "14  162.030891\n",
      "15   43.925007\n",
      "16   62.087327\n",
      "17   94.939310\n",
      "18  115.908595\n",
      "19  126.947078\n",
      "20  212.754301\n",
      "21   84.395946\n",
      "22   89.705757\n",
      "23  162.498578\n",
      "24  228.894272\n",
      "25  219.310875\n",
      "26  307.990524\n",
      "27  629.600647\n",
      "28  637.275133\n",
      "29  710.045443\n",
      "30  273.469113\n",
      "31  225.571010\n",
      "32  264.694343\n",
      "33  761.870182\n",
      "34  783.044881\n",
      "35  823.620723\n",
      "36  281.806764\n",
      "37  272.702022\n",
      "38  293.056496\n",
      "39  558.077504\n",
      "40  609.433471\n",
      "41  609.511983\n",
      "42  376.611231\n",
      "43  339.883500\n",
      "44  388.628560\n",
      "45  529.316020\n",
      "46  616.378001\n",
      "47  570.495949\n",
      "48  427.761973\n",
      "49  407.225357\n",
      "50  483.283331\n",
      "51  838.728489\n",
      "52  843.985012\n",
      "53  855.711850\n",
      "54  693.282367\n",
      "55  687.649684\n",
      "56  694.685454\n",
      "\n",
      "DataFrame Name: sensor_df\n",
      "             0           1     2\n",
      "0   360.620728  438.529495   6.0\n",
      "1   360.620728  438.529495  18.0\n",
      "2   360.620728  438.529495  30.0\n",
      "3   365.631683  434.920624   6.0\n",
      "4   365.631683  434.920624  18.0\n",
      "5   365.631683  434.920624  30.0\n",
      "6   373.457581  436.170013   6.0\n",
      "7   373.457581  436.170013  18.0\n",
      "8   373.457581  436.170013  30.0\n",
      "9   378.348083  444.595428   6.0\n",
      "10  378.348083  444.595428  18.0\n",
      "11  378.348083  444.595428  30.0\n",
      "12  379.674835  449.561905   6.0\n",
      "13  379.674835  449.561905  18.0\n",
      "14  379.674835  449.561905  30.0\n",
      "15  379.493484  451.523590   6.0\n",
      "16  379.493484  451.523590  18.0\n",
      "17  379.493484  451.523590  30.0\n",
      "18  379.746216  453.467712   6.0\n",
      "19  379.746216  453.467712  18.0\n",
      "20  379.746216  453.467712  30.0\n",
      "21  379.896179  454.845703   6.0\n",
      "22  379.896179  454.845703  18.0\n",
      "23  379.896179  454.845703  30.0\n",
      "24  378.302628  457.448029   6.0\n",
      "25  378.302628  457.448029  18.0\n",
      "26  378.302628  457.448029  30.0\n",
      "27  375.047043  457.171692   6.0\n",
      "28  375.047043  457.171692  18.0\n",
      "29  375.047043  457.171692  30.0\n",
      "30  373.877792  455.943695   6.0\n",
      "31  373.877792  455.943695  18.0\n",
      "32  373.877792  455.943695  30.0\n",
      "33  370.292755  450.951614   6.0\n",
      "34  370.292755  450.951614  18.0\n",
      "35  370.292755  450.951614  30.0\n",
      "36  367.566360  445.460266   6.0\n",
      "37  367.566360  445.460266  18.0\n",
      "38  367.566360  445.460266  30.0\n",
      "39  367.086304  444.239624   6.0\n",
      "40  367.086304  444.239624  18.0\n",
      "41  367.086304  444.239624  30.0\n",
      "42  364.983765  443.939301   6.0\n",
      "43  364.983765  443.939301  18.0\n",
      "44  364.983765  443.939301  30.0\n",
      "45  363.006256  444.250732   6.0\n",
      "46  363.006256  444.250732  18.0\n",
      "47  363.006256  444.250732  30.0\n",
      "48  361.696716  444.413254   6.0\n",
      "49  361.696716  444.413254  18.0\n",
      "50  361.696716  444.413254  30.0\n",
      "51  359.168015  442.867111   6.0\n",
      "52  359.168015  442.867111  18.0\n",
      "53  359.168015  442.867111  30.0\n",
      "54  359.441254  439.718643   6.0\n",
      "55  359.441254  439.718643  18.0\n",
      "56  359.441254  439.718643  30.0\n",
      "\n",
      "DataFrame Name: sensor_length_df\n",
      "    0\n",
      "0  57\n",
      "\n",
      "DataFrame Name: vertex_length_conc_df\n",
      "     0\n",
      "0  532\n",
      "\n",
      "DataFrame Name: vertex_length_glass_df\n",
      "    0\n",
      "0  36\n",
      "\n",
      "DataFrame Name: vertex_length_wood_df\n",
      "     0\n",
      "0  454\n",
      "\n"
     ]
    }
   ],
   "source": [
    "for df_name, df in dfs.items():\n",
    "    print(f'DataFrame Name: {df_name}')\n",
    "    print(df)\n",
    "    print()  "
   ]
  },
  {
   "cell_type": "code",
   "execution_count": 22,
   "id": "24749845-48a1-4414-b116-2739d805e0cb",
   "metadata": {},
   "outputs": [
    {
     "name": "stdout",
     "output_type": "stream",
     "text": [
      "DataFrame Name: building_conc_vertex_df\n",
      "DataFrame Name: building_glass_vertex_df\n",
      "DataFrame Name: building_wood_vertex_df\n",
      "DataFrame Name: distance_conc_df\n",
      "DataFrame Name: distance_glass_df\n",
      "DataFrame Name: distance_wood_df\n",
      "DataFrame Name: label_df\n",
      "DataFrame Name: sensor_df\n",
      "DataFrame Name: sensor_length_df\n",
      "DataFrame Name: vertex_length_conc_df\n",
      "DataFrame Name: vertex_length_glass_df\n",
      "DataFrame Name: vertex_length_wood_df\n"
     ]
    }
   ],
   "source": [
    "for df_name in dfs:\n",
    "    print(f'DataFrame Name: {df_name}')"
   ]
  },
  {
   "cell_type": "code",
   "execution_count": 23,
   "id": "cd11d27b-66b0-4d3a-be23-b2760a6b7151",
   "metadata": {},
   "outputs": [],
   "source": [
    "# Import Material Library and append to dfs dictionary of dataframes\n",
    "material_df = pd.read_csv(r'data\\material\\material_library.csv')\n",
    "dfs['material'] = material_df"
   ]
  },
  {
   "cell_type": "code",
   "execution_count": 24,
   "id": "82c44878-e7ad-40a8-b4d6-682f7b97ff2a",
   "metadata": {},
   "outputs": [
    {
     "data": {
      "text/html": [
       "<div>\n",
       "<style scoped>\n",
       "    .dataframe tbody tr th:only-of-type {\n",
       "        vertical-align: middle;\n",
       "    }\n",
       "\n",
       "    .dataframe tbody tr th {\n",
       "        vertical-align: top;\n",
       "    }\n",
       "\n",
       "    .dataframe thead th {\n",
       "        text-align: right;\n",
       "    }\n",
       "</style>\n",
       "<table border=\"1\" class=\"dataframe\">\n",
       "  <thead>\n",
       "    <tr style=\"text-align: right;\">\n",
       "      <th></th>\n",
       "      <th>material_name</th>\n",
       "      <th>r_ref</th>\n",
       "      <th>g_ref</th>\n",
       "      <th>b_ref</th>\n",
       "      <th>spec</th>\n",
       "      <th>rough</th>\n",
       "    </tr>\n",
       "  </thead>\n",
       "  <tbody>\n",
       "    <tr>\n",
       "      <th>0</th>\n",
       "      <td>exterior_concrete_wall</td>\n",
       "      <td>0.70</td>\n",
       "      <td>0.69</td>\n",
       "      <td>0.66</td>\n",
       "      <td>0.03</td>\n",
       "      <td>0.3</td>\n",
       "    </tr>\n",
       "    <tr>\n",
       "      <th>1</th>\n",
       "      <td>exterior_wood_wall</td>\n",
       "      <td>0.15</td>\n",
       "      <td>0.14</td>\n",
       "      <td>0.13</td>\n",
       "      <td>0.48</td>\n",
       "      <td>0.2</td>\n",
       "    </tr>\n",
       "    <tr>\n",
       "      <th>2</th>\n",
       "      <td>exterior_alum_cladding</td>\n",
       "      <td>0.63</td>\n",
       "      <td>0.63</td>\n",
       "      <td>0.61</td>\n",
       "      <td>0.05</td>\n",
       "      <td>0.1</td>\n",
       "    </tr>\n",
       "    <tr>\n",
       "      <th>3</th>\n",
       "      <td>exterior_white_brick</td>\n",
       "      <td>0.73</td>\n",
       "      <td>0.65</td>\n",
       "      <td>0.47</td>\n",
       "      <td>0.25</td>\n",
       "      <td>0.3</td>\n",
       "    </tr>\n",
       "    <tr>\n",
       "      <th>4</th>\n",
       "      <td>exterior_glass</td>\n",
       "      <td>0.70</td>\n",
       "      <td>0.70</td>\n",
       "      <td>0.70</td>\n",
       "      <td>0.00</td>\n",
       "      <td>0.0</td>\n",
       "    </tr>\n",
       "  </tbody>\n",
       "</table>\n",
       "</div>"
      ],
      "text/plain": [
       "            material_name  r_ref  g_ref  b_ref  spec  rough\n",
       "0  exterior_concrete_wall   0.70   0.69   0.66  0.03    0.3\n",
       "1      exterior_wood_wall   0.15   0.14   0.13  0.48    0.2\n",
       "2  exterior_alum_cladding   0.63   0.63   0.61  0.05    0.1\n",
       "3    exterior_white_brick   0.73   0.65   0.47  0.25    0.3\n",
       "4          exterior_glass   0.70   0.70   0.70  0.00    0.0"
      ]
     },
     "execution_count": 24,
     "metadata": {},
     "output_type": "execute_result"
    }
   ],
   "source": [
    "material_df"
   ]
  },
  {
   "cell_type": "markdown",
   "id": "81410fad-9fed-4852-805e-e8d57c5e5ccf",
   "metadata": {},
   "source": [
    "## **Check - Null Values**"
   ]
  },
  {
   "cell_type": "code",
   "execution_count": 25,
   "id": "b8c5be48-becf-4913-b568-92554b42c1cf",
   "metadata": {},
   "outputs": [
    {
     "name": "stdout",
     "output_type": "stream",
     "text": [
      "No null values in 'building_conc_vertex_df' DataFrame.\n",
      "No null values in 'building_glass_vertex_df' DataFrame.\n",
      "No null values in 'building_wood_vertex_df' DataFrame.\n",
      "No null values in 'distance_conc_df' DataFrame.\n",
      "No null values in 'distance_glass_df' DataFrame.\n",
      "No null values in 'distance_wood_df' DataFrame.\n",
      "No null values in 'label_df' DataFrame.\n",
      "No null values in 'sensor_df' DataFrame.\n",
      "No null values in 'sensor_length_df' DataFrame.\n",
      "No null values in 'vertex_length_conc_df' DataFrame.\n",
      "No null values in 'vertex_length_glass_df' DataFrame.\n",
      "No null values in 'vertex_length_wood_df' DataFrame.\n",
      "No null values in 'material' DataFrame.\n"
     ]
    }
   ],
   "source": [
    "# Check for Null Values\n",
    "check_nulls_in_dfs(dfs)"
   ]
  },
  {
   "cell_type": "markdown",
   "id": "8364b358-6023-43be-a3e0-b23057a36d7f",
   "metadata": {},
   "source": [
    "## **Prepare Dataset - building_df**"
   ]
  },
  {
   "cell_type": "code",
   "execution_count": 26,
   "id": "694fdc84-7500-40a9-b906-19f442edc74b",
   "metadata": {},
   "outputs": [
    {
     "name": "stdout",
     "output_type": "stream",
     "text": [
      "Skipped empty or missing DataFrame: building_brick_vertex_df\n",
      "Skipped empty or missing DataFrame: building_alum_vertex_df\n"
     ]
    }
   ],
   "source": [
    "dfs = append_material_properties(dfs, material_df, df_material_map)"
   ]
  },
  {
   "cell_type": "code",
   "execution_count": 27,
   "id": "45a12b74-07c2-4157-bc67-fcefa3479f7f",
   "metadata": {},
   "outputs": [
    {
     "name": "stdout",
     "output_type": "stream",
     "text": [
      "DataFrame name 'building_alum_vertex_df_append' not found in the dictionary. Skipping...\n",
      "DataFrame name 'building_brick_vertex_df_append' not found in the dictionary. Skipping...\n"
     ]
    }
   ],
   "source": [
    "# Create combined building_df\n",
    "building_df = combine_dataframes_in_order(dfs, append_list)"
   ]
  },
  {
   "cell_type": "markdown",
   "id": "1d5f8191-605f-481a-9a04-ae639195c3bd",
   "metadata": {},
   "source": [
    "## **Prepare Dataset - edge_df**"
   ]
  },
  {
   "cell_type": "code",
   "execution_count": 28,
   "id": "a33dd5f6-6245-447d-8d35-0f2f20e932b2",
   "metadata": {},
   "outputs": [
    {
     "name": "stdout",
     "output_type": "stream",
     "text": [
      "DataFrame 'vertex_length_alum_df' does not exist or is empty. Skipping...\n",
      "DataFrame 'vertex_length_brick_df' does not exist or is empty. Skipping...\n"
     ]
    }
   ],
   "source": [
    "values_dict = extract_values_to_dict(dfs, df_vertex_names)"
   ]
  },
  {
   "cell_type": "code",
   "execution_count": 29,
   "id": "10b1ac11-79cd-46f9-bd4c-16b4f4c09ee7",
   "metadata": {},
   "outputs": [
    {
     "data": {
      "text/plain": [
       "{'vertex_length_conc_df': 532,\n",
       " 'vertex_length_glass_df': 36,\n",
       " 'vertex_length_wood_df': 454}"
      ]
     },
     "execution_count": 29,
     "metadata": {},
     "output_type": "execute_result"
    }
   ],
   "source": [
    "values_dict"
   ]
  },
  {
   "cell_type": "code",
   "execution_count": 30,
   "id": "245439ae-f968-4c0a-a4ff-fc6adfa4c66a",
   "metadata": {},
   "outputs": [],
   "source": [
    "#extract out the length values and convert to numerical from both dataframes\n",
    "sensor_length = int(dfs['sensor_length_df'].iloc[0,0])"
   ]
  },
  {
   "cell_type": "code",
   "execution_count": 31,
   "id": "f3783bc8-86b6-41d7-9223-a450ec4ecde3",
   "metadata": {},
   "outputs": [
    {
     "data": {
      "text/plain": [
       "57"
      ]
     },
     "execution_count": 31,
     "metadata": {},
     "output_type": "execute_result"
    }
   ],
   "source": [
    "sensor_length"
   ]
  },
  {
   "cell_type": "code",
   "execution_count": 32,
   "id": "18fbc5d7-618f-4e49-9bcc-84d8288ed595",
   "metadata": {},
   "outputs": [],
   "source": [
    "# Map sensor length with each material vertex length, return dictionary of dfs\n",
    "mapped_dfs = map_sensor_to_vertex(sensor_length, values_dict)"
   ]
  },
  {
   "cell_type": "code",
   "execution_count": 33,
   "id": "ecfb9427-c8bf-439d-af50-6458fdf99ac3",
   "metadata": {},
   "outputs": [
    {
     "data": {
      "text/plain": [
       "{'vertex_length_conc':           sensor_id               vertex_id\n",
       " 0       sensor_id_1    vertex_length_conc_1\n",
       " 1       sensor_id_1    vertex_length_conc_2\n",
       " 2       sensor_id_1    vertex_length_conc_3\n",
       " 3       sensor_id_1    vertex_length_conc_4\n",
       " 4       sensor_id_1    vertex_length_conc_5\n",
       " ...             ...                     ...\n",
       " 30319  sensor_id_57  vertex_length_conc_528\n",
       " 30320  sensor_id_57  vertex_length_conc_529\n",
       " 30321  sensor_id_57  vertex_length_conc_530\n",
       " 30322  sensor_id_57  vertex_length_conc_531\n",
       " 30323  sensor_id_57  vertex_length_conc_532\n",
       " \n",
       " [30324 rows x 2 columns],\n",
       " 'vertex_length_glass':          sensor_id               vertex_id\n",
       " 0      sensor_id_1   vertex_length_glass_1\n",
       " 1      sensor_id_1   vertex_length_glass_2\n",
       " 2      sensor_id_1   vertex_length_glass_3\n",
       " 3      sensor_id_1   vertex_length_glass_4\n",
       " 4      sensor_id_1   vertex_length_glass_5\n",
       " ...            ...                     ...\n",
       " 2047  sensor_id_57  vertex_length_glass_32\n",
       " 2048  sensor_id_57  vertex_length_glass_33\n",
       " 2049  sensor_id_57  vertex_length_glass_34\n",
       " 2050  sensor_id_57  vertex_length_glass_35\n",
       " 2051  sensor_id_57  vertex_length_glass_36\n",
       " \n",
       " [2052 rows x 2 columns],\n",
       " 'vertex_length_wood':           sensor_id               vertex_id\n",
       " 0       sensor_id_1    vertex_length_wood_1\n",
       " 1       sensor_id_1    vertex_length_wood_2\n",
       " 2       sensor_id_1    vertex_length_wood_3\n",
       " 3       sensor_id_1    vertex_length_wood_4\n",
       " 4       sensor_id_1    vertex_length_wood_5\n",
       " ...             ...                     ...\n",
       " 25873  sensor_id_57  vertex_length_wood_450\n",
       " 25874  sensor_id_57  vertex_length_wood_451\n",
       " 25875  sensor_id_57  vertex_length_wood_452\n",
       " 25876  sensor_id_57  vertex_length_wood_453\n",
       " 25877  sensor_id_57  vertex_length_wood_454\n",
       " \n",
       " [25878 rows x 2 columns]}"
      ]
     },
     "execution_count": 33,
     "metadata": {},
     "output_type": "execute_result"
    }
   ],
   "source": [
    "mapped_dfs"
   ]
  },
  {
   "cell_type": "code",
   "execution_count": 34,
   "id": "9f1a46df-7ecd-4492-b96e-2f21c92ff9cb",
   "metadata": {},
   "outputs": [
    {
     "name": "stdout",
     "output_type": "stream",
     "text": [
      "Warning: Distance DataFrame for 'alum' not found, skipping.\n",
      "Warning: Distance DataFrame for 'brick' not found, skipping.\n"
     ]
    }
   ],
   "source": [
    "final_dfs = append_distance_to_mapped_dfs(mapped_dfs, dfs, material_list)"
   ]
  },
  {
   "cell_type": "code",
   "execution_count": 35,
   "id": "6fe3e42d-63d5-4a53-98f7-d80dd0f6579d",
   "metadata": {},
   "outputs": [],
   "source": [
    "# Sort the keys of final_dfs alphabetically\n",
    "sorted_keys = sorted(final_dfs.keys())"
   ]
  },
  {
   "cell_type": "code",
   "execution_count": 36,
   "id": "a7495c95-097e-43cd-a04e-0a174107b4f9",
   "metadata": {},
   "outputs": [],
   "source": [
    "# Concatenate the DataFrames in alphabetical order\n",
    "edge_df = pd.concat([final_dfs[key] for key in sorted_keys], ignore_index=True)"
   ]
  },
  {
   "cell_type": "code",
   "execution_count": 37,
   "id": "036da5ed-2d1c-45ef-b2cd-180a05e3e873",
   "metadata": {},
   "outputs": [
    {
     "data": {
      "text/html": [
       "<div>\n",
       "<style scoped>\n",
       "    .dataframe tbody tr th:only-of-type {\n",
       "        vertical-align: middle;\n",
       "    }\n",
       "\n",
       "    .dataframe tbody tr th {\n",
       "        vertical-align: top;\n",
       "    }\n",
       "\n",
       "    .dataframe thead th {\n",
       "        text-align: right;\n",
       "    }\n",
       "</style>\n",
       "<table border=\"1\" class=\"dataframe\">\n",
       "  <thead>\n",
       "    <tr style=\"text-align: right;\">\n",
       "      <th></th>\n",
       "      <th>sensor_id</th>\n",
       "      <th>vertex_id</th>\n",
       "      <th>distance</th>\n",
       "    </tr>\n",
       "  </thead>\n",
       "  <tbody>\n",
       "    <tr>\n",
       "      <th>0</th>\n",
       "      <td>sensor_id_1</td>\n",
       "      <td>vertex_length_conc_1</td>\n",
       "      <td>6.025483</td>\n",
       "    </tr>\n",
       "    <tr>\n",
       "      <th>1</th>\n",
       "      <td>sensor_id_1</td>\n",
       "      <td>vertex_length_conc_2</td>\n",
       "      <td>6.025487</td>\n",
       "    </tr>\n",
       "    <tr>\n",
       "      <th>2</th>\n",
       "      <td>sensor_id_1</td>\n",
       "      <td>vertex_length_conc_3</td>\n",
       "      <td>11.801877</td>\n",
       "    </tr>\n",
       "    <tr>\n",
       "      <th>3</th>\n",
       "      <td>sensor_id_1</td>\n",
       "      <td>vertex_length_conc_4</td>\n",
       "      <td>11.801876</td>\n",
       "    </tr>\n",
       "    <tr>\n",
       "      <th>4</th>\n",
       "      <td>sensor_id_1</td>\n",
       "      <td>vertex_length_conc_5</td>\n",
       "      <td>13.591615</td>\n",
       "    </tr>\n",
       "    <tr>\n",
       "      <th>...</th>\n",
       "      <td>...</td>\n",
       "      <td>...</td>\n",
       "      <td>...</td>\n",
       "    </tr>\n",
       "    <tr>\n",
       "      <th>58249</th>\n",
       "      <td>sensor_id_57</td>\n",
       "      <td>vertex_length_wood_450</td>\n",
       "      <td>122.666893</td>\n",
       "    </tr>\n",
       "    <tr>\n",
       "      <th>58250</th>\n",
       "      <td>sensor_id_57</td>\n",
       "      <td>vertex_length_wood_451</td>\n",
       "      <td>125.486862</td>\n",
       "    </tr>\n",
       "    <tr>\n",
       "      <th>58251</th>\n",
       "      <td>sensor_id_57</td>\n",
       "      <td>vertex_length_wood_452</td>\n",
       "      <td>123.170420</td>\n",
       "    </tr>\n",
       "    <tr>\n",
       "      <th>58252</th>\n",
       "      <td>sensor_id_57</td>\n",
       "      <td>vertex_length_wood_453</td>\n",
       "      <td>131.470311</td>\n",
       "    </tr>\n",
       "    <tr>\n",
       "      <th>58253</th>\n",
       "      <td>sensor_id_57</td>\n",
       "      <td>vertex_length_wood_454</td>\n",
       "      <td>129.261141</td>\n",
       "    </tr>\n",
       "  </tbody>\n",
       "</table>\n",
       "<p>58254 rows × 3 columns</p>\n",
       "</div>"
      ],
      "text/plain": [
       "          sensor_id               vertex_id    distance\n",
       "0       sensor_id_1    vertex_length_conc_1    6.025483\n",
       "1       sensor_id_1    vertex_length_conc_2    6.025487\n",
       "2       sensor_id_1    vertex_length_conc_3   11.801877\n",
       "3       sensor_id_1    vertex_length_conc_4   11.801876\n",
       "4       sensor_id_1    vertex_length_conc_5   13.591615\n",
       "...             ...                     ...         ...\n",
       "58249  sensor_id_57  vertex_length_wood_450  122.666893\n",
       "58250  sensor_id_57  vertex_length_wood_451  125.486862\n",
       "58251  sensor_id_57  vertex_length_wood_452  123.170420\n",
       "58252  sensor_id_57  vertex_length_wood_453  131.470311\n",
       "58253  sensor_id_57  vertex_length_wood_454  129.261141\n",
       "\n",
       "[58254 rows x 3 columns]"
      ]
     },
     "execution_count": 37,
     "metadata": {},
     "output_type": "execute_result"
    }
   ],
   "source": [
    "edge_df"
   ]
  },
  {
   "cell_type": "markdown",
   "id": "23889dab-4dab-458a-ac0d-2cb15a30f164",
   "metadata": {},
   "source": [
    "## **Graph Object - Preprocess Node Index and Naming**"
   ]
  },
  {
   "cell_type": "code",
   "execution_count": 38,
   "id": "806d58ff-55a7-496e-b80a-ad645ad17926",
   "metadata": {},
   "outputs": [],
   "source": [
    "sensor_df = format_and_insert_id_column(dfs['sensor_df'], 'sensor_id')\n",
    "building_df = format_and_insert_id_column(building_df, 'vertex_id')\n",
    "label_df = format_and_insert_id_column(dfs['label_df'], 'sensor_id')"
   ]
  },
  {
   "cell_type": "markdown",
   "id": "4ec54a74-4415-41f0-a39e-d0fa84d45fc3",
   "metadata": {},
   "source": [
    "## **Graph Object - Add Column Headers**"
   ]
  },
  {
   "cell_type": "code",
   "execution_count": 39,
   "id": "98c42708-3725-4f53-9ef7-8b7cbffed5fa",
   "metadata": {},
   "outputs": [],
   "source": [
    "sensor_df.rename(columns={0: 'sensor_x_coordinate', 1: 'sensor_y_coordinate', 2: 'sensor_z_coordinate'}, inplace=True)"
   ]
  },
  {
   "cell_type": "code",
   "execution_count": 40,
   "id": "93231c37-89f3-4db3-917c-9101f409ba27",
   "metadata": {},
   "outputs": [],
   "source": [
    "label_df.columns = ['sensor_id', 'hb_solar_radiation']"
   ]
  },
  {
   "cell_type": "markdown",
   "id": "be2769ae-4067-4b81-99b2-103bc2dd0b65",
   "metadata": {},
   "source": [
    "## **Graph Object - Midpoint Check**"
   ]
  },
  {
   "cell_type": "code",
   "execution_count": 41,
   "id": "feb11520-4bc4-48e4-864b-8bbe2267a841",
   "metadata": {},
   "outputs": [
    {
     "data": {
      "text/plain": [
       "[('sensor_df',\n",
       "         sensor_id  sensor_x_coordinate  sensor_y_coordinate  \\\n",
       "  0    sensor_id_1           360.620728           438.529495   \n",
       "  1    sensor_id_2           360.620728           438.529495   \n",
       "  2    sensor_id_3           360.620728           438.529495   \n",
       "  3    sensor_id_4           365.631683           434.920624   \n",
       "  4    sensor_id_5           365.631683           434.920624   \n",
       "  5    sensor_id_6           365.631683           434.920624   \n",
       "  6    sensor_id_7           373.457581           436.170013   \n",
       "  7    sensor_id_8           373.457581           436.170013   \n",
       "  8    sensor_id_9           373.457581           436.170013   \n",
       "  9   sensor_id_10           378.348083           444.595428   \n",
       "  10  sensor_id_11           378.348083           444.595428   \n",
       "  11  sensor_id_12           378.348083           444.595428   \n",
       "  12  sensor_id_13           379.674835           449.561905   \n",
       "  13  sensor_id_14           379.674835           449.561905   \n",
       "  14  sensor_id_15           379.674835           449.561905   \n",
       "  15  sensor_id_16           379.493484           451.523590   \n",
       "  16  sensor_id_17           379.493484           451.523590   \n",
       "  17  sensor_id_18           379.493484           451.523590   \n",
       "  18  sensor_id_19           379.746216           453.467712   \n",
       "  19  sensor_id_20           379.746216           453.467712   \n",
       "  20  sensor_id_21           379.746216           453.467712   \n",
       "  21  sensor_id_22           379.896179           454.845703   \n",
       "  22  sensor_id_23           379.896179           454.845703   \n",
       "  23  sensor_id_24           379.896179           454.845703   \n",
       "  24  sensor_id_25           378.302628           457.448029   \n",
       "  25  sensor_id_26           378.302628           457.448029   \n",
       "  26  sensor_id_27           378.302628           457.448029   \n",
       "  27  sensor_id_28           375.047043           457.171692   \n",
       "  28  sensor_id_29           375.047043           457.171692   \n",
       "  29  sensor_id_30           375.047043           457.171692   \n",
       "  30  sensor_id_31           373.877792           455.943695   \n",
       "  31  sensor_id_32           373.877792           455.943695   \n",
       "  32  sensor_id_33           373.877792           455.943695   \n",
       "  33  sensor_id_34           370.292755           450.951614   \n",
       "  34  sensor_id_35           370.292755           450.951614   \n",
       "  35  sensor_id_36           370.292755           450.951614   \n",
       "  36  sensor_id_37           367.566360           445.460266   \n",
       "  37  sensor_id_38           367.566360           445.460266   \n",
       "  38  sensor_id_39           367.566360           445.460266   \n",
       "  39  sensor_id_40           367.086304           444.239624   \n",
       "  40  sensor_id_41           367.086304           444.239624   \n",
       "  41  sensor_id_42           367.086304           444.239624   \n",
       "  42  sensor_id_43           364.983765           443.939301   \n",
       "  43  sensor_id_44           364.983765           443.939301   \n",
       "  44  sensor_id_45           364.983765           443.939301   \n",
       "  45  sensor_id_46           363.006256           444.250732   \n",
       "  46  sensor_id_47           363.006256           444.250732   \n",
       "  47  sensor_id_48           363.006256           444.250732   \n",
       "  48  sensor_id_49           361.696716           444.413254   \n",
       "  49  sensor_id_50           361.696716           444.413254   \n",
       "  50  sensor_id_51           361.696716           444.413254   \n",
       "  51  sensor_id_52           359.168015           442.867111   \n",
       "  52  sensor_id_53           359.168015           442.867111   \n",
       "  53  sensor_id_54           359.168015           442.867111   \n",
       "  54  sensor_id_55           359.441254           439.718643   \n",
       "  55  sensor_id_56           359.441254           439.718643   \n",
       "  56  sensor_id_57           359.441254           439.718643   \n",
       "  \n",
       "      sensor_z_coordinate  \n",
       "  0                   6.0  \n",
       "  1                  18.0  \n",
       "  2                  30.0  \n",
       "  3                   6.0  \n",
       "  4                  18.0  \n",
       "  5                  30.0  \n",
       "  6                   6.0  \n",
       "  7                  18.0  \n",
       "  8                  30.0  \n",
       "  9                   6.0  \n",
       "  10                 18.0  \n",
       "  11                 30.0  \n",
       "  12                  6.0  \n",
       "  13                 18.0  \n",
       "  14                 30.0  \n",
       "  15                  6.0  \n",
       "  16                 18.0  \n",
       "  17                 30.0  \n",
       "  18                  6.0  \n",
       "  19                 18.0  \n",
       "  20                 30.0  \n",
       "  21                  6.0  \n",
       "  22                 18.0  \n",
       "  23                 30.0  \n",
       "  24                  6.0  \n",
       "  25                 18.0  \n",
       "  26                 30.0  \n",
       "  27                  6.0  \n",
       "  28                 18.0  \n",
       "  29                 30.0  \n",
       "  30                  6.0  \n",
       "  31                 18.0  \n",
       "  32                 30.0  \n",
       "  33                  6.0  \n",
       "  34                 18.0  \n",
       "  35                 30.0  \n",
       "  36                  6.0  \n",
       "  37                 18.0  \n",
       "  38                 30.0  \n",
       "  39                  6.0  \n",
       "  40                 18.0  \n",
       "  41                 30.0  \n",
       "  42                  6.0  \n",
       "  43                 18.0  \n",
       "  44                 30.0  \n",
       "  45                  6.0  \n",
       "  46                 18.0  \n",
       "  47                 30.0  \n",
       "  48                  6.0  \n",
       "  49                 18.0  \n",
       "  50                 30.0  \n",
       "  51                  6.0  \n",
       "  52                 18.0  \n",
       "  53                 30.0  \n",
       "  54                  6.0  \n",
       "  55                 18.0  \n",
       "  56                 30.0  ),\n",
       " ('building_df',\n",
       "             vertex_id           0           1          2  r_ref  g_ref  b_ref  \\\n",
       "  0        vertex_id_1  360.978140  438.952231   0.000000   0.70   0.69   0.66   \n",
       "  1        vertex_id_2  360.436820  438.007320   0.000000   0.70   0.69   0.66   \n",
       "  2        vertex_id_3  360.436820  438.007320  17.788885   0.70   0.69   0.66   \n",
       "  3        vertex_id_4  360.978140  438.952231  17.788885   0.70   0.69   0.66   \n",
       "  4        vertex_id_5  370.925848  432.007495   0.000000   0.70   0.69   0.66   \n",
       "  ...              ...         ...         ...        ...    ...    ...    ...   \n",
       "  1017  vertex_id_1018  278.823743  349.032461  48.000000   0.15   0.14   0.13   \n",
       "  1018  vertex_id_1019  276.725943  350.247252   0.000000   0.15   0.14   0.13   \n",
       "  1019  vertex_id_1020  276.725943  350.247252  48.000000   0.15   0.14   0.13   \n",
       "  1020  vertex_id_1021  273.543410  344.818679   0.000000   0.15   0.14   0.13   \n",
       "  1021  vertex_id_1022  273.543410  344.818679  48.000000   0.15   0.14   0.13   \n",
       "  \n",
       "        spec  rough  \n",
       "  0     0.03    0.3  \n",
       "  1     0.03    0.3  \n",
       "  2     0.03    0.3  \n",
       "  3     0.03    0.3  \n",
       "  4     0.03    0.3  \n",
       "  ...    ...    ...  \n",
       "  1017  0.48    0.2  \n",
       "  1018  0.48    0.2  \n",
       "  1019  0.48    0.2  \n",
       "  1020  0.48    0.2  \n",
       "  1021  0.48    0.2  \n",
       "  \n",
       "  [1022 rows x 9 columns]),\n",
       " ('label_df',\n",
       "         sensor_id  hb_solar_radiation\n",
       "  0    sensor_id_1          792.336908\n",
       "  1    sensor_id_2          752.054187\n",
       "  2    sensor_id_3          751.833874\n",
       "  3    sensor_id_4          687.277228\n",
       "  4    sensor_id_5          701.548791\n",
       "  5    sensor_id_6          712.486573\n",
       "  6    sensor_id_7            0.000000\n",
       "  7    sensor_id_8            0.000000\n",
       "  8    sensor_id_9            0.000000\n",
       "  9   sensor_id_10            0.000000\n",
       "  10  sensor_id_11            0.000000\n",
       "  11  sensor_id_12            0.000000\n",
       "  12  sensor_id_13           81.208266\n",
       "  13  sensor_id_14          111.053097\n",
       "  14  sensor_id_15          162.030891\n",
       "  15  sensor_id_16           43.925007\n",
       "  16  sensor_id_17           62.087327\n",
       "  17  sensor_id_18           94.939310\n",
       "  18  sensor_id_19          115.908595\n",
       "  19  sensor_id_20          126.947078\n",
       "  20  sensor_id_21          212.754301\n",
       "  21  sensor_id_22           84.395946\n",
       "  22  sensor_id_23           89.705757\n",
       "  23  sensor_id_24          162.498578\n",
       "  24  sensor_id_25          228.894272\n",
       "  25  sensor_id_26          219.310875\n",
       "  26  sensor_id_27          307.990524\n",
       "  27  sensor_id_28          629.600647\n",
       "  28  sensor_id_29          637.275133\n",
       "  29  sensor_id_30          710.045443\n",
       "  30  sensor_id_31          273.469113\n",
       "  31  sensor_id_32          225.571010\n",
       "  32  sensor_id_33          264.694343\n",
       "  33  sensor_id_34          761.870182\n",
       "  34  sensor_id_35          783.044881\n",
       "  35  sensor_id_36          823.620723\n",
       "  36  sensor_id_37          281.806764\n",
       "  37  sensor_id_38          272.702022\n",
       "  38  sensor_id_39          293.056496\n",
       "  39  sensor_id_40          558.077504\n",
       "  40  sensor_id_41          609.433471\n",
       "  41  sensor_id_42          609.511983\n",
       "  42  sensor_id_43          376.611231\n",
       "  43  sensor_id_44          339.883500\n",
       "  44  sensor_id_45          388.628560\n",
       "  45  sensor_id_46          529.316020\n",
       "  46  sensor_id_47          616.378001\n",
       "  47  sensor_id_48          570.495949\n",
       "  48  sensor_id_49          427.761973\n",
       "  49  sensor_id_50          407.225357\n",
       "  50  sensor_id_51          483.283331\n",
       "  51  sensor_id_52          838.728489\n",
       "  52  sensor_id_53          843.985012\n",
       "  53  sensor_id_54          855.711850\n",
       "  54  sensor_id_55          693.282367\n",
       "  55  sensor_id_56          687.649684\n",
       "  56  sensor_id_57          694.685454),\n",
       " ('edge_df',\n",
       "            sensor_id               vertex_id    distance\n",
       "  0       sensor_id_1    vertex_length_conc_1    6.025483\n",
       "  1       sensor_id_1    vertex_length_conc_2    6.025487\n",
       "  2       sensor_id_1    vertex_length_conc_3   11.801877\n",
       "  3       sensor_id_1    vertex_length_conc_4   11.801876\n",
       "  4       sensor_id_1    vertex_length_conc_5   13.591615\n",
       "  ...             ...                     ...         ...\n",
       "  58249  sensor_id_57  vertex_length_wood_450  122.666893\n",
       "  58250  sensor_id_57  vertex_length_wood_451  125.486862\n",
       "  58251  sensor_id_57  vertex_length_wood_452  123.170420\n",
       "  58252  sensor_id_57  vertex_length_wood_453  131.470311\n",
       "  58253  sensor_id_57  vertex_length_wood_454  129.261141\n",
       "  \n",
       "  [58254 rows x 3 columns])]"
      ]
     },
     "execution_count": 41,
     "metadata": {},
     "output_type": "execute_result"
    }
   ],
   "source": [
    "dataframes = [\n",
    "    ('sensor_df', sensor_df),\n",
    "    ('building_df', building_df),\n",
    "    ('label_df', label_df),\n",
    "    ('edge_df', edge_df)\n",
    "]\n",
    "\n",
    "dataframes"
   ]
  },
  {
   "attachments": {},
   "cell_type": "markdown",
   "id": "ef21fd46-79b5-441f-ab7b-12182fb23db0",
   "metadata": {},
   "source": [
    "## **Graph Object - Prepare Node Features**"
   ]
  },
  {
   "cell_type": "markdown",
   "id": "155f9316-c11f-4392-8b6e-2fabe38ffbbc",
   "metadata": {},
   "source": [
    "Combine sensor and building information to create a unified node feature matrix. "
   ]
  },
  {
   "cell_type": "markdown",
   "id": "c35e1202-2503-446b-ab65-1e3c889fc3b4",
   "metadata": {},
   "source": [
    "Combine sensor_df and building_df into a single dataframe, ensuring each has a unique identifier across sensors and vertices"
   ]
  },
  {
   "cell_type": "code",
   "execution_count": 42,
   "id": "70667176-f1ae-4007-89f1-f80078fa575f",
   "metadata": {},
   "outputs": [],
   "source": [
    "# Add a column to distinguish between sensors and vertices\n",
    "sensor_df['type'] = 'sensor'\n",
    "building_df['type'] = 'vertex'"
   ]
  },
  {
   "cell_type": "code",
   "execution_count": 43,
   "id": "258302b5-a7b9-4900-956a-93c9d2a1cf0f",
   "metadata": {},
   "outputs": [],
   "source": [
    "# Combine dataframes\n",
    "all_nodes_df = pd.concat([sensor_df.assign(index=range(0, len(sensor_df))),\n",
    "                          building_df.assign(index=range(len(sensor_df), len(sensor_df)+len(building_df)))])"
   ]
  },
  {
   "cell_type": "code",
   "execution_count": 44,
   "id": "8204854a-4712-415f-a370-80b80c7136ff",
   "metadata": {},
   "outputs": [
    {
     "data": {
      "text/html": [
       "<div>\n",
       "<style scoped>\n",
       "    .dataframe tbody tr th:only-of-type {\n",
       "        vertical-align: middle;\n",
       "    }\n",
       "\n",
       "    .dataframe tbody tr th {\n",
       "        vertical-align: top;\n",
       "    }\n",
       "\n",
       "    .dataframe thead th {\n",
       "        text-align: right;\n",
       "    }\n",
       "</style>\n",
       "<table border=\"1\" class=\"dataframe\">\n",
       "  <thead>\n",
       "    <tr style=\"text-align: right;\">\n",
       "      <th></th>\n",
       "      <th>sensor_id</th>\n",
       "      <th>sensor_x_coordinate</th>\n",
       "      <th>sensor_y_coordinate</th>\n",
       "      <th>sensor_z_coordinate</th>\n",
       "      <th>type</th>\n",
       "      <th>index</th>\n",
       "      <th>vertex_id</th>\n",
       "      <th>0</th>\n",
       "      <th>1</th>\n",
       "      <th>2</th>\n",
       "      <th>r_ref</th>\n",
       "      <th>g_ref</th>\n",
       "      <th>b_ref</th>\n",
       "      <th>spec</th>\n",
       "      <th>rough</th>\n",
       "      <th>type_flag</th>\n",
       "    </tr>\n",
       "  </thead>\n",
       "  <tbody>\n",
       "    <tr>\n",
       "      <th>0</th>\n",
       "      <td>sensor_id_1</td>\n",
       "      <td>360.620728</td>\n",
       "      <td>438.529495</td>\n",
       "      <td>6.0</td>\n",
       "      <td>sensor</td>\n",
       "      <td>0</td>\n",
       "      <td>NaN</td>\n",
       "      <td>NaN</td>\n",
       "      <td>NaN</td>\n",
       "      <td>NaN</td>\n",
       "      <td>NaN</td>\n",
       "      <td>NaN</td>\n",
       "      <td>NaN</td>\n",
       "      <td>NaN</td>\n",
       "      <td>NaN</td>\n",
       "      <td>1</td>\n",
       "    </tr>\n",
       "    <tr>\n",
       "      <th>1</th>\n",
       "      <td>sensor_id_2</td>\n",
       "      <td>360.620728</td>\n",
       "      <td>438.529495</td>\n",
       "      <td>18.0</td>\n",
       "      <td>sensor</td>\n",
       "      <td>1</td>\n",
       "      <td>NaN</td>\n",
       "      <td>NaN</td>\n",
       "      <td>NaN</td>\n",
       "      <td>NaN</td>\n",
       "      <td>NaN</td>\n",
       "      <td>NaN</td>\n",
       "      <td>NaN</td>\n",
       "      <td>NaN</td>\n",
       "      <td>NaN</td>\n",
       "      <td>1</td>\n",
       "    </tr>\n",
       "    <tr>\n",
       "      <th>2</th>\n",
       "      <td>sensor_id_3</td>\n",
       "      <td>360.620728</td>\n",
       "      <td>438.529495</td>\n",
       "      <td>30.0</td>\n",
       "      <td>sensor</td>\n",
       "      <td>2</td>\n",
       "      <td>NaN</td>\n",
       "      <td>NaN</td>\n",
       "      <td>NaN</td>\n",
       "      <td>NaN</td>\n",
       "      <td>NaN</td>\n",
       "      <td>NaN</td>\n",
       "      <td>NaN</td>\n",
       "      <td>NaN</td>\n",
       "      <td>NaN</td>\n",
       "      <td>1</td>\n",
       "    </tr>\n",
       "    <tr>\n",
       "      <th>3</th>\n",
       "      <td>sensor_id_4</td>\n",
       "      <td>365.631683</td>\n",
       "      <td>434.920624</td>\n",
       "      <td>6.0</td>\n",
       "      <td>sensor</td>\n",
       "      <td>3</td>\n",
       "      <td>NaN</td>\n",
       "      <td>NaN</td>\n",
       "      <td>NaN</td>\n",
       "      <td>NaN</td>\n",
       "      <td>NaN</td>\n",
       "      <td>NaN</td>\n",
       "      <td>NaN</td>\n",
       "      <td>NaN</td>\n",
       "      <td>NaN</td>\n",
       "      <td>1</td>\n",
       "    </tr>\n",
       "    <tr>\n",
       "      <th>4</th>\n",
       "      <td>sensor_id_5</td>\n",
       "      <td>365.631683</td>\n",
       "      <td>434.920624</td>\n",
       "      <td>18.0</td>\n",
       "      <td>sensor</td>\n",
       "      <td>4</td>\n",
       "      <td>NaN</td>\n",
       "      <td>NaN</td>\n",
       "      <td>NaN</td>\n",
       "      <td>NaN</td>\n",
       "      <td>NaN</td>\n",
       "      <td>NaN</td>\n",
       "      <td>NaN</td>\n",
       "      <td>NaN</td>\n",
       "      <td>NaN</td>\n",
       "      <td>1</td>\n",
       "    </tr>\n",
       "    <tr>\n",
       "      <th>...</th>\n",
       "      <td>...</td>\n",
       "      <td>...</td>\n",
       "      <td>...</td>\n",
       "      <td>...</td>\n",
       "      <td>...</td>\n",
       "      <td>...</td>\n",
       "      <td>...</td>\n",
       "      <td>...</td>\n",
       "      <td>...</td>\n",
       "      <td>...</td>\n",
       "      <td>...</td>\n",
       "      <td>...</td>\n",
       "      <td>...</td>\n",
       "      <td>...</td>\n",
       "      <td>...</td>\n",
       "      <td>...</td>\n",
       "    </tr>\n",
       "    <tr>\n",
       "      <th>1017</th>\n",
       "      <td>NaN</td>\n",
       "      <td>NaN</td>\n",
       "      <td>NaN</td>\n",
       "      <td>NaN</td>\n",
       "      <td>vertex</td>\n",
       "      <td>1074</td>\n",
       "      <td>vertex_id_1018</td>\n",
       "      <td>278.823743</td>\n",
       "      <td>349.032461</td>\n",
       "      <td>48.0</td>\n",
       "      <td>0.15</td>\n",
       "      <td>0.14</td>\n",
       "      <td>0.13</td>\n",
       "      <td>0.48</td>\n",
       "      <td>0.2</td>\n",
       "      <td>0</td>\n",
       "    </tr>\n",
       "    <tr>\n",
       "      <th>1018</th>\n",
       "      <td>NaN</td>\n",
       "      <td>NaN</td>\n",
       "      <td>NaN</td>\n",
       "      <td>NaN</td>\n",
       "      <td>vertex</td>\n",
       "      <td>1075</td>\n",
       "      <td>vertex_id_1019</td>\n",
       "      <td>276.725943</td>\n",
       "      <td>350.247252</td>\n",
       "      <td>0.0</td>\n",
       "      <td>0.15</td>\n",
       "      <td>0.14</td>\n",
       "      <td>0.13</td>\n",
       "      <td>0.48</td>\n",
       "      <td>0.2</td>\n",
       "      <td>0</td>\n",
       "    </tr>\n",
       "    <tr>\n",
       "      <th>1019</th>\n",
       "      <td>NaN</td>\n",
       "      <td>NaN</td>\n",
       "      <td>NaN</td>\n",
       "      <td>NaN</td>\n",
       "      <td>vertex</td>\n",
       "      <td>1076</td>\n",
       "      <td>vertex_id_1020</td>\n",
       "      <td>276.725943</td>\n",
       "      <td>350.247252</td>\n",
       "      <td>48.0</td>\n",
       "      <td>0.15</td>\n",
       "      <td>0.14</td>\n",
       "      <td>0.13</td>\n",
       "      <td>0.48</td>\n",
       "      <td>0.2</td>\n",
       "      <td>0</td>\n",
       "    </tr>\n",
       "    <tr>\n",
       "      <th>1020</th>\n",
       "      <td>NaN</td>\n",
       "      <td>NaN</td>\n",
       "      <td>NaN</td>\n",
       "      <td>NaN</td>\n",
       "      <td>vertex</td>\n",
       "      <td>1077</td>\n",
       "      <td>vertex_id_1021</td>\n",
       "      <td>273.543410</td>\n",
       "      <td>344.818679</td>\n",
       "      <td>0.0</td>\n",
       "      <td>0.15</td>\n",
       "      <td>0.14</td>\n",
       "      <td>0.13</td>\n",
       "      <td>0.48</td>\n",
       "      <td>0.2</td>\n",
       "      <td>0</td>\n",
       "    </tr>\n",
       "    <tr>\n",
       "      <th>1021</th>\n",
       "      <td>NaN</td>\n",
       "      <td>NaN</td>\n",
       "      <td>NaN</td>\n",
       "      <td>NaN</td>\n",
       "      <td>vertex</td>\n",
       "      <td>1078</td>\n",
       "      <td>vertex_id_1022</td>\n",
       "      <td>273.543410</td>\n",
       "      <td>344.818679</td>\n",
       "      <td>48.0</td>\n",
       "      <td>0.15</td>\n",
       "      <td>0.14</td>\n",
       "      <td>0.13</td>\n",
       "      <td>0.48</td>\n",
       "      <td>0.2</td>\n",
       "      <td>0</td>\n",
       "    </tr>\n",
       "  </tbody>\n",
       "</table>\n",
       "<p>1079 rows × 16 columns</p>\n",
       "</div>"
      ],
      "text/plain": [
       "        sensor_id  sensor_x_coordinate  sensor_y_coordinate  \\\n",
       "0     sensor_id_1           360.620728           438.529495   \n",
       "1     sensor_id_2           360.620728           438.529495   \n",
       "2     sensor_id_3           360.620728           438.529495   \n",
       "3     sensor_id_4           365.631683           434.920624   \n",
       "4     sensor_id_5           365.631683           434.920624   \n",
       "...           ...                  ...                  ...   \n",
       "1017          NaN                  NaN                  NaN   \n",
       "1018          NaN                  NaN                  NaN   \n",
       "1019          NaN                  NaN                  NaN   \n",
       "1020          NaN                  NaN                  NaN   \n",
       "1021          NaN                  NaN                  NaN   \n",
       "\n",
       "      sensor_z_coordinate    type  index       vertex_id           0  \\\n",
       "0                     6.0  sensor      0             NaN         NaN   \n",
       "1                    18.0  sensor      1             NaN         NaN   \n",
       "2                    30.0  sensor      2             NaN         NaN   \n",
       "3                     6.0  sensor      3             NaN         NaN   \n",
       "4                    18.0  sensor      4             NaN         NaN   \n",
       "...                   ...     ...    ...             ...         ...   \n",
       "1017                  NaN  vertex   1074  vertex_id_1018  278.823743   \n",
       "1018                  NaN  vertex   1075  vertex_id_1019  276.725943   \n",
       "1019                  NaN  vertex   1076  vertex_id_1020  276.725943   \n",
       "1020                  NaN  vertex   1077  vertex_id_1021  273.543410   \n",
       "1021                  NaN  vertex   1078  vertex_id_1022  273.543410   \n",
       "\n",
       "               1     2  r_ref  g_ref  b_ref  spec  rough  type_flag  \n",
       "0            NaN   NaN    NaN    NaN    NaN   NaN    NaN          1  \n",
       "1            NaN   NaN    NaN    NaN    NaN   NaN    NaN          1  \n",
       "2            NaN   NaN    NaN    NaN    NaN   NaN    NaN          1  \n",
       "3            NaN   NaN    NaN    NaN    NaN   NaN    NaN          1  \n",
       "4            NaN   NaN    NaN    NaN    NaN   NaN    NaN          1  \n",
       "...          ...   ...    ...    ...    ...   ...    ...        ...  \n",
       "1017  349.032461  48.0   0.15   0.14   0.13  0.48    0.2          0  \n",
       "1018  350.247252   0.0   0.15   0.14   0.13  0.48    0.2          0  \n",
       "1019  350.247252  48.0   0.15   0.14   0.13  0.48    0.2          0  \n",
       "1020  344.818679   0.0   0.15   0.14   0.13  0.48    0.2          0  \n",
       "1021  344.818679  48.0   0.15   0.14   0.13  0.48    0.2          0  \n",
       "\n",
       "[1079 rows x 16 columns]"
      ]
     },
     "execution_count": 44,
     "metadata": {},
     "output_type": "execute_result"
    }
   ],
   "source": [
    "# Prepare node features - example: using coordinates and a type flag (sensor=1, vertex=0)\n",
    "all_nodes_df['type_flag'] = all_nodes_df['type'].apply(lambda x: 1 if x == 'sensor' else 0)\n",
    "node_features = all_nodes_df[['sensor_x_coordinate', 'sensor_y_coordinate', 'sensor_z_coordinate', 'type_flag']].fillna(0).values\n",
    "x = torch.tensor(node_features, dtype=torch.float)\n",
    "\n",
    "# Print Check\n",
    "all_nodes_df"
   ]
  },
  {
   "cell_type": "code",
   "execution_count": 45,
   "id": "948db22e-2020-4f92-a7a0-5a2cea6670ac",
   "metadata": {},
   "outputs": [
    {
     "name": "stdout",
     "output_type": "stream",
     "text": [
      "Node Features Tensor:\n",
      "tensor([[360.6207, 438.5295,   6.0000,   1.0000],\n",
      "        [360.6207, 438.5295,  18.0000,   1.0000],\n",
      "        [360.6207, 438.5295,  30.0000,   1.0000],\n",
      "        ...,\n",
      "        [  0.0000,   0.0000,   0.0000,   0.0000],\n",
      "        [  0.0000,   0.0000,   0.0000,   0.0000],\n",
      "        [  0.0000,   0.0000,   0.0000,   0.0000]])\n"
     ]
    }
   ],
   "source": [
    "# Print the tensor to check its contents\n",
    "print(\"Node Features Tensor:\")\n",
    "print(x)"
   ]
  },
  {
   "cell_type": "markdown",
   "id": "2953cfbd-a75a-4544-950c-d585b5809dd3",
   "metadata": {},
   "source": [
    "## **Graph Object - Create Edge Index**"
   ]
  },
  {
   "cell_type": "markdown",
   "id": "18b040ec-1c44-4ec0-88b4-2defde195512",
   "metadata": {},
   "source": [
    "1. Map each sensor_id and vertex_id to a unique index.\r",
    "2. \n",
    "Use these mappings to create the edge_index tensor from edge_df."
   ]
  },
  {
   "cell_type": "markdown",
   "id": "1d56230c-3508-456b-9a8e-7794340bb63c",
   "metadata": {},
   "source": [
    "Step 1: Prepare Mappings\n",
    "First, we'll create dictionaries to map sensor_id and vertex_id to unique indices. We'll concatenate the indices of sensors and vertices to ensure uniqueness across the graph."
   ]
  },
  {
   "cell_type": "code",
   "execution_count": 46,
   "id": "802d6696-3ca8-43e9-8bd9-bd4a45ae9eb4",
   "metadata": {},
   "outputs": [],
   "source": [
    "sensor_ids = sensor_df['sensor_id'].unique()\n",
    "vertex_ids = building_df['vertex_id'].unique()\n",
    "\n",
    "# Create a continuous index for sensors and vertices\n",
    "sensor_index = {sensor_id: i for i, sensor_id in enumerate(sensor_ids)}\n",
    "vertex_index = {vertex_id: i + len(sensor_index) for i, vertex_id in enumerate(vertex_ids)}"
   ]
  },
  {
   "cell_type": "markdown",
   "id": "a9013e73-bb7b-48c1-92c0-e849c2337d3c",
   "metadata": {},
   "source": [
    "Step 2: Create Edge Index\n",
    "Next, we'll use these mappings to create the edge_index tensor. Note that the vertex_id in edge_df appears to have a slight discrepancy (missing the \"id_\" part based on the example provided), so we'll adjust for that in our mapping."
   ]
  },
  {
   "cell_type": "code",
   "execution_count": 47,
   "id": "dcf3d903-c5d7-4e31-a89d-296ab8c39909",
   "metadata": {},
   "outputs": [],
   "source": [
    "# Adjust the vertex_id in edge_df to match the format in buildings_df\n",
    "edge_df['adjusted_vertex_id'] = edge_df['vertex_id'].apply(lambda x: 'vertex_id_' + x.split('_')[-1])\n",
    "\n",
    "# Map sensor_id and vertex_id to their respective indices\n",
    "edge_index_list = edge_df.apply(lambda row: [sensor_index.get(row['sensor_id'], -1),\n",
    "                                             vertex_index.get(row['adjusted_vertex_id'], -1)], axis=1)\n",
    "\n",
    "# Filter out any edges that couldn't be mapped (-1 indicates a mapping failure)\n",
    "filtered_edge_index_list = [pair for pair in edge_index_list if -1 not in pair]\n",
    "\n",
    "# Convert to torch tensor\n",
    "edge_index = torch.tensor(filtered_edge_index_list, dtype=torch.long).t().contiguous()\n"
   ]
  },
  {
   "cell_type": "code",
   "execution_count": 48,
   "id": "1c3c4bbe-4b74-42f4-b234-2293f84ba2cd",
   "metadata": {},
   "outputs": [
    {
     "data": {
      "text/plain": [
       "tensor([[  0,   0,   0,  ...,  56,  56,  56],\n",
       "        [ 57,  58,  59,  ..., 508, 509, 510]])"
      ]
     },
     "execution_count": 48,
     "metadata": {},
     "output_type": "execute_result"
    }
   ],
   "source": [
    "edge_index"
   ]
  },
  {
   "cell_type": "markdown",
   "id": "6117a6dc-0016-458d-b91c-ba2643516ee2",
   "metadata": {},
   "source": [
    "## **Graph Object - Edge Attributes**"
   ]
  },
  {
   "cell_type": "markdown",
   "id": "5a05a096-355f-4148-aeb3-5f6a9c6fdd80",
   "metadata": {},
   "source": [
    "This section extracts edge attributes from the edge_df and converts them into a torch tensor."
   ]
  },
  {
   "cell_type": "code",
   "execution_count": 49,
   "id": "3a7ea40e-be0b-4c61-8a2e-d4aabe65bf54",
   "metadata": {},
   "outputs": [],
   "source": [
    "edge_attr = torch.tensor(edge_df[['distance']].values, dtype=torch.float)"
   ]
  },
  {
   "cell_type": "code",
   "execution_count": 50,
   "id": "cb465579-dd5e-487e-a4ed-fc23f58f80b2",
   "metadata": {},
   "outputs": [
    {
     "data": {
      "text/plain": [
       "tensor([[  6.0255],\n",
       "        [  6.0255],\n",
       "        [ 11.8019],\n",
       "        ...,\n",
       "        [123.1704],\n",
       "        [131.4703],\n",
       "        [129.2611]])"
      ]
     },
     "execution_count": 50,
     "metadata": {},
     "output_type": "execute_result"
    }
   ],
   "source": [
    "edge_attr"
   ]
  },
  {
   "cell_type": "markdown",
   "id": "bc442d44-235d-4424-84e5-a051fc9bfc42",
   "metadata": {},
   "source": [
    "## **Graph Object - Target Labels**"
   ]
  },
  {
   "cell_type": "markdown",
   "id": "ccea2750-e585-47eb-aa32-66d55507be4b",
   "metadata": {},
   "source": [
    "This sections prepares the labels for sensors by:\n",
    "1. Aligning with their respective indices\n",
    "2. Converting to a torch tensor"
   ]
  },
  {
   "cell_type": "code",
   "execution_count": 51,
   "id": "cb2d302c-d47e-4213-8696-86b5b2cf333a",
   "metadata": {},
   "outputs": [],
   "source": [
    "# Ensure data type compatibility\n",
    "label_df['hb_solar_radiation'] = label_df['hb_solar_radiation'].astype(float)"
   ]
  },
  {
   "cell_type": "code",
   "execution_count": 52,
   "id": "9f496e81-8c1f-436e-b5c4-cdbaf06dd4f0",
   "metadata": {},
   "outputs": [],
   "source": [
    "# Update labels for sensors with their radiation values\n",
    "label_df['index'] = label_df['sensor_id'].map(sensor_index)"
   ]
  },
  {
   "cell_type": "code",
   "execution_count": 53,
   "id": "e1ef8b79-c059-40d0-b30e-96b5513446c1",
   "metadata": {},
   "outputs": [],
   "source": [
    "# Create torch tensor with compatible data type\n",
    "labels = torch.zeros(len(label_df), dtype=torch.float)\n",
    "labels[label_df['index']] = torch.tensor(label_df['hb_solar_radiation'].values, dtype=torch.float)"
   ]
  },
  {
   "cell_type": "markdown",
   "id": "93e75d86-6550-4080-9db8-505d5059b2c5",
   "metadata": {},
   "source": [
    "## **Graph Object - Creating & Saving the Pytorch Data Object**"
   ]
  },
  {
   "cell_type": "code",
   "execution_count": 54,
   "id": "6ea13c0f-b549-47eb-8580-f1acaef52ee0",
   "metadata": {},
   "outputs": [
    {
     "name": "stdout",
     "output_type": "stream",
     "text": [
      "Data Object for Training:\n",
      "Data(x=[1079, 4], edge_index=[2, 58254], edge_attr=[58254, 1], y=[57])\n",
      "Training data saved as data/torch_data_object_training/run_4.pt\n"
     ]
    }
   ],
   "source": [
    "if pipeline_mode == \"training\":\n",
    "    # Creating the Data object for training\n",
    "    data_training = Data(x=x, edge_index=edge_index, edge_attr=edge_attr, y=labels)\n",
    "    print(\"Data Object for Training:\")\n",
    "    print(data_training)\n",
    "\n",
    "    # Saving the training data\n",
    "    torch.save(data_training, filename_training)\n",
    "    print(f\"Training data saved as {filename_training}\")\n",
    "\n",
    "elif pipeline_mode == \"prediction\":\n",
    "    # Creating the Data object for prediction (without labels)\n",
    "    data_predict = Data(x=x, edge_index=edge_index, edge_attr=edge_attr)\n",
    "    print(\"Data Object for Prediction:\")\n",
    "    print(data_predict)\n",
    "\n",
    "    # Saving the prediction data\n",
    "    torch.save(data_predict, filename_prediction)\n",
    "    print(f\"Prediction data saved as {filename_prediction}\")"
   ]
  }
 ],
 "metadata": {
  "kernelspec": {
   "display_name": "Python 3 (ipykernel)",
   "language": "python",
   "name": "python3"
  },
  "language_info": {
   "codemirror_mode": {
    "name": "ipython",
    "version": 3
   },
   "file_extension": ".py",
   "mimetype": "text/x-python",
   "name": "python",
   "nbconvert_exporter": "python",
   "pygments_lexer": "ipython3",
   "version": "3.10.6"
  }
 },
 "nbformat": 4,
 "nbformat_minor": 5
}
