{
 "cells": [
  {
   "cell_type": "markdown",
   "id": "8e43a466-4d3c-49e3-9e19-1a77b8da89ce",
   "metadata": {},
   "source": [
    "## **Import Libraries**"
   ]
  },
  {
   "cell_type": "code",
   "execution_count": 1,
   "id": "14692659-1b83-4390-9a35-be265d139600",
   "metadata": {},
   "outputs": [],
   "source": [
    "# import libraries\n",
    "\n",
    "import pandas as pd\n",
    "import torch                                 # pytorch\n",
    "from torch_geometric.data import Data        # to work with graph data"
   ]
  },
  {
   "cell_type": "markdown",
   "id": "2bb0312f-a68a-4e7e-b9bc-593d5d17822d",
   "metadata": {},
   "source": [
    "## **Import Dataset**"
   ]
  },
  {
   "cell_type": "code",
   "execution_count": 2,
   "id": "db79c238-a15a-43b6-a1c3-9b1a4d79d2c9",
   "metadata": {},
   "outputs": [
    {
     "name": "stdout",
     "output_type": "stream",
     "text": [
      "imported\n"
     ]
    }
   ],
   "source": [
    "# import csv \n",
    "\n",
    "sensor_df_raw = pd.read_csv(r\"C:\\Users\\colin\\OneDrive\\Desktop\\Thesis Part 2\\thesis - simulation\\data\\sensor.csv\")\n",
    "buildings_df_raw = pd.read_csv(r\"C:\\Users\\colin\\OneDrive\\Desktop\\Thesis Part 2\\thesis - simulation\\data\\buildings.csv\")\n",
    "labels_df_raw = pd.read_csv(r\"C:\\Users\\colin\\OneDrive\\Desktop\\Thesis Part 2\\thesis - simulation\\data\\labels.csv\")\n",
    "distance_df = pd.read_csv(r\"C:\\Users\\colin\\OneDrive\\Desktop\\Thesis Part 2\\thesis - simulation\\data\\distance.csv\")\n",
    "sensor_length_df = pd.read_csv(r\"C:\\Users\\colin\\OneDrive\\Desktop\\Thesis Part 2\\thesis - simulation\\data\\sensor_length.csv\")\n",
    "vertex_length_df = pd.read_csv(r\"C:\\Users\\colin\\OneDrive\\Desktop\\Thesis Part 2\\thesis - simulation\\data\\vertex_length.csv\")\n",
    "print('imported')"
   ]
  },
  {
   "cell_type": "markdown",
   "id": "a9179e9a-f3ac-430d-a64f-a85d0bddc6d8",
   "metadata": {},
   "source": [
    "## **Prepare Dataset - sensor, building, labels.csv**"
   ]
  },
  {
   "cell_type": "code",
   "execution_count": 3,
   "id": "8858c09e-61a9-452e-ae52-896e366ef94d",
   "metadata": {},
   "outputs": [],
   "source": [
    "# transpose the data\n",
    "\n",
    "sensor_df= sensor_df_raw.transpose()\n",
    "buildings_df= buildings_df_raw.transpose()\n",
    "labels_df= labels_df_raw.transpose()"
   ]
  },
  {
   "cell_type": "code",
   "execution_count": 4,
   "id": "b9f6e0d1-99d6-4ea9-94b5-d4d8de556d97",
   "metadata": {},
   "outputs": [],
   "source": [
    "# function to drop first row (integer indices)\n",
    "\n",
    "def drop_indice(df):\n",
    "    df.columns = df.iloc[0]   # Set the first row as column names\n",
    "    df = df.iloc[1:]  # Remove the first row\n",
    "    df.reset_index(drop=True, inplace=True)  # Reset the index\n",
    "    return df"
   ]
  },
  {
   "cell_type": "code",
   "execution_count": 5,
   "id": "cade98fb-3d44-4bc4-96b3-f9caed2e576f",
   "metadata": {},
   "outputs": [],
   "source": [
    "# drop indices\n",
    "\n",
    "sensor_df = drop_indice(sensor_df)\n",
    "buildings_df = drop_indice(buildings_df)\n",
    "labels_df = drop_indice(labels_df)"
   ]
  },
  {
   "cell_type": "code",
   "execution_count": 6,
   "id": "efd161f5-c403-4ff4-baf0-af129f6ab97b",
   "metadata": {},
   "outputs": [
    {
     "data": {
      "text/html": [
       "<div>\n",
       "<style scoped>\n",
       "    .dataframe tbody tr th:only-of-type {\n",
       "        vertical-align: middle;\n",
       "    }\n",
       "\n",
       "    .dataframe tbody tr th {\n",
       "        vertical-align: top;\n",
       "    }\n",
       "\n",
       "    .dataframe thead th {\n",
       "        text-align: right;\n",
       "    }\n",
       "</style>\n",
       "<table border=\"1\" class=\"dataframe\">\n",
       "  <thead>\n",
       "    <tr style=\"text-align: right;\">\n",
       "      <th>sensor_id</th>\n",
       "      <th>sensor_x_coordinate</th>\n",
       "      <th>sensor_y_coordinate</th>\n",
       "      <th>sensor_z_coordinate</th>\n",
       "    </tr>\n",
       "  </thead>\n",
       "  <tbody>\n",
       "    <tr>\n",
       "      <th>0</th>\n",
       "      <td>360.273651</td>\n",
       "      <td>438.728317</td>\n",
       "      <td>1.2</td>\n",
       "    </tr>\n",
       "    <tr>\n",
       "      <th>1</th>\n",
       "      <td>360.273651</td>\n",
       "      <td>438.728317</td>\n",
       "      <td>3.6</td>\n",
       "    </tr>\n",
       "    <tr>\n",
       "      <th>2</th>\n",
       "      <td>360.273651</td>\n",
       "      <td>438.728317</td>\n",
       "      <td>6.0</td>\n",
       "    </tr>\n",
       "    <tr>\n",
       "      <th>3</th>\n",
       "      <td>360.273651</td>\n",
       "      <td>438.728317</td>\n",
       "      <td>8.4</td>\n",
       "    </tr>\n",
       "    <tr>\n",
       "      <th>4</th>\n",
       "      <td>360.273651</td>\n",
       "      <td>438.728317</td>\n",
       "      <td>10.8</td>\n",
       "    </tr>\n",
       "  </tbody>\n",
       "</table>\n",
       "</div>"
      ],
      "text/plain": [
       "sensor_id sensor_x_coordinate sensor_y_coordinate sensor_z_coordinate\n",
       "0                  360.273651          438.728317                 1.2\n",
       "1                  360.273651          438.728317                 3.6\n",
       "2                  360.273651          438.728317                 6.0\n",
       "3                  360.273651          438.728317                 8.4\n",
       "4                  360.273651          438.728317                10.8"
      ]
     },
     "execution_count": 6,
     "metadata": {},
     "output_type": "execute_result"
    }
   ],
   "source": [
    "sensor_df.head()"
   ]
  },
  {
   "cell_type": "code",
   "execution_count": 7,
   "id": "d2befd14-329d-423e-8a98-c7167b4cdc70",
   "metadata": {},
   "outputs": [
    {
     "data": {
      "text/html": [
       "<div>\n",
       "<style scoped>\n",
       "    .dataframe tbody tr th:only-of-type {\n",
       "        vertical-align: middle;\n",
       "    }\n",
       "\n",
       "    .dataframe tbody tr th {\n",
       "        vertical-align: top;\n",
       "    }\n",
       "\n",
       "    .dataframe thead th {\n",
       "        text-align: right;\n",
       "    }\n",
       "</style>\n",
       "<table border=\"1\" class=\"dataframe\">\n",
       "  <thead>\n",
       "    <tr style=\"text-align: right;\">\n",
       "      <th>vertex_id</th>\n",
       "      <th>x_coordinate</th>\n",
       "      <th>y_coordinate</th>\n",
       "      <th>z_coordinate</th>\n",
       "    </tr>\n",
       "  </thead>\n",
       "  <tbody>\n",
       "    <tr>\n",
       "      <th>0</th>\n",
       "      <td>349.811102</td>\n",
       "      <td>472.454332</td>\n",
       "      <td>0.0</td>\n",
       "    </tr>\n",
       "    <tr>\n",
       "      <th>1</th>\n",
       "      <td>350.259085</td>\n",
       "      <td>473.223226</td>\n",
       "      <td>0.0</td>\n",
       "    </tr>\n",
       "    <tr>\n",
       "      <th>2</th>\n",
       "      <td>350.259085</td>\n",
       "      <td>473.223226</td>\n",
       "      <td>45.0</td>\n",
       "    </tr>\n",
       "    <tr>\n",
       "      <th>3</th>\n",
       "      <td>349.811102</td>\n",
       "      <td>472.454332</td>\n",
       "      <td>45.0</td>\n",
       "    </tr>\n",
       "    <tr>\n",
       "      <th>4</th>\n",
       "      <td>360.19802</td>\n",
       "      <td>467.538691</td>\n",
       "      <td>0.0</td>\n",
       "    </tr>\n",
       "  </tbody>\n",
       "</table>\n",
       "</div>"
      ],
      "text/plain": [
       "vertex_id x_coordinate y_coordinate z_coordinate\n",
       "0           349.811102   472.454332          0.0\n",
       "1           350.259085   473.223226          0.0\n",
       "2           350.259085   473.223226         45.0\n",
       "3           349.811102   472.454332         45.0\n",
       "4            360.19802   467.538691          0.0"
      ]
     },
     "execution_count": 7,
     "metadata": {},
     "output_type": "execute_result"
    }
   ],
   "source": [
    "buildings_df.head()"
   ]
  },
  {
   "cell_type": "code",
   "execution_count": 8,
   "id": "4b8168dd-2b50-461e-92bf-8c2f34336623",
   "metadata": {},
   "outputs": [
    {
     "data": {
      "text/html": [
       "<div>\n",
       "<style scoped>\n",
       "    .dataframe tbody tr th:only-of-type {\n",
       "        vertical-align: middle;\n",
       "    }\n",
       "\n",
       "    .dataframe tbody tr th {\n",
       "        vertical-align: top;\n",
       "    }\n",
       "\n",
       "    .dataframe thead th {\n",
       "        text-align: right;\n",
       "    }\n",
       "</style>\n",
       "<table border=\"1\" class=\"dataframe\">\n",
       "  <thead>\n",
       "    <tr style=\"text-align: right;\">\n",
       "      <th>sensor_id</th>\n",
       "      <th>hb_solar_radiation</th>\n",
       "    </tr>\n",
       "  </thead>\n",
       "  <tbody>\n",
       "    <tr>\n",
       "      <th>0</th>\n",
       "      <td>861.793137</td>\n",
       "    </tr>\n",
       "    <tr>\n",
       "      <th>1</th>\n",
       "      <td>857.606391</td>\n",
       "    </tr>\n",
       "    <tr>\n",
       "      <th>2</th>\n",
       "      <td>856.760583</td>\n",
       "    </tr>\n",
       "    <tr>\n",
       "      <th>3</th>\n",
       "      <td>854.764257</td>\n",
       "    </tr>\n",
       "    <tr>\n",
       "      <th>4</th>\n",
       "      <td>854.645182</td>\n",
       "    </tr>\n",
       "  </tbody>\n",
       "</table>\n",
       "</div>"
      ],
      "text/plain": [
       "sensor_id hb_solar_radiation\n",
       "0                 861.793137\n",
       "1                 857.606391\n",
       "2                 856.760583\n",
       "3                 854.764257\n",
       "4                 854.645182"
      ]
     },
     "execution_count": 8,
     "metadata": {},
     "output_type": "execute_result"
    }
   ],
   "source": [
    "labels_df.head()"
   ]
  },
  {
   "cell_type": "markdown",
   "id": "1d5f8191-605f-481a-9a04-ae639195c3bd",
   "metadata": {},
   "source": [
    "## **Prepare Dataset - edge.csv**"
   ]
  },
  {
   "cell_type": "code",
   "execution_count": 9,
   "id": "595248af-aa27-4804-adbc-2f7a2f4a74e4",
   "metadata": {},
   "outputs": [
    {
     "name": "stdout",
     "output_type": "stream",
     "text": [
      "successful\n"
     ]
    }
   ],
   "source": [
    "distance_df = pd.read_csv(r\"C:\\Users\\colin\\OneDrive\\Desktop\\Thesis Part 2\\thesis - simulation\\data\\distance.csv\")\n",
    "sensor_length_df = pd.read_csv(r\"C:\\Users\\colin\\OneDrive\\Desktop\\Thesis Part 2\\thesis - simulation\\data\\sensor_length.csv\")\n",
    "vertex_length_df = pd.read_csv(r\"C:\\Users\\colin\\OneDrive\\Desktop\\Thesis Part 2\\thesis - simulation\\data\\vertex_length.csv\")\n",
    "print('successful')"
   ]
  },
  {
   "cell_type": "code",
   "execution_count": 10,
   "id": "2632420d-0cfc-4103-8e8e-62a28fb7eb52",
   "metadata": {},
   "outputs": [
    {
     "data": {
      "text/html": [
       "<div>\n",
       "<style scoped>\n",
       "    .dataframe tbody tr th:only-of-type {\n",
       "        vertical-align: middle;\n",
       "    }\n",
       "\n",
       "    .dataframe tbody tr th {\n",
       "        vertical-align: top;\n",
       "    }\n",
       "\n",
       "    .dataframe thead th {\n",
       "        text-align: right;\n",
       "    }\n",
       "</style>\n",
       "<table border=\"1\" class=\"dataframe\">\n",
       "  <thead>\n",
       "    <tr style=\"text-align: right;\">\n",
       "      <th></th>\n",
       "      <th>distance</th>\n",
       "    </tr>\n",
       "  </thead>\n",
       "  <tbody>\n",
       "    <tr>\n",
       "      <th>0</th>\n",
       "      <td>35.331982</td>\n",
       "    </tr>\n",
       "    <tr>\n",
       "      <th>1</th>\n",
       "      <td>35.939258</td>\n",
       "    </tr>\n",
       "    <tr>\n",
       "      <th>2</th>\n",
       "      <td>56.644773</td>\n",
       "    </tr>\n",
       "    <tr>\n",
       "      <th>3</th>\n",
       "      <td>56.261434</td>\n",
       "    </tr>\n",
       "    <tr>\n",
       "      <th>4</th>\n",
       "      <td>28.835453</td>\n",
       "    </tr>\n",
       "  </tbody>\n",
       "</table>\n",
       "</div>"
      ],
      "text/plain": [
       "    distance\n",
       "0  35.331982\n",
       "1  35.939258\n",
       "2  56.644773\n",
       "3  56.261434\n",
       "4  28.835453"
      ]
     },
     "execution_count": 10,
     "metadata": {},
     "output_type": "execute_result"
    }
   ],
   "source": [
    "#check\n",
    "distance_df.head()"
   ]
  },
  {
   "cell_type": "code",
   "execution_count": 11,
   "id": "84c2822d-5864-41ad-a064-27ee098f2baa",
   "metadata": {},
   "outputs": [
    {
     "data": {
      "text/plain": [
       "(117780, 1)"
      ]
     },
     "execution_count": 11,
     "metadata": {},
     "output_type": "execute_result"
    }
   ],
   "source": [
    "distance_df.shape"
   ]
  },
  {
   "cell_type": "code",
   "execution_count": 12,
   "id": "3237ee37-f980-4e94-aef6-2ddd5679d9db",
   "metadata": {},
   "outputs": [
    {
     "data": {
      "text/html": [
       "<div>\n",
       "<style scoped>\n",
       "    .dataframe tbody tr th:only-of-type {\n",
       "        vertical-align: middle;\n",
       "    }\n",
       "\n",
       "    .dataframe tbody tr th {\n",
       "        vertical-align: top;\n",
       "    }\n",
       "\n",
       "    .dataframe thead th {\n",
       "        text-align: right;\n",
       "    }\n",
       "</style>\n",
       "<table border=\"1\" class=\"dataframe\">\n",
       "  <thead>\n",
       "    <tr style=\"text-align: right;\">\n",
       "      <th></th>\n",
       "      <th>453</th>\n",
       "    </tr>\n",
       "  </thead>\n",
       "  <tbody>\n",
       "  </tbody>\n",
       "</table>\n",
       "</div>"
      ],
      "text/plain": [
       "Empty DataFrame\n",
       "Columns: [453]\n",
       "Index: []"
      ]
     },
     "execution_count": 12,
     "metadata": {},
     "output_type": "execute_result"
    }
   ],
   "source": [
    "#check\n",
    "sensor_length_df.head()"
   ]
  },
  {
   "cell_type": "code",
   "execution_count": 13,
   "id": "d393c98b-4d70-4022-9bec-1ebff92c41e7",
   "metadata": {},
   "outputs": [
    {
     "data": {
      "text/html": [
       "<div>\n",
       "<style scoped>\n",
       "    .dataframe tbody tr th:only-of-type {\n",
       "        vertical-align: middle;\n",
       "    }\n",
       "\n",
       "    .dataframe tbody tr th {\n",
       "        vertical-align: top;\n",
       "    }\n",
       "\n",
       "    .dataframe thead th {\n",
       "        text-align: right;\n",
       "    }\n",
       "</style>\n",
       "<table border=\"1\" class=\"dataframe\">\n",
       "  <thead>\n",
       "    <tr style=\"text-align: right;\">\n",
       "      <th></th>\n",
       "      <th>260</th>\n",
       "    </tr>\n",
       "  </thead>\n",
       "  <tbody>\n",
       "  </tbody>\n",
       "</table>\n",
       "</div>"
      ],
      "text/plain": [
       "Empty DataFrame\n",
       "Columns: [260]\n",
       "Index: []"
      ]
     },
     "execution_count": 13,
     "metadata": {},
     "output_type": "execute_result"
    }
   ],
   "source": [
    "#check\n",
    "vertex_length_df.head()"
   ]
  },
  {
   "cell_type": "code",
   "execution_count": 14,
   "id": "245439ae-f968-4c0a-a4ff-fc6adfa4c66a",
   "metadata": {},
   "outputs": [
    {
     "name": "stdout",
     "output_type": "stream",
     "text": [
      "453\n",
      "260\n"
     ]
    }
   ],
   "source": [
    "#extract out the length values from both dataframes\n",
    "\n",
    "sensor_length = sensor_length_df.columns[0]\n",
    "print(sensor_length)\n",
    "vertex_length = vertex_length_df.columns[0]\n",
    "print(vertex_length)"
   ]
  },
  {
   "cell_type": "code",
   "execution_count": 15,
   "id": "2e1847b7-77d3-4390-9a2d-e15a1aeb9821",
   "metadata": {},
   "outputs": [
    {
     "name": "stdout",
     "output_type": "stream",
     "text": [
      "<class 'int'>\n",
      "<class 'int'>\n"
     ]
    }
   ],
   "source": [
    "# convert length to numerical from string values \n",
    "\n",
    "sensor_length = int(sensor_length)\n",
    "print(type(sensor_length))\n",
    "\n",
    "vertex_length = int(vertex_length)\n",
    "print(type(vertex_length))"
   ]
  },
  {
   "cell_type": "code",
   "execution_count": 16,
   "id": "fb0e2543-faf3-4abc-a7e1-b073d93b256f",
   "metadata": {},
   "outputs": [],
   "source": [
    "def create_temp_df(n, m):\n",
    "    # n is the number of sensors, m is the number of vertices\n",
    "    data = []  # List to hold the data\n",
    "    for sensor_length in range(1, n+1):  # Iterate through each sensor\n",
    "        for vertex_length in range(1, m + 1):  # Iterate through each vertex for the sensor\n",
    "            # Append a tuple with the sensor ID and vertex ID to the list\n",
    "            data.append((f'sensor_id_{sensor_length}', f'vertex_{vertex_length}'))\n",
    "    \n",
    "    # Create DataFrame from the data list\n",
    "    temp_df = pd.DataFrame(data, columns=['sensor_id', 'vertex_id'])\n",
    "    \n",
    "    return temp_df"
   ]
  },
  {
   "cell_type": "code",
   "execution_count": 17,
   "id": "46eb90e4-cf1b-44c1-b5a7-2e8a5f01b51b",
   "metadata": {},
   "outputs": [
    {
     "data": {
      "text/html": [
       "<div>\n",
       "<style scoped>\n",
       "    .dataframe tbody tr th:only-of-type {\n",
       "        vertical-align: middle;\n",
       "    }\n",
       "\n",
       "    .dataframe tbody tr th {\n",
       "        vertical-align: top;\n",
       "    }\n",
       "\n",
       "    .dataframe thead th {\n",
       "        text-align: right;\n",
       "    }\n",
       "</style>\n",
       "<table border=\"1\" class=\"dataframe\">\n",
       "  <thead>\n",
       "    <tr style=\"text-align: right;\">\n",
       "      <th></th>\n",
       "      <th>sensor_id</th>\n",
       "      <th>vertex_id</th>\n",
       "    </tr>\n",
       "  </thead>\n",
       "  <tbody>\n",
       "    <tr>\n",
       "      <th>0</th>\n",
       "      <td>sensor_id_1</td>\n",
       "      <td>vertex_1</td>\n",
       "    </tr>\n",
       "    <tr>\n",
       "      <th>1</th>\n",
       "      <td>sensor_id_1</td>\n",
       "      <td>vertex_2</td>\n",
       "    </tr>\n",
       "    <tr>\n",
       "      <th>2</th>\n",
       "      <td>sensor_id_1</td>\n",
       "      <td>vertex_3</td>\n",
       "    </tr>\n",
       "    <tr>\n",
       "      <th>3</th>\n",
       "      <td>sensor_id_1</td>\n",
       "      <td>vertex_4</td>\n",
       "    </tr>\n",
       "    <tr>\n",
       "      <th>4</th>\n",
       "      <td>sensor_id_1</td>\n",
       "      <td>vertex_5</td>\n",
       "    </tr>\n",
       "    <tr>\n",
       "      <th>...</th>\n",
       "      <td>...</td>\n",
       "      <td>...</td>\n",
       "    </tr>\n",
       "    <tr>\n",
       "      <th>117775</th>\n",
       "      <td>sensor_id_453</td>\n",
       "      <td>vertex_256</td>\n",
       "    </tr>\n",
       "    <tr>\n",
       "      <th>117776</th>\n",
       "      <td>sensor_id_453</td>\n",
       "      <td>vertex_257</td>\n",
       "    </tr>\n",
       "    <tr>\n",
       "      <th>117777</th>\n",
       "      <td>sensor_id_453</td>\n",
       "      <td>vertex_258</td>\n",
       "    </tr>\n",
       "    <tr>\n",
       "      <th>117778</th>\n",
       "      <td>sensor_id_453</td>\n",
       "      <td>vertex_259</td>\n",
       "    </tr>\n",
       "    <tr>\n",
       "      <th>117779</th>\n",
       "      <td>sensor_id_453</td>\n",
       "      <td>vertex_260</td>\n",
       "    </tr>\n",
       "  </tbody>\n",
       "</table>\n",
       "<p>117780 rows × 2 columns</p>\n",
       "</div>"
      ],
      "text/plain": [
       "            sensor_id   vertex_id\n",
       "0         sensor_id_1    vertex_1\n",
       "1         sensor_id_1    vertex_2\n",
       "2         sensor_id_1    vertex_3\n",
       "3         sensor_id_1    vertex_4\n",
       "4         sensor_id_1    vertex_5\n",
       "...               ...         ...\n",
       "117775  sensor_id_453  vertex_256\n",
       "117776  sensor_id_453  vertex_257\n",
       "117777  sensor_id_453  vertex_258\n",
       "117778  sensor_id_453  vertex_259\n",
       "117779  sensor_id_453  vertex_260\n",
       "\n",
       "[117780 rows x 2 columns]"
      ]
     },
     "execution_count": 17,
     "metadata": {},
     "output_type": "execute_result"
    }
   ],
   "source": [
    "# call function to create sensor id and vertex id dataframe\n",
    "\n",
    "temp_df = create_temp_df(sensor_length, vertex_length)\n",
    "temp_df"
   ]
  },
  {
   "cell_type": "code",
   "execution_count": 18,
   "id": "857adf7d-5a4c-4708-86b9-b4d6121d8e72",
   "metadata": {},
   "outputs": [],
   "source": [
    "temp_df['distance'] = distance_df['distance']\n",
    "edge_df = temp_df"
   ]
  },
  {
   "cell_type": "code",
   "execution_count": 38,
   "id": "6f3a7307-9c22-4af8-9b30-4ef9aa80fee0",
   "metadata": {},
   "outputs": [
    {
     "data": {
      "text/html": [
       "<div>\n",
       "<style scoped>\n",
       "    .dataframe tbody tr th:only-of-type {\n",
       "        vertical-align: middle;\n",
       "    }\n",
       "\n",
       "    .dataframe tbody tr th {\n",
       "        vertical-align: top;\n",
       "    }\n",
       "\n",
       "    .dataframe thead th {\n",
       "        text-align: right;\n",
       "    }\n",
       "</style>\n",
       "<table border=\"1\" class=\"dataframe\">\n",
       "  <thead>\n",
       "    <tr style=\"text-align: right;\">\n",
       "      <th></th>\n",
       "      <th>sensor_id</th>\n",
       "      <th>vertex_id</th>\n",
       "      <th>distance</th>\n",
       "    </tr>\n",
       "  </thead>\n",
       "  <tbody>\n",
       "    <tr>\n",
       "      <th>0</th>\n",
       "      <td>sensor_id_1</td>\n",
       "      <td>vertex_1</td>\n",
       "      <td>35.331982</td>\n",
       "    </tr>\n",
       "    <tr>\n",
       "      <th>1</th>\n",
       "      <td>sensor_id_1</td>\n",
       "      <td>vertex_2</td>\n",
       "      <td>35.939258</td>\n",
       "    </tr>\n",
       "    <tr>\n",
       "      <th>2</th>\n",
       "      <td>sensor_id_1</td>\n",
       "      <td>vertex_3</td>\n",
       "      <td>56.644773</td>\n",
       "    </tr>\n",
       "    <tr>\n",
       "      <th>3</th>\n",
       "      <td>sensor_id_1</td>\n",
       "      <td>vertex_4</td>\n",
       "      <td>56.261434</td>\n",
       "    </tr>\n",
       "    <tr>\n",
       "      <th>4</th>\n",
       "      <td>sensor_id_1</td>\n",
       "      <td>vertex_5</td>\n",
       "      <td>28.835453</td>\n",
       "    </tr>\n",
       "    <tr>\n",
       "      <th>...</th>\n",
       "      <td>...</td>\n",
       "      <td>...</td>\n",
       "      <td>...</td>\n",
       "    </tr>\n",
       "    <tr>\n",
       "      <th>117775</th>\n",
       "      <td>sensor_id_453</td>\n",
       "      <td>vertex_256</td>\n",
       "      <td>45.543195</td>\n",
       "    </tr>\n",
       "    <tr>\n",
       "      <th>117776</th>\n",
       "      <td>sensor_id_453</td>\n",
       "      <td>vertex_257</td>\n",
       "      <td>56.887285</td>\n",
       "    </tr>\n",
       "    <tr>\n",
       "      <th>117777</th>\n",
       "      <td>sensor_id_453</td>\n",
       "      <td>vertex_258</td>\n",
       "      <td>46.226373</td>\n",
       "    </tr>\n",
       "    <tr>\n",
       "      <th>117778</th>\n",
       "      <td>sensor_id_453</td>\n",
       "      <td>vertex_259</td>\n",
       "      <td>54.249894</td>\n",
       "    </tr>\n",
       "    <tr>\n",
       "      <th>117779</th>\n",
       "      <td>sensor_id_453</td>\n",
       "      <td>vertex_260</td>\n",
       "      <td>42.939089</td>\n",
       "    </tr>\n",
       "  </tbody>\n",
       "</table>\n",
       "<p>117780 rows × 3 columns</p>\n",
       "</div>"
      ],
      "text/plain": [
       "            sensor_id   vertex_id   distance\n",
       "0         sensor_id_1    vertex_1  35.331982\n",
       "1         sensor_id_1    vertex_2  35.939258\n",
       "2         sensor_id_1    vertex_3  56.644773\n",
       "3         sensor_id_1    vertex_4  56.261434\n",
       "4         sensor_id_1    vertex_5  28.835453\n",
       "...               ...         ...        ...\n",
       "117775  sensor_id_453  vertex_256  45.543195\n",
       "117776  sensor_id_453  vertex_257  56.887285\n",
       "117777  sensor_id_453  vertex_258  46.226373\n",
       "117778  sensor_id_453  vertex_259  54.249894\n",
       "117779  sensor_id_453  vertex_260  42.939089\n",
       "\n",
       "[117780 rows x 3 columns]"
      ]
     },
     "execution_count": 38,
     "metadata": {},
     "output_type": "execute_result"
    }
   ],
   "source": [
    "edge_df"
   ]
  },
  {
   "cell_type": "markdown",
   "id": "7a24762d-e631-4a92-b628-c7b47dc17f61",
   "metadata": {},
   "source": [
    "## **Prepare Dataset - Null Check**"
   ]
  },
  {
   "cell_type": "code",
   "execution_count": 19,
   "id": "dc6aec4b-2668-4257-8a09-ad2840a8ff0f",
   "metadata": {},
   "outputs": [],
   "source": [
    "# function for null values check\n",
    "\n",
    "def null_check(df):\n",
    "    total_rows = len(df)\n",
    "    for column in df.columns:\n",
    "        null_count = df[column].isnull().sum()\n",
    "        null_percentage = round((null_count/total_rows)*100,2)\n",
    "        print('_'*20)\n",
    "        print(f'{column}')\n",
    "        print('_'*20)\n",
    "        print(f'Null count: {null_count}')\n",
    "        print(f'Percentage : {null_percentage}')"
   ]
  },
  {
   "cell_type": "code",
   "execution_count": 20,
   "id": "ee7c971c-6389-4ad4-afdf-5eb50e51f292",
   "metadata": {},
   "outputs": [
    {
     "name": "stdout",
     "output_type": "stream",
     "text": [
      "____________________\n",
      "sensor_x_coordinate\n",
      "____________________\n",
      "Null count: 0\n",
      "Percentage : 0.0\n",
      "____________________\n",
      "sensor_y_coordinate\n",
      "____________________\n",
      "Null count: 0\n",
      "Percentage : 0.0\n",
      "____________________\n",
      "sensor_z_coordinate\n",
      "____________________\n",
      "Null count: 0\n",
      "Percentage : 0.0\n",
      "____________________\n",
      "x_coordinate\n",
      "____________________\n",
      "Null count: 0\n",
      "Percentage : 0.0\n",
      "____________________\n",
      "y_coordinate\n",
      "____________________\n",
      "Null count: 0\n",
      "Percentage : 0.0\n",
      "____________________\n",
      "z_coordinate\n",
      "____________________\n",
      "Null count: 0\n",
      "Percentage : 0.0\n",
      "____________________\n",
      "hb_solar_radiation\n",
      "____________________\n",
      "Null count: 0\n",
      "Percentage : 0.0\n",
      "____________________\n",
      "distance\n",
      "____________________\n",
      "Null count: 0\n",
      "Percentage : 0.0\n"
     ]
    }
   ],
   "source": [
    "null_check(sensor_df)\n",
    "null_check(buildings_df)\n",
    "null_check(labels_df)\n",
    "null_check(distance_df)"
   ]
  },
  {
   "cell_type": "markdown",
   "id": "23889dab-4dab-458a-ac0d-2cb15a30f164",
   "metadata": {},
   "source": [
    "## **Preprocess Node Index and Naming**"
   ]
  },
  {
   "cell_type": "code",
   "execution_count": 21,
   "id": "98ebe3ac-962c-4938-8703-45c19efb47a2",
   "metadata": {},
   "outputs": [],
   "source": [
    "# Resetting the index so 'sensor_id' is no longer the index column\n",
    "sensor_df.reset_index(drop=True, inplace=True)\n",
    "\n",
    "# Creating a new 'sensor_id' column with formatted values\n",
    "sensor_df['sensor_id'] = ['sensor_id_' + str(i + 1) for i in sensor_df.index]\n",
    "\n",
    "# Insert the 'sensor_id_formatted' column as the first column\n",
    "sensor_df.insert(0, 'sensor_id', sensor_df.pop('sensor_id'))"
   ]
  },
  {
   "cell_type": "code",
   "execution_count": 22,
   "id": "4f06f176-35f1-42f5-a5de-dc755a7d238e",
   "metadata": {},
   "outputs": [],
   "source": [
    "# Resetting the index so 'sensor_id' is no longer the index column\n",
    "buildings_df.reset_index(drop=True, inplace=True)\n",
    "\n",
    "# Creating a new 'sensor_id' column with formatted values\n",
    "buildings_df['vertex_id'] = ['vertex_id_' + str(i + 1) for i in buildings_df.index]\n",
    "\n",
    "# Insert the 'sensor_id_formatted' column as the first column\n",
    "buildings_df.insert(0, 'vertex_id', buildings_df.pop('vertex_id'))"
   ]
  },
  {
   "cell_type": "code",
   "execution_count": 23,
   "id": "69e0b650-3937-4f4d-8a25-cab0213fcaad",
   "metadata": {},
   "outputs": [],
   "source": [
    "# Resetting the index so 'sensor_id' is no longer the index column\n",
    "labels_df.reset_index(drop=True, inplace=True)\n",
    "\n",
    "# Creating a new 'sensor_id' column with formatted values\n",
    "labels_df['sensor_id'] = ['sensor_id_' + str(i + 1) for i in labels_df.index]\n",
    "\n",
    "# Insert the 'sensor_id_formatted' column as the first column\n",
    "labels_df.insert(0, 'sensor_id', labels_df.pop('sensor_id'))"
   ]
  },
  {
   "cell_type": "markdown",
   "id": "be2769ae-4067-4b81-99b2-103bc2dd0b65",
   "metadata": {},
   "source": [
    "## **Final Check**"
   ]
  },
  {
   "cell_type": "code",
   "execution_count": 24,
   "id": "feb11520-4bc4-48e4-864b-8bbe2267a841",
   "metadata": {},
   "outputs": [
    {
     "name": "stdout",
     "output_type": "stream",
     "text": [
      "sensor_df\n",
      "sensor_id    sensor_id sensor_x_coordinate sensor_y_coordinate  \\\n",
      "0          sensor_id_1          360.273651          438.728317   \n",
      "1          sensor_id_2          360.273651          438.728317   \n",
      "2          sensor_id_3          360.273651          438.728317   \n",
      "3          sensor_id_4          360.273651          438.728317   \n",
      "4          sensor_id_5          360.273651          438.728317   \n",
      "\n",
      "sensor_id sensor_z_coordinate  \n",
      "0                         1.2  \n",
      "1                         3.6  \n",
      "2                         6.0  \n",
      "3                         8.4  \n",
      "4                        10.8  \n",
      "buildings_df\n",
      "vertex_id    vertex_id x_coordinate y_coordinate z_coordinate\n",
      "0          vertex_id_1   349.811102   472.454332          0.0\n",
      "1          vertex_id_2   350.259085   473.223226          0.0\n",
      "2          vertex_id_3   350.259085   473.223226         45.0\n",
      "3          vertex_id_4   349.811102   472.454332         45.0\n",
      "4          vertex_id_5    360.19802   467.538691          0.0\n",
      "labels_df\n",
      "sensor_id    sensor_id hb_solar_radiation\n",
      "0          sensor_id_1         861.793137\n",
      "1          sensor_id_2         857.606391\n",
      "2          sensor_id_3         856.760583\n",
      "3          sensor_id_4         854.764257\n",
      "4          sensor_id_5         854.645182\n",
      "edge_df\n",
      "     sensor_id vertex_id   distance\n",
      "0  sensor_id_1  vertex_1  35.331982\n",
      "1  sensor_id_1  vertex_2  35.939258\n",
      "2  sensor_id_1  vertex_3  56.644773\n",
      "3  sensor_id_1  vertex_4  56.261434\n",
      "4  sensor_id_1  vertex_5  28.835453\n"
     ]
    }
   ],
   "source": [
    "print('sensor_df')\n",
    "print(sensor_df.head())\n",
    "print('buildings_df')\n",
    "print(buildings_df.head())\n",
    "print('labels_df')\n",
    "print(labels_df.head())\n",
    "print('edge_df')\n",
    "print(edge_df.head())"
   ]
  },
  {
   "cell_type": "markdown",
   "id": "857d5861-6f38-4e83-8307-4ca3f21276c3",
   "metadata": {},
   "source": [
    "## **Overall Graph Object**"
   ]
  },
  {
   "cell_type": "markdown",
   "id": "a52fa14a-ad09-43a5-aa5c-97f5b150b614",
   "metadata": {},
   "source": [
    "- Node Features\n",
    "- Edge Index\n",
    "- Edge Attributes\n",
    "- Combine to form data object"
   ]
  },
  {
   "attachments": {},
   "cell_type": "markdown",
   "id": "ef21fd46-79b5-441f-ab7b-12182fb23db0",
   "metadata": {},
   "source": [
    "## **Prepare Node Features**"
   ]
  },
  {
   "cell_type": "markdown",
   "id": "155f9316-c11f-4392-8b6e-2fabe38ffbbc",
   "metadata": {},
   "source": [
    "Combine sensor and building information to create a unified node feature matrix. "
   ]
  },
  {
   "cell_type": "markdown",
   "id": "c35e1202-2503-446b-ab65-1e3c889fc3b4",
   "metadata": {},
   "source": [
    "Combine sensor_df and buildings_df into a single dataframe, ensuring each has a unique identifier across sensors and vertices"
   ]
  },
  {
   "cell_type": "code",
   "execution_count": 25,
   "id": "9a86ef44-9531-4729-a138-8fd42f446404",
   "metadata": {},
   "outputs": [],
   "source": [
    "# Add a column to distinguish between sensors and vertices\r\n",
    "sensor_df['type'] = 'sensor'\r\n",
    "buildings_df['type'] = 'vertex'"
   ]
  },
  {
   "cell_type": "code",
   "execution_count": 26,
   "id": "258302b5-a7b9-4900-956a-93c9d2a1cf0f",
   "metadata": {},
   "outputs": [],
   "source": [
    "# Combine dataframes\n",
    "all_nodes_df = pd.concat([sensor_df.assign(index=range(0, len(sensor_df))),\n",
    "                          buildings_df.assign(index=range(len(sensor_df), len(sensor_df)+len(buildings_df)))])\n"
   ]
  },
  {
   "cell_type": "code",
   "execution_count": 27,
   "id": "6732851b-bd2d-4b6c-b363-5baa594c87f6",
   "metadata": {},
   "outputs": [
    {
     "data": {
      "text/html": [
       "<div>\n",
       "<style scoped>\n",
       "    .dataframe tbody tr th:only-of-type {\n",
       "        vertical-align: middle;\n",
       "    }\n",
       "\n",
       "    .dataframe tbody tr th {\n",
       "        vertical-align: top;\n",
       "    }\n",
       "\n",
       "    .dataframe thead th {\n",
       "        text-align: right;\n",
       "    }\n",
       "</style>\n",
       "<table border=\"1\" class=\"dataframe\">\n",
       "  <thead>\n",
       "    <tr style=\"text-align: right;\">\n",
       "      <th></th>\n",
       "      <th>sensor_id</th>\n",
       "      <th>sensor_x_coordinate</th>\n",
       "      <th>sensor_y_coordinate</th>\n",
       "      <th>sensor_z_coordinate</th>\n",
       "      <th>type</th>\n",
       "      <th>index</th>\n",
       "      <th>vertex_id</th>\n",
       "      <th>x_coordinate</th>\n",
       "      <th>y_coordinate</th>\n",
       "      <th>z_coordinate</th>\n",
       "    </tr>\n",
       "  </thead>\n",
       "  <tbody>\n",
       "    <tr>\n",
       "      <th>0</th>\n",
       "      <td>sensor_id_1</td>\n",
       "      <td>360.273651</td>\n",
       "      <td>438.728317</td>\n",
       "      <td>1.2</td>\n",
       "      <td>sensor</td>\n",
       "      <td>0</td>\n",
       "      <td>NaN</td>\n",
       "      <td>NaN</td>\n",
       "      <td>NaN</td>\n",
       "      <td>NaN</td>\n",
       "    </tr>\n",
       "    <tr>\n",
       "      <th>1</th>\n",
       "      <td>sensor_id_2</td>\n",
       "      <td>360.273651</td>\n",
       "      <td>438.728317</td>\n",
       "      <td>3.6</td>\n",
       "      <td>sensor</td>\n",
       "      <td>1</td>\n",
       "      <td>NaN</td>\n",
       "      <td>NaN</td>\n",
       "      <td>NaN</td>\n",
       "      <td>NaN</td>\n",
       "    </tr>\n",
       "    <tr>\n",
       "      <th>2</th>\n",
       "      <td>sensor_id_3</td>\n",
       "      <td>360.273651</td>\n",
       "      <td>438.728317</td>\n",
       "      <td>6.0</td>\n",
       "      <td>sensor</td>\n",
       "      <td>2</td>\n",
       "      <td>NaN</td>\n",
       "      <td>NaN</td>\n",
       "      <td>NaN</td>\n",
       "      <td>NaN</td>\n",
       "    </tr>\n",
       "    <tr>\n",
       "      <th>3</th>\n",
       "      <td>sensor_id_4</td>\n",
       "      <td>360.273651</td>\n",
       "      <td>438.728317</td>\n",
       "      <td>8.4</td>\n",
       "      <td>sensor</td>\n",
       "      <td>3</td>\n",
       "      <td>NaN</td>\n",
       "      <td>NaN</td>\n",
       "      <td>NaN</td>\n",
       "      <td>NaN</td>\n",
       "    </tr>\n",
       "    <tr>\n",
       "      <th>4</th>\n",
       "      <td>sensor_id_5</td>\n",
       "      <td>360.273651</td>\n",
       "      <td>438.728317</td>\n",
       "      <td>10.8</td>\n",
       "      <td>sensor</td>\n",
       "      <td>4</td>\n",
       "      <td>NaN</td>\n",
       "      <td>NaN</td>\n",
       "      <td>NaN</td>\n",
       "      <td>NaN</td>\n",
       "    </tr>\n",
       "    <tr>\n",
       "      <th>...</th>\n",
       "      <td>...</td>\n",
       "      <td>...</td>\n",
       "      <td>...</td>\n",
       "      <td>...</td>\n",
       "      <td>...</td>\n",
       "      <td>...</td>\n",
       "      <td>...</td>\n",
       "      <td>...</td>\n",
       "      <td>...</td>\n",
       "      <td>...</td>\n",
       "    </tr>\n",
       "    <tr>\n",
       "      <th>255</th>\n",
       "      <td>NaN</td>\n",
       "      <td>NaN</td>\n",
       "      <td>NaN</td>\n",
       "      <td>NaN</td>\n",
       "      <td>vertex</td>\n",
       "      <td>708</td>\n",
       "      <td>vertex_id_256</td>\n",
       "      <td>345.189406</td>\n",
       "      <td>481.453813</td>\n",
       "      <td>45.0</td>\n",
       "    </tr>\n",
       "    <tr>\n",
       "      <th>256</th>\n",
       "      <td>NaN</td>\n",
       "      <td>NaN</td>\n",
       "      <td>NaN</td>\n",
       "      <td>NaN</td>\n",
       "      <td>vertex</td>\n",
       "      <td>709</td>\n",
       "      <td>vertex_id_257</td>\n",
       "      <td>344.378254</td>\n",
       "      <td>481.917478</td>\n",
       "      <td>0.0</td>\n",
       "    </tr>\n",
       "    <tr>\n",
       "      <th>257</th>\n",
       "      <td>NaN</td>\n",
       "      <td>NaN</td>\n",
       "      <td>NaN</td>\n",
       "      <td>NaN</td>\n",
       "      <td>vertex</td>\n",
       "      <td>710</td>\n",
       "      <td>vertex_id_258</td>\n",
       "      <td>344.378254</td>\n",
       "      <td>481.917478</td>\n",
       "      <td>45.0</td>\n",
       "    </tr>\n",
       "    <tr>\n",
       "      <th>258</th>\n",
       "      <td>NaN</td>\n",
       "      <td>NaN</td>\n",
       "      <td>NaN</td>\n",
       "      <td>NaN</td>\n",
       "      <td>vertex</td>\n",
       "      <td>711</td>\n",
       "      <td>vertex_id_259</td>\n",
       "      <td>341.606353</td>\n",
       "      <td>477.146624</td>\n",
       "      <td>0.0</td>\n",
       "    </tr>\n",
       "    <tr>\n",
       "      <th>259</th>\n",
       "      <td>NaN</td>\n",
       "      <td>NaN</td>\n",
       "      <td>NaN</td>\n",
       "      <td>NaN</td>\n",
       "      <td>vertex</td>\n",
       "      <td>712</td>\n",
       "      <td>vertex_id_260</td>\n",
       "      <td>341.606353</td>\n",
       "      <td>477.146624</td>\n",
       "      <td>45.0</td>\n",
       "    </tr>\n",
       "  </tbody>\n",
       "</table>\n",
       "<p>713 rows × 10 columns</p>\n",
       "</div>"
      ],
      "text/plain": [
       "       sensor_id sensor_x_coordinate sensor_y_coordinate sensor_z_coordinate  \\\n",
       "0    sensor_id_1          360.273651          438.728317                 1.2   \n",
       "1    sensor_id_2          360.273651          438.728317                 3.6   \n",
       "2    sensor_id_3          360.273651          438.728317                 6.0   \n",
       "3    sensor_id_4          360.273651          438.728317                 8.4   \n",
       "4    sensor_id_5          360.273651          438.728317                10.8   \n",
       "..           ...                 ...                 ...                 ...   \n",
       "255          NaN                 NaN                 NaN                 NaN   \n",
       "256          NaN                 NaN                 NaN                 NaN   \n",
       "257          NaN                 NaN                 NaN                 NaN   \n",
       "258          NaN                 NaN                 NaN                 NaN   \n",
       "259          NaN                 NaN                 NaN                 NaN   \n",
       "\n",
       "       type  index      vertex_id x_coordinate y_coordinate z_coordinate  \n",
       "0    sensor      0            NaN          NaN          NaN          NaN  \n",
       "1    sensor      1            NaN          NaN          NaN          NaN  \n",
       "2    sensor      2            NaN          NaN          NaN          NaN  \n",
       "3    sensor      3            NaN          NaN          NaN          NaN  \n",
       "4    sensor      4            NaN          NaN          NaN          NaN  \n",
       "..      ...    ...            ...          ...          ...          ...  \n",
       "255  vertex    708  vertex_id_256   345.189406   481.453813         45.0  \n",
       "256  vertex    709  vertex_id_257   344.378254   481.917478          0.0  \n",
       "257  vertex    710  vertex_id_258   344.378254   481.917478         45.0  \n",
       "258  vertex    711  vertex_id_259   341.606353   477.146624          0.0  \n",
       "259  vertex    712  vertex_id_260   341.606353   477.146624         45.0  \n",
       "\n",
       "[713 rows x 10 columns]"
      ]
     },
     "execution_count": 27,
     "metadata": {},
     "output_type": "execute_result"
    }
   ],
   "source": [
    "all_nodes_df"
   ]
  },
  {
   "cell_type": "code",
   "execution_count": 28,
   "id": "8204854a-4712-415f-a370-80b80c7136ff",
   "metadata": {},
   "outputs": [],
   "source": [
    "# Prepare node features - example: using coordinates and a type flag (sensor=1, vertex=0)\n",
    "all_nodes_df['type_flag'] = all_nodes_df['type'].apply(lambda x: 1 if x == 'sensor' else 0)\n",
    "node_features = all_nodes_df[['sensor_x_coordinate', 'sensor_y_coordinate', 'sensor_z_coordinate', 'type_flag']].fillna(0).values\n",
    "x = torch.tensor(node_features, dtype=torch.float)"
   ]
  },
  {
   "cell_type": "code",
   "execution_count": 29,
   "id": "948db22e-2020-4f92-a7a0-5a2cea6670ac",
   "metadata": {},
   "outputs": [
    {
     "name": "stdout",
     "output_type": "stream",
     "text": [
      "Node Features Tensor:\n",
      "tensor([[360.2737, 438.7283,   1.2000,   1.0000],\n",
      "        [360.2737, 438.7283,   3.6000,   1.0000],\n",
      "        [360.2737, 438.7283,   6.0000,   1.0000],\n",
      "        ...,\n",
      "        [  0.0000,   0.0000,   0.0000,   0.0000],\n",
      "        [  0.0000,   0.0000,   0.0000,   0.0000],\n",
      "        [  0.0000,   0.0000,   0.0000,   0.0000]])\n"
     ]
    }
   ],
   "source": [
    "# Print the tensor to check its contents\n",
    "print(\"Node Features Tensor:\")\n",
    "print(x)"
   ]
  },
  {
   "cell_type": "markdown",
   "id": "2953cfbd-a75a-4544-950c-d585b5809dd3",
   "metadata": {},
   "source": [
    "## **Create Edge Index**"
   ]
  },
  {
   "cell_type": "markdown",
   "id": "18b040ec-1c44-4ec0-88b4-2defde195512",
   "metadata": {},
   "source": [
    "1. Map each sensor_id and vertex_id to a unique index.\r",
    "2. \n",
    "Use these mappings to create the edge_index tensor from edge_df."
   ]
  },
  {
   "cell_type": "markdown",
   "id": "1d56230c-3508-456b-9a8e-7794340bb63c",
   "metadata": {},
   "source": [
    "Step 1: Prepare Mappings\n",
    "First, we'll create dictionaries to map sensor_id and vertex_id to unique indices. We'll concatenate the indices of sensors and vertices to ensure uniqueness across the graph."
   ]
  },
  {
   "cell_type": "code",
   "execution_count": 39,
   "id": "802d6696-3ca8-43e9-8bd9-bd4a45ae9eb4",
   "metadata": {},
   "outputs": [],
   "source": [
    "sensor_ids = sensor_df['sensor_id'].unique()\n",
    "vertex_ids = buildings_df['vertex_id'].unique()\n",
    "\n",
    "# Create a continuous index for sensors and vertices\n",
    "sensor_index = {sensor_id: i for i, sensor_id in enumerate(sensor_ids)}\n",
    "vertex_index = {vertex_id: i + len(sensor_index) for i, vertex_id in enumerate(vertex_ids)}"
   ]
  },
  {
   "cell_type": "markdown",
   "id": "a9013e73-bb7b-48c1-92c0-e849c2337d3c",
   "metadata": {},
   "source": [
    "Step 2: Create Edge Index\n",
    "Next, we'll use these mappings to create the edge_index tensor. Note that the vertex_id in edge_df appears to have a slight discrepancy (missing the \"id_\" part based on the example provided), so we'll adjust for that in our mapping."
   ]
  },
  {
   "cell_type": "code",
   "execution_count": 40,
   "id": "dcf3d903-c5d7-4e31-a89d-296ab8c39909",
   "metadata": {},
   "outputs": [],
   "source": [
    "# Adjust the vertex_id in edge_df to match the format in buildings_df\n",
    "edge_df['adjusted_vertex_id'] = edge_df['vertex_id'].apply(lambda x: 'vertex_id_' + x.split('_')[-1])\n",
    "\n",
    "# Map sensor_id and vertex_id to their respective indices\n",
    "edge_index_list = edge_df.apply(lambda row: [sensor_index.get(row['sensor_id'], -1),\n",
    "                                             vertex_index.get(row['adjusted_vertex_id'], -1)], axis=1)\n",
    "\n",
    "# Filter out any edges that couldn't be mapped (-1 indicates a mapping failure)\n",
    "filtered_edge_index_list = [pair for pair in edge_index_list if -1 not in pair]\n",
    "\n",
    "# Convert to torch tensor\n",
    "edge_index = torch.tensor(filtered_edge_index_list, dtype=torch.long).t().contiguous()\n"
   ]
  },
  {
   "cell_type": "code",
   "execution_count": 41,
   "id": "1c3c4bbe-4b74-42f4-b234-2293f84ba2cd",
   "metadata": {},
   "outputs": [
    {
     "data": {
      "text/plain": [
       "tensor([[  0,   0,   0,  ..., 452, 452, 452],\n",
       "        [453, 454, 455,  ..., 710, 711, 712]])"
      ]
     },
     "execution_count": 41,
     "metadata": {},
     "output_type": "execute_result"
    }
   ],
   "source": [
    "edge_index"
   ]
  },
  {
   "cell_type": "markdown",
   "id": "6117a6dc-0016-458d-b91c-ba2643516ee2",
   "metadata": {},
   "source": [
    "## **Edge Attributes**"
   ]
  },
  {
   "cell_type": "code",
   "execution_count": 33,
   "id": "3a7ea40e-be0b-4c61-8a2e-d4aabe65bf54",
   "metadata": {},
   "outputs": [],
   "source": [
    "edge_attr = torch.tensor(edge_df[['distance']].values, dtype=torch.float)"
   ]
  },
  {
   "cell_type": "code",
   "execution_count": 42,
   "id": "cb465579-dd5e-487e-a4ed-fc23f58f80b2",
   "metadata": {},
   "outputs": [
    {
     "data": {
      "text/plain": [
       "tensor([[35.3320],\n",
       "        [35.9393],\n",
       "        [56.6448],\n",
       "        ...,\n",
       "        [46.2264],\n",
       "        [54.2499],\n",
       "        [42.9391]])"
      ]
     },
     "execution_count": 42,
     "metadata": {},
     "output_type": "execute_result"
    }
   ],
   "source": [
    "edge_attr"
   ]
  },
  {
   "cell_type": "markdown",
   "id": "bc442d44-235d-4424-84e5-a051fc9bfc42",
   "metadata": {},
   "source": [
    "## **Target Labels**"
   ]
  },
  {
   "cell_type": "code",
   "execution_count": 43,
   "id": "cb2d302c-d47e-4213-8696-86b5b2cf333a",
   "metadata": {},
   "outputs": [],
   "source": [
    "# Ensure data type compatibility\n",
    "labels_df['hb_solar_radiation'] = labels_df['hb_solar_radiation'].astype(float)"
   ]
  },
  {
   "cell_type": "code",
   "execution_count": 44,
   "id": "9f496e81-8c1f-436e-b5c4-cdbaf06dd4f0",
   "metadata": {},
   "outputs": [],
   "source": [
    "# Update labels for sensors with their radiation values\n",
    "labels_df['index'] = labels_df['sensor_id'].map(sensor_to_index)"
   ]
  },
  {
   "cell_type": "code",
   "execution_count": 46,
   "id": "e1ef8b79-c059-40d0-b30e-96b5513446c1",
   "metadata": {},
   "outputs": [],
   "source": [
    "# Create torch tensor with compatible data type\n",
    "labels = torch.zeros(len(labels_df), dtype=torch.float)\n",
    "labels[labels_df['index']] = torch.tensor(labels_df['hb_solar_radiation'].values, dtype=torch.float)"
   ]
  },
  {
   "cell_type": "markdown",
   "id": "3cfa0599-0e7c-460f-b1b4-d3804a421c05",
   "metadata": {},
   "source": [
    "## **Create a PyTorch Geometric Data Object**"
   ]
  },
  {
   "cell_type": "code",
   "execution_count": 47,
   "id": "d1b7064d-7c32-419e-922c-5c899c315db9",
   "metadata": {},
   "outputs": [],
   "source": [
    "data = Data(x=x, edge_index=edge_index, edge_attr=edge_attr, y=labels)"
   ]
  },
  {
   "cell_type": "code",
   "execution_count": 48,
   "id": "e2c3fab2-93f9-411f-8214-732427d708ee",
   "metadata": {},
   "outputs": [
    {
     "name": "stdout",
     "output_type": "stream",
     "text": [
      "Data Object:\n",
      "Data(x=[713, 4], edge_index=[2, 117780], edge_attr=[117780, 1], y=[453])\n"
     ]
    }
   ],
   "source": [
    "# Print check for the Data object\n",
    "print(\"Data Object:\")\n",
    "print(data)"
   ]
  },
  {
   "cell_type": "code",
   "execution_count": null,
   "id": "b13bf18a-8f85-4ce1-9e51-e9f476f16138",
   "metadata": {},
   "outputs": [],
   "source": []
  }
 ],
 "metadata": {
  "kernelspec": {
   "display_name": "Python 3 (ipykernel)",
   "language": "python",
   "name": "python3"
  },
  "language_info": {
   "codemirror_mode": {
    "name": "ipython",
    "version": 3
   },
   "file_extension": ".py",
   "mimetype": "text/x-python",
   "name": "python",
   "nbconvert_exporter": "python",
   "pygments_lexer": "ipython3",
   "version": "3.10.6"
  }
 },
 "nbformat": 4,
 "nbformat_minor": 5
}
