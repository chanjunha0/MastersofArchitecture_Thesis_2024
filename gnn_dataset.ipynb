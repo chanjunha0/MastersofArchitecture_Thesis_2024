{
 "cells": [
  {
   "cell_type": "markdown",
   "id": "db35fde5-535f-48b9-9e12-564bea8bedba",
   "metadata": {},
   "source": [
    "## **README**"
   ]
  },
  {
   "cell_type": "markdown",
   "id": "98fc8331-e414-4430-820f-e7a294275533",
   "metadata": {},
   "source": [
    "This notebook takes in training/prediction csv data from the rhino-grasshopper simulation, processes it, and outputs a Pytorch graph data object."
   ]
  },
  {
   "cell_type": "markdown",
   "id": "8e43a466-4d3c-49e3-9e19-1a77b8da89ce",
   "metadata": {},
   "source": [
    "## **Import Libraries**"
   ]
  },
  {
   "cell_type": "code",
   "execution_count": 1,
   "id": "14692659-1b83-4390-9a35-be265d139600",
   "metadata": {},
   "outputs": [
    {
     "name": "stdout",
     "output_type": "stream",
     "text": [
      "loaded\n"
     ]
    }
   ],
   "source": [
    "# import libraries\n",
    "import pandas as pd\n",
    "import torch                                 # pytorch\n",
    "from torch_geometric.data import Data        # to work with graph data\n",
    "import datetime\n",
    "\n",
    "print('loaded')"
   ]
  },
  {
   "cell_type": "markdown",
   "id": "fc0d8c74-f71c-4edb-b5ee-9cfb6fc994fe",
   "metadata": {},
   "source": [
    "## **Set File Path**"
   ]
  },
  {
   "cell_type": "code",
   "execution_count": 2,
   "id": "075e3a51-8643-4dc7-bc4c-3031abcb960b",
   "metadata": {},
   "outputs": [
    {
     "name": "stdout",
     "output_type": "stream",
     "text": [
      "loaded\n"
     ]
    }
   ],
   "source": [
    "# Input file path here\n",
    "run_num = 'run_3'\n",
    "file_path = rf'data\\csv_training\\{run_num}'\n",
    "\n",
    "print('loaded')"
   ]
  },
  {
   "cell_type": "markdown",
   "id": "2bb0312f-a68a-4e7e-b9bc-593d5d17822d",
   "metadata": {},
   "source": [
    "## **Import Dataset**"
   ]
  },
  {
   "cell_type": "code",
   "execution_count": 3,
   "id": "db79c238-a15a-43b6-a1c3-9b1a4d79d2c9",
   "metadata": {},
   "outputs": [
    {
     "name": "stdout",
     "output_type": "stream",
     "text": [
      "imported\n"
     ]
    }
   ],
   "source": [
    "# import csv \n",
    "sensor_df = pd.read_csv(f'{file_path}\\\\sensor.csv', header=None)\n",
    "building_df= pd.read_csv(f'{file_path}\\\\building.csv', header = None)\n",
    "label_df= pd.read_csv(f'{file_path}\\\\label.csv', header = None)\n",
    "distance_df = pd.read_csv(f'{file_path}\\\\distance.csv', header= None)\n",
    "sensor_length_df = pd.read_csv(f'{file_path}\\\\sensor_length.csv', header = None)\n",
    "vertex_length_df = pd.read_csv(f'{file_path}\\\\vertex_length.csv', header = None)\n",
    "\n",
    "print('imported')"
   ]
  },
  {
   "cell_type": "code",
   "execution_count": 4,
   "id": "8e78bc37-126b-4e44-8669-6305d1507065",
   "metadata": {},
   "outputs": [
    {
     "data": {
      "text/html": [
       "<div>\n",
       "<style scoped>\n",
       "    .dataframe tbody tr th:only-of-type {\n",
       "        vertical-align: middle;\n",
       "    }\n",
       "\n",
       "    .dataframe tbody tr th {\n",
       "        vertical-align: top;\n",
       "    }\n",
       "\n",
       "    .dataframe thead th {\n",
       "        text-align: right;\n",
       "    }\n",
       "</style>\n",
       "<table border=\"1\" class=\"dataframe\">\n",
       "  <thead>\n",
       "    <tr style=\"text-align: right;\">\n",
       "      <th></th>\n",
       "      <th>0</th>\n",
       "      <th>1</th>\n",
       "      <th>2</th>\n",
       "    </tr>\n",
       "  </thead>\n",
       "  <tbody>\n",
       "    <tr>\n",
       "      <th>0</th>\n",
       "      <td>477.06308</td>\n",
       "      <td>461.141174</td>\n",
       "      <td>5.142857</td>\n",
       "    </tr>\n",
       "    <tr>\n",
       "      <th>1</th>\n",
       "      <td>477.06308</td>\n",
       "      <td>461.141174</td>\n",
       "      <td>15.428571</td>\n",
       "    </tr>\n",
       "    <tr>\n",
       "      <th>2</th>\n",
       "      <td>477.06308</td>\n",
       "      <td>461.141174</td>\n",
       "      <td>25.714286</td>\n",
       "    </tr>\n",
       "    <tr>\n",
       "      <th>3</th>\n",
       "      <td>477.06308</td>\n",
       "      <td>461.141174</td>\n",
       "      <td>36.000000</td>\n",
       "    </tr>\n",
       "    <tr>\n",
       "      <th>4</th>\n",
       "      <td>477.06308</td>\n",
       "      <td>461.141174</td>\n",
       "      <td>46.285713</td>\n",
       "    </tr>\n",
       "    <tr>\n",
       "      <th>...</th>\n",
       "      <td>...</td>\n",
       "      <td>...</td>\n",
       "      <td>...</td>\n",
       "    </tr>\n",
       "    <tr>\n",
       "      <th>587</th>\n",
       "      <td>483.29660</td>\n",
       "      <td>465.890640</td>\n",
       "      <td>97.714283</td>\n",
       "    </tr>\n",
       "    <tr>\n",
       "      <th>588</th>\n",
       "      <td>483.29660</td>\n",
       "      <td>465.890640</td>\n",
       "      <td>108.000000</td>\n",
       "    </tr>\n",
       "    <tr>\n",
       "      <th>589</th>\n",
       "      <td>483.29660</td>\n",
       "      <td>465.890640</td>\n",
       "      <td>118.285717</td>\n",
       "    </tr>\n",
       "    <tr>\n",
       "      <th>590</th>\n",
       "      <td>483.29660</td>\n",
       "      <td>465.890640</td>\n",
       "      <td>128.571426</td>\n",
       "    </tr>\n",
       "    <tr>\n",
       "      <th>591</th>\n",
       "      <td>483.29660</td>\n",
       "      <td>465.890640</td>\n",
       "      <td>138.857140</td>\n",
       "    </tr>\n",
       "  </tbody>\n",
       "</table>\n",
       "<p>592 rows × 3 columns</p>\n",
       "</div>"
      ],
      "text/plain": [
       "             0           1           2\n",
       "0    477.06308  461.141174    5.142857\n",
       "1    477.06308  461.141174   15.428571\n",
       "2    477.06308  461.141174   25.714286\n",
       "3    477.06308  461.141174   36.000000\n",
       "4    477.06308  461.141174   46.285713\n",
       "..         ...         ...         ...\n",
       "587  483.29660  465.890640   97.714283\n",
       "588  483.29660  465.890640  108.000000\n",
       "589  483.29660  465.890640  118.285717\n",
       "590  483.29660  465.890640  128.571426\n",
       "591  483.29660  465.890640  138.857140\n",
       "\n",
       "[592 rows x 3 columns]"
      ]
     },
     "execution_count": 4,
     "metadata": {},
     "output_type": "execute_result"
    }
   ],
   "source": [
    "sensor_df"
   ]
  },
  {
   "cell_type": "code",
   "execution_count": 5,
   "id": "3f944dfa-7475-49e1-9687-c4940096fcdf",
   "metadata": {},
   "outputs": [
    {
     "data": {
      "text/html": [
       "<div>\n",
       "<style scoped>\n",
       "    .dataframe tbody tr th:only-of-type {\n",
       "        vertical-align: middle;\n",
       "    }\n",
       "\n",
       "    .dataframe tbody tr th {\n",
       "        vertical-align: top;\n",
       "    }\n",
       "\n",
       "    .dataframe thead th {\n",
       "        text-align: right;\n",
       "    }\n",
       "</style>\n",
       "<table border=\"1\" class=\"dataframe\">\n",
       "  <thead>\n",
       "    <tr style=\"text-align: right;\">\n",
       "      <th></th>\n",
       "      <th>0</th>\n",
       "      <th>1</th>\n",
       "      <th>2</th>\n",
       "    </tr>\n",
       "  </thead>\n",
       "  <tbody>\n",
       "    <tr>\n",
       "      <th>0</th>\n",
       "      <td>461.530842</td>\n",
       "      <td>526.137223</td>\n",
       "      <td>0</td>\n",
       "    </tr>\n",
       "    <tr>\n",
       "      <th>1</th>\n",
       "      <td>461.483806</td>\n",
       "      <td>525.266190</td>\n",
       "      <td>0</td>\n",
       "    </tr>\n",
       "    <tr>\n",
       "      <th>2</th>\n",
       "      <td>461.483806</td>\n",
       "      <td>525.266190</td>\n",
       "      <td>144</td>\n",
       "    </tr>\n",
       "    <tr>\n",
       "      <th>3</th>\n",
       "      <td>461.530842</td>\n",
       "      <td>526.137223</td>\n",
       "      <td>144</td>\n",
       "    </tr>\n",
       "    <tr>\n",
       "      <th>4</th>\n",
       "      <td>467.275519</td>\n",
       "      <td>525.031849</td>\n",
       "      <td>0</td>\n",
       "    </tr>\n",
       "    <tr>\n",
       "      <th>...</th>\n",
       "      <td>...</td>\n",
       "      <td>...</td>\n",
       "      <td>...</td>\n",
       "    </tr>\n",
       "    <tr>\n",
       "      <th>299</th>\n",
       "      <td>461.090481</td>\n",
       "      <td>441.052050</td>\n",
       "      <td>81</td>\n",
       "    </tr>\n",
       "    <tr>\n",
       "      <th>300</th>\n",
       "      <td>458.656271</td>\n",
       "      <td>441.127307</td>\n",
       "      <td>0</td>\n",
       "    </tr>\n",
       "    <tr>\n",
       "      <th>301</th>\n",
       "      <td>458.656271</td>\n",
       "      <td>441.127307</td>\n",
       "      <td>81</td>\n",
       "    </tr>\n",
       "    <tr>\n",
       "      <th>302</th>\n",
       "      <td>458.438724</td>\n",
       "      <td>434.557430</td>\n",
       "      <td>0</td>\n",
       "    </tr>\n",
       "    <tr>\n",
       "      <th>303</th>\n",
       "      <td>458.438724</td>\n",
       "      <td>434.557430</td>\n",
       "      <td>81</td>\n",
       "    </tr>\n",
       "  </tbody>\n",
       "</table>\n",
       "<p>304 rows × 3 columns</p>\n",
       "</div>"
      ],
      "text/plain": [
       "              0           1    2\n",
       "0    461.530842  526.137223    0\n",
       "1    461.483806  525.266190    0\n",
       "2    461.483806  525.266190  144\n",
       "3    461.530842  526.137223  144\n",
       "4    467.275519  525.031849    0\n",
       "..          ...         ...  ...\n",
       "299  461.090481  441.052050   81\n",
       "300  458.656271  441.127307    0\n",
       "301  458.656271  441.127307   81\n",
       "302  458.438724  434.557430    0\n",
       "303  458.438724  434.557430   81\n",
       "\n",
       "[304 rows x 3 columns]"
      ]
     },
     "execution_count": 5,
     "metadata": {},
     "output_type": "execute_result"
    }
   ],
   "source": [
    "building_df"
   ]
  },
  {
   "cell_type": "code",
   "execution_count": 6,
   "id": "201fcb91-7d76-43cd-b91b-03fb19179020",
   "metadata": {},
   "outputs": [
    {
     "data": {
      "text/html": [
       "<div>\n",
       "<style scoped>\n",
       "    .dataframe tbody tr th:only-of-type {\n",
       "        vertical-align: middle;\n",
       "    }\n",
       "\n",
       "    .dataframe tbody tr th {\n",
       "        vertical-align: top;\n",
       "    }\n",
       "\n",
       "    .dataframe thead th {\n",
       "        text-align: right;\n",
       "    }\n",
       "</style>\n",
       "<table border=\"1\" class=\"dataframe\">\n",
       "  <thead>\n",
       "    <tr style=\"text-align: right;\">\n",
       "      <th></th>\n",
       "      <th>0</th>\n",
       "    </tr>\n",
       "  </thead>\n",
       "  <tbody>\n",
       "    <tr>\n",
       "      <th>0</th>\n",
       "      <td>596.414648</td>\n",
       "    </tr>\n",
       "    <tr>\n",
       "      <th>1</th>\n",
       "      <td>592.142129</td>\n",
       "    </tr>\n",
       "    <tr>\n",
       "      <th>2</th>\n",
       "      <td>594.472556</td>\n",
       "    </tr>\n",
       "    <tr>\n",
       "      <th>3</th>\n",
       "      <td>588.271100</td>\n",
       "    </tr>\n",
       "    <tr>\n",
       "      <th>4</th>\n",
       "      <td>597.765451</td>\n",
       "    </tr>\n",
       "    <tr>\n",
       "      <th>...</th>\n",
       "      <td>...</td>\n",
       "    </tr>\n",
       "    <tr>\n",
       "      <th>587</th>\n",
       "      <td>75.272699</td>\n",
       "    </tr>\n",
       "    <tr>\n",
       "      <th>588</th>\n",
       "      <td>75.938974</td>\n",
       "    </tr>\n",
       "    <tr>\n",
       "      <th>589</th>\n",
       "      <td>77.658386</td>\n",
       "    </tr>\n",
       "    <tr>\n",
       "      <th>590</th>\n",
       "      <td>84.252479</td>\n",
       "    </tr>\n",
       "    <tr>\n",
       "      <th>591</th>\n",
       "      <td>183.565494</td>\n",
       "    </tr>\n",
       "  </tbody>\n",
       "</table>\n",
       "<p>592 rows × 1 columns</p>\n",
       "</div>"
      ],
      "text/plain": [
       "              0\n",
       "0    596.414648\n",
       "1    592.142129\n",
       "2    594.472556\n",
       "3    588.271100\n",
       "4    597.765451\n",
       "..          ...\n",
       "587   75.272699\n",
       "588   75.938974\n",
       "589   77.658386\n",
       "590   84.252479\n",
       "591  183.565494\n",
       "\n",
       "[592 rows x 1 columns]"
      ]
     },
     "execution_count": 6,
     "metadata": {},
     "output_type": "execute_result"
    }
   ],
   "source": [
    "label_df"
   ]
  },
  {
   "cell_type": "code",
   "execution_count": 7,
   "id": "9aeff2c5-8b87-46e1-b5c0-bd0a9215e240",
   "metadata": {},
   "outputs": [
    {
     "data": {
      "text/html": [
       "<div>\n",
       "<style scoped>\n",
       "    .dataframe tbody tr th:only-of-type {\n",
       "        vertical-align: middle;\n",
       "    }\n",
       "\n",
       "    .dataframe tbody tr th {\n",
       "        vertical-align: top;\n",
       "    }\n",
       "\n",
       "    .dataframe thead th {\n",
       "        text-align: right;\n",
       "    }\n",
       "</style>\n",
       "<table border=\"1\" class=\"dataframe\">\n",
       "  <thead>\n",
       "    <tr style=\"text-align: right;\">\n",
       "      <th></th>\n",
       "      <th>0</th>\n",
       "    </tr>\n",
       "  </thead>\n",
       "  <tbody>\n",
       "    <tr>\n",
       "      <th>0</th>\n",
       "      <td>67.023770</td>\n",
       "    </tr>\n",
       "    <tr>\n",
       "      <th>1</th>\n",
       "      <td>66.190485</td>\n",
       "    </tr>\n",
       "    <tr>\n",
       "      <th>2</th>\n",
       "      <td>153.740162</td>\n",
       "    </tr>\n",
       "    <tr>\n",
       "      <th>3</th>\n",
       "      <td>154.100756</td>\n",
       "    </tr>\n",
       "    <tr>\n",
       "      <th>4</th>\n",
       "      <td>64.840293</td>\n",
       "    </tr>\n",
       "    <tr>\n",
       "      <th>...</th>\n",
       "      <td>...</td>\n",
       "    </tr>\n",
       "    <tr>\n",
       "      <th>179963</th>\n",
       "      <td>66.764631</td>\n",
       "    </tr>\n",
       "    <tr>\n",
       "      <th>179964</th>\n",
       "      <td>143.184055</td>\n",
       "    </tr>\n",
       "    <tr>\n",
       "      <th>179965</th>\n",
       "      <td>67.585628</td>\n",
       "    </tr>\n",
       "    <tr>\n",
       "      <th>179966</th>\n",
       "      <td>144.502558</td>\n",
       "    </tr>\n",
       "    <tr>\n",
       "      <th>179967</th>\n",
       "      <td>70.335856</td>\n",
       "    </tr>\n",
       "  </tbody>\n",
       "</table>\n",
       "<p>179968 rows × 1 columns</p>\n",
       "</div>"
      ],
      "text/plain": [
       "                 0\n",
       "0        67.023770\n",
       "1        66.190485\n",
       "2       153.740162\n",
       "3       154.100756\n",
       "4        64.840293\n",
       "...            ...\n",
       "179963   66.764631\n",
       "179964  143.184055\n",
       "179965   67.585628\n",
       "179966  144.502558\n",
       "179967   70.335856\n",
       "\n",
       "[179968 rows x 1 columns]"
      ]
     },
     "execution_count": 7,
     "metadata": {},
     "output_type": "execute_result"
    }
   ],
   "source": [
    "distance_df"
   ]
  },
  {
   "cell_type": "code",
   "execution_count": 8,
   "id": "be47a189-bf60-4a65-ba26-fa17ec622e7b",
   "metadata": {},
   "outputs": [
    {
     "data": {
      "text/html": [
       "<div>\n",
       "<style scoped>\n",
       "    .dataframe tbody tr th:only-of-type {\n",
       "        vertical-align: middle;\n",
       "    }\n",
       "\n",
       "    .dataframe tbody tr th {\n",
       "        vertical-align: top;\n",
       "    }\n",
       "\n",
       "    .dataframe thead th {\n",
       "        text-align: right;\n",
       "    }\n",
       "</style>\n",
       "<table border=\"1\" class=\"dataframe\">\n",
       "  <thead>\n",
       "    <tr style=\"text-align: right;\">\n",
       "      <th></th>\n",
       "      <th>0</th>\n",
       "    </tr>\n",
       "  </thead>\n",
       "  <tbody>\n",
       "    <tr>\n",
       "      <th>0</th>\n",
       "      <td>592</td>\n",
       "    </tr>\n",
       "  </tbody>\n",
       "</table>\n",
       "</div>"
      ],
      "text/plain": [
       "     0\n",
       "0  592"
      ]
     },
     "execution_count": 8,
     "metadata": {},
     "output_type": "execute_result"
    }
   ],
   "source": [
    "sensor_length_df"
   ]
  },
  {
   "cell_type": "code",
   "execution_count": 9,
   "id": "437f0c3d-7e4b-4bfa-bcfa-4cd268442989",
   "metadata": {},
   "outputs": [
    {
     "data": {
      "text/html": [
       "<div>\n",
       "<style scoped>\n",
       "    .dataframe tbody tr th:only-of-type {\n",
       "        vertical-align: middle;\n",
       "    }\n",
       "\n",
       "    .dataframe tbody tr th {\n",
       "        vertical-align: top;\n",
       "    }\n",
       "\n",
       "    .dataframe thead th {\n",
       "        text-align: right;\n",
       "    }\n",
       "</style>\n",
       "<table border=\"1\" class=\"dataframe\">\n",
       "  <thead>\n",
       "    <tr style=\"text-align: right;\">\n",
       "      <th></th>\n",
       "      <th>0</th>\n",
       "    </tr>\n",
       "  </thead>\n",
       "  <tbody>\n",
       "    <tr>\n",
       "      <th>0</th>\n",
       "      <td>304</td>\n",
       "    </tr>\n",
       "  </tbody>\n",
       "</table>\n",
       "</div>"
      ],
      "text/plain": [
       "     0\n",
       "0  304"
      ]
     },
     "execution_count": 9,
     "metadata": {},
     "output_type": "execute_result"
    }
   ],
   "source": [
    "vertex_length_df"
   ]
  },
  {
   "cell_type": "markdown",
   "id": "1d5f8191-605f-481a-9a04-ae639195c3bd",
   "metadata": {},
   "source": [
    "## **Prepare Dataset - edge.df**"
   ]
  },
  {
   "cell_type": "code",
   "execution_count": 10,
   "id": "245439ae-f968-4c0a-a4ff-fc6adfa4c66a",
   "metadata": {},
   "outputs": [
    {
     "name": "stdout",
     "output_type": "stream",
     "text": [
      "592\n",
      "<class 'int'>\n",
      "304\n",
      "<class 'int'>\n"
     ]
    }
   ],
   "source": [
    "#extract out the length values and convert to numerical from both dataframes\n",
    "\n",
    "sensor_length = int(sensor_length_df.iloc[0,0])\n",
    "print(sensor_length)\n",
    "print(type(sensor_length))\n",
    "\n",
    "vertex_length = int(vertex_length_df.iloc[0,0])\n",
    "print(vertex_length)\n",
    "print(type(vertex_length))"
   ]
  },
  {
   "cell_type": "code",
   "execution_count": 11,
   "id": "fb0e2543-faf3-4abc-a7e1-b073d93b256f",
   "metadata": {},
   "outputs": [],
   "source": [
    "# Function to map sensor id onto vertex id for distance df\n",
    "\n",
    "def create_temp_df(n, m):\n",
    "    # n is the number of sensors, m is the number of vertices\n",
    "    data = []  # List to hold the data\n",
    "    for sensor_length in range(1, n+1):  # Iterate through each sensor\n",
    "        for vertex_length in range(1, m + 1):  # Iterate through each vertex for the sensor\n",
    "            # Append a tuple with the sensor ID and vertex ID to the list\n",
    "            data.append((f'sensor_id_{sensor_length}', f'vertex_{vertex_length}'))\n",
    "    \n",
    "    # Create DataFrame from the data list\n",
    "    temp_df = pd.DataFrame(data, columns=['sensor_id', 'vertex_id'])\n",
    "    \n",
    "    return temp_df"
   ]
  },
  {
   "cell_type": "code",
   "execution_count": 12,
   "id": "46eb90e4-cf1b-44c1-b5a7-2e8a5f01b51b",
   "metadata": {},
   "outputs": [
    {
     "data": {
      "text/html": [
       "<div>\n",
       "<style scoped>\n",
       "    .dataframe tbody tr th:only-of-type {\n",
       "        vertical-align: middle;\n",
       "    }\n",
       "\n",
       "    .dataframe tbody tr th {\n",
       "        vertical-align: top;\n",
       "    }\n",
       "\n",
       "    .dataframe thead th {\n",
       "        text-align: right;\n",
       "    }\n",
       "</style>\n",
       "<table border=\"1\" class=\"dataframe\">\n",
       "  <thead>\n",
       "    <tr style=\"text-align: right;\">\n",
       "      <th></th>\n",
       "      <th>sensor_id</th>\n",
       "      <th>vertex_id</th>\n",
       "    </tr>\n",
       "  </thead>\n",
       "  <tbody>\n",
       "    <tr>\n",
       "      <th>0</th>\n",
       "      <td>sensor_id_1</td>\n",
       "      <td>vertex_1</td>\n",
       "    </tr>\n",
       "    <tr>\n",
       "      <th>1</th>\n",
       "      <td>sensor_id_1</td>\n",
       "      <td>vertex_2</td>\n",
       "    </tr>\n",
       "    <tr>\n",
       "      <th>2</th>\n",
       "      <td>sensor_id_1</td>\n",
       "      <td>vertex_3</td>\n",
       "    </tr>\n",
       "    <tr>\n",
       "      <th>3</th>\n",
       "      <td>sensor_id_1</td>\n",
       "      <td>vertex_4</td>\n",
       "    </tr>\n",
       "    <tr>\n",
       "      <th>4</th>\n",
       "      <td>sensor_id_1</td>\n",
       "      <td>vertex_5</td>\n",
       "    </tr>\n",
       "    <tr>\n",
       "      <th>...</th>\n",
       "      <td>...</td>\n",
       "      <td>...</td>\n",
       "    </tr>\n",
       "    <tr>\n",
       "      <th>179963</th>\n",
       "      <td>sensor_id_592</td>\n",
       "      <td>vertex_300</td>\n",
       "    </tr>\n",
       "    <tr>\n",
       "      <th>179964</th>\n",
       "      <td>sensor_id_592</td>\n",
       "      <td>vertex_301</td>\n",
       "    </tr>\n",
       "    <tr>\n",
       "      <th>179965</th>\n",
       "      <td>sensor_id_592</td>\n",
       "      <td>vertex_302</td>\n",
       "    </tr>\n",
       "    <tr>\n",
       "      <th>179966</th>\n",
       "      <td>sensor_id_592</td>\n",
       "      <td>vertex_303</td>\n",
       "    </tr>\n",
       "    <tr>\n",
       "      <th>179967</th>\n",
       "      <td>sensor_id_592</td>\n",
       "      <td>vertex_304</td>\n",
       "    </tr>\n",
       "  </tbody>\n",
       "</table>\n",
       "<p>179968 rows × 2 columns</p>\n",
       "</div>"
      ],
      "text/plain": [
       "            sensor_id   vertex_id\n",
       "0         sensor_id_1    vertex_1\n",
       "1         sensor_id_1    vertex_2\n",
       "2         sensor_id_1    vertex_3\n",
       "3         sensor_id_1    vertex_4\n",
       "4         sensor_id_1    vertex_5\n",
       "...               ...         ...\n",
       "179963  sensor_id_592  vertex_300\n",
       "179964  sensor_id_592  vertex_301\n",
       "179965  sensor_id_592  vertex_302\n",
       "179966  sensor_id_592  vertex_303\n",
       "179967  sensor_id_592  vertex_304\n",
       "\n",
       "[179968 rows x 2 columns]"
      ]
     },
     "execution_count": 12,
     "metadata": {},
     "output_type": "execute_result"
    }
   ],
   "source": [
    "# Call function to create sensor id and vertex id dataframe\n",
    "\n",
    "temp_df = create_temp_df(sensor_length, vertex_length)\n",
    "temp_df"
   ]
  },
  {
   "cell_type": "code",
   "execution_count": 13,
   "id": "857adf7d-5a4c-4708-86b9-b4d6121d8e72",
   "metadata": {},
   "outputs": [],
   "source": [
    "# Add new column containing the distance values\n",
    "\n",
    "temp_df['distance'] = distance_df[0]\n",
    "edge_df = temp_df"
   ]
  },
  {
   "cell_type": "code",
   "execution_count": 14,
   "id": "6f3a7307-9c22-4af8-9b30-4ef9aa80fee0",
   "metadata": {},
   "outputs": [
    {
     "data": {
      "text/html": [
       "<div>\n",
       "<style scoped>\n",
       "    .dataframe tbody tr th:only-of-type {\n",
       "        vertical-align: middle;\n",
       "    }\n",
       "\n",
       "    .dataframe tbody tr th {\n",
       "        vertical-align: top;\n",
       "    }\n",
       "\n",
       "    .dataframe thead th {\n",
       "        text-align: right;\n",
       "    }\n",
       "</style>\n",
       "<table border=\"1\" class=\"dataframe\">\n",
       "  <thead>\n",
       "    <tr style=\"text-align: right;\">\n",
       "      <th></th>\n",
       "      <th>sensor_id</th>\n",
       "      <th>vertex_id</th>\n",
       "      <th>distance</th>\n",
       "    </tr>\n",
       "  </thead>\n",
       "  <tbody>\n",
       "    <tr>\n",
       "      <th>0</th>\n",
       "      <td>sensor_id_1</td>\n",
       "      <td>vertex_1</td>\n",
       "      <td>67.023770</td>\n",
       "    </tr>\n",
       "    <tr>\n",
       "      <th>1</th>\n",
       "      <td>sensor_id_1</td>\n",
       "      <td>vertex_2</td>\n",
       "      <td>66.190485</td>\n",
       "    </tr>\n",
       "    <tr>\n",
       "      <th>2</th>\n",
       "      <td>sensor_id_1</td>\n",
       "      <td>vertex_3</td>\n",
       "      <td>153.740162</td>\n",
       "    </tr>\n",
       "    <tr>\n",
       "      <th>3</th>\n",
       "      <td>sensor_id_1</td>\n",
       "      <td>vertex_4</td>\n",
       "      <td>154.100756</td>\n",
       "    </tr>\n",
       "    <tr>\n",
       "      <th>4</th>\n",
       "      <td>sensor_id_1</td>\n",
       "      <td>vertex_5</td>\n",
       "      <td>64.840293</td>\n",
       "    </tr>\n",
       "    <tr>\n",
       "      <th>...</th>\n",
       "      <td>...</td>\n",
       "      <td>...</td>\n",
       "      <td>...</td>\n",
       "    </tr>\n",
       "    <tr>\n",
       "      <th>179963</th>\n",
       "      <td>sensor_id_592</td>\n",
       "      <td>vertex_300</td>\n",
       "      <td>66.764631</td>\n",
       "    </tr>\n",
       "    <tr>\n",
       "      <th>179964</th>\n",
       "      <td>sensor_id_592</td>\n",
       "      <td>vertex_301</td>\n",
       "      <td>143.184055</td>\n",
       "    </tr>\n",
       "    <tr>\n",
       "      <th>179965</th>\n",
       "      <td>sensor_id_592</td>\n",
       "      <td>vertex_302</td>\n",
       "      <td>67.585628</td>\n",
       "    </tr>\n",
       "    <tr>\n",
       "      <th>179966</th>\n",
       "      <td>sensor_id_592</td>\n",
       "      <td>vertex_303</td>\n",
       "      <td>144.502558</td>\n",
       "    </tr>\n",
       "    <tr>\n",
       "      <th>179967</th>\n",
       "      <td>sensor_id_592</td>\n",
       "      <td>vertex_304</td>\n",
       "      <td>70.335856</td>\n",
       "    </tr>\n",
       "  </tbody>\n",
       "</table>\n",
       "<p>179968 rows × 3 columns</p>\n",
       "</div>"
      ],
      "text/plain": [
       "            sensor_id   vertex_id    distance\n",
       "0         sensor_id_1    vertex_1   67.023770\n",
       "1         sensor_id_1    vertex_2   66.190485\n",
       "2         sensor_id_1    vertex_3  153.740162\n",
       "3         sensor_id_1    vertex_4  154.100756\n",
       "4         sensor_id_1    vertex_5   64.840293\n",
       "...               ...         ...         ...\n",
       "179963  sensor_id_592  vertex_300   66.764631\n",
       "179964  sensor_id_592  vertex_301  143.184055\n",
       "179965  sensor_id_592  vertex_302   67.585628\n",
       "179966  sensor_id_592  vertex_303  144.502558\n",
       "179967  sensor_id_592  vertex_304   70.335856\n",
       "\n",
       "[179968 rows x 3 columns]"
      ]
     },
     "execution_count": 14,
     "metadata": {},
     "output_type": "execute_result"
    }
   ],
   "source": [
    "# print check\n",
    "edge_df"
   ]
  },
  {
   "cell_type": "markdown",
   "id": "7a24762d-e631-4a92-b628-c7b47dc17f61",
   "metadata": {},
   "source": [
    "## **Prepare Dataset - Null Check**"
   ]
  },
  {
   "cell_type": "code",
   "execution_count": 15,
   "id": "dc6aec4b-2668-4257-8a09-ad2840a8ff0f",
   "metadata": {},
   "outputs": [],
   "source": [
    "# function for null values check\n",
    "\n",
    "def null_check(df):\n",
    "    for column in df.columns:\n",
    "        null_count = df[column].isnull().sum()\n",
    "        if null_count > 0: \n",
    "            print('_'*20)\n",
    "            print(f'{column}')\n",
    "            print('_'*20)\n",
    "            print(f'Null count: {null_count}')\n",
    "        else:\n",
    "            print('Nil')"
   ]
  },
  {
   "cell_type": "code",
   "execution_count": 16,
   "id": "ee7c971c-6389-4ad4-afdf-5eb50e51f292",
   "metadata": {},
   "outputs": [
    {
     "name": "stdout",
     "output_type": "stream",
     "text": [
      "Nil\n",
      "Nil\n",
      "Nil\n",
      "Nil\n",
      "Nil\n",
      "Nil\n",
      "Nil\n",
      "Nil\n"
     ]
    }
   ],
   "source": [
    "null_check(sensor_df)\n",
    "null_check(building_df)\n",
    "null_check(label_df)\n",
    "null_check(distance_df)"
   ]
  },
  {
   "cell_type": "markdown",
   "id": "23889dab-4dab-458a-ac0d-2cb15a30f164",
   "metadata": {},
   "source": [
    "## **Preprocess Node Index and Naming**"
   ]
  },
  {
   "cell_type": "code",
   "execution_count": 17,
   "id": "98ebe3ac-962c-4938-8703-45c19efb47a2",
   "metadata": {},
   "outputs": [],
   "source": [
    "# Resetting the index so 'sensor_id' is no longer the index column\n",
    "sensor_df.reset_index(drop=True, inplace=True)\n",
    "\n",
    "# Creating a new 'sensor_id' column with formatted values\n",
    "sensor_df['sensor_id'] = ['sensor_id_' + str(i + 1) for i in sensor_df.index]\n",
    "\n",
    "# Insert the 'sensor_id_formatted' column as the first column\n",
    "sensor_df.insert(0, 'sensor_id', sensor_df.pop('sensor_id'))"
   ]
  },
  {
   "cell_type": "code",
   "execution_count": 18,
   "id": "4f06f176-35f1-42f5-a5de-dc755a7d238e",
   "metadata": {},
   "outputs": [],
   "source": [
    "# Resetting the index so 'sensor_id' is no longer the index column\n",
    "building_df.reset_index(drop=True, inplace=True)\n",
    "\n",
    "# Creating a new 'sensor_id' column with formatted values\n",
    "building_df['vertex_id'] = ['vertex_id_' + str(i + 1) for i in building_df.index]\n",
    "\n",
    "# Insert the 'sensor_id_formatted' column as the first column\n",
    "building_df.insert(0, 'vertex_id', building_df.pop('vertex_id'))"
   ]
  },
  {
   "cell_type": "code",
   "execution_count": 19,
   "id": "69e0b650-3937-4f4d-8a25-cab0213fcaad",
   "metadata": {},
   "outputs": [],
   "source": [
    "# Resetting the index so 'sensor_id' is no longer the index column\n",
    "label_df.reset_index(drop=True, inplace=True)\n",
    "\n",
    "# Creating a new 'sensor_id' column with formatted values\n",
    "label_df['sensor_id'] = ['sensor_id_' + str(i + 1) for i in label_df.index]\n",
    "\n",
    "# Insert the 'sensor_id_formatted' column as the first column\n",
    "label_df.insert(0, 'sensor_id', label_df.pop('sensor_id'))"
   ]
  },
  {
   "cell_type": "markdown",
   "id": "4ec54a74-4415-41f0-a39e-d0fa84d45fc3",
   "metadata": {},
   "source": [
    "## **Add Column Headers**"
   ]
  },
  {
   "cell_type": "code",
   "execution_count": 20,
   "id": "98c42708-3725-4f53-9ef7-8b7cbffed5fa",
   "metadata": {},
   "outputs": [],
   "source": [
    "sensor_df.rename(columns={0: 'sensor_x_coordinate', 1: 'sensor_y_coordinate', 2: 'sensor_z_coordinate'}, inplace=True)"
   ]
  },
  {
   "cell_type": "code",
   "execution_count": 21,
   "id": "93231c37-89f3-4db3-917c-9101f409ba27",
   "metadata": {},
   "outputs": [],
   "source": [
    "label_df.columns = ['sensor_id', 'hb_solar_radiation']"
   ]
  },
  {
   "cell_type": "markdown",
   "id": "be2769ae-4067-4b81-99b2-103bc2dd0b65",
   "metadata": {},
   "source": [
    "## **Final Check**"
   ]
  },
  {
   "cell_type": "code",
   "execution_count": 22,
   "id": "feb11520-4bc4-48e4-864b-8bbe2267a841",
   "metadata": {},
   "outputs": [
    {
     "name": "stdout",
     "output_type": "stream",
     "text": [
      "sensor_df\n",
      "     sensor_id  sensor_x_coordinate  sensor_y_coordinate  sensor_z_coordinate\n",
      "0  sensor_id_1            477.06308           461.141174             5.142857\n",
      "1  sensor_id_2            477.06308           461.141174            15.428571\n",
      "2  sensor_id_3            477.06308           461.141174            25.714286\n",
      "3  sensor_id_4            477.06308           461.141174            36.000000\n",
      "4  sensor_id_5            477.06308           461.141174            46.285713\n",
      "building_df\n",
      "     vertex_id           0           1    2\n",
      "0  vertex_id_1  461.530842  526.137223    0\n",
      "1  vertex_id_2  461.483806  525.266190    0\n",
      "2  vertex_id_3  461.483806  525.266190  144\n",
      "3  vertex_id_4  461.530842  526.137223  144\n",
      "4  vertex_id_5  467.275519  525.031849    0\n",
      "label_df\n",
      "     sensor_id  hb_solar_radiation\n",
      "0  sensor_id_1          596.414648\n",
      "1  sensor_id_2          592.142129\n",
      "2  sensor_id_3          594.472556\n",
      "3  sensor_id_4          588.271100\n",
      "4  sensor_id_5          597.765451\n",
      "edge_df\n",
      "     sensor_id vertex_id    distance\n",
      "0  sensor_id_1  vertex_1   67.023770\n",
      "1  sensor_id_1  vertex_2   66.190485\n",
      "2  sensor_id_1  vertex_3  153.740162\n",
      "3  sensor_id_1  vertex_4  154.100756\n",
      "4  sensor_id_1  vertex_5   64.840293\n"
     ]
    }
   ],
   "source": [
    "print('sensor_df')\n",
    "print(sensor_df.head())\n",
    "print('building_df')\n",
    "print(building_df.head())\n",
    "print('label_df')\n",
    "print(label_df.head())\n",
    "print('edge_df')\n",
    "print(edge_df.head())"
   ]
  },
  {
   "cell_type": "markdown",
   "id": "857d5861-6f38-4e83-8307-4ca3f21276c3",
   "metadata": {},
   "source": [
    "## **Overall Graph Object**"
   ]
  },
  {
   "cell_type": "markdown",
   "id": "a52fa14a-ad09-43a5-aa5c-97f5b150b614",
   "metadata": {},
   "source": [
    "- Node Features\n",
    "- Edge Index\n",
    "- Edge Attributes\n",
    "- Combine to form data object"
   ]
  },
  {
   "attachments": {},
   "cell_type": "markdown",
   "id": "ef21fd46-79b5-441f-ab7b-12182fb23db0",
   "metadata": {},
   "source": [
    "## **Prepare Node Features**"
   ]
  },
  {
   "cell_type": "markdown",
   "id": "155f9316-c11f-4392-8b6e-2fabe38ffbbc",
   "metadata": {},
   "source": [
    "Combine sensor and building information to create a unified node feature matrix. "
   ]
  },
  {
   "cell_type": "markdown",
   "id": "c35e1202-2503-446b-ab65-1e3c889fc3b4",
   "metadata": {},
   "source": [
    "Combine sensor_df and building_df into a single dataframe, ensuring each has a unique identifier across sensors and vertices"
   ]
  },
  {
   "cell_type": "code",
   "execution_count": 23,
   "id": "70667176-f1ae-4007-89f1-f80078fa575f",
   "metadata": {},
   "outputs": [],
   "source": [
    "# Add a column to distinguish between sensors and vertices\n",
    "sensor_df['type'] = 'sensor'\n",
    "building_df['type'] = 'vertex'"
   ]
  },
  {
   "cell_type": "code",
   "execution_count": 24,
   "id": "258302b5-a7b9-4900-956a-93c9d2a1cf0f",
   "metadata": {},
   "outputs": [],
   "source": [
    "# Combine dataframes\n",
    "all_nodes_df = pd.concat([sensor_df.assign(index=range(0, len(sensor_df))),\n",
    "                          building_df.assign(index=range(len(sensor_df), len(sensor_df)+len(building_df)))])"
   ]
  },
  {
   "cell_type": "code",
   "execution_count": 25,
   "id": "6732851b-bd2d-4b6c-b363-5baa594c87f6",
   "metadata": {},
   "outputs": [
    {
     "data": {
      "text/html": [
       "<div>\n",
       "<style scoped>\n",
       "    .dataframe tbody tr th:only-of-type {\n",
       "        vertical-align: middle;\n",
       "    }\n",
       "\n",
       "    .dataframe tbody tr th {\n",
       "        vertical-align: top;\n",
       "    }\n",
       "\n",
       "    .dataframe thead th {\n",
       "        text-align: right;\n",
       "    }\n",
       "</style>\n",
       "<table border=\"1\" class=\"dataframe\">\n",
       "  <thead>\n",
       "    <tr style=\"text-align: right;\">\n",
       "      <th></th>\n",
       "      <th>sensor_id</th>\n",
       "      <th>sensor_x_coordinate</th>\n",
       "      <th>sensor_y_coordinate</th>\n",
       "      <th>sensor_z_coordinate</th>\n",
       "      <th>type</th>\n",
       "      <th>index</th>\n",
       "      <th>vertex_id</th>\n",
       "      <th>0</th>\n",
       "      <th>1</th>\n",
       "      <th>2</th>\n",
       "    </tr>\n",
       "  </thead>\n",
       "  <tbody>\n",
       "    <tr>\n",
       "      <th>0</th>\n",
       "      <td>sensor_id_1</td>\n",
       "      <td>477.06308</td>\n",
       "      <td>461.141174</td>\n",
       "      <td>5.142857</td>\n",
       "      <td>sensor</td>\n",
       "      <td>0</td>\n",
       "      <td>NaN</td>\n",
       "      <td>NaN</td>\n",
       "      <td>NaN</td>\n",
       "      <td>NaN</td>\n",
       "    </tr>\n",
       "    <tr>\n",
       "      <th>1</th>\n",
       "      <td>sensor_id_2</td>\n",
       "      <td>477.06308</td>\n",
       "      <td>461.141174</td>\n",
       "      <td>15.428571</td>\n",
       "      <td>sensor</td>\n",
       "      <td>1</td>\n",
       "      <td>NaN</td>\n",
       "      <td>NaN</td>\n",
       "      <td>NaN</td>\n",
       "      <td>NaN</td>\n",
       "    </tr>\n",
       "    <tr>\n",
       "      <th>2</th>\n",
       "      <td>sensor_id_3</td>\n",
       "      <td>477.06308</td>\n",
       "      <td>461.141174</td>\n",
       "      <td>25.714286</td>\n",
       "      <td>sensor</td>\n",
       "      <td>2</td>\n",
       "      <td>NaN</td>\n",
       "      <td>NaN</td>\n",
       "      <td>NaN</td>\n",
       "      <td>NaN</td>\n",
       "    </tr>\n",
       "    <tr>\n",
       "      <th>3</th>\n",
       "      <td>sensor_id_4</td>\n",
       "      <td>477.06308</td>\n",
       "      <td>461.141174</td>\n",
       "      <td>36.000000</td>\n",
       "      <td>sensor</td>\n",
       "      <td>3</td>\n",
       "      <td>NaN</td>\n",
       "      <td>NaN</td>\n",
       "      <td>NaN</td>\n",
       "      <td>NaN</td>\n",
       "    </tr>\n",
       "    <tr>\n",
       "      <th>4</th>\n",
       "      <td>sensor_id_5</td>\n",
       "      <td>477.06308</td>\n",
       "      <td>461.141174</td>\n",
       "      <td>46.285713</td>\n",
       "      <td>sensor</td>\n",
       "      <td>4</td>\n",
       "      <td>NaN</td>\n",
       "      <td>NaN</td>\n",
       "      <td>NaN</td>\n",
       "      <td>NaN</td>\n",
       "    </tr>\n",
       "    <tr>\n",
       "      <th>...</th>\n",
       "      <td>...</td>\n",
       "      <td>...</td>\n",
       "      <td>...</td>\n",
       "      <td>...</td>\n",
       "      <td>...</td>\n",
       "      <td>...</td>\n",
       "      <td>...</td>\n",
       "      <td>...</td>\n",
       "      <td>...</td>\n",
       "      <td>...</td>\n",
       "    </tr>\n",
       "    <tr>\n",
       "      <th>299</th>\n",
       "      <td>NaN</td>\n",
       "      <td>NaN</td>\n",
       "      <td>NaN</td>\n",
       "      <td>NaN</td>\n",
       "      <td>vertex</td>\n",
       "      <td>891</td>\n",
       "      <td>vertex_id_300</td>\n",
       "      <td>461.090481</td>\n",
       "      <td>441.052050</td>\n",
       "      <td>81.0</td>\n",
       "    </tr>\n",
       "    <tr>\n",
       "      <th>300</th>\n",
       "      <td>NaN</td>\n",
       "      <td>NaN</td>\n",
       "      <td>NaN</td>\n",
       "      <td>NaN</td>\n",
       "      <td>vertex</td>\n",
       "      <td>892</td>\n",
       "      <td>vertex_id_301</td>\n",
       "      <td>458.656271</td>\n",
       "      <td>441.127307</td>\n",
       "      <td>0.0</td>\n",
       "    </tr>\n",
       "    <tr>\n",
       "      <th>301</th>\n",
       "      <td>NaN</td>\n",
       "      <td>NaN</td>\n",
       "      <td>NaN</td>\n",
       "      <td>NaN</td>\n",
       "      <td>vertex</td>\n",
       "      <td>893</td>\n",
       "      <td>vertex_id_302</td>\n",
       "      <td>458.656271</td>\n",
       "      <td>441.127307</td>\n",
       "      <td>81.0</td>\n",
       "    </tr>\n",
       "    <tr>\n",
       "      <th>302</th>\n",
       "      <td>NaN</td>\n",
       "      <td>NaN</td>\n",
       "      <td>NaN</td>\n",
       "      <td>NaN</td>\n",
       "      <td>vertex</td>\n",
       "      <td>894</td>\n",
       "      <td>vertex_id_303</td>\n",
       "      <td>458.438724</td>\n",
       "      <td>434.557430</td>\n",
       "      <td>0.0</td>\n",
       "    </tr>\n",
       "    <tr>\n",
       "      <th>303</th>\n",
       "      <td>NaN</td>\n",
       "      <td>NaN</td>\n",
       "      <td>NaN</td>\n",
       "      <td>NaN</td>\n",
       "      <td>vertex</td>\n",
       "      <td>895</td>\n",
       "      <td>vertex_id_304</td>\n",
       "      <td>458.438724</td>\n",
       "      <td>434.557430</td>\n",
       "      <td>81.0</td>\n",
       "    </tr>\n",
       "  </tbody>\n",
       "</table>\n",
       "<p>896 rows × 10 columns</p>\n",
       "</div>"
      ],
      "text/plain": [
       "       sensor_id  sensor_x_coordinate  sensor_y_coordinate  \\\n",
       "0    sensor_id_1            477.06308           461.141174   \n",
       "1    sensor_id_2            477.06308           461.141174   \n",
       "2    sensor_id_3            477.06308           461.141174   \n",
       "3    sensor_id_4            477.06308           461.141174   \n",
       "4    sensor_id_5            477.06308           461.141174   \n",
       "..           ...                  ...                  ...   \n",
       "299          NaN                  NaN                  NaN   \n",
       "300          NaN                  NaN                  NaN   \n",
       "301          NaN                  NaN                  NaN   \n",
       "302          NaN                  NaN                  NaN   \n",
       "303          NaN                  NaN                  NaN   \n",
       "\n",
       "     sensor_z_coordinate    type  index      vertex_id           0  \\\n",
       "0               5.142857  sensor      0            NaN         NaN   \n",
       "1              15.428571  sensor      1            NaN         NaN   \n",
       "2              25.714286  sensor      2            NaN         NaN   \n",
       "3              36.000000  sensor      3            NaN         NaN   \n",
       "4              46.285713  sensor      4            NaN         NaN   \n",
       "..                   ...     ...    ...            ...         ...   \n",
       "299                  NaN  vertex    891  vertex_id_300  461.090481   \n",
       "300                  NaN  vertex    892  vertex_id_301  458.656271   \n",
       "301                  NaN  vertex    893  vertex_id_302  458.656271   \n",
       "302                  NaN  vertex    894  vertex_id_303  458.438724   \n",
       "303                  NaN  vertex    895  vertex_id_304  458.438724   \n",
       "\n",
       "              1     2  \n",
       "0           NaN   NaN  \n",
       "1           NaN   NaN  \n",
       "2           NaN   NaN  \n",
       "3           NaN   NaN  \n",
       "4           NaN   NaN  \n",
       "..          ...   ...  \n",
       "299  441.052050  81.0  \n",
       "300  441.127307   0.0  \n",
       "301  441.127307  81.0  \n",
       "302  434.557430   0.0  \n",
       "303  434.557430  81.0  \n",
       "\n",
       "[896 rows x 10 columns]"
      ]
     },
     "execution_count": 25,
     "metadata": {},
     "output_type": "execute_result"
    }
   ],
   "source": [
    "# Main table to use for graph dataset\n",
    "all_nodes_df"
   ]
  },
  {
   "cell_type": "code",
   "execution_count": 26,
   "id": "8204854a-4712-415f-a370-80b80c7136ff",
   "metadata": {},
   "outputs": [
    {
     "data": {
      "text/html": [
       "<div>\n",
       "<style scoped>\n",
       "    .dataframe tbody tr th:only-of-type {\n",
       "        vertical-align: middle;\n",
       "    }\n",
       "\n",
       "    .dataframe tbody tr th {\n",
       "        vertical-align: top;\n",
       "    }\n",
       "\n",
       "    .dataframe thead th {\n",
       "        text-align: right;\n",
       "    }\n",
       "</style>\n",
       "<table border=\"1\" class=\"dataframe\">\n",
       "  <thead>\n",
       "    <tr style=\"text-align: right;\">\n",
       "      <th></th>\n",
       "      <th>sensor_id</th>\n",
       "      <th>sensor_x_coordinate</th>\n",
       "      <th>sensor_y_coordinate</th>\n",
       "      <th>sensor_z_coordinate</th>\n",
       "      <th>type</th>\n",
       "      <th>index</th>\n",
       "      <th>vertex_id</th>\n",
       "      <th>0</th>\n",
       "      <th>1</th>\n",
       "      <th>2</th>\n",
       "      <th>type_flag</th>\n",
       "    </tr>\n",
       "  </thead>\n",
       "  <tbody>\n",
       "    <tr>\n",
       "      <th>0</th>\n",
       "      <td>sensor_id_1</td>\n",
       "      <td>477.06308</td>\n",
       "      <td>461.141174</td>\n",
       "      <td>5.142857</td>\n",
       "      <td>sensor</td>\n",
       "      <td>0</td>\n",
       "      <td>NaN</td>\n",
       "      <td>NaN</td>\n",
       "      <td>NaN</td>\n",
       "      <td>NaN</td>\n",
       "      <td>1</td>\n",
       "    </tr>\n",
       "    <tr>\n",
       "      <th>1</th>\n",
       "      <td>sensor_id_2</td>\n",
       "      <td>477.06308</td>\n",
       "      <td>461.141174</td>\n",
       "      <td>15.428571</td>\n",
       "      <td>sensor</td>\n",
       "      <td>1</td>\n",
       "      <td>NaN</td>\n",
       "      <td>NaN</td>\n",
       "      <td>NaN</td>\n",
       "      <td>NaN</td>\n",
       "      <td>1</td>\n",
       "    </tr>\n",
       "    <tr>\n",
       "      <th>2</th>\n",
       "      <td>sensor_id_3</td>\n",
       "      <td>477.06308</td>\n",
       "      <td>461.141174</td>\n",
       "      <td>25.714286</td>\n",
       "      <td>sensor</td>\n",
       "      <td>2</td>\n",
       "      <td>NaN</td>\n",
       "      <td>NaN</td>\n",
       "      <td>NaN</td>\n",
       "      <td>NaN</td>\n",
       "      <td>1</td>\n",
       "    </tr>\n",
       "    <tr>\n",
       "      <th>3</th>\n",
       "      <td>sensor_id_4</td>\n",
       "      <td>477.06308</td>\n",
       "      <td>461.141174</td>\n",
       "      <td>36.000000</td>\n",
       "      <td>sensor</td>\n",
       "      <td>3</td>\n",
       "      <td>NaN</td>\n",
       "      <td>NaN</td>\n",
       "      <td>NaN</td>\n",
       "      <td>NaN</td>\n",
       "      <td>1</td>\n",
       "    </tr>\n",
       "    <tr>\n",
       "      <th>4</th>\n",
       "      <td>sensor_id_5</td>\n",
       "      <td>477.06308</td>\n",
       "      <td>461.141174</td>\n",
       "      <td>46.285713</td>\n",
       "      <td>sensor</td>\n",
       "      <td>4</td>\n",
       "      <td>NaN</td>\n",
       "      <td>NaN</td>\n",
       "      <td>NaN</td>\n",
       "      <td>NaN</td>\n",
       "      <td>1</td>\n",
       "    </tr>\n",
       "    <tr>\n",
       "      <th>...</th>\n",
       "      <td>...</td>\n",
       "      <td>...</td>\n",
       "      <td>...</td>\n",
       "      <td>...</td>\n",
       "      <td>...</td>\n",
       "      <td>...</td>\n",
       "      <td>...</td>\n",
       "      <td>...</td>\n",
       "      <td>...</td>\n",
       "      <td>...</td>\n",
       "      <td>...</td>\n",
       "    </tr>\n",
       "    <tr>\n",
       "      <th>299</th>\n",
       "      <td>NaN</td>\n",
       "      <td>NaN</td>\n",
       "      <td>NaN</td>\n",
       "      <td>NaN</td>\n",
       "      <td>vertex</td>\n",
       "      <td>891</td>\n",
       "      <td>vertex_id_300</td>\n",
       "      <td>461.090481</td>\n",
       "      <td>441.052050</td>\n",
       "      <td>81.0</td>\n",
       "      <td>0</td>\n",
       "    </tr>\n",
       "    <tr>\n",
       "      <th>300</th>\n",
       "      <td>NaN</td>\n",
       "      <td>NaN</td>\n",
       "      <td>NaN</td>\n",
       "      <td>NaN</td>\n",
       "      <td>vertex</td>\n",
       "      <td>892</td>\n",
       "      <td>vertex_id_301</td>\n",
       "      <td>458.656271</td>\n",
       "      <td>441.127307</td>\n",
       "      <td>0.0</td>\n",
       "      <td>0</td>\n",
       "    </tr>\n",
       "    <tr>\n",
       "      <th>301</th>\n",
       "      <td>NaN</td>\n",
       "      <td>NaN</td>\n",
       "      <td>NaN</td>\n",
       "      <td>NaN</td>\n",
       "      <td>vertex</td>\n",
       "      <td>893</td>\n",
       "      <td>vertex_id_302</td>\n",
       "      <td>458.656271</td>\n",
       "      <td>441.127307</td>\n",
       "      <td>81.0</td>\n",
       "      <td>0</td>\n",
       "    </tr>\n",
       "    <tr>\n",
       "      <th>302</th>\n",
       "      <td>NaN</td>\n",
       "      <td>NaN</td>\n",
       "      <td>NaN</td>\n",
       "      <td>NaN</td>\n",
       "      <td>vertex</td>\n",
       "      <td>894</td>\n",
       "      <td>vertex_id_303</td>\n",
       "      <td>458.438724</td>\n",
       "      <td>434.557430</td>\n",
       "      <td>0.0</td>\n",
       "      <td>0</td>\n",
       "    </tr>\n",
       "    <tr>\n",
       "      <th>303</th>\n",
       "      <td>NaN</td>\n",
       "      <td>NaN</td>\n",
       "      <td>NaN</td>\n",
       "      <td>NaN</td>\n",
       "      <td>vertex</td>\n",
       "      <td>895</td>\n",
       "      <td>vertex_id_304</td>\n",
       "      <td>458.438724</td>\n",
       "      <td>434.557430</td>\n",
       "      <td>81.0</td>\n",
       "      <td>0</td>\n",
       "    </tr>\n",
       "  </tbody>\n",
       "</table>\n",
       "<p>896 rows × 11 columns</p>\n",
       "</div>"
      ],
      "text/plain": [
       "       sensor_id  sensor_x_coordinate  sensor_y_coordinate  \\\n",
       "0    sensor_id_1            477.06308           461.141174   \n",
       "1    sensor_id_2            477.06308           461.141174   \n",
       "2    sensor_id_3            477.06308           461.141174   \n",
       "3    sensor_id_4            477.06308           461.141174   \n",
       "4    sensor_id_5            477.06308           461.141174   \n",
       "..           ...                  ...                  ...   \n",
       "299          NaN                  NaN                  NaN   \n",
       "300          NaN                  NaN                  NaN   \n",
       "301          NaN                  NaN                  NaN   \n",
       "302          NaN                  NaN                  NaN   \n",
       "303          NaN                  NaN                  NaN   \n",
       "\n",
       "     sensor_z_coordinate    type  index      vertex_id           0  \\\n",
       "0               5.142857  sensor      0            NaN         NaN   \n",
       "1              15.428571  sensor      1            NaN         NaN   \n",
       "2              25.714286  sensor      2            NaN         NaN   \n",
       "3              36.000000  sensor      3            NaN         NaN   \n",
       "4              46.285713  sensor      4            NaN         NaN   \n",
       "..                   ...     ...    ...            ...         ...   \n",
       "299                  NaN  vertex    891  vertex_id_300  461.090481   \n",
       "300                  NaN  vertex    892  vertex_id_301  458.656271   \n",
       "301                  NaN  vertex    893  vertex_id_302  458.656271   \n",
       "302                  NaN  vertex    894  vertex_id_303  458.438724   \n",
       "303                  NaN  vertex    895  vertex_id_304  458.438724   \n",
       "\n",
       "              1     2  type_flag  \n",
       "0           NaN   NaN          1  \n",
       "1           NaN   NaN          1  \n",
       "2           NaN   NaN          1  \n",
       "3           NaN   NaN          1  \n",
       "4           NaN   NaN          1  \n",
       "..          ...   ...        ...  \n",
       "299  441.052050  81.0          0  \n",
       "300  441.127307   0.0          0  \n",
       "301  441.127307  81.0          0  \n",
       "302  434.557430   0.0          0  \n",
       "303  434.557430  81.0          0  \n",
       "\n",
       "[896 rows x 11 columns]"
      ]
     },
     "execution_count": 26,
     "metadata": {},
     "output_type": "execute_result"
    }
   ],
   "source": [
    "# Prepare node features - example: using coordinates and a type flag (sensor=1, vertex=0)\n",
    "all_nodes_df['type_flag'] = all_nodes_df['type'].apply(lambda x: 1 if x == 'sensor' else 0)\n",
    "node_features = all_nodes_df[['sensor_x_coordinate', 'sensor_y_coordinate', 'sensor_z_coordinate', 'type_flag']].fillna(0).values\n",
    "x = torch.tensor(node_features, dtype=torch.float)\n",
    "\n",
    "# Print Check\n",
    "all_nodes_df"
   ]
  },
  {
   "cell_type": "code",
   "execution_count": 27,
   "id": "948db22e-2020-4f92-a7a0-5a2cea6670ac",
   "metadata": {},
   "outputs": [
    {
     "name": "stdout",
     "output_type": "stream",
     "text": [
      "Node Features Tensor:\n",
      "tensor([[477.0631, 461.1412,   5.1429,   1.0000],\n",
      "        [477.0631, 461.1412,  15.4286,   1.0000],\n",
      "        [477.0631, 461.1412,  25.7143,   1.0000],\n",
      "        ...,\n",
      "        [  0.0000,   0.0000,   0.0000,   0.0000],\n",
      "        [  0.0000,   0.0000,   0.0000,   0.0000],\n",
      "        [  0.0000,   0.0000,   0.0000,   0.0000]])\n"
     ]
    }
   ],
   "source": [
    "# Print the tensor to check its contents\n",
    "print(\"Node Features Tensor:\")\n",
    "print(x)"
   ]
  },
  {
   "cell_type": "markdown",
   "id": "2953cfbd-a75a-4544-950c-d585b5809dd3",
   "metadata": {},
   "source": [
    "## **Create Edge Index**"
   ]
  },
  {
   "cell_type": "markdown",
   "id": "18b040ec-1c44-4ec0-88b4-2defde195512",
   "metadata": {},
   "source": [
    "1. Map each sensor_id and vertex_id to a unique index.\r",
    "2. \n",
    "Use these mappings to create the edge_index tensor from edge_df."
   ]
  },
  {
   "cell_type": "markdown",
   "id": "1d56230c-3508-456b-9a8e-7794340bb63c",
   "metadata": {},
   "source": [
    "Step 1: Prepare Mappings\n",
    "First, we'll create dictionaries to map sensor_id and vertex_id to unique indices. We'll concatenate the indices of sensors and vertices to ensure uniqueness across the graph."
   ]
  },
  {
   "cell_type": "code",
   "execution_count": 28,
   "id": "802d6696-3ca8-43e9-8bd9-bd4a45ae9eb4",
   "metadata": {},
   "outputs": [],
   "source": [
    "sensor_ids = sensor_df['sensor_id'].unique()\n",
    "vertex_ids = building_df['vertex_id'].unique()\n",
    "\n",
    "# Create a continuous index for sensors and vertices\n",
    "sensor_index = {sensor_id: i for i, sensor_id in enumerate(sensor_ids)}\n",
    "vertex_index = {vertex_id: i + len(sensor_index) for i, vertex_id in enumerate(vertex_ids)}"
   ]
  },
  {
   "cell_type": "markdown",
   "id": "a9013e73-bb7b-48c1-92c0-e849c2337d3c",
   "metadata": {},
   "source": [
    "Step 2: Create Edge Index\n",
    "Next, we'll use these mappings to create the edge_index tensor. Note that the vertex_id in edge_df appears to have a slight discrepancy (missing the \"id_\" part based on the example provided), so we'll adjust for that in our mapping."
   ]
  },
  {
   "cell_type": "code",
   "execution_count": 29,
   "id": "dcf3d903-c5d7-4e31-a89d-296ab8c39909",
   "metadata": {},
   "outputs": [],
   "source": [
    "# Adjust the vertex_id in edge_df to match the format in buildings_df\n",
    "edge_df['adjusted_vertex_id'] = edge_df['vertex_id'].apply(lambda x: 'vertex_id_' + x.split('_')[-1])\n",
    "\n",
    "# Map sensor_id and vertex_id to their respective indices\n",
    "edge_index_list = edge_df.apply(lambda row: [sensor_index.get(row['sensor_id'], -1),\n",
    "                                             vertex_index.get(row['adjusted_vertex_id'], -1)], axis=1)\n",
    "\n",
    "# Filter out any edges that couldn't be mapped (-1 indicates a mapping failure)\n",
    "filtered_edge_index_list = [pair for pair in edge_index_list if -1 not in pair]\n",
    "\n",
    "# Convert to torch tensor\n",
    "edge_index = torch.tensor(filtered_edge_index_list, dtype=torch.long).t().contiguous()\n"
   ]
  },
  {
   "cell_type": "code",
   "execution_count": 30,
   "id": "1c3c4bbe-4b74-42f4-b234-2293f84ba2cd",
   "metadata": {},
   "outputs": [
    {
     "data": {
      "text/plain": [
       "tensor([[  0,   0,   0,  ..., 591, 591, 591],\n",
       "        [592, 593, 594,  ..., 893, 894, 895]])"
      ]
     },
     "execution_count": 30,
     "metadata": {},
     "output_type": "execute_result"
    }
   ],
   "source": [
    "edge_index"
   ]
  },
  {
   "cell_type": "markdown",
   "id": "6117a6dc-0016-458d-b91c-ba2643516ee2",
   "metadata": {},
   "source": [
    "## **Edge Attributes**"
   ]
  },
  {
   "cell_type": "markdown",
   "id": "5a05a096-355f-4148-aeb3-5f6a9c6fdd80",
   "metadata": {},
   "source": [
    "This section extracts edge attributes from the edge_df and converts them into a torch tensor."
   ]
  },
  {
   "cell_type": "code",
   "execution_count": 31,
   "id": "3a7ea40e-be0b-4c61-8a2e-d4aabe65bf54",
   "metadata": {},
   "outputs": [],
   "source": [
    "edge_attr = torch.tensor(edge_df[['distance']].values, dtype=torch.float)"
   ]
  },
  {
   "cell_type": "code",
   "execution_count": 32,
   "id": "cb465579-dd5e-487e-a4ed-fc23f58f80b2",
   "metadata": {},
   "outputs": [
    {
     "data": {
      "text/plain": [
       "tensor([[ 67.0238],\n",
       "        [ 66.1905],\n",
       "        [153.7402],\n",
       "        ...,\n",
       "        [ 67.5856],\n",
       "        [144.5026],\n",
       "        [ 70.3359]])"
      ]
     },
     "execution_count": 32,
     "metadata": {},
     "output_type": "execute_result"
    }
   ],
   "source": [
    "edge_attr"
   ]
  },
  {
   "cell_type": "markdown",
   "id": "bc442d44-235d-4424-84e5-a051fc9bfc42",
   "metadata": {},
   "source": [
    "## **Target Labels**"
   ]
  },
  {
   "cell_type": "markdown",
   "id": "ccea2750-e585-47eb-aa32-66d55507be4b",
   "metadata": {},
   "source": [
    "This sections prepares the labels for sensors by:\n",
    "1. Aligning with their respective indices\n",
    "2. Converting to a torch tensor"
   ]
  },
  {
   "cell_type": "code",
   "execution_count": 33,
   "id": "cb2d302c-d47e-4213-8696-86b5b2cf333a",
   "metadata": {},
   "outputs": [],
   "source": [
    "# Ensure data type compatibility\n",
    "label_df['hb_solar_radiation'] = label_df['hb_solar_radiation'].astype(float)"
   ]
  },
  {
   "cell_type": "code",
   "execution_count": 34,
   "id": "9f496e81-8c1f-436e-b5c4-cdbaf06dd4f0",
   "metadata": {},
   "outputs": [],
   "source": [
    "# Update labels for sensors with their radiation values\n",
    "label_df['index'] = label_df['sensor_id'].map(sensor_index)"
   ]
  },
  {
   "cell_type": "code",
   "execution_count": 35,
   "id": "e1ef8b79-c059-40d0-b30e-96b5513446c1",
   "metadata": {},
   "outputs": [],
   "source": [
    "# Create torch tensor with compatible data type\n",
    "labels = torch.zeros(len(label_df), dtype=torch.float)\n",
    "labels[label_df['index']] = torch.tensor(label_df['hb_solar_radiation'].values, dtype=torch.float)"
   ]
  },
  {
   "cell_type": "markdown",
   "id": "3cfa0599-0e7c-460f-b1b4-d3804a421c05",
   "metadata": {},
   "source": [
    "## **Create a PyTorch Geometric Data Object**"
   ]
  },
  {
   "cell_type": "markdown",
   "id": "ff73a83b-fbfb-4b7a-a02d-516a9556307a",
   "metadata": {},
   "source": [
    "**Training Data Code**"
   ]
  },
  {
   "cell_type": "code",
   "execution_count": 36,
   "id": "d1b7064d-7c32-419e-922c-5c899c315db9",
   "metadata": {},
   "outputs": [],
   "source": [
    "# use this chunk for TRAINING data\n",
    "data_training = Data(x=x, edge_index=edge_index, edge_attr=edge_attr, y=labels)"
   ]
  },
  {
   "cell_type": "code",
   "execution_count": 37,
   "id": "e2c3fab2-93f9-411f-8214-732427d708ee",
   "metadata": {},
   "outputs": [
    {
     "name": "stdout",
     "output_type": "stream",
     "text": [
      "Data Object:\n",
      "Data(x=[896, 4], edge_index=[2, 179968], edge_attr=[179968, 1], y=[592])\n"
     ]
    }
   ],
   "source": [
    "# Print check for the Data object\n",
    "print(\"Data Object:\")\n",
    "print(data_training)"
   ]
  },
  {
   "cell_type": "markdown",
   "id": "8bb5482e-37ff-4567-9da6-d8a4386ca487",
   "metadata": {},
   "source": [
    "**Prediction Data Code**"
   ]
  },
  {
   "cell_type": "code",
   "execution_count": 38,
   "id": "6f6589e0-d7f6-4185-aa3a-f44c2d7feec1",
   "metadata": {},
   "outputs": [],
   "source": [
    "# use this chunk for PREDICTION data\n",
    "data_predict = Data(x=x, edge_index=edge_index, edge_attr=edge_attr)"
   ]
  },
  {
   "cell_type": "code",
   "execution_count": 39,
   "id": "462039d4-4e36-45d7-94e4-7d99c9526380",
   "metadata": {},
   "outputs": [
    {
     "name": "stdout",
     "output_type": "stream",
     "text": [
      "Data Object:\n",
      "Data(x=[896, 4], edge_index=[2, 179968], edge_attr=[179968, 1])\n"
     ]
    }
   ],
   "source": [
    "# Print check for the Data object\n",
    "print(\"Data Object:\")\n",
    "print(data_predict)"
   ]
  },
  {
   "cell_type": "markdown",
   "id": "93e75d86-6550-4080-9db8-505d5059b2c5",
   "metadata": {},
   "source": [
    "## **Saving the Data Object**"
   ]
  },
  {
   "cell_type": "code",
   "execution_count": 40,
   "id": "18971d21-f311-4dd0-952c-c47c5bd6080b",
   "metadata": {},
   "outputs": [],
   "source": [
    "# Add timestamp to file name \n",
    "now = datetime.datetime.now()\n",
    "formatted_now = now.strftime('%Y%m%d_%H%M%S')"
   ]
  },
  {
   "cell_type": "markdown",
   "id": "a220613e-c51b-44cf-98b9-7fb4c783665a",
   "metadata": {},
   "source": [
    "**Training**"
   ]
  },
  {
   "cell_type": "code",
   "execution_count": 41,
   "id": "b13bf18a-8f85-4ce1-9e51-e9f476f16138",
   "metadata": {},
   "outputs": [
    {
     "name": "stdout",
     "output_type": "stream",
     "text": [
      "saved\n"
     ]
    }
   ],
   "source": [
    "# UNCOMMENT to save\n",
    "filename = rf'data/torch_data_object_training/{run_num}.pt'\n",
    "torch.save(data_training, filename)\n",
    "\n",
    "print('saved')"
   ]
  },
  {
   "cell_type": "markdown",
   "id": "ac4feef3-2a19-4acf-a125-1c65584783be",
   "metadata": {},
   "source": [
    "**Prediction**"
   ]
  },
  {
   "cell_type": "code",
   "execution_count": 42,
   "id": "6ea13c0f-b549-47eb-8580-f1acaef52ee0",
   "metadata": {},
   "outputs": [
    {
     "data": {
      "text/plain": [
       "\"\\nfilename = rf'data/torch_data_object_prediction/{run_num}.pt'\\ntorch.save(data_predict, filename)\\n\\nprint('saved')\\n\""
      ]
     },
     "execution_count": 42,
     "metadata": {},
     "output_type": "execute_result"
    }
   ],
   "source": [
    "# UNCOMMENT to save\n",
    "\n",
    "'''\n",
    "filename = rf'data/torch_data_object_prediction/{run_num}.pt'\n",
    "torch.save(data_predict, filename)\n",
    "\n",
    "print('saved')\n",
    "'''"
   ]
  }
 ],
 "metadata": {
  "kernelspec": {
   "display_name": "Python 3 (ipykernel)",
   "language": "python",
   "name": "python3"
  },
  "language_info": {
   "codemirror_mode": {
    "name": "ipython",
    "version": 3
   },
   "file_extension": ".py",
   "mimetype": "text/x-python",
   "name": "python",
   "nbconvert_exporter": "python",
   "pygments_lexer": "ipython3",
   "version": "3.10.6"
  }
 },
 "nbformat": 4,
 "nbformat_minor": 5
}
