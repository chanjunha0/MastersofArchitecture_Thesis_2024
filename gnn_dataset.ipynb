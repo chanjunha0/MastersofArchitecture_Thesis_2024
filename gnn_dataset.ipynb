{
 "cells": [
  {
   "cell_type": "markdown",
   "id": "db35fde5-535f-48b9-9e12-564bea8bedba",
   "metadata": {},
   "source": [
    "## **README**"
   ]
  },
  {
   "cell_type": "markdown",
   "id": "4c21a315-f5ad-4a6d-af9c-b1641033e444",
   "metadata": {},
   "source": [
    "**Input**"
   ]
  },
  {
   "cell_type": "markdown",
   "id": "3e75b865-5a91-49a5-b13f-ba4d865b63ea",
   "metadata": {},
   "source": [
    "Training/prediction csv data from the rhino-grasshopper simulation"
   ]
  },
  {
   "cell_type": "markdown",
   "id": "f4f61f3b-80ab-44e1-9827-7413818fc149",
   "metadata": {},
   "source": [
    "**Output**"
   ]
  },
  {
   "cell_type": "markdown",
   "id": "930b929e-34cd-4eed-83f4-1482fa31c29b",
   "metadata": {},
   "source": [
    "Pytorch graph data object"
   ]
  },
  {
   "cell_type": "markdown",
   "id": "8e43a466-4d3c-49e3-9e19-1a77b8da89ce",
   "metadata": {},
   "source": [
    "## **Import Libraries**"
   ]
  },
  {
   "cell_type": "code",
   "execution_count": 51,
   "id": "14692659-1b83-4390-9a35-be265d139600",
   "metadata": {},
   "outputs": [],
   "source": [
    "# import libraries\n",
    "import os\n",
    "import pandas as pd\n",
    "import torch                                 # pytorch\n",
    "from torch_geometric.data import Data        # to work with graph data"
   ]
  },
  {
   "cell_type": "markdown",
   "id": "fc0d8c74-f71c-4edb-b5ee-9cfb6fc994fe",
   "metadata": {},
   "source": [
    "## **Set File Path**"
   ]
  },
  {
   "cell_type": "code",
   "execution_count": 46,
   "id": "075e3a51-8643-4dc7-bc4c-3031abcb960b",
   "metadata": {},
   "outputs": [],
   "source": [
    "# Csv Training Data\n",
    "run_num = 'run_4'\n",
    "file_path_training = rf'data\\csv_training\\{run_num}'"
   ]
  },
  {
   "cell_type": "code",
   "execution_count": null,
   "id": "6573a7d9-2afa-4c55-b2b2-2f436e7d42cd",
   "metadata": {},
   "outputs": [],
   "source": [
    "# Pytorch Training Path\n",
    "filename_training = rf'data/torch_data_object_training/{run_num}.pt'"
   ]
  },
  {
   "cell_type": "code",
   "execution_count": null,
   "id": "4548b764-8ec4-4792-a207-cfd17563fa2d",
   "metadata": {},
   "outputs": [],
   "source": [
    "# Pytorch Prediction Path\n",
    "filename_prediction = rf'data/torch_data_object_prediction/{run_num}.pt'"
   ]
  },
  {
   "cell_type": "markdown",
   "id": "5c154157-7b6e-452a-8f10-05e9f65e2945",
   "metadata": {},
   "source": [
    "## **Functions**"
   ]
  },
  {
   "cell_type": "code",
   "execution_count": 3,
   "id": "edfbdbf9-8793-472d-b367-6276dc332c3c",
   "metadata": {},
   "outputs": [],
   "source": [
    "def print_df(dataframes, line_length=50):\n",
    "    \"\"\"\n",
    "    Prints the head of each DataFrame in the list, separated by a line.\n",
    "\n",
    "    Parameters:\n",
    "    - dataframes (list of tuple): A list where each tuple contains a string (the name of the DataFrame) and a DataFrame.\n",
    "    - line_length (int): The length of the separating line. Default is 50.\n",
    "    \"\"\"\n",
    "    line = '-' * line_length\n",
    "    for name, df in dataframes:\n",
    "        print(name)\n",
    "        print(df.head())\n",
    "        print(line)"
   ]
  },
  {
   "cell_type": "code",
   "execution_count": 4,
   "id": "93343cec-5e29-4020-9fc7-ba845fb6a74b",
   "metadata": {},
   "outputs": [],
   "source": [
    "# Function to map sensor id onto vertex id for distance df\n",
    "def create_temp_df(n, m):\n",
    "    # n is the number of sensors, m is the number of vertices\n",
    "    data = []  # List to hold the data\n",
    "    for sensor_length in range(1, n+1):  # Iterate through each sensor\n",
    "        for vertex_length in range(1, m + 1):  # Iterate through each vertex for the sensor\n",
    "            # Append a tuple with the sensor ID and vertex ID to the list\n",
    "            data.append((f'sensor_id_{sensor_length}', f'vertex_{vertex_length}'))\n",
    "    \n",
    "    # Create DataFrame from the data list\n",
    "    temp_df = pd.DataFrame(data, columns=['sensor_id', 'vertex_id'])\n",
    "    \n",
    "    return temp_df"
   ]
  },
  {
   "cell_type": "code",
   "execution_count": 5,
   "id": "e87ce78e-15b3-46df-9e0c-76133a1ecfbd",
   "metadata": {},
   "outputs": [],
   "source": [
    "# Function for null values check\n",
    "def null_check(df):\n",
    "    for column in df.columns:\n",
    "        null_count = df[column].isnull().sum()\n",
    "        if null_count > 0: \n",
    "            print('_'*20)\n",
    "            print(f'{column}')\n",
    "            print('_'*20)\n",
    "            print(f'Null count: {null_count}')\n",
    "        else:\n",
    "            print('Nil')"
   ]
  },
  {
   "cell_type": "code",
   "execution_count": 6,
   "id": "5dcfe90a-5551-402d-b789-5994f53583f4",
   "metadata": {},
   "outputs": [],
   "source": [
    "def format_and_insert_id_column(df, id_base_name):\n",
    "    \"\"\"\n",
    "    Resets the index of the DataFrame, creates a new column with formatted IDs based on the new index,\n",
    "    and inserts this new column as the first column of the DataFrame.\n",
    "    \n",
    "    Args:\n",
    "    - df (pd.DataFrame): The DataFrame to operate on.\n",
    "    - id_base_name (str): The base name for the new ID column (e.g., 'sensor_id', 'vertex_id').\n",
    "    \n",
    "    Returns:\n",
    "    - pd.DataFrame: The modified DataFrame with the new ID column as the first column.\n",
    "    \"\"\"\n",
    "    # Resetting the index so the specified ID column is no longer the index column, if it was.\n",
    "    df.reset_index(drop=True, inplace=True)\n",
    "    \n",
    "    # Creating a new ID column with formatted values.\n",
    "    df[id_base_name] = [f'{id_base_name}_{i + 1}' for i in df.index]\n",
    "    \n",
    "    # Inserting the new ID column as the first column.\n",
    "    df.insert(0, id_base_name, df.pop(id_base_name))\n",
    "    \n",
    "    return df"
   ]
  },
  {
   "cell_type": "code",
   "execution_count": 49,
   "id": "f08b6887-028b-48f1-b814-bfed5508e32d",
   "metadata": {},
   "outputs": [],
   "source": [
    "def load_csv_files_as_dict(file_path_training, file_names):\n",
    "    \"\"\"\n",
    "    Loads CSV files into pandas DataFrames and stores them in a dictionary with dynamically constructed keys.\n",
    "    Skips empty CSV files.\n",
    "\n",
    "    Args:\n",
    "    - file_path_training (str): The directory path where the CSV files are stored.\n",
    "    - file_names (list of str): List of file names without the '.csv' extension.\n",
    "\n",
    "    Returns:\n",
    "    - dict: A dictionary where each key is a dynamically constructed name based on the file name and\n",
    "            each value is the corresponding DataFrame loaded from the CSV file.\n",
    "    \"\"\"\n",
    "    # Dictionary to store the DataFrames, with keys as dynamically constructed names\n",
    "    dataframes = {}\n",
    "\n",
    "    # Loop over the list of file names\n",
    "    for file_name in file_names:\n",
    "        file_path = os.path.join(file_path_training, f'{file_name}.csv')\n",
    "        # Check if the file is not empty (size > 0)\n",
    "        if os.path.getsize(file_path) > 0:\n",
    "            # Construct the DataFrame name and load the CSV file into a DataFrame\n",
    "            df_name = f'{file_name}_df'\n",
    "            dataframes[df_name] = pd.read_csv(file_path, header=None)\n",
    "        else:\n",
    "            print(f'Skipped empty file: {file_name}.csv')\n",
    "\n",
    "    return dataframes"
   ]
  },
  {
   "cell_type": "markdown",
   "id": "2bb0312f-a68a-4e7e-b9bc-593d5d17822d",
   "metadata": {},
   "source": [
    "## **Import Dataset**"
   ]
  },
  {
   "cell_type": "code",
   "execution_count": 7,
   "id": "db79c238-a15a-43b6-a1c3-9b1a4d79d2c9",
   "metadata": {},
   "outputs": [
    {
     "name": "stdout",
     "output_type": "stream",
     "text": [
      "imported\n"
     ]
    }
   ],
   "source": [
    "# import csv \n",
    "sensor_df = pd.read_csv(f'{file_path_training}\\\\sensor.csv', header=None)\n",
    "building_df= pd.read_csv(f'{file_path_training}\\\\building.csv', header = None)\n",
    "label_df= pd.read_csv(f'{file_path_training}\\\\label.csv', header = None)\n",
    "distance_df = pd.read_csv(f'{file_path_training}\\\\distance.csv', header= None)\n",
    "sensor_length_df = pd.read_csv(f'{file_path_training}\\\\sensor_length.csv', header = None)\n",
    "vertex_length_df = pd.read_csv(f'{file_path_training}\\\\vertex_length.csv', header = None)\n",
    "\n",
    "print('imported')"
   ]
  },
  {
   "cell_type": "code",
   "execution_count": 53,
   "id": "29d1bd54-1586-4775-af47-f396ce869eb7",
   "metadata": {},
   "outputs": [
    {
     "name": "stdout",
     "output_type": "stream",
     "text": [
      "Skipped empty file: building_alum_vertex.csv\n",
      "Skipped empty file: building_brick_vertex.csv\n"
     ]
    }
   ],
   "source": [
    "# Call function to import csv and convert to dataframe, storing them in a dictionary\n",
    "\n",
    "file_names = [ \n",
    "    'building_alum_vertex',\n",
    "    'building_brick_vertex',\n",
    "    'building_conc_vertex',\n",
    "    'building_glass_vertex',\n",
    "    'building_wood_vertex',\n",
    "    'distance',\n",
    "    'label',  \n",
    "    'sensor',\n",
    "    'sensor_length',\n",
    "    'vertex_length',\n",
    "]  \n",
    "dfs = load_csv_files_as_dict(file_path_training, file_names)\n",
    "# Access a specific DataFrame, e.g., sensor_df = dfs['sensor_df']"
   ]
  },
  {
   "cell_type": "code",
   "execution_count": 54,
   "id": "a191db67-7196-40fb-8044-90934ebfb709",
   "metadata": {},
   "outputs": [
    {
     "name": "stdout",
     "output_type": "stream",
     "text": [
      "DataFrame Name: building_conc_vertex_df\n",
      "              0           1          2\n",
      "0    360.978140  438.952231   0.000000\n",
      "1    360.436820  438.007320   0.000000\n",
      "2    360.436820  438.007320  17.788885\n",
      "3    360.978140  438.952231  17.788885\n",
      "4    370.925848  432.007495   0.000000\n",
      "..          ...         ...        ...\n",
      "527  405.335995  383.873168  42.000000\n",
      "528  404.170548  384.540845   0.000000\n",
      "529  404.170548  384.540845  42.000000\n",
      "530  401.491986  379.946006   0.000000\n",
      "531  401.491986  379.946006  42.000000\n",
      "\n",
      "[532 rows x 3 columns]\n",
      "\n",
      "DataFrame Name: building_glass_vertex_df\n",
      "             0           1          2\n",
      "0   360.978140  438.952231  17.788885\n",
      "1   360.436820  438.007320  17.788885\n",
      "2   360.436820  438.007320  23.566007\n",
      "3   360.978140  438.952231  23.566007\n",
      "4   370.925848  432.007495  17.788885\n",
      "5   370.925848  432.007495  23.566007\n",
      "6   380.706836  448.858343  17.788885\n",
      "7   380.706836  448.858343  23.566007\n",
      "8   378.543764  450.091695  17.788885\n",
      "9   378.543764  450.091695  23.566007\n",
      "10  380.270365  453.056107  17.788885\n",
      "11  380.270365  453.056107  23.566007\n",
      "12  379.123562  453.705243  17.788885\n",
      "13  379.123562  453.705243  23.566007\n",
      "14  380.495521  456.086044  17.788885\n",
      "15  380.495521  456.086044  23.566007\n",
      "16  376.010873  458.636213  17.788885\n",
      "17  376.010873  458.636213  23.566007\n",
      "18  374.256265  455.606949  17.788885\n",
      "19  374.256265  455.606949  23.566007\n",
      "20  373.398500  456.107700  17.788885\n",
      "21  373.398500  456.107700  23.566007\n",
      "22  367.360042  445.695189  17.788885\n",
      "23  367.360042  445.695189  23.566007\n",
      "24  367.872838  445.398446  17.788885\n",
      "25  367.872838  445.398446  23.566007\n",
      "26  366.472884  442.980594  17.788885\n",
      "27  366.472884  442.980594  23.566007\n",
      "28  363.396096  444.723987  17.788885\n",
      "29  363.396096  444.723987  23.566007\n",
      "30  362.789450  443.677177  17.788885\n",
      "31  362.789450  443.677177  23.566007\n",
      "32  360.505169  444.975446  17.788885\n",
      "33  360.505169  444.975446  23.566007\n",
      "34  358.003920  440.658514  17.788885\n",
      "35  358.003920  440.658514  23.566007\n",
      "\n",
      "DataFrame Name: building_wood_vertex_df\n",
      "              0           1          2\n",
      "0    360.978140  438.952231  23.566007\n",
      "1    360.436820  438.007320  23.566007\n",
      "2    360.436820  438.007320  36.000000\n",
      "3    360.978140  438.952231  36.000000\n",
      "4    370.925848  432.007495  23.566007\n",
      "..          ...         ...        ...\n",
      "449  278.823743  349.032461  48.000000\n",
      "450  276.725943  350.247252   0.000000\n",
      "451  276.725943  350.247252  48.000000\n",
      "452  273.543410  344.818679   0.000000\n",
      "453  273.543410  344.818679  48.000000\n",
      "\n",
      "[454 rows x 3 columns]\n",
      "\n",
      "DataFrame Name: distance_df\n",
      "               0\n",
      "0       6.025483\n",
      "1       6.025487\n",
      "2      11.801877\n",
      "3      11.801876\n",
      "4      13.591615\n",
      "...          ...\n",
      "30319  73.273763\n",
      "30320  77.105766\n",
      "30321  72.036791\n",
      "30322  79.000204\n",
      "30323  74.061003\n",
      "\n",
      "[30324 rows x 1 columns]\n",
      "\n",
      "DataFrame Name: label_df\n",
      "             0\n",
      "0   792.336908\n",
      "1   752.054187\n",
      "2   751.833874\n",
      "3   687.277228\n",
      "4   701.548791\n",
      "5   712.486573\n",
      "6     0.000000\n",
      "7     0.000000\n",
      "8     0.000000\n",
      "9     0.000000\n",
      "10    0.000000\n",
      "11    0.000000\n",
      "12   81.208266\n",
      "13  111.053097\n",
      "14  162.030891\n",
      "15   43.925007\n",
      "16   62.087327\n",
      "17   94.939310\n",
      "18  115.908595\n",
      "19  126.947078\n",
      "20  212.754301\n",
      "21   84.395946\n",
      "22   89.705757\n",
      "23  162.498578\n",
      "24  228.894272\n",
      "25  219.310875\n",
      "26  307.990524\n",
      "27  629.600647\n",
      "28  637.275133\n",
      "29  710.045443\n",
      "30  273.469113\n",
      "31  225.571010\n",
      "32  264.694343\n",
      "33  761.870182\n",
      "34  783.044881\n",
      "35  823.620723\n",
      "36  281.806764\n",
      "37  272.702022\n",
      "38  293.056496\n",
      "39  558.077504\n",
      "40  609.433471\n",
      "41  609.511983\n",
      "42  376.611231\n",
      "43  339.883500\n",
      "44  388.628560\n",
      "45  529.316020\n",
      "46  616.378001\n",
      "47  570.495949\n",
      "48  427.761973\n",
      "49  407.225357\n",
      "50  483.283331\n",
      "51  838.728489\n",
      "52  843.985012\n",
      "53  855.711850\n",
      "54  693.282367\n",
      "55  687.649684\n",
      "56  694.685454\n",
      "\n",
      "DataFrame Name: sensor_df\n",
      "             0           1     2\n",
      "0   360.620728  438.529495   6.0\n",
      "1   360.620728  438.529495  18.0\n",
      "2   360.620728  438.529495  30.0\n",
      "3   365.631683  434.920624   6.0\n",
      "4   365.631683  434.920624  18.0\n",
      "5   365.631683  434.920624  30.0\n",
      "6   373.457581  436.170013   6.0\n",
      "7   373.457581  436.170013  18.0\n",
      "8   373.457581  436.170013  30.0\n",
      "9   378.348083  444.595428   6.0\n",
      "10  378.348083  444.595428  18.0\n",
      "11  378.348083  444.595428  30.0\n",
      "12  379.674835  449.561905   6.0\n",
      "13  379.674835  449.561905  18.0\n",
      "14  379.674835  449.561905  30.0\n",
      "15  379.493484  451.523590   6.0\n",
      "16  379.493484  451.523590  18.0\n",
      "17  379.493484  451.523590  30.0\n",
      "18  379.746216  453.467712   6.0\n",
      "19  379.746216  453.467712  18.0\n",
      "20  379.746216  453.467712  30.0\n",
      "21  379.896179  454.845703   6.0\n",
      "22  379.896179  454.845703  18.0\n",
      "23  379.896179  454.845703  30.0\n",
      "24  378.302628  457.448029   6.0\n",
      "25  378.302628  457.448029  18.0\n",
      "26  378.302628  457.448029  30.0\n",
      "27  375.047043  457.171692   6.0\n",
      "28  375.047043  457.171692  18.0\n",
      "29  375.047043  457.171692  30.0\n",
      "30  373.877792  455.943695   6.0\n",
      "31  373.877792  455.943695  18.0\n",
      "32  373.877792  455.943695  30.0\n",
      "33  370.292755  450.951614   6.0\n",
      "34  370.292755  450.951614  18.0\n",
      "35  370.292755  450.951614  30.0\n",
      "36  367.566360  445.460266   6.0\n",
      "37  367.566360  445.460266  18.0\n",
      "38  367.566360  445.460266  30.0\n",
      "39  367.086304  444.239624   6.0\n",
      "40  367.086304  444.239624  18.0\n",
      "41  367.086304  444.239624  30.0\n",
      "42  364.983765  443.939301   6.0\n",
      "43  364.983765  443.939301  18.0\n",
      "44  364.983765  443.939301  30.0\n",
      "45  363.006256  444.250732   6.0\n",
      "46  363.006256  444.250732  18.0\n",
      "47  363.006256  444.250732  30.0\n",
      "48  361.696716  444.413254   6.0\n",
      "49  361.696716  444.413254  18.0\n",
      "50  361.696716  444.413254  30.0\n",
      "51  359.168015  442.867111   6.0\n",
      "52  359.168015  442.867111  18.0\n",
      "53  359.168015  442.867111  30.0\n",
      "54  359.441254  439.718643   6.0\n",
      "55  359.441254  439.718643  18.0\n",
      "56  359.441254  439.718643  30.0\n",
      "\n",
      "DataFrame Name: sensor_length_df\n",
      "    0\n",
      "0  57\n",
      "\n",
      "DataFrame Name: vertex_length_df\n",
      "     0\n",
      "0  532\n",
      "\n"
     ]
    }
   ],
   "source": [
    "for df_name, df in dfs.items():\n",
    "    print(f'DataFrame Name: {df_name}')\n",
    "    print(df)\n",
    "    print()  # Print a blank line for better readability between DataFrames"
   ]
  },
  {
   "cell_type": "code",
   "execution_count": 12,
   "id": "be47a189-bf60-4a65-ba26-fa17ec622e7b",
   "metadata": {},
   "outputs": [
    {
     "data": {
      "text/html": [
       "<div>\n",
       "<style scoped>\n",
       "    .dataframe tbody tr th:only-of-type {\n",
       "        vertical-align: middle;\n",
       "    }\n",
       "\n",
       "    .dataframe tbody tr th {\n",
       "        vertical-align: top;\n",
       "    }\n",
       "\n",
       "    .dataframe thead th {\n",
       "        text-align: right;\n",
       "    }\n",
       "</style>\n",
       "<table border=\"1\" class=\"dataframe\">\n",
       "  <thead>\n",
       "    <tr style=\"text-align: right;\">\n",
       "      <th></th>\n",
       "      <th>0</th>\n",
       "    </tr>\n",
       "  </thead>\n",
       "  <tbody>\n",
       "    <tr>\n",
       "      <th>0</th>\n",
       "      <td>592</td>\n",
       "    </tr>\n",
       "  </tbody>\n",
       "</table>\n",
       "</div>"
      ],
      "text/plain": [
       "     0\n",
       "0  592"
      ]
     },
     "execution_count": 12,
     "metadata": {},
     "output_type": "execute_result"
    }
   ],
   "source": [
    "sensor_length_df"
   ]
  },
  {
   "cell_type": "code",
   "execution_count": 13,
   "id": "437f0c3d-7e4b-4bfa-bcfa-4cd268442989",
   "metadata": {},
   "outputs": [
    {
     "data": {
      "text/html": [
       "<div>\n",
       "<style scoped>\n",
       "    .dataframe tbody tr th:only-of-type {\n",
       "        vertical-align: middle;\n",
       "    }\n",
       "\n",
       "    .dataframe tbody tr th {\n",
       "        vertical-align: top;\n",
       "    }\n",
       "\n",
       "    .dataframe thead th {\n",
       "        text-align: right;\n",
       "    }\n",
       "</style>\n",
       "<table border=\"1\" class=\"dataframe\">\n",
       "  <thead>\n",
       "    <tr style=\"text-align: right;\">\n",
       "      <th></th>\n",
       "      <th>0</th>\n",
       "    </tr>\n",
       "  </thead>\n",
       "  <tbody>\n",
       "    <tr>\n",
       "      <th>0</th>\n",
       "      <td>304</td>\n",
       "    </tr>\n",
       "  </tbody>\n",
       "</table>\n",
       "</div>"
      ],
      "text/plain": [
       "     0\n",
       "0  304"
      ]
     },
     "execution_count": 13,
     "metadata": {},
     "output_type": "execute_result"
    }
   ],
   "source": [
    "vertex_length_df"
   ]
  },
  {
   "cell_type": "markdown",
   "id": "1d5f8191-605f-481a-9a04-ae639195c3bd",
   "metadata": {},
   "source": [
    "## **Prepare Dataset - edge.df**"
   ]
  },
  {
   "cell_type": "code",
   "execution_count": 43,
   "id": "245439ae-f968-4c0a-a4ff-fc6adfa4c66a",
   "metadata": {},
   "outputs": [
    {
     "name": "stdout",
     "output_type": "stream",
     "text": [
      "592\n",
      "304\n"
     ]
    }
   ],
   "source": [
    "#extract out the length values and convert to numerical from both dataframes\n",
    "\n",
    "sensor_length = int(sensor_length_df.iloc[0,0])\n",
    "print(sensor_length)\n",
    "\n",
    "vertex_length = int(vertex_length_df.iloc[0,0])\n",
    "print(vertex_length)"
   ]
  },
  {
   "cell_type": "code",
   "execution_count": 15,
   "id": "46eb90e4-cf1b-44c1-b5a7-2e8a5f01b51b",
   "metadata": {},
   "outputs": [
    {
     "data": {
      "text/html": [
       "<div>\n",
       "<style scoped>\n",
       "    .dataframe tbody tr th:only-of-type {\n",
       "        vertical-align: middle;\n",
       "    }\n",
       "\n",
       "    .dataframe tbody tr th {\n",
       "        vertical-align: top;\n",
       "    }\n",
       "\n",
       "    .dataframe thead th {\n",
       "        text-align: right;\n",
       "    }\n",
       "</style>\n",
       "<table border=\"1\" class=\"dataframe\">\n",
       "  <thead>\n",
       "    <tr style=\"text-align: right;\">\n",
       "      <th></th>\n",
       "      <th>sensor_id</th>\n",
       "      <th>vertex_id</th>\n",
       "    </tr>\n",
       "  </thead>\n",
       "  <tbody>\n",
       "    <tr>\n",
       "      <th>0</th>\n",
       "      <td>sensor_id_1</td>\n",
       "      <td>vertex_1</td>\n",
       "    </tr>\n",
       "    <tr>\n",
       "      <th>1</th>\n",
       "      <td>sensor_id_1</td>\n",
       "      <td>vertex_2</td>\n",
       "    </tr>\n",
       "    <tr>\n",
       "      <th>2</th>\n",
       "      <td>sensor_id_1</td>\n",
       "      <td>vertex_3</td>\n",
       "    </tr>\n",
       "    <tr>\n",
       "      <th>3</th>\n",
       "      <td>sensor_id_1</td>\n",
       "      <td>vertex_4</td>\n",
       "    </tr>\n",
       "    <tr>\n",
       "      <th>4</th>\n",
       "      <td>sensor_id_1</td>\n",
       "      <td>vertex_5</td>\n",
       "    </tr>\n",
       "    <tr>\n",
       "      <th>...</th>\n",
       "      <td>...</td>\n",
       "      <td>...</td>\n",
       "    </tr>\n",
       "    <tr>\n",
       "      <th>179963</th>\n",
       "      <td>sensor_id_592</td>\n",
       "      <td>vertex_300</td>\n",
       "    </tr>\n",
       "    <tr>\n",
       "      <th>179964</th>\n",
       "      <td>sensor_id_592</td>\n",
       "      <td>vertex_301</td>\n",
       "    </tr>\n",
       "    <tr>\n",
       "      <th>179965</th>\n",
       "      <td>sensor_id_592</td>\n",
       "      <td>vertex_302</td>\n",
       "    </tr>\n",
       "    <tr>\n",
       "      <th>179966</th>\n",
       "      <td>sensor_id_592</td>\n",
       "      <td>vertex_303</td>\n",
       "    </tr>\n",
       "    <tr>\n",
       "      <th>179967</th>\n",
       "      <td>sensor_id_592</td>\n",
       "      <td>vertex_304</td>\n",
       "    </tr>\n",
       "  </tbody>\n",
       "</table>\n",
       "<p>179968 rows × 2 columns</p>\n",
       "</div>"
      ],
      "text/plain": [
       "            sensor_id   vertex_id\n",
       "0         sensor_id_1    vertex_1\n",
       "1         sensor_id_1    vertex_2\n",
       "2         sensor_id_1    vertex_3\n",
       "3         sensor_id_1    vertex_4\n",
       "4         sensor_id_1    vertex_5\n",
       "...               ...         ...\n",
       "179963  sensor_id_592  vertex_300\n",
       "179964  sensor_id_592  vertex_301\n",
       "179965  sensor_id_592  vertex_302\n",
       "179966  sensor_id_592  vertex_303\n",
       "179967  sensor_id_592  vertex_304\n",
       "\n",
       "[179968 rows x 2 columns]"
      ]
     },
     "execution_count": 15,
     "metadata": {},
     "output_type": "execute_result"
    }
   ],
   "source": [
    "# Call function to create sensor id and vertex id dataframe\n",
    "\n",
    "temp_df = create_temp_df(sensor_length, vertex_length)\n",
    "temp_df"
   ]
  },
  {
   "cell_type": "code",
   "execution_count": 16,
   "id": "857adf7d-5a4c-4708-86b9-b4d6121d8e72",
   "metadata": {},
   "outputs": [],
   "source": [
    "# Add new column containing the distance values\n",
    "\n",
    "temp_df['distance'] = distance_df[0]\n",
    "edge_df = temp_df"
   ]
  },
  {
   "cell_type": "code",
   "execution_count": 17,
   "id": "6f3a7307-9c22-4af8-9b30-4ef9aa80fee0",
   "metadata": {},
   "outputs": [
    {
     "data": {
      "text/html": [
       "<div>\n",
       "<style scoped>\n",
       "    .dataframe tbody tr th:only-of-type {\n",
       "        vertical-align: middle;\n",
       "    }\n",
       "\n",
       "    .dataframe tbody tr th {\n",
       "        vertical-align: top;\n",
       "    }\n",
       "\n",
       "    .dataframe thead th {\n",
       "        text-align: right;\n",
       "    }\n",
       "</style>\n",
       "<table border=\"1\" class=\"dataframe\">\n",
       "  <thead>\n",
       "    <tr style=\"text-align: right;\">\n",
       "      <th></th>\n",
       "      <th>sensor_id</th>\n",
       "      <th>vertex_id</th>\n",
       "      <th>distance</th>\n",
       "    </tr>\n",
       "  </thead>\n",
       "  <tbody>\n",
       "    <tr>\n",
       "      <th>0</th>\n",
       "      <td>sensor_id_1</td>\n",
       "      <td>vertex_1</td>\n",
       "      <td>67.023770</td>\n",
       "    </tr>\n",
       "    <tr>\n",
       "      <th>1</th>\n",
       "      <td>sensor_id_1</td>\n",
       "      <td>vertex_2</td>\n",
       "      <td>66.190485</td>\n",
       "    </tr>\n",
       "    <tr>\n",
       "      <th>2</th>\n",
       "      <td>sensor_id_1</td>\n",
       "      <td>vertex_3</td>\n",
       "      <td>153.740162</td>\n",
       "    </tr>\n",
       "    <tr>\n",
       "      <th>3</th>\n",
       "      <td>sensor_id_1</td>\n",
       "      <td>vertex_4</td>\n",
       "      <td>154.100756</td>\n",
       "    </tr>\n",
       "    <tr>\n",
       "      <th>4</th>\n",
       "      <td>sensor_id_1</td>\n",
       "      <td>vertex_5</td>\n",
       "      <td>64.840293</td>\n",
       "    </tr>\n",
       "    <tr>\n",
       "      <th>...</th>\n",
       "      <td>...</td>\n",
       "      <td>...</td>\n",
       "      <td>...</td>\n",
       "    </tr>\n",
       "    <tr>\n",
       "      <th>179963</th>\n",
       "      <td>sensor_id_592</td>\n",
       "      <td>vertex_300</td>\n",
       "      <td>66.764631</td>\n",
       "    </tr>\n",
       "    <tr>\n",
       "      <th>179964</th>\n",
       "      <td>sensor_id_592</td>\n",
       "      <td>vertex_301</td>\n",
       "      <td>143.184055</td>\n",
       "    </tr>\n",
       "    <tr>\n",
       "      <th>179965</th>\n",
       "      <td>sensor_id_592</td>\n",
       "      <td>vertex_302</td>\n",
       "      <td>67.585628</td>\n",
       "    </tr>\n",
       "    <tr>\n",
       "      <th>179966</th>\n",
       "      <td>sensor_id_592</td>\n",
       "      <td>vertex_303</td>\n",
       "      <td>144.502558</td>\n",
       "    </tr>\n",
       "    <tr>\n",
       "      <th>179967</th>\n",
       "      <td>sensor_id_592</td>\n",
       "      <td>vertex_304</td>\n",
       "      <td>70.335856</td>\n",
       "    </tr>\n",
       "  </tbody>\n",
       "</table>\n",
       "<p>179968 rows × 3 columns</p>\n",
       "</div>"
      ],
      "text/plain": [
       "            sensor_id   vertex_id    distance\n",
       "0         sensor_id_1    vertex_1   67.023770\n",
       "1         sensor_id_1    vertex_2   66.190485\n",
       "2         sensor_id_1    vertex_3  153.740162\n",
       "3         sensor_id_1    vertex_4  154.100756\n",
       "4         sensor_id_1    vertex_5   64.840293\n",
       "...               ...         ...         ...\n",
       "179963  sensor_id_592  vertex_300   66.764631\n",
       "179964  sensor_id_592  vertex_301  143.184055\n",
       "179965  sensor_id_592  vertex_302   67.585628\n",
       "179966  sensor_id_592  vertex_303  144.502558\n",
       "179967  sensor_id_592  vertex_304   70.335856\n",
       "\n",
       "[179968 rows x 3 columns]"
      ]
     },
     "execution_count": 17,
     "metadata": {},
     "output_type": "execute_result"
    }
   ],
   "source": [
    "# print check\n",
    "edge_df"
   ]
  },
  {
   "cell_type": "markdown",
   "id": "7a24762d-e631-4a92-b628-c7b47dc17f61",
   "metadata": {},
   "source": [
    "## **Prepare Dataset - Null Check**"
   ]
  },
  {
   "cell_type": "code",
   "execution_count": 18,
   "id": "ee7c971c-6389-4ad4-afdf-5eb50e51f292",
   "metadata": {},
   "outputs": [
    {
     "name": "stdout",
     "output_type": "stream",
     "text": [
      "Nil\n",
      "Nil\n",
      "Nil\n",
      "Nil\n",
      "Nil\n",
      "Nil\n",
      "Nil\n",
      "Nil\n"
     ]
    }
   ],
   "source": [
    "null_check(sensor_df)\n",
    "null_check(building_df)\n",
    "null_check(label_df)\n",
    "null_check(distance_df)"
   ]
  },
  {
   "cell_type": "markdown",
   "id": "23889dab-4dab-458a-ac0d-2cb15a30f164",
   "metadata": {},
   "source": [
    "## **Preprocess Node Index and Naming**"
   ]
  },
  {
   "cell_type": "code",
   "execution_count": 19,
   "id": "806d58ff-55a7-496e-b80a-ad645ad17926",
   "metadata": {},
   "outputs": [],
   "source": [
    "sensor_df = format_and_insert_id_column(sensor_df, 'sensor_id')\n",
    "building_df = format_and_insert_id_column(building_df, 'vertex_id')\n",
    "label_df = format_and_insert_id_column(label_df, 'sensor_id')"
   ]
  },
  {
   "cell_type": "markdown",
   "id": "4ec54a74-4415-41f0-a39e-d0fa84d45fc3",
   "metadata": {},
   "source": [
    "## **Add Column Headers**"
   ]
  },
  {
   "cell_type": "code",
   "execution_count": 20,
   "id": "98c42708-3725-4f53-9ef7-8b7cbffed5fa",
   "metadata": {},
   "outputs": [],
   "source": [
    "sensor_df.rename(columns={0: 'sensor_x_coordinate', 1: 'sensor_y_coordinate', 2: 'sensor_z_coordinate'}, inplace=True)"
   ]
  },
  {
   "cell_type": "code",
   "execution_count": 21,
   "id": "93231c37-89f3-4db3-917c-9101f409ba27",
   "metadata": {},
   "outputs": [],
   "source": [
    "label_df.columns = ['sensor_id', 'hb_solar_radiation']"
   ]
  },
  {
   "cell_type": "markdown",
   "id": "be2769ae-4067-4b81-99b2-103bc2dd0b65",
   "metadata": {},
   "source": [
    "## **Final Check**"
   ]
  },
  {
   "cell_type": "code",
   "execution_count": 22,
   "id": "feb11520-4bc4-48e4-864b-8bbe2267a841",
   "metadata": {},
   "outputs": [
    {
     "name": "stdout",
     "output_type": "stream",
     "text": [
      "sensor_df\n",
      "     sensor_id  sensor_x_coordinate  sensor_y_coordinate  sensor_z_coordinate\n",
      "0  sensor_id_1            477.06308           461.141174             5.142857\n",
      "1  sensor_id_2            477.06308           461.141174            15.428571\n",
      "2  sensor_id_3            477.06308           461.141174            25.714286\n",
      "3  sensor_id_4            477.06308           461.141174            36.000000\n",
      "4  sensor_id_5            477.06308           461.141174            46.285713\n",
      "--------------------------------------------------\n",
      "building_df\n",
      "     vertex_id           0           1    2\n",
      "0  vertex_id_1  461.530842  526.137223    0\n",
      "1  vertex_id_2  461.483806  525.266190    0\n",
      "2  vertex_id_3  461.483806  525.266190  144\n",
      "3  vertex_id_4  461.530842  526.137223  144\n",
      "4  vertex_id_5  467.275519  525.031849    0\n",
      "--------------------------------------------------\n",
      "label_df\n",
      "     sensor_id  hb_solar_radiation\n",
      "0  sensor_id_1          596.414648\n",
      "1  sensor_id_2          592.142129\n",
      "2  sensor_id_3          594.472556\n",
      "3  sensor_id_4          588.271100\n",
      "4  sensor_id_5          597.765451\n",
      "--------------------------------------------------\n",
      "edge_df\n",
      "     sensor_id vertex_id    distance\n",
      "0  sensor_id_1  vertex_1   67.023770\n",
      "1  sensor_id_1  vertex_2   66.190485\n",
      "2  sensor_id_1  vertex_3  153.740162\n",
      "3  sensor_id_1  vertex_4  154.100756\n",
      "4  sensor_id_1  vertex_5   64.840293\n",
      "--------------------------------------------------\n"
     ]
    }
   ],
   "source": [
    "dataframes = [\n",
    "    ('sensor_df', sensor_df),\n",
    "    ('building_df', building_df),\n",
    "    ('label_df', label_df),\n",
    "    ('edge_df', edge_df)\n",
    "]\n",
    "\n",
    "print_df(dataframes)"
   ]
  },
  {
   "cell_type": "markdown",
   "id": "857d5861-6f38-4e83-8307-4ca3f21276c3",
   "metadata": {},
   "source": [
    "## **Overall Graph Object**"
   ]
  },
  {
   "cell_type": "markdown",
   "id": "a52fa14a-ad09-43a5-aa5c-97f5b150b614",
   "metadata": {},
   "source": [
    "- Node Features\n",
    "- Edge Index\n",
    "- Edge Attributes\n",
    "- Combine to form data object"
   ]
  },
  {
   "attachments": {},
   "cell_type": "markdown",
   "id": "ef21fd46-79b5-441f-ab7b-12182fb23db0",
   "metadata": {},
   "source": [
    "## **Prepare Node Features**"
   ]
  },
  {
   "cell_type": "markdown",
   "id": "155f9316-c11f-4392-8b6e-2fabe38ffbbc",
   "metadata": {},
   "source": [
    "Combine sensor and building information to create a unified node feature matrix. "
   ]
  },
  {
   "cell_type": "markdown",
   "id": "c35e1202-2503-446b-ab65-1e3c889fc3b4",
   "metadata": {},
   "source": [
    "Combine sensor_df and building_df into a single dataframe, ensuring each has a unique identifier across sensors and vertices"
   ]
  },
  {
   "cell_type": "code",
   "execution_count": 23,
   "id": "70667176-f1ae-4007-89f1-f80078fa575f",
   "metadata": {},
   "outputs": [],
   "source": [
    "# Add a column to distinguish between sensors and vertices\n",
    "sensor_df['type'] = 'sensor'\n",
    "building_df['type'] = 'vertex'"
   ]
  },
  {
   "cell_type": "code",
   "execution_count": 24,
   "id": "258302b5-a7b9-4900-956a-93c9d2a1cf0f",
   "metadata": {},
   "outputs": [],
   "source": [
    "# Combine dataframes\n",
    "all_nodes_df = pd.concat([sensor_df.assign(index=range(0, len(sensor_df))),\n",
    "                          building_df.assign(index=range(len(sensor_df), len(sensor_df)+len(building_df)))])"
   ]
  },
  {
   "cell_type": "code",
   "execution_count": 26,
   "id": "8204854a-4712-415f-a370-80b80c7136ff",
   "metadata": {},
   "outputs": [
    {
     "data": {
      "text/html": [
       "<div>\n",
       "<style scoped>\n",
       "    .dataframe tbody tr th:only-of-type {\n",
       "        vertical-align: middle;\n",
       "    }\n",
       "\n",
       "    .dataframe tbody tr th {\n",
       "        vertical-align: top;\n",
       "    }\n",
       "\n",
       "    .dataframe thead th {\n",
       "        text-align: right;\n",
       "    }\n",
       "</style>\n",
       "<table border=\"1\" class=\"dataframe\">\n",
       "  <thead>\n",
       "    <tr style=\"text-align: right;\">\n",
       "      <th></th>\n",
       "      <th>sensor_id</th>\n",
       "      <th>sensor_x_coordinate</th>\n",
       "      <th>sensor_y_coordinate</th>\n",
       "      <th>sensor_z_coordinate</th>\n",
       "      <th>type</th>\n",
       "      <th>index</th>\n",
       "      <th>vertex_id</th>\n",
       "      <th>0</th>\n",
       "      <th>1</th>\n",
       "      <th>2</th>\n",
       "      <th>type_flag</th>\n",
       "    </tr>\n",
       "  </thead>\n",
       "  <tbody>\n",
       "    <tr>\n",
       "      <th>0</th>\n",
       "      <td>sensor_id_1</td>\n",
       "      <td>477.06308</td>\n",
       "      <td>461.141174</td>\n",
       "      <td>5.142857</td>\n",
       "      <td>sensor</td>\n",
       "      <td>0</td>\n",
       "      <td>NaN</td>\n",
       "      <td>NaN</td>\n",
       "      <td>NaN</td>\n",
       "      <td>NaN</td>\n",
       "      <td>1</td>\n",
       "    </tr>\n",
       "    <tr>\n",
       "      <th>1</th>\n",
       "      <td>sensor_id_2</td>\n",
       "      <td>477.06308</td>\n",
       "      <td>461.141174</td>\n",
       "      <td>15.428571</td>\n",
       "      <td>sensor</td>\n",
       "      <td>1</td>\n",
       "      <td>NaN</td>\n",
       "      <td>NaN</td>\n",
       "      <td>NaN</td>\n",
       "      <td>NaN</td>\n",
       "      <td>1</td>\n",
       "    </tr>\n",
       "    <tr>\n",
       "      <th>2</th>\n",
       "      <td>sensor_id_3</td>\n",
       "      <td>477.06308</td>\n",
       "      <td>461.141174</td>\n",
       "      <td>25.714286</td>\n",
       "      <td>sensor</td>\n",
       "      <td>2</td>\n",
       "      <td>NaN</td>\n",
       "      <td>NaN</td>\n",
       "      <td>NaN</td>\n",
       "      <td>NaN</td>\n",
       "      <td>1</td>\n",
       "    </tr>\n",
       "    <tr>\n",
       "      <th>3</th>\n",
       "      <td>sensor_id_4</td>\n",
       "      <td>477.06308</td>\n",
       "      <td>461.141174</td>\n",
       "      <td>36.000000</td>\n",
       "      <td>sensor</td>\n",
       "      <td>3</td>\n",
       "      <td>NaN</td>\n",
       "      <td>NaN</td>\n",
       "      <td>NaN</td>\n",
       "      <td>NaN</td>\n",
       "      <td>1</td>\n",
       "    </tr>\n",
       "    <tr>\n",
       "      <th>4</th>\n",
       "      <td>sensor_id_5</td>\n",
       "      <td>477.06308</td>\n",
       "      <td>461.141174</td>\n",
       "      <td>46.285713</td>\n",
       "      <td>sensor</td>\n",
       "      <td>4</td>\n",
       "      <td>NaN</td>\n",
       "      <td>NaN</td>\n",
       "      <td>NaN</td>\n",
       "      <td>NaN</td>\n",
       "      <td>1</td>\n",
       "    </tr>\n",
       "    <tr>\n",
       "      <th>...</th>\n",
       "      <td>...</td>\n",
       "      <td>...</td>\n",
       "      <td>...</td>\n",
       "      <td>...</td>\n",
       "      <td>...</td>\n",
       "      <td>...</td>\n",
       "      <td>...</td>\n",
       "      <td>...</td>\n",
       "      <td>...</td>\n",
       "      <td>...</td>\n",
       "      <td>...</td>\n",
       "    </tr>\n",
       "    <tr>\n",
       "      <th>299</th>\n",
       "      <td>NaN</td>\n",
       "      <td>NaN</td>\n",
       "      <td>NaN</td>\n",
       "      <td>NaN</td>\n",
       "      <td>vertex</td>\n",
       "      <td>891</td>\n",
       "      <td>vertex_id_300</td>\n",
       "      <td>461.090481</td>\n",
       "      <td>441.052050</td>\n",
       "      <td>81.0</td>\n",
       "      <td>0</td>\n",
       "    </tr>\n",
       "    <tr>\n",
       "      <th>300</th>\n",
       "      <td>NaN</td>\n",
       "      <td>NaN</td>\n",
       "      <td>NaN</td>\n",
       "      <td>NaN</td>\n",
       "      <td>vertex</td>\n",
       "      <td>892</td>\n",
       "      <td>vertex_id_301</td>\n",
       "      <td>458.656271</td>\n",
       "      <td>441.127307</td>\n",
       "      <td>0.0</td>\n",
       "      <td>0</td>\n",
       "    </tr>\n",
       "    <tr>\n",
       "      <th>301</th>\n",
       "      <td>NaN</td>\n",
       "      <td>NaN</td>\n",
       "      <td>NaN</td>\n",
       "      <td>NaN</td>\n",
       "      <td>vertex</td>\n",
       "      <td>893</td>\n",
       "      <td>vertex_id_302</td>\n",
       "      <td>458.656271</td>\n",
       "      <td>441.127307</td>\n",
       "      <td>81.0</td>\n",
       "      <td>0</td>\n",
       "    </tr>\n",
       "    <tr>\n",
       "      <th>302</th>\n",
       "      <td>NaN</td>\n",
       "      <td>NaN</td>\n",
       "      <td>NaN</td>\n",
       "      <td>NaN</td>\n",
       "      <td>vertex</td>\n",
       "      <td>894</td>\n",
       "      <td>vertex_id_303</td>\n",
       "      <td>458.438724</td>\n",
       "      <td>434.557430</td>\n",
       "      <td>0.0</td>\n",
       "      <td>0</td>\n",
       "    </tr>\n",
       "    <tr>\n",
       "      <th>303</th>\n",
       "      <td>NaN</td>\n",
       "      <td>NaN</td>\n",
       "      <td>NaN</td>\n",
       "      <td>NaN</td>\n",
       "      <td>vertex</td>\n",
       "      <td>895</td>\n",
       "      <td>vertex_id_304</td>\n",
       "      <td>458.438724</td>\n",
       "      <td>434.557430</td>\n",
       "      <td>81.0</td>\n",
       "      <td>0</td>\n",
       "    </tr>\n",
       "  </tbody>\n",
       "</table>\n",
       "<p>896 rows × 11 columns</p>\n",
       "</div>"
      ],
      "text/plain": [
       "       sensor_id  sensor_x_coordinate  sensor_y_coordinate  \\\n",
       "0    sensor_id_1            477.06308           461.141174   \n",
       "1    sensor_id_2            477.06308           461.141174   \n",
       "2    sensor_id_3            477.06308           461.141174   \n",
       "3    sensor_id_4            477.06308           461.141174   \n",
       "4    sensor_id_5            477.06308           461.141174   \n",
       "..           ...                  ...                  ...   \n",
       "299          NaN                  NaN                  NaN   \n",
       "300          NaN                  NaN                  NaN   \n",
       "301          NaN                  NaN                  NaN   \n",
       "302          NaN                  NaN                  NaN   \n",
       "303          NaN                  NaN                  NaN   \n",
       "\n",
       "     sensor_z_coordinate    type  index      vertex_id           0  \\\n",
       "0               5.142857  sensor      0            NaN         NaN   \n",
       "1              15.428571  sensor      1            NaN         NaN   \n",
       "2              25.714286  sensor      2            NaN         NaN   \n",
       "3              36.000000  sensor      3            NaN         NaN   \n",
       "4              46.285713  sensor      4            NaN         NaN   \n",
       "..                   ...     ...    ...            ...         ...   \n",
       "299                  NaN  vertex    891  vertex_id_300  461.090481   \n",
       "300                  NaN  vertex    892  vertex_id_301  458.656271   \n",
       "301                  NaN  vertex    893  vertex_id_302  458.656271   \n",
       "302                  NaN  vertex    894  vertex_id_303  458.438724   \n",
       "303                  NaN  vertex    895  vertex_id_304  458.438724   \n",
       "\n",
       "              1     2  type_flag  \n",
       "0           NaN   NaN          1  \n",
       "1           NaN   NaN          1  \n",
       "2           NaN   NaN          1  \n",
       "3           NaN   NaN          1  \n",
       "4           NaN   NaN          1  \n",
       "..          ...   ...        ...  \n",
       "299  441.052050  81.0          0  \n",
       "300  441.127307   0.0          0  \n",
       "301  441.127307  81.0          0  \n",
       "302  434.557430   0.0          0  \n",
       "303  434.557430  81.0          0  \n",
       "\n",
       "[896 rows x 11 columns]"
      ]
     },
     "execution_count": 26,
     "metadata": {},
     "output_type": "execute_result"
    }
   ],
   "source": [
    "# Prepare node features - example: using coordinates and a type flag (sensor=1, vertex=0)\n",
    "all_nodes_df['type_flag'] = all_nodes_df['type'].apply(lambda x: 1 if x == 'sensor' else 0)\n",
    "node_features = all_nodes_df[['sensor_x_coordinate', 'sensor_y_coordinate', 'sensor_z_coordinate', 'type_flag']].fillna(0).values\n",
    "x = torch.tensor(node_features, dtype=torch.float)\n",
    "\n",
    "# Print Check\n",
    "all_nodes_df"
   ]
  },
  {
   "cell_type": "code",
   "execution_count": 27,
   "id": "948db22e-2020-4f92-a7a0-5a2cea6670ac",
   "metadata": {},
   "outputs": [
    {
     "name": "stdout",
     "output_type": "stream",
     "text": [
      "Node Features Tensor:\n",
      "tensor([[477.0631, 461.1412,   5.1429,   1.0000],\n",
      "        [477.0631, 461.1412,  15.4286,   1.0000],\n",
      "        [477.0631, 461.1412,  25.7143,   1.0000],\n",
      "        ...,\n",
      "        [  0.0000,   0.0000,   0.0000,   0.0000],\n",
      "        [  0.0000,   0.0000,   0.0000,   0.0000],\n",
      "        [  0.0000,   0.0000,   0.0000,   0.0000]])\n"
     ]
    }
   ],
   "source": [
    "# Print the tensor to check its contents\n",
    "print(\"Node Features Tensor:\")\n",
    "print(x)"
   ]
  },
  {
   "cell_type": "markdown",
   "id": "2953cfbd-a75a-4544-950c-d585b5809dd3",
   "metadata": {},
   "source": [
    "## **Create Edge Index**"
   ]
  },
  {
   "cell_type": "markdown",
   "id": "18b040ec-1c44-4ec0-88b4-2defde195512",
   "metadata": {},
   "source": [
    "1. Map each sensor_id and vertex_id to a unique index.\r",
    "2. \n",
    "Use these mappings to create the edge_index tensor from edge_df."
   ]
  },
  {
   "cell_type": "markdown",
   "id": "1d56230c-3508-456b-9a8e-7794340bb63c",
   "metadata": {},
   "source": [
    "Step 1: Prepare Mappings\n",
    "First, we'll create dictionaries to map sensor_id and vertex_id to unique indices. We'll concatenate the indices of sensors and vertices to ensure uniqueness across the graph."
   ]
  },
  {
   "cell_type": "code",
   "execution_count": 28,
   "id": "802d6696-3ca8-43e9-8bd9-bd4a45ae9eb4",
   "metadata": {},
   "outputs": [],
   "source": [
    "sensor_ids = sensor_df['sensor_id'].unique()\n",
    "vertex_ids = building_df['vertex_id'].unique()\n",
    "\n",
    "# Create a continuous index for sensors and vertices\n",
    "sensor_index = {sensor_id: i for i, sensor_id in enumerate(sensor_ids)}\n",
    "vertex_index = {vertex_id: i + len(sensor_index) for i, vertex_id in enumerate(vertex_ids)}"
   ]
  },
  {
   "cell_type": "markdown",
   "id": "a9013e73-bb7b-48c1-92c0-e849c2337d3c",
   "metadata": {},
   "source": [
    "Step 2: Create Edge Index\n",
    "Next, we'll use these mappings to create the edge_index tensor. Note that the vertex_id in edge_df appears to have a slight discrepancy (missing the \"id_\" part based on the example provided), so we'll adjust for that in our mapping."
   ]
  },
  {
   "cell_type": "code",
   "execution_count": 29,
   "id": "dcf3d903-c5d7-4e31-a89d-296ab8c39909",
   "metadata": {},
   "outputs": [],
   "source": [
    "# Adjust the vertex_id in edge_df to match the format in buildings_df\n",
    "edge_df['adjusted_vertex_id'] = edge_df['vertex_id'].apply(lambda x: 'vertex_id_' + x.split('_')[-1])\n",
    "\n",
    "# Map sensor_id and vertex_id to their respective indices\n",
    "edge_index_list = edge_df.apply(lambda row: [sensor_index.get(row['sensor_id'], -1),\n",
    "                                             vertex_index.get(row['adjusted_vertex_id'], -1)], axis=1)\n",
    "\n",
    "# Filter out any edges that couldn't be mapped (-1 indicates a mapping failure)\n",
    "filtered_edge_index_list = [pair for pair in edge_index_list if -1 not in pair]\n",
    "\n",
    "# Convert to torch tensor\n",
    "edge_index = torch.tensor(filtered_edge_index_list, dtype=torch.long).t().contiguous()\n"
   ]
  },
  {
   "cell_type": "code",
   "execution_count": 30,
   "id": "1c3c4bbe-4b74-42f4-b234-2293f84ba2cd",
   "metadata": {},
   "outputs": [
    {
     "data": {
      "text/plain": [
       "tensor([[  0,   0,   0,  ..., 591, 591, 591],\n",
       "        [592, 593, 594,  ..., 893, 894, 895]])"
      ]
     },
     "execution_count": 30,
     "metadata": {},
     "output_type": "execute_result"
    }
   ],
   "source": [
    "edge_index"
   ]
  },
  {
   "cell_type": "markdown",
   "id": "6117a6dc-0016-458d-b91c-ba2643516ee2",
   "metadata": {},
   "source": [
    "## **Edge Attributes**"
   ]
  },
  {
   "cell_type": "markdown",
   "id": "5a05a096-355f-4148-aeb3-5f6a9c6fdd80",
   "metadata": {},
   "source": [
    "This section extracts edge attributes from the edge_df and converts them into a torch tensor."
   ]
  },
  {
   "cell_type": "code",
   "execution_count": 31,
   "id": "3a7ea40e-be0b-4c61-8a2e-d4aabe65bf54",
   "metadata": {},
   "outputs": [],
   "source": [
    "edge_attr = torch.tensor(edge_df[['distance']].values, dtype=torch.float)"
   ]
  },
  {
   "cell_type": "code",
   "execution_count": 32,
   "id": "cb465579-dd5e-487e-a4ed-fc23f58f80b2",
   "metadata": {},
   "outputs": [
    {
     "data": {
      "text/plain": [
       "tensor([[ 67.0238],\n",
       "        [ 66.1905],\n",
       "        [153.7402],\n",
       "        ...,\n",
       "        [ 67.5856],\n",
       "        [144.5026],\n",
       "        [ 70.3359]])"
      ]
     },
     "execution_count": 32,
     "metadata": {},
     "output_type": "execute_result"
    }
   ],
   "source": [
    "edge_attr"
   ]
  },
  {
   "cell_type": "markdown",
   "id": "bc442d44-235d-4424-84e5-a051fc9bfc42",
   "metadata": {},
   "source": [
    "## **Target Labels**"
   ]
  },
  {
   "cell_type": "markdown",
   "id": "ccea2750-e585-47eb-aa32-66d55507be4b",
   "metadata": {},
   "source": [
    "This sections prepares the labels for sensors by:\n",
    "1. Aligning with their respective indices\n",
    "2. Converting to a torch tensor"
   ]
  },
  {
   "cell_type": "code",
   "execution_count": 33,
   "id": "cb2d302c-d47e-4213-8696-86b5b2cf333a",
   "metadata": {},
   "outputs": [],
   "source": [
    "# Ensure data type compatibility\n",
    "label_df['hb_solar_radiation'] = label_df['hb_solar_radiation'].astype(float)"
   ]
  },
  {
   "cell_type": "code",
   "execution_count": 34,
   "id": "9f496e81-8c1f-436e-b5c4-cdbaf06dd4f0",
   "metadata": {},
   "outputs": [],
   "source": [
    "# Update labels for sensors with their radiation values\n",
    "label_df['index'] = label_df['sensor_id'].map(sensor_index)"
   ]
  },
  {
   "cell_type": "code",
   "execution_count": 35,
   "id": "e1ef8b79-c059-40d0-b30e-96b5513446c1",
   "metadata": {},
   "outputs": [],
   "source": [
    "# Create torch tensor with compatible data type\n",
    "labels = torch.zeros(len(label_df), dtype=torch.float)\n",
    "labels[label_df['index']] = torch.tensor(label_df['hb_solar_radiation'].values, dtype=torch.float)"
   ]
  },
  {
   "cell_type": "markdown",
   "id": "3cfa0599-0e7c-460f-b1b4-d3804a421c05",
   "metadata": {},
   "source": [
    "## **Create a PyTorch Geometric Data Object**"
   ]
  },
  {
   "cell_type": "markdown",
   "id": "ff73a83b-fbfb-4b7a-a02d-516a9556307a",
   "metadata": {},
   "source": [
    "**Training Data Code**"
   ]
  },
  {
   "cell_type": "code",
   "execution_count": 36,
   "id": "d1b7064d-7c32-419e-922c-5c899c315db9",
   "metadata": {},
   "outputs": [],
   "source": [
    "# use this chunk for TRAINING data\n",
    "data_training = Data(x=x, edge_index=edge_index, edge_attr=edge_attr, y=labels)"
   ]
  },
  {
   "cell_type": "code",
   "execution_count": 37,
   "id": "e2c3fab2-93f9-411f-8214-732427d708ee",
   "metadata": {},
   "outputs": [
    {
     "name": "stdout",
     "output_type": "stream",
     "text": [
      "Data Object:\n",
      "Data(x=[896, 4], edge_index=[2, 179968], edge_attr=[179968, 1], y=[592])\n"
     ]
    }
   ],
   "source": [
    "# Print check for the Data object\n",
    "print(\"Data Object:\")\n",
    "print(data_training)"
   ]
  },
  {
   "cell_type": "markdown",
   "id": "8bb5482e-37ff-4567-9da6-d8a4386ca487",
   "metadata": {},
   "source": [
    "**Prediction Data Code**"
   ]
  },
  {
   "cell_type": "code",
   "execution_count": 38,
   "id": "6f6589e0-d7f6-4185-aa3a-f44c2d7feec1",
   "metadata": {},
   "outputs": [],
   "source": [
    "# use this chunk for PREDICTION data\n",
    "data_predict = Data(x=x, edge_index=edge_index, edge_attr=edge_attr)"
   ]
  },
  {
   "cell_type": "code",
   "execution_count": 39,
   "id": "462039d4-4e36-45d7-94e4-7d99c9526380",
   "metadata": {},
   "outputs": [
    {
     "name": "stdout",
     "output_type": "stream",
     "text": [
      "Data Object:\n",
      "Data(x=[896, 4], edge_index=[2, 179968], edge_attr=[179968, 1])\n"
     ]
    }
   ],
   "source": [
    "# Print check for the Data object\n",
    "print(\"Data Object:\")\n",
    "print(data_predict)"
   ]
  },
  {
   "cell_type": "markdown",
   "id": "93e75d86-6550-4080-9db8-505d5059b2c5",
   "metadata": {},
   "source": [
    "## **Saving the Data Object**"
   ]
  },
  {
   "cell_type": "markdown",
   "id": "a220613e-c51b-44cf-98b9-7fb4c783665a",
   "metadata": {},
   "source": [
    "**Training**"
   ]
  },
  {
   "cell_type": "code",
   "execution_count": 41,
   "id": "b13bf18a-8f85-4ce1-9e51-e9f476f16138",
   "metadata": {},
   "outputs": [
    {
     "name": "stdout",
     "output_type": "stream",
     "text": [
      "saved\n"
     ]
    }
   ],
   "source": [
    "# UNCOMMENT to save\n",
    "torch.save(data_training, filename_training)\n",
    "\n",
    "print('saved')"
   ]
  },
  {
   "cell_type": "markdown",
   "id": "ac4feef3-2a19-4acf-a125-1c65584783be",
   "metadata": {},
   "source": [
    "**Prediction**"
   ]
  },
  {
   "cell_type": "code",
   "execution_count": 42,
   "id": "6ea13c0f-b549-47eb-8580-f1acaef52ee0",
   "metadata": {},
   "outputs": [
    {
     "data": {
      "text/plain": [
       "\"\\nfilename = rf'data/torch_data_object_prediction/{run_num}.pt'\\ntorch.save(data_predict, filename)\\n\\nprint('saved')\\n\""
      ]
     },
     "execution_count": 42,
     "metadata": {},
     "output_type": "execute_result"
    }
   ],
   "source": [
    "# UNCOMMENT to save\n",
    "\n",
    "'''\n",
    "torch.save(data_predict, filename_prediction)\n",
    "\n",
    "print('saved')\n",
    "'''"
   ]
  }
 ],
 "metadata": {
  "kernelspec": {
   "display_name": "Python 3 (ipykernel)",
   "language": "python",
   "name": "python3"
  },
  "language_info": {
   "codemirror_mode": {
    "name": "ipython",
    "version": 3
   },
   "file_extension": ".py",
   "mimetype": "text/x-python",
   "name": "python",
   "nbconvert_exporter": "python",
   "pygments_lexer": "ipython3",
   "version": "3.10.6"
  }
 },
 "nbformat": 4,
 "nbformat_minor": 5
}
