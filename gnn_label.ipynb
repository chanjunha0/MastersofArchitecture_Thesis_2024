{
 "cells": [
  {
   "cell_type": "markdown",
   "id": "b51f4429-7c33-489b-a83d-6e2ae20036b5",
   "metadata": {},
   "source": [
    "## **README**"
   ]
  },
  {
   "cell_type": "markdown",
   "id": "1aadb3fc-a3a4-42f8-9524-12fbf7666740",
   "metadata": {},
   "source": [
    "This notebook extracts the sensor length from each run and saves them in a dataframe to export to csv. This result is then used in the model training process to correspond to the masking length for each run's dataframe."
   ]
  },
  {
   "cell_type": "markdown",
   "id": "9e9f46c3-26a0-4a90-a717-8465f6ce9319",
   "metadata": {},
   "source": [
    "## **Import Dependencies**"
   ]
  },
  {
   "cell_type": "code",
   "execution_count": 1,
   "id": "719e89cb-5c5c-4543-9815-f178675692b6",
   "metadata": {},
   "outputs": [],
   "source": [
    "import os\n",
    "import pandas as pd"
   ]
  },
  {
   "cell_type": "markdown",
   "id": "0fb534ed-8631-49fc-be62-2b66d31e7416",
   "metadata": {},
   "source": [
    "## **Specify File Path**"
   ]
  },
  {
   "cell_type": "code",
   "execution_count": 2,
   "id": "29db4146-8e53-4eb7-b6b5-2c2bf1a37f26",
   "metadata": {},
   "outputs": [],
   "source": [
    "# Specify the base directory to search in and the output folder to save 'labels_info.csv'\n",
    "base_dir = r'data\\csv_training'\n",
    "output_folder = r'data\\torch_data_object_training'"
   ]
  },
  {
   "cell_type": "markdown",
   "id": "51b4d925-b52a-4472-9c03-ca27e15c19f2",
   "metadata": {},
   "source": [
    "## **Define Function**"
   ]
  },
  {
   "cell_type": "code",
   "execution_count": 3,
   "id": "7c903630-7d71-4d06-b7e5-c8e81c5342cb",
   "metadata": {},
   "outputs": [],
   "source": [
    "def find_and_extract_values(base_dir, output_folder):\n",
    "    # Ensure the output folder exists\n",
    "    os.makedirs(output_folder, exist_ok=True)\n",
    "    output_file = os.path.join(output_folder, 'labels_info.csv')\n",
    "\n",
    "    values = []\n",
    "\n",
    "    # Walk through the directory\n",
    "    for root, dirs, files in os.walk(base_dir):\n",
    "        if 'sensor_length.csv' in files:\n",
    "            file_path = os.path.join(root, 'sensor_length.csv')\n",
    "            # Assuming the file contains only one numerical value\n",
    "            # Adjust the reading method if the structure is different\n",
    "            value = pd.read_csv(file_path, header=None).iloc[0,0]\n",
    "            values.append(value)\n",
    "\n",
    "    # Save the collected values into a CSV file with column header\n",
    "    pd.DataFrame(values, columns=['num_labeled_nodes']).to_csv(output_file, index=False)"
   ]
  },
  {
   "cell_type": "markdown",
   "id": "4380e5a6-8c6d-4ad9-93a4-ee7ba8eb1ad8",
   "metadata": {},
   "source": [
    "## **Call Function**"
   ]
  },
  {
   "cell_type": "code",
   "execution_count": 4,
   "id": "6df76551-68e5-437b-a280-785689fc5747",
   "metadata": {},
   "outputs": [
    {
     "name": "stdout",
     "output_type": "stream",
     "text": [
      "saved\n"
     ]
    }
   ],
   "source": [
    "find_and_extract_values(base_dir, output_folder)\n",
    "\n",
    "print('saved')"
   ]
  }
 ],
 "metadata": {
  "kernelspec": {
   "display_name": "Python 3 (ipykernel)",
   "language": "python",
   "name": "python3"
  },
  "language_info": {
   "codemirror_mode": {
    "name": "ipython",
    "version": 3
   },
   "file_extension": ".py",
   "mimetype": "text/x-python",
   "name": "python",
   "nbconvert_exporter": "python",
   "pygments_lexer": "ipython3",
   "version": "3.10.6"
  }
 },
 "nbformat": 4,
 "nbformat_minor": 5
}
