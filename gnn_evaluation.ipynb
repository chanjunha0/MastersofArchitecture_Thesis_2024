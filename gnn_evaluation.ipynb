{
 "cells": [
  {
   "cell_type": "markdown",
   "id": "14665c73-a17b-4b48-8822-9d1568ac32d3",
   "metadata": {},
   "source": [
    "## **Notebook Description**"
   ]
  },
  {
   "cell_type": "markdown",
   "id": "ce7af95e-bdb5-4ba2-99fe-6e43ff39be07",
   "metadata": {},
   "source": [
    "This notebook:\n",
    "1. Evaluates the predicted results from the trained model based on Mean Absolute Error."
   ]
  },
  {
   "cell_type": "markdown",
   "id": "d31ed45b-d083-466b-93c4-dbec3a83d64f",
   "metadata": {},
   "source": [
    "MAE gives a direct, interpretable measurement of the average error in the predictions. It's useful for understanding the typical error magnitude."
   ]
  },
  {
   "cell_type": "markdown",
   "id": "f7659129-bfb0-45a1-b7ec-d5cbeacd14be",
   "metadata": {},
   "source": [
    "## **Import Libraries**"
   ]
  },
  {
   "cell_type": "code",
   "execution_count": 1,
   "id": "c8e45f40-9d70-43b9-8324-22b5ba157a96",
   "metadata": {},
   "outputs": [],
   "source": [
    "# import libraries\n",
    "\n",
    "import pandas as pd\n",
    "from sklearn.metrics import mean_absolute_error, r2_score\n",
    "import matplotlib.pyplot as plt\n",
    "import seaborn as sns\n",
    "import numpy as np"
   ]
  },
  {
   "cell_type": "markdown",
   "id": "37012a21-b623-4294-a0d3-d21b0f71f089",
   "metadata": {},
   "source": [
    "## **Import Dataset**"
   ]
  },
  {
   "cell_type": "code",
   "execution_count": 2,
   "id": "ab8ca793-d0b4-4f8e-8ec5-f7479a1f4351",
   "metadata": {},
   "outputs": [
    {
     "name": "stdout",
     "output_type": "stream",
     "text": [
      "imported\n"
     ]
    }
   ],
   "source": [
    "# import csv\n",
    "\n",
    "run_num = 'run_3'\n",
    "\n",
    "#Actual simulated labels\n",
    "label_actual_df= pd.read_csv(f'data/2_prediction_testing/label_{run_num}.csv', header = None)\n",
    "\n",
    "#Predicted labels\n",
    "label_predict_df= pd.read_csv(f'data/2_prediction_testing/sensor_predictions_{run_num}.csv', header = None)\n",
    "print('imported')"
   ]
  },
  {
   "cell_type": "code",
   "execution_count": 3,
   "id": "f015b89a-5677-42fb-9418-d81c2eb0b577",
   "metadata": {},
   "outputs": [
    {
     "data": {
      "text/html": [
       "<div>\n",
       "<style scoped>\n",
       "    .dataframe tbody tr th:only-of-type {\n",
       "        vertical-align: middle;\n",
       "    }\n",
       "\n",
       "    .dataframe tbody tr th {\n",
       "        vertical-align: top;\n",
       "    }\n",
       "\n",
       "    .dataframe thead th {\n",
       "        text-align: right;\n",
       "    }\n",
       "</style>\n",
       "<table border=\"1\" class=\"dataframe\">\n",
       "  <thead>\n",
       "    <tr style=\"text-align: right;\">\n",
       "      <th></th>\n",
       "      <th>0</th>\n",
       "    </tr>\n",
       "  </thead>\n",
       "  <tbody>\n",
       "    <tr>\n",
       "      <th>0</th>\n",
       "      <td>908.904802</td>\n",
       "    </tr>\n",
       "    <tr>\n",
       "      <th>1</th>\n",
       "      <td>914.244121</td>\n",
       "    </tr>\n",
       "    <tr>\n",
       "      <th>2</th>\n",
       "      <td>920.806450</td>\n",
       "    </tr>\n",
       "    <tr>\n",
       "      <th>3</th>\n",
       "      <td>923.886807</td>\n",
       "    </tr>\n",
       "    <tr>\n",
       "      <th>4</th>\n",
       "      <td>925.063670</td>\n",
       "    </tr>\n",
       "    <tr>\n",
       "      <th>...</th>\n",
       "      <td>...</td>\n",
       "    </tr>\n",
       "    <tr>\n",
       "      <th>715</th>\n",
       "      <td>926.931346</td>\n",
       "    </tr>\n",
       "    <tr>\n",
       "      <th>716</th>\n",
       "      <td>925.996045</td>\n",
       "    </tr>\n",
       "    <tr>\n",
       "      <th>717</th>\n",
       "      <td>923.307567</td>\n",
       "    </tr>\n",
       "    <tr>\n",
       "      <th>718</th>\n",
       "      <td>918.986788</td>\n",
       "    </tr>\n",
       "    <tr>\n",
       "      <th>719</th>\n",
       "      <td>924.452975</td>\n",
       "    </tr>\n",
       "  </tbody>\n",
       "</table>\n",
       "<p>720 rows × 1 columns</p>\n",
       "</div>"
      ],
      "text/plain": [
       "              0\n",
       "0    908.904802\n",
       "1    914.244121\n",
       "2    920.806450\n",
       "3    923.886807\n",
       "4    925.063670\n",
       "..          ...\n",
       "715  926.931346\n",
       "716  925.996045\n",
       "717  923.307567\n",
       "718  918.986788\n",
       "719  924.452975\n",
       "\n",
       "[720 rows x 1 columns]"
      ]
     },
     "execution_count": 3,
     "metadata": {},
     "output_type": "execute_result"
    }
   ],
   "source": [
    "label_actual_df"
   ]
  },
  {
   "cell_type": "code",
   "execution_count": 4,
   "id": "6f7a271c-5f3c-44c8-8dc4-abaf94cabb53",
   "metadata": {},
   "outputs": [
    {
     "data": {
      "text/html": [
       "<div>\n",
       "<style scoped>\n",
       "    .dataframe tbody tr th:only-of-type {\n",
       "        vertical-align: middle;\n",
       "    }\n",
       "\n",
       "    .dataframe tbody tr th {\n",
       "        vertical-align: top;\n",
       "    }\n",
       "\n",
       "    .dataframe thead th {\n",
       "        text-align: right;\n",
       "    }\n",
       "</style>\n",
       "<table border=\"1\" class=\"dataframe\">\n",
       "  <thead>\n",
       "    <tr style=\"text-align: right;\">\n",
       "      <th></th>\n",
       "      <th>0</th>\n",
       "    </tr>\n",
       "  </thead>\n",
       "  <tbody>\n",
       "    <tr>\n",
       "      <th>0</th>\n",
       "      <td>228.921173</td>\n",
       "    </tr>\n",
       "    <tr>\n",
       "      <th>1</th>\n",
       "      <td>235.702713</td>\n",
       "    </tr>\n",
       "    <tr>\n",
       "      <th>2</th>\n",
       "      <td>242.484222</td>\n",
       "    </tr>\n",
       "    <tr>\n",
       "      <th>3</th>\n",
       "      <td>249.265762</td>\n",
       "    </tr>\n",
       "    <tr>\n",
       "      <th>4</th>\n",
       "      <td>256.047302</td>\n",
       "    </tr>\n",
       "    <tr>\n",
       "      <th>...</th>\n",
       "      <td>...</td>\n",
       "    </tr>\n",
       "    <tr>\n",
       "      <th>715</th>\n",
       "      <td>281.796997</td>\n",
       "    </tr>\n",
       "    <tr>\n",
       "      <th>716</th>\n",
       "      <td>288.578552</td>\n",
       "    </tr>\n",
       "    <tr>\n",
       "      <th>717</th>\n",
       "      <td>295.360077</td>\n",
       "    </tr>\n",
       "    <tr>\n",
       "      <th>718</th>\n",
       "      <td>302.141602</td>\n",
       "    </tr>\n",
       "    <tr>\n",
       "      <th>719</th>\n",
       "      <td>308.923126</td>\n",
       "    </tr>\n",
       "  </tbody>\n",
       "</table>\n",
       "<p>720 rows × 1 columns</p>\n",
       "</div>"
      ],
      "text/plain": [
       "              0\n",
       "0    228.921173\n",
       "1    235.702713\n",
       "2    242.484222\n",
       "3    249.265762\n",
       "4    256.047302\n",
       "..          ...\n",
       "715  281.796997\n",
       "716  288.578552\n",
       "717  295.360077\n",
       "718  302.141602\n",
       "719  308.923126\n",
       "\n",
       "[720 rows x 1 columns]"
      ]
     },
     "execution_count": 4,
     "metadata": {},
     "output_type": "execute_result"
    }
   ],
   "source": [
    "label_predict_df"
   ]
  },
  {
   "cell_type": "markdown",
   "id": "8fbf0a03-8905-4240-8ccb-d3c0d171e12a",
   "metadata": {},
   "source": [
    "## **Mean Absolute Error (MAE)**"
   ]
  },
  {
   "cell_type": "markdown",
   "id": "b43d7583-0848-4c00-8699-e014132f1e99",
   "metadata": {},
   "source": [
    "Mean Absolute Error (MAE): This is the average of the absolute errors between the predicted and actual values. It gives you an idea of how big of an error you can expect from the predictions on average."
   ]
  },
  {
   "cell_type": "code",
   "execution_count": 5,
   "id": "b26ea6d4-96fa-46a7-998b-712b03b20362",
   "metadata": {},
   "outputs": [],
   "source": [
    "actual_values = label_actual_df.iloc[:, 0]  # Selects all rows of the first (and only) column\n",
    "predicted_values = label_predict_df.iloc[:, 0]  # Same as above"
   ]
  },
  {
   "cell_type": "code",
   "execution_count": 6,
   "id": "73549685-6b09-46e7-827a-91bcc91d1a9f",
   "metadata": {},
   "outputs": [
    {
     "name": "stdout",
     "output_type": "stream",
     "text": [
      "Mean Absolute Error (MAE): 366.9444129197266\n"
     ]
    }
   ],
   "source": [
    "# Calculate MAE\n",
    "mae = mean_absolute_error(actual_values, predicted_values)\n",
    "print(\"Mean Absolute Error (MAE):\", mae)"
   ]
  },
  {
   "cell_type": "markdown",
   "id": "767437e6-00ae-47fd-8837-99e6d3672f50",
   "metadata": {},
   "source": [
    "## **Root Mean Squared Error (RMSE)**"
   ]
  },
  {
   "cell_type": "markdown",
   "id": "49c44fbc-113c-4a84-ac87-6e8f285f1e9b",
   "metadata": {},
   "source": [
    "This metric squares the errors before averaging them, heavily penalizing larger errors. This makes MSE sensitive to outliers. This is the square root of the MSE, which makes it more interpretable in the same units as the output"
   ]
  },
  {
   "cell_type": "code",
   "execution_count": 7,
   "id": "4170a451-7b48-460f-9d0f-04db7db93e43",
   "metadata": {},
   "outputs": [],
   "source": [
    "def rmse(predictions, targets):\n",
    "    return np.sqrt(((predictions - targets) ** 2).mean())"
   ]
  },
  {
   "cell_type": "code",
   "execution_count": 8,
   "id": "07e107eb-3687-4440-b8e0-3c6145be6994",
   "metadata": {},
   "outputs": [
    {
     "name": "stdout",
     "output_type": "stream",
     "text": [
      "Root Mean Squared Error (RMSE): 420.38040999027027\n"
     ]
    }
   ],
   "source": [
    "rmse = rmse(predicted_values,actual_values)\n",
    "print(\"Root Mean Squared Error (RMSE):\", rmse)"
   ]
  },
  {
   "cell_type": "markdown",
   "id": "c22c8b61-076e-40c9-ae44-9f7f7ec0d558",
   "metadata": {},
   "source": [
    "## **R Squared score**"
   ]
  },
  {
   "cell_type": "code",
   "execution_count": 9,
   "id": "03491756-baf4-492e-912b-63c855407077",
   "metadata": {},
   "outputs": [
    {
     "name": "stdout",
     "output_type": "stream",
     "text": [
      "R Squared Score (R2): -1.245471438597534\n"
     ]
    }
   ],
   "source": [
    "r2 = r2_score(actual_values, predicted_values)\n",
    "print(\"R Squared Score (R2):\", r2)"
   ]
  }
 ],
 "metadata": {
  "kernelspec": {
   "display_name": "Python 3 (ipykernel)",
   "language": "python",
   "name": "python3"
  },
  "language_info": {
   "codemirror_mode": {
    "name": "ipython",
    "version": 3
   },
   "file_extension": ".py",
   "mimetype": "text/x-python",
   "name": "python",
   "nbconvert_exporter": "python",
   "pygments_lexer": "ipython3",
   "version": "3.10.6"
  }
 },
 "nbformat": 4,
 "nbformat_minor": 5
}
