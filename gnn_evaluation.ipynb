{
 "cells": [
  {
   "cell_type": "markdown",
   "id": "14665c73-a17b-4b48-8822-9d1568ac32d3",
   "metadata": {},
   "source": [
    "## **Notebook Description**"
   ]
  },
  {
   "cell_type": "markdown",
   "id": "ce7af95e-bdb5-4ba2-99fe-6e43ff39be07",
   "metadata": {},
   "source": [
    "This notebook:\n",
    "1. Evaluates the predicted results from the trained model based on Mean Absolute Error."
   ]
  },
  {
   "cell_type": "markdown",
   "id": "d31ed45b-d083-466b-93c4-dbec3a83d64f",
   "metadata": {},
   "source": [
    "MAE gives a direct, interpretable measurement of the average error in the predictions. It's useful for understanding the typical error magnitude."
   ]
  },
  {
   "cell_type": "markdown",
   "id": "f7659129-bfb0-45a1-b7ec-d5cbeacd14be",
   "metadata": {},
   "source": [
    "## **Import Libraries**"
   ]
  },
  {
   "cell_type": "code",
   "execution_count": 1,
   "id": "c8e45f40-9d70-43b9-8324-22b5ba157a96",
   "metadata": {},
   "outputs": [],
   "source": [
    "# import libraries\n",
    "\n",
    "import pandas as pd\n",
    "from sklearn.metrics import mean_absolute_error\n",
    "import matplotlib.pyplot as plt\n",
    "import seaborn as sns"
   ]
  },
  {
   "cell_type": "markdown",
   "id": "37012a21-b623-4294-a0d3-d21b0f71f089",
   "metadata": {},
   "source": [
    "## **Import Dataset**"
   ]
  },
  {
   "cell_type": "code",
   "execution_count": 2,
   "id": "ab8ca793-d0b4-4f8e-8ec5-f7479a1f4351",
   "metadata": {},
   "outputs": [
    {
     "name": "stdout",
     "output_type": "stream",
     "text": [
      "imported\n"
     ]
    }
   ],
   "source": [
    "# import csv\n",
    "\n",
    "#Actual simulated labels\n",
    "label_actual_df= pd.read_csv(r'data\\2_prediction_testing\\label.csv', header = None)\n",
    "\n",
    "#Predicted labels\n",
    "label_predict_df= pd.read_csv(r'data\\2_prediction_testing\\sensor_predictions.csv', header = None)\n",
    "print('imported')"
   ]
  },
  {
   "cell_type": "code",
   "execution_count": 3,
   "id": "f015b89a-5677-42fb-9418-d81c2eb0b577",
   "metadata": {},
   "outputs": [
    {
     "data": {
      "text/html": [
       "<div>\n",
       "<style scoped>\n",
       "    .dataframe tbody tr th:only-of-type {\n",
       "        vertical-align: middle;\n",
       "    }\n",
       "\n",
       "    .dataframe tbody tr th {\n",
       "        vertical-align: top;\n",
       "    }\n",
       "\n",
       "    .dataframe thead th {\n",
       "        text-align: right;\n",
       "    }\n",
       "</style>\n",
       "<table border=\"1\" class=\"dataframe\">\n",
       "  <thead>\n",
       "    <tr style=\"text-align: right;\">\n",
       "      <th></th>\n",
       "      <th>0</th>\n",
       "    </tr>\n",
       "  </thead>\n",
       "  <tbody>\n",
       "    <tr>\n",
       "      <th>0</th>\n",
       "      <td>596.414648</td>\n",
       "    </tr>\n",
       "    <tr>\n",
       "      <th>1</th>\n",
       "      <td>592.142129</td>\n",
       "    </tr>\n",
       "    <tr>\n",
       "      <th>2</th>\n",
       "      <td>594.472556</td>\n",
       "    </tr>\n",
       "    <tr>\n",
       "      <th>3</th>\n",
       "      <td>588.271100</td>\n",
       "    </tr>\n",
       "    <tr>\n",
       "      <th>4</th>\n",
       "      <td>597.765451</td>\n",
       "    </tr>\n",
       "    <tr>\n",
       "      <th>...</th>\n",
       "      <td>...</td>\n",
       "    </tr>\n",
       "    <tr>\n",
       "      <th>587</th>\n",
       "      <td>75.272699</td>\n",
       "    </tr>\n",
       "    <tr>\n",
       "      <th>588</th>\n",
       "      <td>75.938974</td>\n",
       "    </tr>\n",
       "    <tr>\n",
       "      <th>589</th>\n",
       "      <td>77.658386</td>\n",
       "    </tr>\n",
       "    <tr>\n",
       "      <th>590</th>\n",
       "      <td>84.252479</td>\n",
       "    </tr>\n",
       "    <tr>\n",
       "      <th>591</th>\n",
       "      <td>183.565494</td>\n",
       "    </tr>\n",
       "  </tbody>\n",
       "</table>\n",
       "<p>592 rows × 1 columns</p>\n",
       "</div>"
      ],
      "text/plain": [
       "              0\n",
       "0    596.414648\n",
       "1    592.142129\n",
       "2    594.472556\n",
       "3    588.271100\n",
       "4    597.765451\n",
       "..          ...\n",
       "587   75.272699\n",
       "588   75.938974\n",
       "589   77.658386\n",
       "590   84.252479\n",
       "591  183.565494\n",
       "\n",
       "[592 rows x 1 columns]"
      ]
     },
     "execution_count": 3,
     "metadata": {},
     "output_type": "execute_result"
    }
   ],
   "source": [
    "label_actual_df"
   ]
  },
  {
   "cell_type": "code",
   "execution_count": 4,
   "id": "6f7a271c-5f3c-44c8-8dc4-abaf94cabb53",
   "metadata": {},
   "outputs": [
    {
     "data": {
      "text/html": [
       "<div>\n",
       "<style scoped>\n",
       "    .dataframe tbody tr th:only-of-type {\n",
       "        vertical-align: middle;\n",
       "    }\n",
       "\n",
       "    .dataframe tbody tr th {\n",
       "        vertical-align: top;\n",
       "    }\n",
       "\n",
       "    .dataframe thead th {\n",
       "        text-align: right;\n",
       "    }\n",
       "</style>\n",
       "<table border=\"1\" class=\"dataframe\">\n",
       "  <thead>\n",
       "    <tr style=\"text-align: right;\">\n",
       "      <th></th>\n",
       "      <th>0</th>\n",
       "    </tr>\n",
       "  </thead>\n",
       "  <tbody>\n",
       "    <tr>\n",
       "      <th>0</th>\n",
       "      <td>412.007324</td>\n",
       "    </tr>\n",
       "    <tr>\n",
       "      <th>1</th>\n",
       "      <td>416.093079</td>\n",
       "    </tr>\n",
       "    <tr>\n",
       "      <th>2</th>\n",
       "      <td>420.178772</td>\n",
       "    </tr>\n",
       "    <tr>\n",
       "      <th>3</th>\n",
       "      <td>424.264526</td>\n",
       "    </tr>\n",
       "    <tr>\n",
       "      <th>4</th>\n",
       "      <td>428.350220</td>\n",
       "    </tr>\n",
       "    <tr>\n",
       "      <th>...</th>\n",
       "      <td>...</td>\n",
       "    </tr>\n",
       "    <tr>\n",
       "      <th>587</th>\n",
       "      <td>453.356628</td>\n",
       "    </tr>\n",
       "    <tr>\n",
       "      <th>588</th>\n",
       "      <td>457.442352</td>\n",
       "    </tr>\n",
       "    <tr>\n",
       "      <th>589</th>\n",
       "      <td>461.528076</td>\n",
       "    </tr>\n",
       "    <tr>\n",
       "      <th>590</th>\n",
       "      <td>465.613770</td>\n",
       "    </tr>\n",
       "    <tr>\n",
       "      <th>591</th>\n",
       "      <td>469.699524</td>\n",
       "    </tr>\n",
       "  </tbody>\n",
       "</table>\n",
       "<p>592 rows × 1 columns</p>\n",
       "</div>"
      ],
      "text/plain": [
       "              0\n",
       "0    412.007324\n",
       "1    416.093079\n",
       "2    420.178772\n",
       "3    424.264526\n",
       "4    428.350220\n",
       "..          ...\n",
       "587  453.356628\n",
       "588  457.442352\n",
       "589  461.528076\n",
       "590  465.613770\n",
       "591  469.699524\n",
       "\n",
       "[592 rows x 1 columns]"
      ]
     },
     "execution_count": 4,
     "metadata": {},
     "output_type": "execute_result"
    }
   ],
   "source": [
    "label_predict_df"
   ]
  },
  {
   "cell_type": "markdown",
   "id": "8fbf0a03-8905-4240-8ccb-d3c0d171e12a",
   "metadata": {},
   "source": [
    "## **Mean Absolute Error (MAE)**"
   ]
  },
  {
   "cell_type": "code",
   "execution_count": 5,
   "id": "b26ea6d4-96fa-46a7-998b-712b03b20362",
   "metadata": {},
   "outputs": [],
   "source": [
    "actual_values = label_actual_df.iloc[:, 0]  # Selects all rows of the first (and only) column\n",
    "predicted_values = label_predict_df.iloc[:, 0]  # Same as above"
   ]
  },
  {
   "cell_type": "code",
   "execution_count": 6,
   "id": "73549685-6b09-46e7-827a-91bcc91d1a9f",
   "metadata": {},
   "outputs": [
    {
     "name": "stdout",
     "output_type": "stream",
     "text": [
      "Mean Absolute Error (MAE): 225.54074895136654\n"
     ]
    }
   ],
   "source": [
    "# Calculate MAE\n",
    "mae = mean_absolute_error(actual_values, predicted_values)\n",
    "print(\"Mean Absolute Error (MAE):\", mae)"
   ]
  },
  {
   "cell_type": "markdown",
   "id": "34840f3d-c5f7-4db1-8d41-cb05f8cf29e7",
   "metadata": {},
   "source": [
    "Model's Predictions off by an average of the MAE points (same units)"
   ]
  }
 ],
 "metadata": {
  "kernelspec": {
   "display_name": "Python 3 (ipykernel)",
   "language": "python",
   "name": "python3"
  },
  "language_info": {
   "codemirror_mode": {
    "name": "ipython",
    "version": 3
   },
   "file_extension": ".py",
   "mimetype": "text/x-python",
   "name": "python",
   "nbconvert_exporter": "python",
   "pygments_lexer": "ipython3",
   "version": "3.10.6"
  }
 },
 "nbformat": 4,
 "nbformat_minor": 5
}
