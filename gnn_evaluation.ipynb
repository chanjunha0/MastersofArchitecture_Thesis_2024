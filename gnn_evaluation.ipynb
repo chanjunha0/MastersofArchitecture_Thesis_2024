{
 "cells": [
  {
   "cell_type": "markdown",
   "id": "f7659129-bfb0-45a1-b7ec-d5cbeacd14be",
   "metadata": {},
   "source": [
    "## **Import Libraries**"
   ]
  },
  {
   "cell_type": "markdown",
   "id": "d31ed45b-d083-466b-93c4-dbec3a83d64f",
   "metadata": {},
   "source": [
    "MAE gives you a direct, interpretable measurement of the average error in the predictions. It's useful for understanding the typical error magnitude."
   ]
  },
  {
   "cell_type": "markdown",
   "id": "dc21a586-69e6-4eea-b85b-6cc037bc9d38",
   "metadata": {},
   "source": [
    "MSE emphasizes larger errors more than MAE due to the squaring of each error term, making it useful for situations where large errors are particularly problematic."
   ]
  },
  {
   "cell_type": "markdown",
   "id": "bcaaecdd-174e-4423-9e52-aea2c96624c5",
   "metadata": {},
   "source": [
    "R² offers insight into the proportion of the variance in the sensor values that your model is able to predict, providing a normalized measure of model quality over different datasets or models"
   ]
  },
  {
   "cell_type": "code",
   "execution_count": 11,
   "id": "c8e45f40-9d70-43b9-8324-22b5ba157a96",
   "metadata": {},
   "outputs": [],
   "source": [
    "# import libraries\n",
    "\n",
    "import pandas as pd\n",
    "from sklearn.metrics import mean_absolute_error\n",
    "import matplotlib.pyplot as plt\n",
    "import seaborn as sns"
   ]
  },
  {
   "cell_type": "markdown",
   "id": "37012a21-b623-4294-a0d3-d21b0f71f089",
   "metadata": {},
   "source": [
    "## **Import Dataset**"
   ]
  },
  {
   "cell_type": "code",
   "execution_count": 5,
   "id": "ab8ca793-d0b4-4f8e-8ec5-f7479a1f4351",
   "metadata": {},
   "outputs": [
    {
     "name": "stdout",
     "output_type": "stream",
     "text": [
      "imported\n"
     ]
    }
   ],
   "source": [
    "# import csv\n",
    "label_actual_df= pd.read_csv('data\\labels.csv', header = None)\n",
    "label_predict_df= pd.read_csv('sensor_predictions.csv', header = None)\n",
    "print('imported')"
   ]
  },
  {
   "cell_type": "code",
   "execution_count": 6,
   "id": "f015b89a-5677-42fb-9418-d81c2eb0b577",
   "metadata": {},
   "outputs": [
    {
     "data": {
      "text/html": [
       "<div>\n",
       "<style scoped>\n",
       "    .dataframe tbody tr th:only-of-type {\n",
       "        vertical-align: middle;\n",
       "    }\n",
       "\n",
       "    .dataframe tbody tr th {\n",
       "        vertical-align: top;\n",
       "    }\n",
       "\n",
       "    .dataframe thead th {\n",
       "        text-align: right;\n",
       "    }\n",
       "</style>\n",
       "<table border=\"1\" class=\"dataframe\">\n",
       "  <thead>\n",
       "    <tr style=\"text-align: right;\">\n",
       "      <th></th>\n",
       "      <th>0</th>\n",
       "    </tr>\n",
       "  </thead>\n",
       "  <tbody>\n",
       "    <tr>\n",
       "      <th>0</th>\n",
       "      <td>619.811831</td>\n",
       "    </tr>\n",
       "    <tr>\n",
       "      <th>1</th>\n",
       "      <td>605.288050</td>\n",
       "    </tr>\n",
       "    <tr>\n",
       "      <th>2</th>\n",
       "      <td>602.868616</td>\n",
       "    </tr>\n",
       "    <tr>\n",
       "      <th>3</th>\n",
       "      <td>605.962263</td>\n",
       "    </tr>\n",
       "    <tr>\n",
       "      <th>4</th>\n",
       "      <td>607.108691</td>\n",
       "    </tr>\n",
       "    <tr>\n",
       "      <th>...</th>\n",
       "      <td>...</td>\n",
       "    </tr>\n",
       "    <tr>\n",
       "      <th>587</th>\n",
       "      <td>1013.392224</td>\n",
       "    </tr>\n",
       "    <tr>\n",
       "      <th>588</th>\n",
       "      <td>1037.916399</td>\n",
       "    </tr>\n",
       "    <tr>\n",
       "      <th>589</th>\n",
       "      <td>1055.641885</td>\n",
       "    </tr>\n",
       "    <tr>\n",
       "      <th>590</th>\n",
       "      <td>1072.103289</td>\n",
       "    </tr>\n",
       "    <tr>\n",
       "      <th>591</th>\n",
       "      <td>1103.024937</td>\n",
       "    </tr>\n",
       "  </tbody>\n",
       "</table>\n",
       "<p>592 rows × 1 columns</p>\n",
       "</div>"
      ],
      "text/plain": [
       "               0\n",
       "0     619.811831\n",
       "1     605.288050\n",
       "2     602.868616\n",
       "3     605.962263\n",
       "4     607.108691\n",
       "..           ...\n",
       "587  1013.392224\n",
       "588  1037.916399\n",
       "589  1055.641885\n",
       "590  1072.103289\n",
       "591  1103.024937\n",
       "\n",
       "[592 rows x 1 columns]"
      ]
     },
     "execution_count": 6,
     "metadata": {},
     "output_type": "execute_result"
    }
   ],
   "source": [
    "label_actual_df"
   ]
  },
  {
   "cell_type": "code",
   "execution_count": 8,
   "id": "6f7a271c-5f3c-44c8-8dc4-abaf94cabb53",
   "metadata": {},
   "outputs": [
    {
     "data": {
      "text/html": [
       "<div>\n",
       "<style scoped>\n",
       "    .dataframe tbody tr th:only-of-type {\n",
       "        vertical-align: middle;\n",
       "    }\n",
       "\n",
       "    .dataframe tbody tr th {\n",
       "        vertical-align: top;\n",
       "    }\n",
       "\n",
       "    .dataframe thead th {\n",
       "        text-align: right;\n",
       "    }\n",
       "</style>\n",
       "<table border=\"1\" class=\"dataframe\">\n",
       "  <thead>\n",
       "    <tr style=\"text-align: right;\">\n",
       "      <th></th>\n",
       "      <th>0</th>\n",
       "    </tr>\n",
       "  </thead>\n",
       "  <tbody>\n",
       "    <tr>\n",
       "      <th>0</th>\n",
       "      <td>428.228241</td>\n",
       "    </tr>\n",
       "    <tr>\n",
       "      <th>1</th>\n",
       "      <td>430.437561</td>\n",
       "    </tr>\n",
       "    <tr>\n",
       "      <th>2</th>\n",
       "      <td>432.646912</td>\n",
       "    </tr>\n",
       "    <tr>\n",
       "      <th>3</th>\n",
       "      <td>434.856293</td>\n",
       "    </tr>\n",
       "    <tr>\n",
       "      <th>4</th>\n",
       "      <td>437.065643</td>\n",
       "    </tr>\n",
       "    <tr>\n",
       "      <th>...</th>\n",
       "      <td>...</td>\n",
       "    </tr>\n",
       "    <tr>\n",
       "      <th>587</th>\n",
       "      <td>453.328247</td>\n",
       "    </tr>\n",
       "    <tr>\n",
       "      <th>588</th>\n",
       "      <td>455.537567</td>\n",
       "    </tr>\n",
       "    <tr>\n",
       "      <th>589</th>\n",
       "      <td>457.746948</td>\n",
       "    </tr>\n",
       "    <tr>\n",
       "      <th>590</th>\n",
       "      <td>459.956268</td>\n",
       "    </tr>\n",
       "    <tr>\n",
       "      <th>591</th>\n",
       "      <td>462.165649</td>\n",
       "    </tr>\n",
       "  </tbody>\n",
       "</table>\n",
       "<p>592 rows × 1 columns</p>\n",
       "</div>"
      ],
      "text/plain": [
       "              0\n",
       "0    428.228241\n",
       "1    430.437561\n",
       "2    432.646912\n",
       "3    434.856293\n",
       "4    437.065643\n",
       "..          ...\n",
       "587  453.328247\n",
       "588  455.537567\n",
       "589  457.746948\n",
       "590  459.956268\n",
       "591  462.165649\n",
       "\n",
       "[592 rows x 1 columns]"
      ]
     },
     "execution_count": 8,
     "metadata": {},
     "output_type": "execute_result"
    }
   ],
   "source": [
    "label_predict_df"
   ]
  },
  {
   "cell_type": "markdown",
   "id": "8fbf0a03-8905-4240-8ccb-d3c0d171e12a",
   "metadata": {},
   "source": [
    "## **Mean Absolute Error (MAE)**"
   ]
  },
  {
   "cell_type": "code",
   "execution_count": 9,
   "id": "b26ea6d4-96fa-46a7-998b-712b03b20362",
   "metadata": {},
   "outputs": [],
   "source": [
    "actual_values = label_actual_df.iloc[:, 0]  # Selects all rows of the first (and only) column\n",
    "predicted_values = label_predict_df.iloc[:, 0]  # Same as above"
   ]
  },
  {
   "cell_type": "code",
   "execution_count": 16,
   "id": "73549685-6b09-46e7-827a-91bcc91d1a9f",
   "metadata": {},
   "outputs": [
    {
     "name": "stdout",
     "output_type": "stream",
     "text": [
      "Mean Absolute Error (MAE): 335.5719983947985\n"
     ]
    }
   ],
   "source": [
    "# Calculate MAE\n",
    "mae = mean_absolute_error(actual_values, predicted_values)\n",
    "print(\"Mean Absolute Error (MAE):\", mae)"
   ]
  },
  {
   "cell_type": "markdown",
   "id": "34840f3d-c5f7-4db1-8d41-cb05f8cf29e7",
   "metadata": {},
   "source": [
    "Model's Predictions off by an average of the MAE points (same units)"
   ]
  },
  {
   "cell_type": "code",
   "execution_count": null,
   "id": "63732158-f23a-4453-b161-d214ea2d8374",
   "metadata": {},
   "outputs": [],
   "source": []
  }
 ],
 "metadata": {
  "kernelspec": {
   "display_name": "Python 3 (ipykernel)",
   "language": "python",
   "name": "python3"
  },
  "language_info": {
   "codemirror_mode": {
    "name": "ipython",
    "version": 3
   },
   "file_extension": ".py",
   "mimetype": "text/x-python",
   "name": "python",
   "nbconvert_exporter": "python",
   "pygments_lexer": "ipython3",
   "version": "3.10.6"
  }
 },
 "nbformat": 4,
 "nbformat_minor": 5
}
