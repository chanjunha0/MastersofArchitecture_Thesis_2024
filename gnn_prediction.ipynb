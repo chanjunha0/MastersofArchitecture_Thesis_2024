{
 "cells": [
  {
   "cell_type": "markdown",
   "id": "31b74da0-63dc-4843-b4fd-8b2691f6efdc",
   "metadata": {},
   "source": [
    "## **Notebook Description**"
   ]
  },
  {
   "cell_type": "markdown",
   "id": "81e834f1-d969-44be-bcbd-2da7a7f26355",
   "metadata": {},
   "source": [
    "**Function**"
   ]
  },
  {
   "cell_type": "markdown",
   "id": "0fc5efa9-f328-4a13-b957-72285a699090",
   "metadata": {},
   "source": [
    "Uses the trained model to make predictions on a new, unseen dataset. "
   ]
  },
  {
   "cell_type": "markdown",
   "id": "b7229d78-d48f-442d-99bc-6afcced15310",
   "metadata": {},
   "source": [
    "**Output**"
   ]
  },
  {
   "cell_type": "markdown",
   "id": "254c2e23-22db-49c8-8645-f00643afca9d",
   "metadata": {},
   "source": [
    "Csv with predictions on unseen dataset. "
   ]
  },
  {
   "cell_type": "markdown",
   "id": "e70e3ff3-cef5-46a0-b462-26fbe25ed207",
   "metadata": {},
   "source": [
    "## **Import Libraries**"
   ]
  },
  {
   "cell_type": "code",
   "execution_count": 1,
   "id": "62c62e19-e11b-4d47-984d-bbd7c70a2ba3",
   "metadata": {},
   "outputs": [],
   "source": [
    "import numpy as np\n",
    "import torch\n",
    "from torch_geometric.nn import GCNConv\n",
    "from torch_geometric.loader import DataLoader\n",
    "import torch.nn.functional as F\n",
    "from torch_geometric.data import Data"
   ]
  },
  {
   "cell_type": "markdown",
   "id": "04b64485-e7e8-4295-85a8-2b493abbd821",
   "metadata": {},
   "source": [
    "## **Input**"
   ]
  },
  {
   "cell_type": "code",
   "execution_count": 2,
   "id": "23bf0ec5-deb0-4072-8d30-26811fd3ecb6",
   "metadata": {},
   "outputs": [],
   "source": [
    "# Paste model path\n",
    "model_iteration = 'model'"
   ]
  },
  {
   "cell_type": "code",
   "execution_count": 3,
   "id": "a0ad679c-38a4-4baf-bedb-304d7e7ae8c7",
   "metadata": {},
   "outputs": [],
   "source": [
    "# Input Pytorch Object Date\n",
    "# Copy paste in here\n",
    "object = 'run_3'"
   ]
  },
  {
   "cell_type": "code",
   "execution_count": 4,
   "id": "a8945557-3398-4ad0-af84-0c9a09848f82",
   "metadata": {},
   "outputs": [],
   "source": [
    "# Set the slicing range for the indices (labeled nodes)\n",
    "sensor_indices = slice(0, 720) "
   ]
  },
  {
   "cell_type": "code",
   "execution_count": 5,
   "id": "4763bc28-0c34-4b2d-aa2f-22da7ca635bd",
   "metadata": {},
   "outputs": [],
   "source": [
    "#Path to save script\n",
    "file_path = rf\"data\\2_prediction_testing\\sensor_predictions.csv\""
   ]
  },
  {
   "cell_type": "markdown",
   "id": "a8cbb522-0fcb-4594-9bba-4766944d258d",
   "metadata": {},
   "source": [
    "## **Classes**"
   ]
  },
  {
   "cell_type": "markdown",
   "id": "f66874d5-6503-46a4-95cd-86a18de59704",
   "metadata": {},
   "source": [
    "**Load the Trained Model**"
   ]
  },
  {
   "cell_type": "code",
   "execution_count": 6,
   "id": "9bf68105-4333-4c4b-8b51-21422e76f776",
   "metadata": {},
   "outputs": [],
   "source": [
    "# Note to self, convert this class to a .py script later on\n",
    "\n",
    "class SimpleGCN(torch.nn.Module):\n",
    "    def __init__(self, num_node_features, num_classes):\n",
    "        super(SimpleGCN, self).__init__()\n",
    "        self.conv1 = GCNConv(num_node_features, 16)  # First GCN layer\n",
    "        self.conv2 = GCNConv(16, num_classes)        # Second GCN layer\n",
    "\n",
    "    def forward(self, data):\n",
    "        x, edge_index = data.x, data.edge_index\n",
    "        x = self.conv1(x, edge_index)\n",
    "        x = F.relu(x)\n",
    "        x = F.dropout(x, training=self.training)\n",
    "        x = self.conv2(x, edge_index)\n",
    "        \n",
    "        return x  "
   ]
  },
  {
   "cell_type": "markdown",
   "id": "a16d79ef-9301-46b5-ae59-317ebe182a4c",
   "metadata": {},
   "source": [
    "## **Loading & Settings**"
   ]
  },
  {
   "cell_type": "code",
   "execution_count": 7,
   "id": "ae9e1c72-6978-477e-9afa-326ead60e832",
   "metadata": {},
   "outputs": [],
   "source": [
    "num_node_features = 4  \n",
    "num_classes = 1  \n",
    "\n",
    "model = SimpleGCN(num_node_features, num_classes)\n",
    "optimizer = torch.optim.Adam(model.parameters(), lr=0.01)  "
   ]
  },
  {
   "cell_type": "code",
   "execution_count": 8,
   "id": "5a49db5e-c3f3-4bb8-89aa-3a198c23e632",
   "metadata": {},
   "outputs": [
    {
     "data": {
      "text/plain": [
       "<All keys matched successfully>"
      ]
     },
     "execution_count": 8,
     "metadata": {},
     "output_type": "execute_result"
    }
   ],
   "source": [
    "# Load the saved state_dict\n",
    "model.load_state_dict(torch.load(rf'data\\1_pytorch_model\\{model_iteration}.pth'))"
   ]
  },
  {
   "cell_type": "code",
   "execution_count": 9,
   "id": "7cf96499-cd94-4820-b5e7-2e225cfb2667",
   "metadata": {},
   "outputs": [
    {
     "data": {
      "text/plain": [
       "SimpleGCN(\n",
       "  (conv1): GCNConv(4, 16)\n",
       "  (conv2): GCNConv(16, 1)\n",
       ")"
      ]
     },
     "execution_count": 9,
     "metadata": {},
     "output_type": "execute_result"
    }
   ],
   "source": [
    "# Set the model to evaluation mode\n",
    "model.eval()"
   ]
  },
  {
   "cell_type": "code",
   "execution_count": 10,
   "id": "34b3be9a-6b76-434a-b202-4250cefe7c1d",
   "metadata": {},
   "outputs": [
    {
     "name": "stdout",
     "output_type": "stream",
     "text": [
      "loaded\n"
     ]
    }
   ],
   "source": [
    "# Load your data object for prediction\n",
    "new_data = torch.load(rf'data\\torch_data_object_prediction\\{object}.pt')\n",
    "\n",
    "print('loaded')"
   ]
  },
  {
   "cell_type": "code",
   "execution_count": 11,
   "id": "ff51c547-8b2b-42a8-a9b4-7cf54e24b08b",
   "metadata": {},
   "outputs": [],
   "source": [
    "# If 'new_data' is a single Data object, wrap it in a list for DataLoader compatibility\n",
    "if isinstance(new_data, Data):\n",
    "    new_data = [new_data]"
   ]
  },
  {
   "cell_type": "code",
   "execution_count": 12,
   "id": "446c9915-67c1-4129-af38-5b56c9745b39",
   "metadata": {},
   "outputs": [],
   "source": [
    "# Create a DataLoader for your new dataset\n",
    "data_loader = DataLoader(new_data, batch_size=1, shuffle=False)"
   ]
  },
  {
   "cell_type": "markdown",
   "id": "d00b2385-5566-4cc1-84a0-950294cb583d",
   "metadata": {},
   "source": [
    "## **Predictions**"
   ]
  },
  {
   "cell_type": "code",
   "execution_count": 13,
   "id": "34574b22-5330-45fe-9c7c-ed1a8353fa76",
   "metadata": {},
   "outputs": [],
   "source": [
    "# Make predictions\n",
    "predictions = []\n",
    "for data in data_loader:\n",
    "    with torch.no_grad():\n",
    "        output = model(data)\n",
    "        sensor_output = output[sensor_indices]  # Adjusted slicing\n",
    "        predictions.append(sensor_output.squeeze(-1).detach().numpy())"
   ]
  },
  {
   "cell_type": "code",
   "execution_count": 14,
   "id": "43a8ee7b-3e34-43d9-b944-50c132000a5f",
   "metadata": {},
   "outputs": [
    {
     "data": {
      "text/plain": [
       "[array([228.92117, 235.70271, 242.48422, 249.26576, 256.0473 , 262.82883,\n",
       "        269.61035, 276.3919 , 283.17343, 289.955  , 296.7365 , 303.51804,\n",
       "        310.29956, 317.0811 , 323.86264, 330.64413, 337.4257 , 344.2072 ,\n",
       "        350.98874, 357.7703 , 364.5518 , 371.33334, 378.1149 , 384.89642,\n",
       "        391.67795, 398.4595 , 405.24106, 412.02255, 418.8041 , 230.20404,\n",
       "        237.22775, 244.25148, 251.2752 , 258.29895, 265.32266, 272.3464 ,\n",
       "        279.37015, 286.39386, 293.41757, 300.4413 , 307.46506, 314.4888 ,\n",
       "        321.51254, 328.53625, 335.55997, 342.5837 , 349.60742, 356.63116,\n",
       "        363.65488, 370.67862, 377.70236, 384.72607, 391.7498 , 398.77353,\n",
       "        405.79727, 412.82098, 419.84476, 233.02731, 240.05106, 247.07477,\n",
       "        254.09851, 261.12222, 268.14597, 275.16968, 282.19342, 289.21716,\n",
       "        296.24088, 303.26462, 310.28833, 317.31204, 324.33582, 331.35953,\n",
       "        338.38327, 345.40698, 352.43073, 359.45444, 366.47818, 373.50192,\n",
       "        380.52563, 387.54935, 394.5731 , 401.59683, 408.62054, 415.64426,\n",
       "        422.668  , 234.47186, 241.25337, 248.03491, 254.81645, 261.598  ,\n",
       "        268.37952, 275.16104, 281.94257, 288.72412, 295.50565, 302.2872 ,\n",
       "        309.0687 , 315.85025, 322.63177, 329.4133 , 336.19482, 342.97635,\n",
       "        349.7579 , 356.53946, 363.32092, 370.1025 , 376.884  , 383.66553,\n",
       "        390.44708, 397.2286 , 404.01016, 410.7917 , 417.5732 , 424.3547 ,\n",
       "        236.80957, 243.8333 , 250.85704, 257.88077, 264.90448, 271.92822,\n",
       "        278.95197, 285.97568, 292.99942, 300.02316, 307.04688, 314.07062,\n",
       "        321.09433, 328.11807, 335.14178, 342.1655 , 349.18924, 356.21298,\n",
       "        363.2367 , 370.26044, 377.28418, 384.3079 , 391.33163, 398.35535,\n",
       "        405.37906, 412.4028 , 419.4265 , 426.4503 , 238.04483, 245.06856,\n",
       "        252.09229, 259.116  , 266.13974, 273.16348, 280.1872 , 287.2109 ,\n",
       "        294.23465, 301.2584 , 308.2821 , 315.30585, 322.32956, 329.3533 ,\n",
       "        336.37704, 343.4008 , 350.4245 , 357.4482 , 364.47195, 371.49567,\n",
       "        378.5194 , 385.54312, 392.5669 , 399.59058, 406.61435, 413.63806,\n",
       "        420.66177, 427.68552, 236.72171, 243.74545, 250.76918, 257.7929 ,\n",
       "        264.81665, 271.84036, 278.86407, 285.88782, 292.91156, 299.93527,\n",
       "        306.959  , 313.98276, 321.00647, 328.03018, 335.05396, 342.07767,\n",
       "        349.10138, 356.12512, 363.14886, 370.17258, 377.19632, 384.22003,\n",
       "        391.24377, 398.2675 , 405.29123, 412.31494, 419.33868, 426.3624 ,\n",
       "        235.0188 , 241.80032, 248.58188, 255.3634 , 262.1449 , 268.92645,\n",
       "        275.70798, 282.4895 , 289.2711 , 296.05258, 302.8341 , 309.61563,\n",
       "        316.3972 , 323.1787 , 329.96027, 336.7418 , 343.52332, 350.30484,\n",
       "        357.08633, 363.8679 , 370.64944, 377.43097, 384.2125 , 390.99402,\n",
       "        397.77557, 404.55707, 411.33862, 418.12015, 424.9017 , 233.96767,\n",
       "        240.74918, 247.5307 , 254.31226, 261.09378, 267.8753 , 274.65686,\n",
       "        281.4384 , 288.2199 , 295.00146, 301.783  , 308.56448, 315.34604,\n",
       "        322.12756, 328.9091 , 335.69064, 342.47217, 349.2537 , 356.03525,\n",
       "        362.81677, 369.5983 , 376.37985, 383.16135, 389.9429 , 396.72443,\n",
       "        403.50595, 410.2875 , 417.069  , 423.85056, 234.96313, 241.98686,\n",
       "        249.01059, 256.03433, 263.05804, 270.0818 , 277.10553, 284.12924,\n",
       "        291.15298, 298.1767 , 305.2004 , 312.22415, 319.2479 , 326.27164,\n",
       "        333.29535, 340.31906, 347.3428 , 354.36655, 361.3903 , 368.414  ,\n",
       "        375.4377 , 382.46146, 389.4852 , 396.5089 , 403.53262, 410.55637,\n",
       "        417.58008, 424.60385, 237.40167, 244.42543, 251.44916, 258.47287,\n",
       "        265.4966 , 272.52032, 279.54407, 286.56778, 293.59152, 300.61526,\n",
       "        307.63898, 314.66272, 321.68643, 328.71017, 335.7339 , 342.7576 ,\n",
       "        349.78134, 356.80508, 363.82883, 370.85257, 377.87628, 384.90002,\n",
       "        391.92374, 398.94748, 405.9712 , 412.9949 , 420.01865, 427.0424 ,\n",
       "        239.2262 , 246.24991, 253.27364, 260.29736, 267.3211 , 274.34482,\n",
       "        281.36856, 288.39227, 295.41602, 302.43973, 309.46347, 316.4872 ,\n",
       "        323.51093, 330.53464, 337.5584 , 344.58212, 351.60587, 358.62958,\n",
       "        365.65332, 372.67703, 379.70078, 386.7245 , 393.74823, 400.77194,\n",
       "        407.7957 , 414.81943, 421.84317, 428.8669 , 241.78653, 248.81027,\n",
       "        255.83401, 262.85773, 269.88147, 276.90518, 283.92892, 290.95267,\n",
       "        297.9764 , 305.0001 , 312.02383, 319.04758, 326.07132, 333.09503,\n",
       "        340.11874, 347.14252, 354.16623, 361.18997, 368.21368, 375.2374 ,\n",
       "        382.26114, 389.28488, 396.3086 , 403.3323 , 410.35608, 417.3798 ,\n",
       "        424.40353, 431.42725, 245.31436, 252.3381 , 259.36185, 266.38556,\n",
       "        273.4093 , 280.433  , 287.45676, 294.48047, 301.5042 , 308.52792,\n",
       "        315.55167, 322.5754 , 329.59912, 336.62283, 343.64658, 350.67032,\n",
       "        357.69403, 364.71774, 371.7415 , 378.76523, 385.78897, 392.81268,\n",
       "        399.8364 , 406.86014, 413.88388, 420.90762, 427.93134, 434.95505,\n",
       "        247.16496, 253.9465 , 260.72806, 267.50955, 274.2911 , 281.07263,\n",
       "        287.85416, 294.6357 , 301.41724, 308.19876, 314.98032, 321.7618 ,\n",
       "        328.54337, 335.32486, 342.1064 , 348.88797, 355.66946, 362.45102,\n",
       "        369.23257, 376.01407, 382.79562, 389.57715, 396.35867, 403.1402 ,\n",
       "        409.92175, 416.70328, 423.4848 , 430.26633, 437.04788, 246.08548,\n",
       "        253.10922, 260.13293, 267.15668, 274.18042, 281.20413, 288.22787,\n",
       "        295.25162, 302.27536, 309.29904, 316.32278, 323.34653, 330.37024,\n",
       "        337.39395, 344.4177 , 351.44144, 358.46518, 365.4889 , 372.5126 ,\n",
       "        379.53635, 386.5601 , 393.58377, 400.60754, 407.6313 , 414.655  ,\n",
       "        421.67874, 428.70242, 435.72617, 244.53763, 251.31915, 258.10068,\n",
       "        264.8822 , 271.66376, 278.44528, 285.22684, 292.00836, 298.7899 ,\n",
       "        305.57144, 312.35294, 319.1345 , 325.91602, 332.69754, 339.4791 ,\n",
       "        346.2606 , 353.0421 , 359.82367, 366.6052 , 373.38672, 380.16827,\n",
       "        386.9498 , 393.73135, 400.51285, 407.2944 , 414.0759 , 420.85745,\n",
       "        427.63898, 434.4205 , 243.17065, 250.1944 , 257.2181 , 264.24185,\n",
       "        271.2656 , 278.2893 , 285.31302, 292.33676, 299.3605 , 306.38422,\n",
       "        313.40796, 320.43167, 327.4554 , 334.47913, 341.50287, 348.52658,\n",
       "        355.55032, 362.57404, 369.59778, 376.6215 , 383.64523, 390.66898,\n",
       "        397.69272, 404.71643, 411.74014, 418.7639 , 425.7876 , 432.8113 ,\n",
       "        241.65453, 248.43608, 255.21759, 261.99915, 268.78067, 275.5622 ,\n",
       "        282.34372, 289.12527, 295.9068 , 302.68832, 309.46988, 316.2514 ,\n",
       "        323.03293, 329.81442, 336.59598, 343.37753, 350.15903, 356.94058,\n",
       "        363.7221 , 370.50363, 377.2852 , 384.0667 , 390.84824, 397.62976,\n",
       "        404.41132, 411.19284, 417.9744 , 424.75592, 431.53745, 241.16553,\n",
       "        247.94705, 254.72858, 261.5101 , 268.29163, 275.07318, 281.8547 ,\n",
       "        288.63626, 295.41782, 302.1993 , 308.98087, 315.76236, 322.5439 ,\n",
       "        329.32544, 336.10696, 342.8885 , 349.67   , 356.45157, 363.2331 ,\n",
       "        370.01462, 376.79617, 383.5777 , 390.35922, 397.14075, 403.92227,\n",
       "        410.70383, 417.48535, 424.2669 , 431.0484 , 240.80838, 247.5899 ,\n",
       "        254.37146, 261.15298, 267.93448, 274.71603, 281.49756, 288.27908,\n",
       "        295.06064, 301.8422 , 308.6237 , 315.40524, 322.18677, 328.9683 ,\n",
       "        335.74985, 342.53137, 349.3129 , 356.09442, 362.87595, 369.6575 ,\n",
       "        376.43903, 383.22055, 390.0021 , 396.7836 , 403.56516, 410.3467 ,\n",
       "        417.1282 , 423.90976, 430.69128, 241.00385, 247.78537, 254.5669 ,\n",
       "        261.34845, 268.12997, 274.91153, 281.69305, 288.47458, 295.25607,\n",
       "        302.03763, 308.81915, 315.60068, 322.38223, 329.1638 , 335.9453 ,\n",
       "        342.72684, 349.50836, 356.2899 , 363.0714 , 369.85294, 376.6345 ,\n",
       "        383.41602, 390.19754, 396.97906, 403.76062, 410.5421 , 417.32367,\n",
       "        424.10516, 430.88675, 241.70374, 248.72745, 255.75119, 262.7749 ,\n",
       "        269.79865, 276.82236, 283.8461 , 290.86984, 297.8936 , 304.9173 ,\n",
       "        311.941  , 318.96475, 325.98846, 333.01224, 340.03595, 347.05966,\n",
       "        354.0834 , 361.10712, 368.13086, 375.15457, 382.1783 , 389.20203,\n",
       "        396.22574, 403.2495 , 410.27322, 417.29697, 424.32068, 431.3444 ,\n",
       "        244.06235, 251.08609, 258.1098 , 265.13354, 272.15726, 279.181  ,\n",
       "        286.20474, 293.22845, 300.2522 , 307.2759 , 314.29965, 321.3234 ,\n",
       "        328.3471 , 335.37082, 342.39456, 349.4183 , 356.44202, 363.46573,\n",
       "        370.48947, 377.5132 , 384.53696, 391.56067, 398.5844 , 405.60812,\n",
       "        412.63187, 419.65558, 426.6793 , 433.70303, 246.79782, 253.82156,\n",
       "        260.84528, 267.86902, 274.89273, 281.91644, 288.94022, 295.96393,\n",
       "        302.98764, 310.01138, 317.0351 , 324.0588 , 331.08258, 338.1063 ,\n",
       "        345.13004, 352.15378, 359.17746, 366.20123, 373.22498, 380.2487 ,\n",
       "        387.27243, 394.29614, 401.31985, 408.3436 , 415.36734, 422.39105,\n",
       "        429.41476, 436.4385 , 247.88934, 254.67087, 261.4524 , 268.23392,\n",
       "        275.01547, 281.797  , 288.57855, 295.36008, 302.1416 , 308.92313],\n",
       "       dtype=float32)]"
      ]
     },
     "execution_count": 14,
     "metadata": {},
     "output_type": "execute_result"
    }
   ],
   "source": [
    "predictions"
   ]
  },
  {
   "cell_type": "code",
   "execution_count": 15,
   "id": "9a74318e-1253-4dd1-9e80-9bb887ded2e0",
   "metadata": {},
   "outputs": [
    {
     "name": "stdout",
     "output_type": "stream",
     "text": [
      "Shape of predictions array: (1, 720)\n"
     ]
    }
   ],
   "source": [
    "# Display the shape of predictions\n",
    "predictions_array = np.array(predictions)\n",
    "print(\"Shape of predictions array:\", predictions_array.shape)"
   ]
  },
  {
   "cell_type": "code",
   "execution_count": 16,
   "id": "d43844df-7c8a-4ea7-b7ee-83fe6031d9bd",
   "metadata": {},
   "outputs": [
    {
     "name": "stdout",
     "output_type": "stream",
     "text": [
      "Output shape: torch.Size([3825, 1])\n",
      "Sensor output shape: torch.Size([720, 1])\n"
     ]
    }
   ],
   "source": [
    "print(\"Output shape:\", output.shape)\n",
    "print(\"Sensor output shape:\", sensor_output.shape)"
   ]
  },
  {
   "cell_type": "markdown",
   "id": "3d7d4b67-131e-4794-941a-ba849736dc24",
   "metadata": {},
   "source": [
    "## **Export to csv**"
   ]
  },
  {
   "cell_type": "code",
   "execution_count": 17,
   "id": "ba1e3bfe-a8f7-4d32-affe-841cda55abcd",
   "metadata": {},
   "outputs": [
    {
     "name": "stdout",
     "output_type": "stream",
     "text": [
      "Shape of sensor predictions array: (720, 1)\n"
     ]
    }
   ],
   "source": [
    "# Reshape predictions_array to have shape (592, 1)\n",
    "predictions_array = np.vstack(predictions)\n",
    "predictions_array = predictions_array.T\n",
    "print(\"Shape of sensor predictions array:\", predictions_array.shape)"
   ]
  },
  {
   "cell_type": "code",
   "execution_count": 18,
   "id": "efb71886-2dc6-4fa3-ab87-738cca41cc3e",
   "metadata": {},
   "outputs": [
    {
     "name": "stdout",
     "output_type": "stream",
     "text": [
      "Saved predictions to: data\\2_prediction_testing\\sensor_predictions.csv\n"
     ]
    }
   ],
   "source": [
    "# Export rounded predictions to CSV in the same folder as the script\n",
    "np.savetxt(file_path, predictions_array, delimiter=\",\")\n",
    "print(f\"Saved predictions to: {file_path}\")"
   ]
  }
 ],
 "metadata": {
  "kernelspec": {
   "display_name": "Python 3 (ipykernel)",
   "language": "python",
   "name": "python3"
  },
  "language_info": {
   "codemirror_mode": {
    "name": "ipython",
    "version": 3
   },
   "file_extension": ".py",
   "mimetype": "text/x-python",
   "name": "python",
   "nbconvert_exporter": "python",
   "pygments_lexer": "ipython3",
   "version": "3.10.6"
  }
 },
 "nbformat": 4,
 "nbformat_minor": 5
}
