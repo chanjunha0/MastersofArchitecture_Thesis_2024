{
 "cells": [
  {
   "cell_type": "markdown",
   "id": "e70e3ff3-cef5-46a0-b462-26fbe25ed207",
   "metadata": {},
   "source": [
    "## **Import Libraries**"
   ]
  },
  {
   "cell_type": "code",
   "execution_count": 7,
   "id": "62c62e19-e11b-4d47-984d-bbd7c70a2ba3",
   "metadata": {},
   "outputs": [],
   "source": [
    "import torch\n",
    "from torch_geometric.nn import GCNConv"
   ]
  },
  {
   "cell_type": "markdown",
   "id": "a8cbb522-0fcb-4594-9bba-4766944d258d",
   "metadata": {},
   "source": [
    "## **Load the Trained Model**"
   ]
  },
  {
   "cell_type": "markdown",
   "id": "1e249f8c-7673-4929-a2d4-0610183ac8ec",
   "metadata": {},
   "source": [
    "convert this class to a .py script later on!"
   ]
  },
  {
   "cell_type": "code",
   "execution_count": 8,
   "id": "9bf68105-4333-4c4b-8b51-21422e76f776",
   "metadata": {},
   "outputs": [],
   "source": [
    "class SimpleGCN(torch.nn.Module):\n",
    "    def __init__(self, num_node_features, num_classes):\n",
    "        super(SimpleGCN, self).__init__()\n",
    "        self.conv1 = GCNConv(num_node_features, 16)  # First GCN layer\n",
    "        self.conv2 = GCNConv(16, num_classes)        # Second GCN layer\n",
    "\n",
    "    def forward(self, data):\n",
    "        x, edge_index = data.x, data.edge_index\n",
    "        x = self.conv1(x, edge_index)\n",
    "        x = F.relu(x)\n",
    "        x = F.dropout(x, training=self.training)\n",
    "        x = self.conv2(x, edge_index)\n",
    "        return x  # No log_softmax for regression"
   ]
  },
  {
   "cell_type": "code",
   "execution_count": 9,
   "id": "ae9e1c72-6978-477e-9afa-326ead60e832",
   "metadata": {},
   "outputs": [],
   "source": [
    "num_node_features = 4  # From your Data object, x=[713, 4]\n",
    "num_classes = 1  # Assuming a regression task; adjust based on your specific task\n",
    "\n",
    "model = SimpleGCN(num_node_features, num_classes)\n",
    "optimizer = torch.optim.Adam(model.parameters(), lr=0.01)  # Using Adam optimizer"
   ]
  },
  {
   "cell_type": "code",
   "execution_count": 10,
   "id": "fd6c71c6-63b2-42f9-9133-14429f2aae4b",
   "metadata": {},
   "outputs": [],
   "source": [
    "# paste specific model path\n",
    "model_iteration = 'model_2024-02-15_22-14-57'"
   ]
  },
  {
   "cell_type": "code",
   "execution_count": 12,
   "id": "5a49db5e-c3f3-4bb8-89aa-3a198c23e632",
   "metadata": {},
   "outputs": [
    {
     "data": {
      "text/plain": [
       "<All keys matched successfully>"
      ]
     },
     "execution_count": 12,
     "metadata": {},
     "output_type": "execute_result"
    }
   ],
   "source": [
    "# Load the saved state_dict\n",
    "model.load_state_dict(torch.load(f'pytorch_model/{model_iteration}.pth'))"
   ]
  },
  {
   "cell_type": "code",
   "execution_count": 13,
   "id": "7cf96499-cd94-4820-b5e7-2e225cfb2667",
   "metadata": {},
   "outputs": [
    {
     "data": {
      "text/plain": [
       "SimpleGCN(\n",
       "  (conv1): GCNConv(4, 16)\n",
       "  (conv2): GCNConv(16, 1)\n",
       ")"
      ]
     },
     "execution_count": 13,
     "metadata": {},
     "output_type": "execute_result"
    }
   ],
   "source": [
    "# Ensure you call model.eval() to set dropout and batch normalization layers to evaluation mode\n",
    "model.eval()"
   ]
  },
  {
   "cell_type": "code",
   "execution_count": null,
   "id": "ec651871-f5db-4cd3-bc06-6bffdce72223",
   "metadata": {},
   "outputs": [],
   "source": []
  }
 ],
 "metadata": {
  "kernelspec": {
   "display_name": "Python 3 (ipykernel)",
   "language": "python",
   "name": "python3"
  },
  "language_info": {
   "codemirror_mode": {
    "name": "ipython",
    "version": 3
   },
   "file_extension": ".py",
   "mimetype": "text/x-python",
   "name": "python",
   "nbconvert_exporter": "python",
   "pygments_lexer": "ipython3",
   "version": "3.10.6"
  }
 },
 "nbformat": 4,
 "nbformat_minor": 5
}
