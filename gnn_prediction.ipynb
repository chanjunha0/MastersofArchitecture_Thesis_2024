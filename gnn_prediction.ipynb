{
 "cells": [
  {
   "cell_type": "markdown",
   "id": "e70e3ff3-cef5-46a0-b462-26fbe25ed207",
   "metadata": {},
   "source": [
    "## **Import Libraries**"
   ]
  },
  {
   "cell_type": "code",
   "execution_count": 1,
   "id": "62c62e19-e11b-4d47-984d-bbd7c70a2ba3",
   "metadata": {},
   "outputs": [],
   "source": [
    "import numpy as np\n",
    "import torch\n",
    "from torch_geometric.nn import GCNConv\n",
    "from torch_geometric.loader import DataLoader\n",
    "import torch.nn.functional as F\n",
    "from torch_geometric.data import Data"
   ]
  },
  {
   "cell_type": "markdown",
   "id": "a8cbb522-0fcb-4594-9bba-4766944d258d",
   "metadata": {},
   "source": [
    "## **Load the Trained Model**"
   ]
  },
  {
   "cell_type": "markdown",
   "id": "1e249f8c-7673-4929-a2d4-0610183ac8ec",
   "metadata": {},
   "source": [
    "convert this class to a .py script later on!"
   ]
  },
  {
   "cell_type": "code",
   "execution_count": 2,
   "id": "9bf68105-4333-4c4b-8b51-21422e76f776",
   "metadata": {},
   "outputs": [],
   "source": [
    "class SimpleGCN(torch.nn.Module):\n",
    "    def __init__(self, num_node_features, num_classes):\n",
    "        super(SimpleGCN, self).__init__()\n",
    "        self.conv1 = GCNConv(num_node_features, 16)  # First GCN layer\n",
    "        self.conv2 = GCNConv(16, num_classes)        # Second GCN layer\n",
    "\n",
    "    def forward(self, data):\n",
    "        x, edge_index = data.x, data.edge_index\n",
    "        x = self.conv1(x, edge_index)\n",
    "        x = F.relu(x)\n",
    "        x = F.dropout(x, training=self.training)\n",
    "        x = self.conv2(x, edge_index)\n",
    "        return x  # No log_softmax for regression"
   ]
  },
  {
   "cell_type": "code",
   "execution_count": 3,
   "id": "ae9e1c72-6978-477e-9afa-326ead60e832",
   "metadata": {},
   "outputs": [],
   "source": [
    "num_node_features = 4  # From your Data object, x=[713, 4]\n",
    "num_classes = 1  # Assuming a regression task; adjust based on your specific task\n",
    "\n",
    "model = SimpleGCN(num_node_features, num_classes)\n",
    "optimizer = torch.optim.Adam(model.parameters(), lr=0.01)  # Using Adam optimizer"
   ]
  },
  {
   "cell_type": "code",
   "execution_count": 4,
   "id": "fd6c71c6-63b2-42f9-9133-14429f2aae4b",
   "metadata": {},
   "outputs": [],
   "source": [
    "# paste specific model path\n",
    "model_iteration = 'model_2024-02-15_22-14-57'"
   ]
  },
  {
   "cell_type": "code",
   "execution_count": 5,
   "id": "5a49db5e-c3f3-4bb8-89aa-3a198c23e632",
   "metadata": {},
   "outputs": [
    {
     "data": {
      "text/plain": [
       "<All keys matched successfully>"
      ]
     },
     "execution_count": 5,
     "metadata": {},
     "output_type": "execute_result"
    }
   ],
   "source": [
    "# Load the saved state_dict\n",
    "model.load_state_dict(torch.load(f'pytorch_model/{model_iteration}.pth'))"
   ]
  },
  {
   "cell_type": "code",
   "execution_count": 6,
   "id": "7cf96499-cd94-4820-b5e7-2e225cfb2667",
   "metadata": {},
   "outputs": [
    {
     "data": {
      "text/plain": [
       "SimpleGCN(\n",
       "  (conv1): GCNConv(4, 16)\n",
       "  (conv2): GCNConv(16, 1)\n",
       ")"
      ]
     },
     "execution_count": 6,
     "metadata": {},
     "output_type": "execute_result"
    }
   ],
   "source": [
    "# Ensure you call model.eval() to set dropout and batch normalization layers to evaluation mode\n",
    "model.eval()"
   ]
  },
  {
   "cell_type": "markdown",
   "id": "e89d432d-3e26-411a-9b6d-1e9370a22bb1",
   "metadata": {},
   "source": [
    "## **Load the Pytorch Data Object**"
   ]
  },
  {
   "cell_type": "code",
   "execution_count": 7,
   "id": "34b3be9a-6b76-434a-b202-4250cefe7c1d",
   "metadata": {},
   "outputs": [
    {
     "name": "stdout",
     "output_type": "stream",
     "text": [
      "loaded\n"
     ]
    }
   ],
   "source": [
    "# Load your data object for prediction\n",
    "\n",
    "new_data = torch.load('data/graph_data_predict.pt')\n",
    "print('loaded')"
   ]
  },
  {
   "cell_type": "code",
   "execution_count": 8,
   "id": "ff51c547-8b2b-42a8-a9b4-7cf54e24b08b",
   "metadata": {},
   "outputs": [],
   "source": [
    "# If 'new_data' is a single Data object, wrap it in a list for DataLoader compatibility\n",
    "if isinstance(new_data, Data):\n",
    "    new_data = [new_data]"
   ]
  },
  {
   "cell_type": "code",
   "execution_count": 9,
   "id": "446c9915-67c1-4129-af38-5b56c9745b39",
   "metadata": {},
   "outputs": [],
   "source": [
    "# Create a DataLoader for your new dataset\n",
    "data_loader = DataLoader(new_data, batch_size=1, shuffle=False)"
   ]
  },
  {
   "cell_type": "markdown",
   "id": "959db448-c5a6-4a1d-8877-0873bac420f4",
   "metadata": {},
   "source": [
    "## **Slicing Range**"
   ]
  },
  {
   "cell_type": "code",
   "execution_count": 10,
   "id": "60f31d38-f36b-41b8-b9ce-bb37c44af2b0",
   "metadata": {},
   "outputs": [],
   "source": [
    "# Assuming the first 592 out of 896 features are for sensors\n",
    "sensor_indices = slice(0, 592)  # This creates a slice object for the first 592 features"
   ]
  },
  {
   "cell_type": "markdown",
   "id": "d00b2385-5566-4cc1-84a0-950294cb583d",
   "metadata": {},
   "source": [
    "## **Make Predictions**"
   ]
  },
  {
   "cell_type": "code",
   "execution_count": 11,
   "id": "34574b22-5330-45fe-9c7c-ed1a8353fa76",
   "metadata": {},
   "outputs": [],
   "source": [
    "# Make predictions\n",
    "predictions = []\n",
    "for data in data_loader:\n",
    "    with torch.no_grad():\n",
    "        output = model(data)\n",
    "        sensor_output = output[sensor_indices]  # Adjusted slicing\n",
    "        predictions.append(sensor_output.squeeze(-1).detach().numpy())\n",
    "        \n",
    "# 'predictions' now contains the predicted values for your new dataset"
   ]
  },
  {
   "cell_type": "code",
   "execution_count": 12,
   "id": "43a8ee7b-3e34-43d9-b944-50c132000a5f",
   "metadata": {},
   "outputs": [
    {
     "data": {
      "text/plain": [
       "[array([428.22824, 430.43756, 432.6469 , 434.8563 , 437.06564, 439.275  ,\n",
       "        441.48438, 443.69366, 445.903  , 448.11237, 450.32172, 452.53107,\n",
       "        454.74042, 456.94977, 427.74857, 429.8106 , 431.87268, 433.93475,\n",
       "        435.99677, 438.05887, 440.1209 , 442.18295, 444.24506, 446.30707,\n",
       "        448.36914, 450.4312 , 452.49326, 454.55533, 456.6174 , 430.00433,\n",
       "        432.06638, 434.12845, 436.1905 , 438.25256, 440.31464, 442.37668,\n",
       "        444.43875, 446.5008 , 448.56287, 450.62494, 452.68695, 454.74902,\n",
       "        456.8111 , 458.87314, 430.67303, 432.73514, 434.79718, 436.85922,\n",
       "        438.9213 , 440.98337, 443.0454 , 445.10748, 447.16953, 449.23157,\n",
       "        451.29364, 453.3557 , 455.4178 , 457.47983, 459.54187, 432.3059 ,\n",
       "        434.36798, 436.43   , 438.4921 , 440.55417, 442.6162 , 444.67828,\n",
       "        446.74033, 448.80237, 450.86444, 452.9265 , 454.98856, 457.05063,\n",
       "        459.1127 , 461.1747 , 433.48026, 435.5423 , 437.6044 , 439.66644,\n",
       "        441.72852, 443.7906 , 445.8526 , 447.91467, 449.97675, 452.0388 ,\n",
       "        454.10083, 456.1629 , 458.22498, 460.28702, 462.3491 , 435.37738,\n",
       "        437.43942, 439.50146, 441.56357, 443.6256 , 445.68765, 447.74976,\n",
       "        449.8118 , 451.87384, 453.9359 , 455.99796, 458.06003, 460.12207,\n",
       "        462.18414, 464.2462 , 436.13513, 438.1972 , 440.25922, 442.3213 ,\n",
       "        444.38336, 446.44543, 448.50745, 450.56955, 452.6316 , 454.69366,\n",
       "        456.7557 , 458.81778, 460.87982, 462.94186, 465.00397, 437.87573,\n",
       "        439.9378 , 441.99988, 444.06195, 446.124  , 448.18604, 450.2481 ,\n",
       "        452.31015, 454.37222, 456.43427, 458.4963 , 460.5584 , 462.62042,\n",
       "        464.68253, 466.74457, 438.45673, 440.5188 , 442.58084, 444.64288,\n",
       "        446.70496, 448.76703, 450.8291 , 452.89114, 454.9532 , 457.0153 ,\n",
       "        459.07733, 461.13937, 463.20145, 465.2635 , 467.32553, 440.1542 ,\n",
       "        442.21625, 444.27832, 446.34036, 448.40244, 450.46448, 452.52655,\n",
       "        454.58862, 456.6507 , 458.71274, 460.77478, 462.83682, 464.89893,\n",
       "        466.96097, 469.02304, 440.81168, 442.87372, 444.9358 , 446.99783,\n",
       "        449.0599 , 451.12195, 453.18405, 455.24606, 457.3081 , 459.37018,\n",
       "        461.43225, 463.49432, 465.55637, 467.6184 , 469.68048, 440.25177,\n",
       "        442.31384, 444.37592, 446.438  , 448.5    , 450.56207, 452.62415,\n",
       "        454.68622, 456.74826, 458.8103 , 460.87238, 462.93445, 464.99652,\n",
       "        467.05853, 469.12064, 439.9626 , 442.0246 , 444.08673, 446.14874,\n",
       "        448.21082, 450.2729 , 452.33493, 454.397  , 456.45905, 458.52112,\n",
       "        460.58316, 462.6452 , 464.70728, 466.76935, 468.83142, 439.94257,\n",
       "        442.00464, 444.06668, 446.12878, 448.1908 , 450.2529 , 452.31494,\n",
       "        454.377  , 456.4391 , 458.5011 , 460.56317, 462.62524, 464.6873 ,\n",
       "        466.74936, 468.8114 , 440.24683, 442.3089 , 444.37097, 446.433  ,\n",
       "        448.49506, 450.55713, 452.61917, 454.68124, 456.7433 , 458.8054 ,\n",
       "        460.8674 , 462.9295 , 464.99152, 467.0536 , 469.11566, 440.43036,\n",
       "        442.49237, 444.5544 , 446.61652, 448.67853, 450.7406 , 452.80267,\n",
       "        454.86472, 456.9268 , 458.98883, 461.0509 , 463.11298, 465.17505,\n",
       "        467.23712, 469.29913, 441.73956, 443.80164, 445.8637 , 447.92578,\n",
       "        449.9878 , 452.0499 , 454.11194, 456.17398, 458.23608, 460.29813,\n",
       "        462.36017, 464.42224, 466.48428, 468.54633, 470.6084 , 445.92984,\n",
       "        448.1392 , 450.34854, 452.5579 , 454.76727, 456.9766 , 459.1859 ,\n",
       "        461.39526, 463.60468, 465.81396, 468.02335, 470.2327 , 472.44205,\n",
       "        474.6514 , 445.57446, 447.7838 , 449.99313, 452.2025 , 454.41187,\n",
       "        456.6212 , 458.83057, 461.0399 , 463.24924, 465.4586 , 467.66797,\n",
       "        469.8773 , 472.08664, 474.29602, 443.60898, 445.67102, 447.7331 ,\n",
       "        449.79517, 451.85718, 453.91925, 455.98135, 458.0434 , 460.10547,\n",
       "        462.16748, 464.22955, 466.29163, 468.35367, 470.41574, 472.4778 ,\n",
       "        445.49384, 447.5559 , 449.61798, 451.68002, 453.74207, 455.80414,\n",
       "        457.8662 , 459.92825, 461.99036, 464.0524 , 466.11444, 468.17648,\n",
       "        470.23856, 472.30063, 474.36267, 448.28046, 450.34253, 452.40457,\n",
       "        454.46667, 456.52872, 458.59076, 460.65283, 462.7149 , 464.77695,\n",
       "        466.839  , 468.90106, 470.96313, 473.02518, 475.08722, 477.1493 ,\n",
       "        448.88556, 450.9476 , 453.00964, 455.07172, 457.13376, 459.19586,\n",
       "        461.25787, 463.31995, 465.38202, 467.4441 , 469.5061 , 471.56818,\n",
       "        473.63025, 475.6923 , 477.7544 , 450.52335, 452.58542, 454.64746,\n",
       "        456.70953, 458.77155, 460.83365, 462.8957 , 464.95776, 467.01984,\n",
       "        469.0819 , 471.14392, 473.206  , 475.26807, 477.33014, 479.39218,\n",
       "        451.0826 , 453.14465, 455.20673, 457.2688 , 459.33087, 461.3929 ,\n",
       "        463.45496, 465.51703, 467.5791 , 469.64114, 471.7032 , 473.76526,\n",
       "        475.8273 , 477.88934, 479.95145, 452.9897 , 455.05173, 457.11383,\n",
       "        459.17584, 461.2379 , 463.3    , 465.36206, 467.4241 , 469.48615,\n",
       "        471.54822, 473.61026, 475.67233, 477.73438, 479.79645, 481.8585 ,\n",
       "        449.85052, 452.05984, 454.26923, 456.47858, 458.68787, 460.89722,\n",
       "        463.10657, 465.31592, 467.52527, 469.73462, 471.94397, 474.15335,\n",
       "        476.36267, 478.57205, 444.55994, 446.622  , 448.68405, 450.74615,\n",
       "        452.8082 , 454.87024, 456.9323 , 458.9944 , 461.05643, 463.1185 ,\n",
       "        465.18054, 467.24258, 469.3047 , 471.3667 , 473.42877, 441.63947,\n",
       "        443.84882, 446.05814, 448.26752, 450.47684, 452.68616, 454.89554,\n",
       "        457.10492, 459.31424, 461.52362, 463.73294, 465.94232, 468.1516 ,\n",
       "        470.361  , 439.71423, 441.77628, 443.83838, 445.9004 , 447.96246,\n",
       "        450.02454, 452.0866 , 454.14865, 456.2107 , 458.27277, 460.3348 ,\n",
       "        462.3969 , 464.45892, 466.521  , 468.58307, 436.83627, 439.0456 ,\n",
       "        441.2549 , 443.4643 , 445.67365, 447.883  , 450.09235, 452.3017 ,\n",
       "        454.51105, 456.72037, 458.92975, 461.13907, 463.34842, 465.55777,\n",
       "        431.86142, 433.92346, 435.98553, 438.0476 , 440.10968, 442.17172,\n",
       "        444.23376, 446.29584, 448.3579 , 450.41995, 452.482  , 454.5441 ,\n",
       "        456.60614, 458.6682 , 460.7303 , 431.6525 , 433.71457, 435.7766 ,\n",
       "        437.83868, 439.90076, 441.9628 , 444.02487, 446.0869 , 448.149  ,\n",
       "        450.21106, 452.2731 , 454.33514, 456.39725, 458.4593 , 460.52136,\n",
       "        431.73413, 433.79614, 435.85822, 437.9203 , 439.98233, 442.04437,\n",
       "        444.10648, 446.16852, 448.23056, 450.29263, 452.35468, 454.41675,\n",
       "        456.47882, 458.54086, 460.6029 , 432.20837, 434.27045, 436.33252,\n",
       "        438.3946 , 440.45663, 442.51868, 444.58075, 446.64282, 448.70486,\n",
       "        450.76694, 452.82898, 454.89105, 456.95312, 459.01514, 461.0772 ,\n",
       "        432.4989 , 434.56097, 436.623  , 438.68506, 440.7471 , 442.8092 ,\n",
       "        444.87125, 446.9333 , 448.99536, 451.05737, 453.11945, 455.18152,\n",
       "        457.2436 , 459.30563, 461.36768, 434.51074, 436.7201 , 438.92944,\n",
       "        441.1388 , 443.34814, 445.5575 , 447.76685, 449.9762 , 452.18555,\n",
       "        454.39487, 456.60425, 458.8136 , 461.02292, 463.2323 , 436.09283,\n",
       "        438.1549 , 440.21692, 442.279  , 444.34106, 446.40314, 448.46518,\n",
       "        450.52725, 452.5893 , 454.65137, 456.71338, 458.77548, 460.83752,\n",
       "        462.89963, 464.96167, 433.4441 , 435.65344, 437.8628 , 440.07214,\n",
       "        442.2815 , 444.49084, 446.7002 , 448.90955, 451.1189 , 453.32825,\n",
       "        455.53757, 457.74695, 459.95627, 462.16565], dtype=float32)]"
      ]
     },
     "execution_count": 12,
     "metadata": {},
     "output_type": "execute_result"
    }
   ],
   "source": [
    "predictions"
   ]
  },
  {
   "cell_type": "code",
   "execution_count": 13,
   "id": "9a74318e-1253-4dd1-9e80-9bb887ded2e0",
   "metadata": {},
   "outputs": [
    {
     "name": "stdout",
     "output_type": "stream",
     "text": [
      "Shape of predictions array: (1, 592)\n"
     ]
    }
   ],
   "source": [
    "# Display the shape of predictions\n",
    "predictions_array = np.array(predictions)\n",
    "print(\"Shape of predictions array:\", predictions_array.shape)"
   ]
  },
  {
   "cell_type": "code",
   "execution_count": 14,
   "id": "d43844df-7c8a-4ea7-b7ee-83fe6031d9bd",
   "metadata": {},
   "outputs": [
    {
     "name": "stdout",
     "output_type": "stream",
     "text": [
      "Output shape: torch.Size([896, 1])\n",
      "Sensor output shape: torch.Size([592, 1])\n"
     ]
    }
   ],
   "source": [
    "print(\"Output shape:\", output.shape)\n",
    "print(\"Sensor output shape:\", sensor_output.shape)"
   ]
  },
  {
   "cell_type": "markdown",
   "id": "75b36b27-fab7-4a0c-ae62-c64092b5203f",
   "metadata": {},
   "source": [
    "So, in summary, the shape (1, 896, 1) suggests that you have one sample, each containing 896 elements, and each of these elements is a single output value."
   ]
  },
  {
   "cell_type": "markdown",
   "id": "3d7d4b67-131e-4794-941a-ba849736dc24",
   "metadata": {},
   "source": [
    "## **Export to csv**"
   ]
  },
  {
   "cell_type": "code",
   "execution_count": 15,
   "id": "ba1e3bfe-a8f7-4d32-affe-841cda55abcd",
   "metadata": {},
   "outputs": [
    {
     "name": "stdout",
     "output_type": "stream",
     "text": [
      "Shape of sensor predictions array: (592, 1)\n"
     ]
    }
   ],
   "source": [
    "predictions_array = np.vstack(predictions)\n",
    "# Reshape predictions_array to have shape (592, 1)\n",
    "predictions_array = predictions_array.T\n",
    "print(\"Shape of sensor predictions array:\", predictions_array.shape)"
   ]
  },
  {
   "cell_type": "code",
   "execution_count": 16,
   "id": "efb71886-2dc6-4fa3-ab87-738cca41cc3e",
   "metadata": {},
   "outputs": [
    {
     "name": "stdout",
     "output_type": "stream",
     "text": [
      "saved\n"
     ]
    }
   ],
   "source": [
    "# Export rounded predictions to CSV in the same folder as the script\n",
    "np.savetxt(\"sensor_predictions.csv\", predictions_array, delimiter=\",\")\n",
    "print('saved')"
   ]
  },
  {
   "cell_type": "markdown",
   "id": "e5a451bf-ed48-4e8e-a5a8-68c31f12f41f",
   "metadata": {},
   "source": [
    "# note theres 2 options to deal with the masking / indexing issue\n",
    "1. save the sensor_mask as a numpy array in the training script and retrive it here\n",
    "2. manually dictate the indices to slice at\n",
    "\n",
    "i took option 2 cos easier in grasshopper component later on"
   ]
  },
  {
   "cell_type": "code",
   "execution_count": null,
   "id": "e7d7979a-d871-419f-9d5d-db462ca686e1",
   "metadata": {},
   "outputs": [],
   "source": []
  }
 ],
 "metadata": {
  "kernelspec": {
   "display_name": "Python 3 (ipykernel)",
   "language": "python",
   "name": "python3"
  },
  "language_info": {
   "codemirror_mode": {
    "name": "ipython",
    "version": 3
   },
   "file_extension": ".py",
   "mimetype": "text/x-python",
   "name": "python",
   "nbconvert_exporter": "python",
   "pygments_lexer": "ipython3",
   "version": "3.10.6"
  }
 },
 "nbformat": 4,
 "nbformat_minor": 5
}
