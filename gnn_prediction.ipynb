{
 "cells": [
  {
   "cell_type": "markdown",
   "id": "31b74da0-63dc-4843-b4fd-8b2691f6efdc",
   "metadata": {},
   "source": [
    "## **Notebook Description**"
   ]
  },
  {
   "cell_type": "markdown",
   "id": "81e834f1-d969-44be-bcbd-2da7a7f26355",
   "metadata": {},
   "source": [
    "**Function**"
   ]
  },
  {
   "cell_type": "markdown",
   "id": "0fc5efa9-f328-4a13-b957-72285a699090",
   "metadata": {},
   "source": [
    "Uses the trained model to make predictions on a new, unseen dataset. "
   ]
  },
  {
   "cell_type": "markdown",
   "id": "b7229d78-d48f-442d-99bc-6afcced15310",
   "metadata": {},
   "source": [
    "**Output**"
   ]
  },
  {
   "cell_type": "markdown",
   "id": "254c2e23-22db-49c8-8645-f00643afca9d",
   "metadata": {},
   "source": [
    "Csv with predictions on unseen dataset. "
   ]
  },
  {
   "cell_type": "markdown",
   "id": "e70e3ff3-cef5-46a0-b462-26fbe25ed207",
   "metadata": {},
   "source": [
    "## **Import Libraries**"
   ]
  },
  {
   "cell_type": "code",
   "execution_count": 1,
   "id": "62c62e19-e11b-4d47-984d-bbd7c70a2ba3",
   "metadata": {},
   "outputs": [],
   "source": [
    "import numpy as np\n",
    "import torch\n",
    "from torch_geometric.nn import GCNConv\n",
    "from torch_geometric.loader import DataLoader\n",
    "import torch.nn.functional as F\n",
    "from torch_geometric.data import Data"
   ]
  },
  {
   "cell_type": "markdown",
   "id": "04b64485-e7e8-4295-85a8-2b493abbd821",
   "metadata": {},
   "source": [
    "## **Input**"
   ]
  },
  {
   "cell_type": "code",
   "execution_count": 2,
   "id": "23bf0ec5-deb0-4072-8d30-26811fd3ecb6",
   "metadata": {},
   "outputs": [],
   "source": [
    "# Paste model path\n",
    "model_iteration = 'model'"
   ]
  },
  {
   "cell_type": "code",
   "execution_count": 3,
   "id": "a0ad679c-38a4-4baf-bedb-304d7e7ae8c7",
   "metadata": {},
   "outputs": [],
   "source": [
    "# Input Pytorch Object Date\n",
    "# Copy paste in here\n",
    "object = 'predict_1'"
   ]
  },
  {
   "cell_type": "code",
   "execution_count": 4,
   "id": "a8945557-3398-4ad0-af84-0c9a09848f82",
   "metadata": {},
   "outputs": [],
   "source": [
    "# Set the slicing range for the indices (labeled nodes)\n",
    "sensor_indices = slice(0, 592) "
   ]
  },
  {
   "cell_type": "code",
   "execution_count": 5,
   "id": "4763bc28-0c34-4b2d-aa2f-22da7ca635bd",
   "metadata": {},
   "outputs": [],
   "source": [
    "#Path to save script\n",
    "file_path = rf\"data\\2_prediction_testing\\sensor_predictions.csv\""
   ]
  },
  {
   "cell_type": "markdown",
   "id": "a8cbb522-0fcb-4594-9bba-4766944d258d",
   "metadata": {},
   "source": [
    "## **Classes**"
   ]
  },
  {
   "cell_type": "markdown",
   "id": "f66874d5-6503-46a4-95cd-86a18de59704",
   "metadata": {},
   "source": [
    "**Load the Trained Model**"
   ]
  },
  {
   "cell_type": "code",
   "execution_count": 6,
   "id": "9bf68105-4333-4c4b-8b51-21422e76f776",
   "metadata": {},
   "outputs": [],
   "source": [
    "# Note to self, convert this class to a .py script later on\n",
    "\n",
    "class SimpleGCN(torch.nn.Module):\n",
    "    def __init__(self, num_node_features, num_classes):\n",
    "        super(SimpleGCN, self).__init__()\n",
    "        self.conv1 = GCNConv(num_node_features, 16)  # First GCN layer\n",
    "        self.conv2 = GCNConv(16, num_classes)        # Second GCN layer\n",
    "\n",
    "    def forward(self, data):\n",
    "        x, edge_index = data.x, data.edge_index\n",
    "        x = self.conv1(x, edge_index)\n",
    "        x = F.relu(x)\n",
    "        x = F.dropout(x, training=self.training)\n",
    "        x = self.conv2(x, edge_index)\n",
    "        \n",
    "        return x  "
   ]
  },
  {
   "cell_type": "markdown",
   "id": "a16d79ef-9301-46b5-ae59-317ebe182a4c",
   "metadata": {},
   "source": [
    "## **Loading & Settings**"
   ]
  },
  {
   "cell_type": "code",
   "execution_count": 7,
   "id": "ae9e1c72-6978-477e-9afa-326ead60e832",
   "metadata": {},
   "outputs": [],
   "source": [
    "num_node_features = 4  \n",
    "num_classes = 1  \n",
    "\n",
    "model = SimpleGCN(num_node_features, num_classes)\n",
    "optimizer = torch.optim.Adam(model.parameters(), lr=0.01)  "
   ]
  },
  {
   "cell_type": "code",
   "execution_count": 8,
   "id": "5a49db5e-c3f3-4bb8-89aa-3a198c23e632",
   "metadata": {},
   "outputs": [
    {
     "data": {
      "text/plain": [
       "<All keys matched successfully>"
      ]
     },
     "execution_count": 8,
     "metadata": {},
     "output_type": "execute_result"
    }
   ],
   "source": [
    "# Load the saved state_dict\n",
    "model.load_state_dict(torch.load(rf'data\\1_pytorch_model\\{model_iteration}.pth'))"
   ]
  },
  {
   "cell_type": "code",
   "execution_count": 9,
   "id": "7cf96499-cd94-4820-b5e7-2e225cfb2667",
   "metadata": {},
   "outputs": [
    {
     "data": {
      "text/plain": [
       "SimpleGCN(\n",
       "  (conv1): GCNConv(4, 16)\n",
       "  (conv2): GCNConv(16, 1)\n",
       ")"
      ]
     },
     "execution_count": 9,
     "metadata": {},
     "output_type": "execute_result"
    }
   ],
   "source": [
    "# Set the model to evaluation mode\n",
    "model.eval()"
   ]
  },
  {
   "cell_type": "code",
   "execution_count": 10,
   "id": "34b3be9a-6b76-434a-b202-4250cefe7c1d",
   "metadata": {},
   "outputs": [
    {
     "name": "stdout",
     "output_type": "stream",
     "text": [
      "loaded\n"
     ]
    }
   ],
   "source": [
    "# Load your data object for prediction\n",
    "new_data = torch.load(rf'data\\torch_data_object_prediction\\{object}.pt')\n",
    "\n",
    "print('loaded')"
   ]
  },
  {
   "cell_type": "code",
   "execution_count": 11,
   "id": "ff51c547-8b2b-42a8-a9b4-7cf54e24b08b",
   "metadata": {},
   "outputs": [],
   "source": [
    "# If 'new_data' is a single Data object, wrap it in a list for DataLoader compatibility\n",
    "if isinstance(new_data, Data):\n",
    "    new_data = [new_data]"
   ]
  },
  {
   "cell_type": "code",
   "execution_count": 12,
   "id": "446c9915-67c1-4129-af38-5b56c9745b39",
   "metadata": {},
   "outputs": [],
   "source": [
    "# Create a DataLoader for your new dataset\n",
    "data_loader = DataLoader(new_data, batch_size=1, shuffle=False)"
   ]
  },
  {
   "cell_type": "markdown",
   "id": "d00b2385-5566-4cc1-84a0-950294cb583d",
   "metadata": {},
   "source": [
    "## **Predictions**"
   ]
  },
  {
   "cell_type": "code",
   "execution_count": 13,
   "id": "34574b22-5330-45fe-9c7c-ed1a8353fa76",
   "metadata": {},
   "outputs": [],
   "source": [
    "# Make predictions\n",
    "predictions = []\n",
    "for data in data_loader:\n",
    "    with torch.no_grad():\n",
    "        output = model(data)\n",
    "        sensor_output = output[sensor_indices]  # Adjusted slicing\n",
    "        predictions.append(sensor_output.squeeze(-1).detach().numpy())"
   ]
  },
  {
   "cell_type": "code",
   "execution_count": 14,
   "id": "43a8ee7b-3e34-43d9-b944-50c132000a5f",
   "metadata": {},
   "outputs": [
    {
     "data": {
      "text/plain": [
       "[array([412.00732, 416.09308, 420.17877, 424.26453, 428.35022, 432.43597,\n",
       "        436.52173, 440.60745, 444.69318, 448.77893, 452.86462, 456.95035,\n",
       "        461.0361 , 465.12183, 411.83395, 415.64728, 419.46063, 423.274  ,\n",
       "        427.08734, 430.9007 , 434.71408, 438.5274 , 442.34076, 446.15408,\n",
       "        449.96744, 453.7808 , 457.59415, 461.4075 , 465.22086, 413.71497,\n",
       "        417.52832, 421.34167, 425.15506, 428.96838, 432.7817 , 436.5951 ,\n",
       "        440.40845, 444.2218 , 448.03516, 451.84845, 455.6618 , 459.4752 ,\n",
       "        463.2885 , 467.10187, 414.70966, 418.52304, 422.33636, 426.14975,\n",
       "        429.96307, 433.7764 , 437.58972, 441.4031 , 445.2165 , 449.02982,\n",
       "        452.8432 , 456.65652, 460.4699 , 464.28323, 468.09656, 415.92377,\n",
       "        419.73712, 423.55048, 427.36383, 431.1772 , 434.99054, 438.8039 ,\n",
       "        442.61725, 446.4306 , 450.24396, 454.05728, 457.87064, 461.68396,\n",
       "        465.4973 , 469.31067, 417.4298 , 421.2431 , 425.05646, 428.8698 ,\n",
       "        432.6832 , 436.49652, 440.30988, 444.12323, 447.93658, 451.74994,\n",
       "        455.56326, 459.37662, 463.18997, 467.00333, 470.81665, 418.9646 ,\n",
       "        422.77795, 426.5913 , 430.40466, 434.21802, 438.03137, 441.84473,\n",
       "        445.65808, 449.47144, 453.2848 , 457.09814, 460.91147, 464.72482,\n",
       "        468.53818, 472.35153, 420.0802 , 423.89355, 427.70694, 431.52026,\n",
       "        435.33362, 439.14694, 442.9603 , 446.77365, 450.58704, 454.4004 ,\n",
       "        458.21375, 462.0271 , 465.84045, 469.65375, 473.46713, 421.43103,\n",
       "        425.2444 , 429.05774, 432.8711 , 436.68442, 440.49777, 444.31113,\n",
       "        448.12448, 451.93784, 455.7512 , 459.56454, 463.37787, 467.19122,\n",
       "        471.00458, 474.8179 , 422.3432 , 426.15656, 429.9699 , 433.78326,\n",
       "        437.5966 , 441.40994, 445.2233 , 449.03668, 452.85   , 456.66333,\n",
       "        460.47668, 464.29004, 468.1034 , 471.91675, 475.7301 , 423.5967 ,\n",
       "        427.41003, 431.2234 , 435.03674, 438.8501 , 442.66345, 446.4768 ,\n",
       "        450.29016, 454.10352, 457.91687, 461.73022, 465.54358, 469.35687,\n",
       "        473.1703 , 476.98358, 424.53522, 428.34857, 432.1619 , 435.97528,\n",
       "        439.7886 , 443.602  , 447.41534, 451.2287 , 455.04205, 458.85535,\n",
       "        462.66873, 466.4821 , 470.2954 , 474.1088 , 477.92212, 424.29034,\n",
       "        428.1037 , 431.91705, 435.7304 , 439.54376, 443.35715, 447.17047,\n",
       "        450.98383, 454.79715, 458.61047, 462.42386, 466.2372 , 470.05057,\n",
       "        473.86392, 477.67728, 424.14203, 427.95538, 431.76874, 435.58206,\n",
       "        439.39542, 443.2088 , 447.02216, 450.8355 , 454.64886, 458.46216,\n",
       "        462.27554, 466.08887, 469.90222, 473.71558, 477.52893, 424.33435,\n",
       "        428.14764, 431.961  , 435.77435, 439.5877 , 443.40106, 447.21442,\n",
       "        451.02777, 454.84113, 458.65448, 462.4678 , 466.28116, 470.0945 ,\n",
       "        473.90787, 477.72122, 424.6823 , 428.49567, 432.309  , 436.12238,\n",
       "        439.93573, 443.74908, 447.56244, 451.3758 , 455.18915, 459.0025 ,\n",
       "        462.81583, 466.62915, 470.4425 , 474.2559 , 478.0692 , 425.05957,\n",
       "        428.87292, 432.68628, 436.49963, 440.31296, 444.1263 , 447.93967,\n",
       "        451.75302, 455.56638, 459.37973, 463.19308, 467.00647, 470.81973,\n",
       "        474.63312, 478.44644, 426.4265 , 430.23984, 434.05316, 437.86655,\n",
       "        441.6799 , 445.49326, 449.30658, 453.11993, 456.9333 , 460.74664,\n",
       "        464.56   , 468.37335, 472.18668, 476.00006, 479.8134 , 429.96176,\n",
       "        434.0475 , 438.13324, 442.21896, 446.3047 , 450.39044, 454.47617,\n",
       "        458.5619 , 462.64758, 466.73334, 470.81906, 474.90482, 478.99054,\n",
       "        483.0763 , 429.17197, 433.2577 , 437.34344, 441.4292 , 445.5149 ,\n",
       "        449.60062, 453.68637, 457.7721 , 461.85782, 465.94354, 470.0293 ,\n",
       "        474.115  , 478.20074, 482.28647, 426.89282, 430.70618, 434.51953,\n",
       "        438.3329 , 442.14624, 445.9596 , 449.77295, 453.58627, 457.3996 ,\n",
       "        461.21298, 465.0263 , 468.83966, 472.653  , 476.46637, 480.27972,\n",
       "        429.1673 , 432.98065, 436.794  , 440.60736, 444.42072, 448.23407,\n",
       "        452.04742, 455.86075, 459.6741 , 463.48746, 467.30078, 471.11417,\n",
       "        474.9275 , 478.74084, 482.5542 , 431.6139 , 435.42725, 439.2406 ,\n",
       "        443.05396, 446.8673 , 450.68066, 454.494  , 458.30737, 462.12067,\n",
       "        465.93402, 469.7474 , 473.56073, 477.3741 , 481.18747, 485.00082,\n",
       "        432.55234, 436.3657 , 440.17905, 443.99237, 447.80576, 451.61908,\n",
       "        455.4324 , 459.24576, 463.0591 , 466.8725 , 470.68585, 474.4992 ,\n",
       "        478.31256, 482.12592, 485.93927, 433.76724, 437.5806 , 441.39392,\n",
       "        445.20728, 449.02063, 452.83395, 456.6473 , 460.46066, 464.27402,\n",
       "        468.0874 , 471.90076, 475.7141 , 479.5274 , 483.34082, 487.1541 ,\n",
       "        434.6266 , 438.43994, 442.2533 , 446.06665, 449.88   , 453.69333,\n",
       "        457.50665, 461.32007, 465.13336, 468.94672, 472.76007, 476.57343,\n",
       "        480.38678, 484.20013, 488.0135 , 436.01453, 439.82788, 443.64124,\n",
       "        447.4546 , 451.26794, 455.08124, 458.89462, 462.70795, 466.5213 ,\n",
       "        470.33466, 474.148  , 477.96136, 481.77472, 485.58807, 489.40143,\n",
       "        432.67358, 436.75934, 440.84503, 444.93076, 449.01648, 453.10223,\n",
       "        457.18796, 461.27368, 465.35944, 469.4452 , 473.5309 , 477.6166 ,\n",
       "        481.70236, 485.7881 , 427.66943, 431.48276, 435.29614, 439.10947,\n",
       "        442.92282, 446.73618, 450.5495 , 454.36288, 458.1762 , 461.98956,\n",
       "        465.8029 , 469.61627, 473.42963, 477.24295, 481.05634, 424.4868 ,\n",
       "        428.5725 , 432.65826, 436.744  , 440.8297 , 444.91544, 449.00116,\n",
       "        453.08688, 457.17264, 461.25836, 465.34412, 469.42984, 473.51553,\n",
       "        477.60126, 422.156  , 425.96936, 429.7827 , 433.59607, 437.40942,\n",
       "        441.22278, 445.03613, 448.8495 , 452.66284, 456.4762 , 460.28952,\n",
       "        464.10287, 467.9162 , 471.72958, 475.54294, 419.13495, 423.22067,\n",
       "        427.30637, 431.39215, 435.47784, 439.5636 , 443.64932, 447.73505,\n",
       "        451.8208 , 455.90656, 459.99225, 464.07803, 468.1637 , 472.24945,\n",
       "        414.49487, 418.30823, 422.12158, 425.93494, 429.7483 , 433.56158,\n",
       "        437.37494, 441.1883 , 445.00165, 448.81503, 452.6284 , 456.44174,\n",
       "        460.2551 , 464.06842, 467.88174, 414.4095 , 418.22284, 422.03613,\n",
       "        425.84955, 429.66284, 433.47623, 437.28958, 441.10294, 444.91626,\n",
       "        448.7296 , 452.54297, 456.35632, 460.16968, 463.98303, 467.7964 ,\n",
       "        414.6833 , 418.49664, 422.31   , 426.12332, 429.93665, 433.75003,\n",
       "        437.5634 , 441.37674, 445.1901 , 449.00345, 452.81677, 456.63013,\n",
       "        460.44348, 464.2568 , 468.0702 , 415.18127, 418.99463, 422.80795,\n",
       "        426.62134, 430.43466, 434.24805, 438.0614 , 441.87476, 445.68808,\n",
       "        449.5014 , 453.31476, 457.1281 , 460.94147, 464.75482, 468.56818,\n",
       "        415.6582 , 419.47156, 423.2849 , 427.09827, 430.9116 , 434.7249 ,\n",
       "        438.53827, 442.35168, 446.16498, 449.97833, 453.79172, 457.60504,\n",
       "        461.41843, 465.23175, 469.04514, 417.8057 , 421.89142, 425.97717,\n",
       "        430.0629 , 434.14862, 438.23438, 442.32007, 446.40582, 450.49158,\n",
       "        454.57727, 458.66302, 462.74875, 466.83447, 470.92023, 419.58206,\n",
       "        423.39542, 427.20877, 431.02213, 434.83548, 438.6488 , 442.4622 ,\n",
       "        446.2755 , 450.08887, 453.90222, 457.71555, 461.52893, 465.3423 ,\n",
       "        469.15564, 472.969  , 416.58502, 420.67075, 424.75647, 428.84222,\n",
       "        432.92795, 437.01367, 441.09943, 445.18515, 449.27087, 453.35663,\n",
       "        457.44235, 461.52808, 465.61377, 469.69952], dtype=float32)]"
      ]
     },
     "execution_count": 14,
     "metadata": {},
     "output_type": "execute_result"
    }
   ],
   "source": [
    "predictions"
   ]
  },
  {
   "cell_type": "code",
   "execution_count": 15,
   "id": "9a74318e-1253-4dd1-9e80-9bb887ded2e0",
   "metadata": {},
   "outputs": [
    {
     "name": "stdout",
     "output_type": "stream",
     "text": [
      "Shape of predictions array: (1, 592)\n"
     ]
    }
   ],
   "source": [
    "# Display the shape of predictions\n",
    "predictions_array = np.array(predictions)\n",
    "print(\"Shape of predictions array:\", predictions_array.shape)"
   ]
  },
  {
   "cell_type": "code",
   "execution_count": 16,
   "id": "d43844df-7c8a-4ea7-b7ee-83fe6031d9bd",
   "metadata": {},
   "outputs": [
    {
     "name": "stdout",
     "output_type": "stream",
     "text": [
      "Output shape: torch.Size([896, 1])\n",
      "Sensor output shape: torch.Size([592, 1])\n"
     ]
    }
   ],
   "source": [
    "print(\"Output shape:\", output.shape)\n",
    "print(\"Sensor output shape:\", sensor_output.shape)"
   ]
  },
  {
   "cell_type": "markdown",
   "id": "3d7d4b67-131e-4794-941a-ba849736dc24",
   "metadata": {},
   "source": [
    "## **Export to csv**"
   ]
  },
  {
   "cell_type": "code",
   "execution_count": 17,
   "id": "ba1e3bfe-a8f7-4d32-affe-841cda55abcd",
   "metadata": {},
   "outputs": [
    {
     "name": "stdout",
     "output_type": "stream",
     "text": [
      "Shape of sensor predictions array: (592, 1)\n"
     ]
    }
   ],
   "source": [
    "# Reshape predictions_array to have shape (592, 1)\n",
    "predictions_array = np.vstack(predictions)\n",
    "predictions_array = predictions_array.T\n",
    "print(\"Shape of sensor predictions array:\", predictions_array.shape)"
   ]
  },
  {
   "cell_type": "code",
   "execution_count": 18,
   "id": "efb71886-2dc6-4fa3-ab87-738cca41cc3e",
   "metadata": {},
   "outputs": [
    {
     "name": "stdout",
     "output_type": "stream",
     "text": [
      "Saved predictions to: data\\2_prediction_testing\\sensor_predictions.csv\n"
     ]
    }
   ],
   "source": [
    "# Export rounded predictions to CSV in the same folder as the script\n",
    "np.savetxt(file_path, predictions_array, delimiter=\",\")\n",
    "print(f\"Saved predictions to: {file_path}\")"
   ]
  }
 ],
 "metadata": {
  "kernelspec": {
   "display_name": "Python 3 (ipykernel)",
   "language": "python",
   "name": "python3"
  },
  "language_info": {
   "codemirror_mode": {
    "name": "ipython",
    "version": 3
   },
   "file_extension": ".py",
   "mimetype": "text/x-python",
   "name": "python",
   "nbconvert_exporter": "python",
   "pygments_lexer": "ipython3",
   "version": "3.10.6"
  }
 },
 "nbformat": 4,
 "nbformat_minor": 5
}
