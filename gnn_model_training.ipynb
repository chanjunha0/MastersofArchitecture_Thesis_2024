{
 "cells": [
  {
   "cell_type": "markdown",
   "id": "42e25500-4cef-42ff-b8c0-69805ae327d7",
   "metadata": {},
   "source": [
    "## **Notebook Description**"
   ]
  },
  {
   "cell_type": "markdown",
   "id": "5a14a73f-c9b1-4f79-abbd-fef7da8f2301",
   "metadata": {},
   "source": [
    "This notebook: \n",
    "1. Trains the model on the training data.\n",
    "2. Test against the test data."
   ]
  },
  {
   "cell_type": "markdown",
   "id": "c7eafdc0-571d-4052-84d4-dc4f76de3625",
   "metadata": {},
   "source": [
    "## **Import Libraries**"
   ]
  },
  {
   "cell_type": "code",
   "execution_count": 1,
   "id": "9bfe50d6-1fc3-407a-a875-93b1d3114832",
   "metadata": {},
   "outputs": [],
   "source": [
    "import os\n",
    "import torch\n",
    "import pandas as pd\n",
    "from torch_geometric.data import Data, DataLoader\n",
    "from torch_geometric.nn import GCNConv\n",
    "import torch.nn.functional as F\n",
    "from math import sqrt\n",
    "import matplotlib.pyplot as plt"
   ]
  },
  {
   "cell_type": "markdown",
   "id": "bb88d39d-cd32-45d0-b913-b25b95a04f3b",
   "metadata": {},
   "source": [
    "## **Set Folder Paths**"
   ]
  },
  {
   "cell_type": "code",
   "execution_count": 2,
   "id": "0d973479-8cf6-489e-b204-9fc9a98d2536",
   "metadata": {},
   "outputs": [],
   "source": [
    "# Set folder path for pytorch data objects\n",
    "folder_path = r'data\\torch_data_object_training'"
   ]
  },
  {
   "cell_type": "code",
   "execution_count": 3,
   "id": "a9ba4683-3e17-49ac-803a-e4c93afb0942",
   "metadata": {},
   "outputs": [],
   "source": [
    "# Path to the CSV containing labeled nodes info\n",
    "labels_info_path = r'data\\torch_data_object_training\\labels_info.csv' "
   ]
  },
  {
   "cell_type": "code",
   "execution_count": 4,
   "id": "bbd32fef-2a35-4941-8ba9-30d641edd510",
   "metadata": {},
   "outputs": [],
   "source": [
    "model_path = r'data\\1_pytorch_model\\model.pth' "
   ]
  },
  {
   "cell_type": "markdown",
   "id": "b9b01342-5f71-44a1-81aa-ed68a181b191",
   "metadata": {},
   "source": [
    "## **Functions**"
   ]
  },
  {
   "cell_type": "markdown",
   "id": "61fbe0cd-c989-43f5-800a-b6ef5896f8f3",
   "metadata": {},
   "source": [
    "Define a function to load all graph data objects from a folder. Each graph is assumed to be saved as a separate file."
   ]
  },
  {
   "cell_type": "code",
   "execution_count": 5,
   "id": "6e008ed4-32f0-450f-a6fa-8adc35ccb695",
   "metadata": {},
   "outputs": [],
   "source": [
    "# Function to load all graph data objects from a folder\n",
    "def load_graph_data_objects(folder_path, start_run=None, end_run=None):\n",
    "    graph_data_objects = []\n",
    "    for file_name in sorted(os.listdir(folder_path)):\n",
    "        if file_name.endswith('.pt'):\n",
    "            run_number = int(file_name.split('_')[1].split('.')[0])  # Assumes filename format is \"run_X.pt\"\n",
    "            if start_run is not None and run_number < start_run:\n",
    "                continue\n",
    "            if end_run is not None and run_number > end_run:\n",
    "                break\n",
    "            graph_path = os.path.join(folder_path, file_name)\n",
    "            graph_data = torch.load(graph_path)\n",
    "            if isinstance(graph_data, Data):\n",
    "                graph_data_objects.append(graph_data)\n",
    "    return graph_data_objects"
   ]
  },
  {
   "cell_type": "code",
   "execution_count": 6,
   "id": "7bf08d48-f6f9-4952-894a-7a174481e4a5",
   "metadata": {},
   "outputs": [],
   "source": [
    "# Function to load or initialize the model\n",
    "def load_or_initialize_model(model_path, model_class, *model_args, **model_kwargs):\n",
    "    if os.path.exists(model_path):\n",
    "        model = model_class(*model_args, **model_kwargs)\n",
    "        model.load_state_dict(torch.load(model_path))\n",
    "        print(\"Loaded previously trained model.\")\n",
    "    else:\n",
    "        model = model_class(*model_args, **model_kwargs)\n",
    "        print(\"Initialized new model.\")\n",
    "    return model"
   ]
  },
  {
   "cell_type": "code",
   "execution_count": 7,
   "id": "91fbe23d-58e2-480e-87ea-274794b6b0ac",
   "metadata": {},
   "outputs": [],
   "source": [
    "# Function to load the number of labeled nodes for each dataset from a CSV\n",
    "def load_num_labeled_nodes(labels_info_path):\n",
    "    labels_info = pd.read_csv(labels_info_path)\n",
    "    return labels_info['num_labeled_nodes'].tolist()"
   ]
  },
  {
   "cell_type": "code",
   "execution_count": 8,
   "id": "10ac217e-5059-473b-9a55-1b749fd4a26a",
   "metadata": {},
   "outputs": [],
   "source": [
    "# Function to Count Graph Data Objects in a Folder\n",
    "def count_graph_data_objects(folder_path):\n",
    "    count = 0\n",
    "    for file_name in os.listdir(folder_path):\n",
    "        if file_name.endswith('.pt'):  # Assuming saved PyTorch tensor files\n",
    "            count += 1\n",
    "    return count"
   ]
  },
  {
   "cell_type": "code",
   "execution_count": 9,
   "id": "984eddce-8868-4305-a155-408582dfcd25",
   "metadata": {},
   "outputs": [],
   "source": [
    "def train(model, optimizer, data, mask):\n",
    "    model.train()\n",
    "    optimizer.zero_grad()\n",
    "    \n",
    "    out = model(data)  # Model outputs for all nodes\n",
    "    out = out.squeeze()\n",
    "    \n",
    "    # Mask to identify non-placeholder labels\n",
    "    # Adjust this condition based on your placeholder_value and task\n",
    "    valid_label_mask = data.y != placeholder_value\n",
    "    \n",
    "    # Apply both the extended mask and valid_label_mask to filter predictions and labels\n",
    "    valid_out = out[mask & valid_label_mask]\n",
    "    valid_labels = data.y[mask & valid_label_mask]\n",
    "    \n",
    "    loss = F.mse_loss(valid_out, valid_labels)  # Calculate loss on non-placeholder, valid data points only\n",
    "    \n",
    "    loss.backward()\n",
    "    optimizer.step()\n",
    "    \n",
    "    return loss.item()"
   ]
  },
  {
   "cell_type": "code",
   "execution_count": 10,
   "id": "cb794181-da75-4494-a813-32ea4862d1c0",
   "metadata": {},
   "outputs": [],
   "source": [
    "def test(model, data, mask):\n",
    "    model.eval()\n",
    "    with torch.no_grad():\n",
    "        out = model(data)\n",
    "        out = out.squeeze()  # Ensure the output matches expected dimensions\n",
    "\n",
    "        # Ensure the mask is for the full set of nodes, adjusting if it was originally for labeled nodes only\n",
    "        if mask.size(0) != out.size(0):\n",
    "            # This assumes the original mask size corresponds to the number of labeled nodes\n",
    "            # and needs to be extended to match the full set of nodes (similar to what was done for training)\n",
    "            extended_mask = torch.cat((mask, torch.zeros(data.num_nodes - mask.size(0), dtype=torch.bool, device=mask.device)))\n",
    "        else:\n",
    "            extended_mask = mask\n",
    "\n",
    "        # Apply the extended mask to filter predictions and labels for loss calculation\n",
    "        valid_out = out[extended_mask]\n",
    "        valid_labels = data.y[extended_mask]\n",
    "        \n",
    "        test_loss = F.mse_loss(valid_out, valid_labels).item()\n",
    "\n",
    "    return test_loss\n"
   ]
  },
  {
   "cell_type": "markdown",
   "id": "4f8836bd-e460-458f-aa6a-0e94bc091b77",
   "metadata": {},
   "source": [
    "## **Classes**"
   ]
  },
  {
   "cell_type": "markdown",
   "id": "f2ce697d-b2f6-48eb-ab98-0b537b4479af",
   "metadata": {},
   "source": [
    "#### **Define the GNN Model**"
   ]
  },
  {
   "cell_type": "markdown",
   "id": "1acacb8b-685f-40fb-9ee6-61b57a378ffd",
   "metadata": {},
   "source": [
    "This section sets up a class that specifies a 2 layer GCN model and a method for how data flows through the model (forward pass)."
   ]
  },
  {
   "cell_type": "code",
   "execution_count": 11,
   "id": "6030d3fc-a986-4b65-9f53-29321a4fda83",
   "metadata": {},
   "outputs": [],
   "source": [
    "class SimpleGCN(torch.nn.Module):\n",
    "    def __init__(self, num_node_features, num_classes):\n",
    "        '''\n",
    "        Initialises a model that processes graph-structured data using \n",
    "        simple two-layer GCN architecture.\n",
    "        \n",
    "        Args:\n",
    "        num_node_features = number of features each node in the input graph has\n",
    "        num_classes = number of output classes\n",
    "        '''\n",
    "        super(SimpleGCN, self).__init__()\n",
    "        self.conv1 = GCNConv(num_node_features, 16)  # First GCN layer\n",
    "        self.conv2 = GCNConv(16, num_classes)        # Second GCN layer\n",
    "\n",
    "    def forward(self, data):\n",
    "        '''\n",
    "        Defines the forward pass of the model\n",
    "\n",
    "        Args:\n",
    "        data = object containing graph data\n",
    "        '''\n",
    "        x, edge_index = data.x, data.edge_index    # Extract node features and graph structure\n",
    "        x = self.conv1(x, edge_index)    # Apply the first GCN convolution layer\n",
    "        x = F.relu(x)  # Apply the ReLU activation function to the input tensor x\n",
    "        x = F.dropout(x, training=self.training) # Apply dropout regularisation to reduce overfitting during training\n",
    "        x = self.conv2(x, edge_index) # Apply the second GCN convolution layer\n",
    "        \n",
    "        return x  # model's predictions for each node "
   ]
  },
  {
   "cell_type": "markdown",
   "id": "167be48b-2d9a-436e-84a4-1f5c83c4d665",
   "metadata": {},
   "source": [
    "## **Load Model & Objects**"
   ]
  },
  {
   "cell_type": "code",
   "execution_count": 12,
   "id": "7b32ffcc-8900-4fd3-b1ac-8f608a37136b",
   "metadata": {},
   "outputs": [
    {
     "name": "stdout",
     "output_type": "stream",
     "text": [
      "Loaded 3 graph data objects.\n"
     ]
    }
   ],
   "source": [
    "# Load graph data objects\n",
    "\n",
    "start_run, end_run = 1, 3\n",
    "graph_data_objects = load_graph_data_objects(folder_path, start_run=start_run, end_run=end_run)\n",
    "\n",
    "print(f'Loaded {len(graph_data_objects)} graph data objects.')"
   ]
  },
  {
   "cell_type": "code",
   "execution_count": 13,
   "id": "df88d0a5-d8e4-4cc9-bd59-468d8c3bde24",
   "metadata": {},
   "outputs": [
    {
     "name": "stdout",
     "output_type": "stream",
     "text": [
      "Total number of graph data objects in the folder: 3\n"
     ]
    }
   ],
   "source": [
    "# Count graph data objects directly from the folder \n",
    "\n",
    "num_graphs = count_graph_data_objects(folder_path)\n",
    "print(f'Total number of graph data objects in the folder: {num_graphs}')\n",
    "\n",
    "# Load the number of labeled nodes for each graph\n",
    "num_labeled_nodes_list = load_num_labeled_nodes(labels_info_path)  "
   ]
  },
  {
   "cell_type": "markdown",
   "id": "2203d44e-8af6-42d5-b745-677573de7464",
   "metadata": {},
   "source": [
    "## **Model Settings and Optimiser**"
   ]
  },
  {
   "cell_type": "markdown",
   "id": "02793063-735e-4960-98eb-e2d28c5a58b3",
   "metadata": {},
   "source": [
    "This section creates the model settings, calls the model function and sets the optimiser."
   ]
  },
  {
   "cell_type": "code",
   "execution_count": 14,
   "id": "df221bb9-06a9-4097-94a8-15575e0c6ff7",
   "metadata": {},
   "outputs": [],
   "source": [
    "# Model Settings\n",
    "num_node_features = graph_data_objects[0].num_node_features  #  Retrieves the number of features associated with the nodes\n",
    "num_classes = 1  # Set the number of output classes (no changes needed)\n",
    "\n",
    "# Adjust the criterion according to your task\n",
    "criterion = torch.nn.MSELoss()  "
   ]
  },
  {
   "cell_type": "markdown",
   "id": "ac0b288a-fbf0-4152-a828-1bb867b06a18",
   "metadata": {},
   "source": [
    "## **Training Loop**"
   ]
  },
  {
   "cell_type": "markdown",
   "id": "c2780a93-7c99-4bfd-ad7c-8b043a01f71c",
   "metadata": {},
   "source": [
    "This section defines the training and test function and returns the MSE loss."
   ]
  },
  {
   "cell_type": "code",
   "execution_count": 15,
   "id": "abaee5c2-1b25-431e-8ded-491ebefa84e7",
   "metadata": {},
   "outputs": [
    {
     "name": "stdout",
     "output_type": "stream",
     "text": [
      "Initialized new model.\n"
     ]
    }
   ],
   "source": [
    "model = load_or_initialize_model(model_path, SimpleGCN, num_node_features, num_classes)\n",
    "\n",
    "# Using Adam optimizer, lr = learning rate\n",
    "optimizer = torch.optim.Adam(model.parameters(), lr=0.01)"
   ]
  },
  {
   "cell_type": "code",
   "execution_count": 16,
   "id": "5e9f1e32-eed0-4202-829f-fc194c4dfa70",
   "metadata": {},
   "outputs": [
    {
     "data": {
      "text/plain": [
       "SimpleGCN(\n",
       "  (conv1): GCNConv(4, 16)\n",
       "  (conv2): GCNConv(16, 1)\n",
       ")"
      ]
     },
     "execution_count": 16,
     "metadata": {},
     "output_type": "execute_result"
    }
   ],
   "source": [
    "# Check if GPU is avaliable \n",
    "device = torch.device('cuda' if torch.cuda.is_available() else 'cpu')\n",
    "model.to(device)"
   ]
  },
  {
   "cell_type": "code",
   "execution_count": 17,
   "id": "f904ef0a-7038-4d35-ba04-f98fc68d8680",
   "metadata": {},
   "outputs": [
    {
     "name": "stdout",
     "output_type": "stream",
     "text": [
      "Graph 1, Epoch 1: Train Loss: 244572.2188, Test Loss: 157168.1562\n",
      "Graph 1, Epoch 2: Train Loss: 201195.2500, Test Loss: 136189.6875\n",
      "Graph 1, Epoch 3: Train Loss: 189993.6094, Test Loss: 118308.4219\n",
      "Graph 1, Epoch 4: Train Loss: 166757.7656, Test Loss: 103432.7266\n",
      "Graph 1, Epoch 5: Train Loss: 178605.7500, Test Loss: 92037.1328\n",
      "Graph 1, Epoch 6: Train Loss: 151689.8594, Test Loss: 83852.7734\n",
      "Graph 1, Epoch 7: Train Loss: 165991.7500, Test Loss: 78290.6562\n",
      "Graph 1, Epoch 8: Train Loss: 154683.2188, Test Loss: 75085.7500\n",
      "Graph 1, Epoch 9: Train Loss: 156062.5000, Test Loss: 73442.6328\n",
      "Graph 1, Epoch 10: Train Loss: 151205.4219, Test Loss: 72717.0312\n",
      "Graph 1, Epoch 11: Train Loss: 149157.3125, Test Loss: 72470.1719\n",
      "Graph 1, Epoch 12: Train Loss: 147130.1719, Test Loss: 72406.5469\n",
      "Graph 1, Epoch 13: Train Loss: 144970.0156, Test Loss: 72453.5234\n",
      "Graph 1, Epoch 14: Train Loss: 145965.9375, Test Loss: 72539.6797\n",
      "Graph 1, Epoch 15: Train Loss: 140822.0938, Test Loss: 72743.3203\n",
      "Graph 1, Epoch 16: Train Loss: 132838.0156, Test Loss: 73177.8828\n",
      "Graph 1, Epoch 17: Train Loss: 128461.4297, Test Loss: 73848.0078\n",
      "Graph 1, Epoch 18: Train Loss: 138479.5156, Test Loss: 74802.3828\n",
      "Graph 1, Epoch 19: Train Loss: 130715.9062, Test Loss: 75970.1797\n",
      "Graph 1, Epoch 20: Train Loss: 126452.2656, Test Loss: 77169.2188\n",
      "Graph 1, Epoch 21: Train Loss: 134817.3594, Test Loss: 78500.6797\n",
      "Graph 1, Epoch 22: Train Loss: 132032.0938, Test Loss: 79783.0469\n",
      "Graph 1, Epoch 23: Train Loss: 127131.1719, Test Loss: 81051.6172\n",
      "Graph 1, Epoch 24: Train Loss: 128240.2891, Test Loss: 82186.3672\n",
      "Graph 1, Epoch 25: Train Loss: 128418.1250, Test Loss: 83092.6953\n",
      "Graph 1, Epoch 26: Train Loss: 119832.5234, Test Loss: 83685.6172\n",
      "Graph 1, Epoch 27: Train Loss: 123685.2969, Test Loss: 83802.8047\n",
      "Graph 1, Epoch 28: Train Loss: 117089.7266, Test Loss: 83572.2266\n",
      "Graph 1, Epoch 29: Train Loss: 132711.3906, Test Loss: 83107.4531\n",
      "Graph 1, Epoch 30: Train Loss: 129359.7500, Test Loss: 82399.9531\n",
      "Graph 1, Epoch 31: Train Loss: 124328.5781, Test Loss: 81684.6328\n",
      "Graph 1, Epoch 32: Train Loss: 114383.1875, Test Loss: 80916.0078\n",
      "Graph 1, Epoch 33: Train Loss: 116786.1406, Test Loss: 80229.2422\n",
      "Graph 1, Epoch 34: Train Loss: 123815.7578, Test Loss: 79400.9062\n",
      "Graph 1, Epoch 35: Train Loss: 124813.3516, Test Loss: 78654.9375\n",
      "Graph 1, Epoch 36: Train Loss: 126993.7031, Test Loss: 78107.8672\n",
      "Graph 1, Epoch 37: Train Loss: 113145.1094, Test Loss: 77668.1562\n",
      "Graph 1, Epoch 38: Train Loss: 114472.2812, Test Loss: 77171.1094\n",
      "Graph 1, Epoch 39: Train Loss: 110129.3047, Test Loss: 76839.4375\n",
      "Graph 1, Epoch 40: Train Loss: 121559.1719, Test Loss: 76603.5703\n",
      "Graph 1, Epoch 41: Train Loss: 116073.1406, Test Loss: 76545.5078\n",
      "Graph 1, Epoch 42: Train Loss: 114007.2109, Test Loss: 76581.4141\n",
      "Graph 1, Epoch 43: Train Loss: 131883.0469, Test Loss: 76881.0391\n",
      "Graph 1, Epoch 44: Train Loss: 130060.3828, Test Loss: 77441.3125\n",
      "Graph 1, Epoch 45: Train Loss: 126881.6406, Test Loss: 78045.3516\n",
      "Graph 1, Epoch 46: Train Loss: 114852.2031, Test Loss: 78652.2656\n",
      "Graph 1, Epoch 47: Train Loss: 112205.0547, Test Loss: 79309.1797\n",
      "Graph 1, Epoch 48: Train Loss: 120168.7266, Test Loss: 80030.4688\n",
      "Graph 1, Epoch 49: Train Loss: 118333.9219, Test Loss: 80634.9922\n",
      "Graph 1, Epoch 50: Train Loss: 119597.3984, Test Loss: 81131.9766\n",
      "Graph 1, Epoch 51: Train Loss: 120273.9688, Test Loss: 81474.8516\n",
      "Graph 1, Epoch 52: Train Loss: 115756.9062, Test Loss: 81610.1250\n",
      "Graph 1, Epoch 53: Train Loss: 111382.2891, Test Loss: 81507.4609\n",
      "Graph 1, Epoch 54: Train Loss: 128498.5781, Test Loss: 81293.3984\n",
      "Graph 1, Epoch 55: Train Loss: 125237.0469, Test Loss: 81062.4609\n",
      "Graph 1, Epoch 56: Train Loss: 128565.0703, Test Loss: 80761.8281\n",
      "Graph 1, Epoch 57: Train Loss: 131285.8281, Test Loss: 80380.3203\n",
      "Graph 1, Epoch 58: Train Loss: 125035.8359, Test Loss: 79984.5234\n",
      "Graph 1, Epoch 59: Train Loss: 124517.1406, Test Loss: 79498.3047\n",
      "Graph 1, Epoch 60: Train Loss: 118075.8750, Test Loss: 79033.9375\n",
      "Graph 1, Epoch 61: Train Loss: 126395.5312, Test Loss: 78701.4609\n",
      "Graph 1, Epoch 62: Train Loss: 122860.2812, Test Loss: 78387.1562\n",
      "Graph 1, Epoch 63: Train Loss: 122371.7891, Test Loss: 78159.1172\n",
      "Graph 1, Epoch 64: Train Loss: 116275.2109, Test Loss: 77920.3125\n",
      "Graph 1, Epoch 65: Train Loss: 115860.0781, Test Loss: 77582.0703\n",
      "Graph 1, Epoch 66: Train Loss: 112156.3438, Test Loss: 77308.1328\n",
      "Graph 1, Epoch 67: Train Loss: 114909.0469, Test Loss: 77017.8750\n",
      "Graph 1, Epoch 68: Train Loss: 133773.7188, Test Loss: 77003.0781\n",
      "Graph 1, Epoch 69: Train Loss: 130188.0312, Test Loss: 77131.1875\n",
      "Graph 1, Epoch 70: Train Loss: 124097.3984, Test Loss: 77348.6719\n",
      "Graph 1, Epoch 71: Train Loss: 120517.5000, Test Loss: 77781.7734\n",
      "Graph 1, Epoch 72: Train Loss: 116693.6797, Test Loss: 78287.5234\n",
      "Graph 1, Epoch 73: Train Loss: 123842.0938, Test Loss: 78804.8516\n",
      "Graph 1, Epoch 74: Train Loss: 117253.5156, Test Loss: 79322.3047\n",
      "Graph 1, Epoch 75: Train Loss: 123699.2031, Test Loss: 79950.0078\n",
      "Graph 1, Epoch 76: Train Loss: 124876.2344, Test Loss: 80382.7812\n",
      "Graph 1, Epoch 77: Train Loss: 115370.7578, Test Loss: 80387.0859\n",
      "Graph 1, Epoch 78: Train Loss: 127823.2109, Test Loss: 80407.3438\n",
      "Graph 1, Epoch 79: Train Loss: 108736.1719, Test Loss: 80195.6172\n",
      "Graph 1, Epoch 80: Train Loss: 125300.8906, Test Loss: 79976.3281\n",
      "Graph 1, Epoch 81: Train Loss: 124894.0234, Test Loss: 79648.9141\n",
      "Graph 1, Epoch 82: Train Loss: 117415.4922, Test Loss: 79294.2500\n",
      "Graph 1, Epoch 83: Train Loss: 119522.5078, Test Loss: 78964.3281\n",
      "Graph 1, Epoch 84: Train Loss: 128631.7188, Test Loss: 78778.6172\n",
      "Graph 1, Epoch 85: Train Loss: 118846.6797, Test Loss: 78430.4609\n",
      "Graph 1, Epoch 86: Train Loss: 109244.8047, Test Loss: 78000.7031\n",
      "Graph 1, Epoch 87: Train Loss: 121638.4766, Test Loss: 77585.9062\n",
      "Graph 1, Epoch 88: Train Loss: 123677.8672, Test Loss: 77310.1172\n",
      "Graph 1, Epoch 89: Train Loss: 121268.0078, Test Loss: 77114.1016\n",
      "Graph 1, Epoch 90: Train Loss: 116102.1562, Test Loss: 76929.0781\n",
      "Graph 1, Epoch 91: Train Loss: 117026.9609, Test Loss: 76920.0859\n",
      "Graph 1, Epoch 92: Train Loss: 120650.2500, Test Loss: 77016.6562\n",
      "Graph 1, Epoch 93: Train Loss: 122521.5234, Test Loss: 77282.6328\n",
      "Graph 1, Epoch 94: Train Loss: 120936.0625, Test Loss: 77542.2344\n",
      "Graph 1, Epoch 95: Train Loss: 118480.0156, Test Loss: 77874.1875\n",
      "Graph 1, Epoch 96: Train Loss: 118526.3359, Test Loss: 78321.7578\n",
      "Graph 1, Epoch 97: Train Loss: 122549.0547, Test Loss: 78640.5391\n",
      "Graph 1, Epoch 98: Train Loss: 120102.5391, Test Loss: 78986.9688\n",
      "Graph 1, Epoch 99: Train Loss: 114587.3984, Test Loss: 79274.9062\n",
      "Graph 1, Epoch 100: Train Loss: 114170.7812, Test Loss: 79427.5625\n",
      "Graph 2, Epoch 1: Train Loss: 115468.1797, Test Loss: 87727.0781\n",
      "Graph 2, Epoch 2: Train Loss: 122746.6719, Test Loss: 87673.2578\n",
      "Graph 2, Epoch 3: Train Loss: 121287.5859, Test Loss: 87658.3359\n",
      "Graph 2, Epoch 4: Train Loss: 116014.9141, Test Loss: 87611.8906\n",
      "Graph 2, Epoch 5: Train Loss: 117741.4219, Test Loss: 87499.4922\n",
      "Graph 2, Epoch 6: Train Loss: 114609.0938, Test Loss: 87278.1484\n",
      "Graph 2, Epoch 7: Train Loss: 107731.4219, Test Loss: 86901.6953\n",
      "Graph 2, Epoch 8: Train Loss: 112377.2344, Test Loss: 86469.1797\n",
      "Graph 2, Epoch 9: Train Loss: 123026.0625, Test Loss: 86338.5156\n",
      "Graph 2, Epoch 10: Train Loss: 117977.1641, Test Loss: 86254.0703\n",
      "Graph 2, Epoch 11: Train Loss: 106906.4219, Test Loss: 86126.4297\n",
      "Graph 2, Epoch 12: Train Loss: 118638.5703, Test Loss: 86117.5938\n",
      "Graph 2, Epoch 13: Train Loss: 119029.0625, Test Loss: 86264.2500\n",
      "Graph 2, Epoch 14: Train Loss: 114363.1094, Test Loss: 86315.3516\n",
      "Graph 2, Epoch 15: Train Loss: 117711.2734, Test Loss: 86570.8750\n",
      "Graph 2, Epoch 16: Train Loss: 117243.2812, Test Loss: 86698.8672\n",
      "Graph 2, Epoch 17: Train Loss: 116158.7344, Test Loss: 86688.1953\n",
      "Graph 2, Epoch 18: Train Loss: 107457.0625, Test Loss: 86597.9844\n",
      "Graph 2, Epoch 19: Train Loss: 117707.0312, Test Loss: 86389.8203\n",
      "Graph 2, Epoch 20: Train Loss: 122768.9922, Test Loss: 86236.3359\n",
      "Graph 2, Epoch 21: Train Loss: 109809.3281, Test Loss: 86154.7031\n",
      "Graph 2, Epoch 22: Train Loss: 111497.3906, Test Loss: 86167.0469\n",
      "Graph 2, Epoch 23: Train Loss: 106507.1406, Test Loss: 86017.0234\n",
      "Graph 2, Epoch 24: Train Loss: 112268.8203, Test Loss: 86054.9922\n",
      "Graph 2, Epoch 25: Train Loss: 115465.1562, Test Loss: 86018.1016\n",
      "Graph 2, Epoch 26: Train Loss: 121016.1484, Test Loss: 86060.2969\n",
      "Graph 2, Epoch 27: Train Loss: 123388.0859, Test Loss: 86294.9609\n",
      "Graph 2, Epoch 28: Train Loss: 112116.8125, Test Loss: 86583.3125\n",
      "Graph 2, Epoch 29: Train Loss: 119723.0859, Test Loss: 86878.6562\n",
      "Graph 2, Epoch 30: Train Loss: 117621.8750, Test Loss: 87205.9141\n",
      "Graph 2, Epoch 31: Train Loss: 112625.5703, Test Loss: 87374.4766\n",
      "Graph 2, Epoch 32: Train Loss: 123884.7031, Test Loss: 87310.9219\n",
      "Graph 2, Epoch 33: Train Loss: 118690.6250, Test Loss: 87445.4766\n",
      "Graph 2, Epoch 34: Train Loss: 122288.0859, Test Loss: 87546.0625\n",
      "Graph 2, Epoch 35: Train Loss: 115412.2500, Test Loss: 87500.5625\n",
      "Graph 2, Epoch 36: Train Loss: 120613.6406, Test Loss: 87429.3750\n",
      "Graph 2, Epoch 37: Train Loss: 120674.2109, Test Loss: 87287.6328\n",
      "Graph 2, Epoch 38: Train Loss: 123641.4141, Test Loss: 87119.8906\n",
      "Graph 2, Epoch 39: Train Loss: 114594.2500, Test Loss: 86735.8672\n",
      "Graph 2, Epoch 40: Train Loss: 123605.7500, Test Loss: 86455.1406\n",
      "Graph 2, Epoch 41: Train Loss: 120599.8516, Test Loss: 86365.5078\n",
      "Graph 2, Epoch 42: Train Loss: 113272.1172, Test Loss: 86518.0781\n",
      "Graph 2, Epoch 43: Train Loss: 125231.1562, Test Loss: 86707.5547\n",
      "Graph 2, Epoch 44: Train Loss: 109990.0312, Test Loss: 86778.6250\n",
      "Graph 2, Epoch 45: Train Loss: 112824.9609, Test Loss: 86766.8594\n",
      "Graph 2, Epoch 46: Train Loss: 119951.1797, Test Loss: 86724.3516\n",
      "Graph 2, Epoch 47: Train Loss: 114776.6172, Test Loss: 86660.8750\n",
      "Graph 2, Epoch 48: Train Loss: 130610.8047, Test Loss: 86679.4219\n",
      "Graph 2, Epoch 49: Train Loss: 117917.1953, Test Loss: 86842.8203\n",
      "Graph 2, Epoch 50: Train Loss: 116216.2109, Test Loss: 87031.6875\n",
      "Graph 2, Epoch 51: Train Loss: 113639.4766, Test Loss: 87075.0391\n",
      "Graph 2, Epoch 52: Train Loss: 114643.7031, Test Loss: 87197.2031\n",
      "Graph 2, Epoch 53: Train Loss: 124058.6875, Test Loss: 87237.3125\n",
      "Graph 2, Epoch 54: Train Loss: 119146.6406, Test Loss: 87128.0859\n",
      "Graph 2, Epoch 55: Train Loss: 118747.9688, Test Loss: 87052.9609\n",
      "Graph 2, Epoch 56: Train Loss: 111913.9922, Test Loss: 86895.4844\n",
      "Graph 2, Epoch 57: Train Loss: 112273.4688, Test Loss: 86639.0703\n",
      "Graph 2, Epoch 58: Train Loss: 126535.2500, Test Loss: 86655.1953\n",
      "Graph 2, Epoch 59: Train Loss: 121396.7578, Test Loss: 86715.0312\n",
      "Graph 2, Epoch 60: Train Loss: 121413.4297, Test Loss: 86927.2578\n",
      "Graph 2, Epoch 61: Train Loss: 121279.7109, Test Loss: 87324.7266\n",
      "Graph 2, Epoch 62: Train Loss: 117749.9297, Test Loss: 87653.5391\n",
      "Graph 2, Epoch 63: Train Loss: 134383.4688, Test Loss: 87954.5234\n",
      "Graph 2, Epoch 64: Train Loss: 117428.3750, Test Loss: 88208.1562\n",
      "Graph 2, Epoch 65: Train Loss: 112806.4609, Test Loss: 88285.4922\n",
      "Graph 2, Epoch 66: Train Loss: 114399.9219, Test Loss: 88210.5078\n",
      "Graph 2, Epoch 67: Train Loss: 113392.3672, Test Loss: 87861.4141\n",
      "Graph 2, Epoch 68: Train Loss: 111543.8594, Test Loss: 87403.7031\n",
      "Graph 2, Epoch 69: Train Loss: 116290.8906, Test Loss: 86990.5312\n",
      "Graph 2, Epoch 70: Train Loss: 119392.4766, Test Loss: 86840.7812\n",
      "Graph 2, Epoch 71: Train Loss: 113752.6406, Test Loss: 86729.8828\n",
      "Graph 2, Epoch 72: Train Loss: 118596.3906, Test Loss: 86640.3359\n",
      "Graph 2, Epoch 73: Train Loss: 117368.2656, Test Loss: 86676.0703\n",
      "Graph 2, Epoch 74: Train Loss: 125091.5000, Test Loss: 86738.1406\n",
      "Graph 2, Epoch 75: Train Loss: 120491.3203, Test Loss: 86912.6797\n",
      "Graph 2, Epoch 76: Train Loss: 113600.3984, Test Loss: 87206.5547\n",
      "Graph 2, Epoch 77: Train Loss: 125771.4609, Test Loss: 87466.3203\n",
      "Graph 2, Epoch 78: Train Loss: 117957.7266, Test Loss: 87710.5547\n",
      "Graph 2, Epoch 79: Train Loss: 121795.6953, Test Loss: 88003.2031\n",
      "Graph 2, Epoch 80: Train Loss: 118834.0312, Test Loss: 88201.2266\n",
      "Graph 2, Epoch 81: Train Loss: 124720.3984, Test Loss: 88306.3750\n",
      "Graph 2, Epoch 82: Train Loss: 123887.9375, Test Loss: 88261.4922\n",
      "Graph 2, Epoch 83: Train Loss: 114553.7188, Test Loss: 88173.2188\n",
      "Graph 2, Epoch 84: Train Loss: 124803.5234, Test Loss: 88115.0078\n",
      "Graph 2, Epoch 85: Train Loss: 100288.8359, Test Loss: 87833.2734\n",
      "Graph 2, Epoch 86: Train Loss: 120432.5938, Test Loss: 87612.9141\n",
      "Graph 2, Epoch 87: Train Loss: 116501.5156, Test Loss: 87276.7891\n",
      "Graph 2, Epoch 88: Train Loss: 109611.6484, Test Loss: 86894.8438\n",
      "Graph 2, Epoch 89: Train Loss: 115158.1484, Test Loss: 86528.0156\n",
      "Graph 2, Epoch 90: Train Loss: 121592.3750, Test Loss: 86531.1562\n",
      "Graph 2, Epoch 91: Train Loss: 119682.1328, Test Loss: 86477.9141\n",
      "Graph 2, Epoch 92: Train Loss: 117697.7422, Test Loss: 86379.5781\n",
      "Graph 2, Epoch 93: Train Loss: 123243.9062, Test Loss: 86491.0312\n",
      "Graph 2, Epoch 94: Train Loss: 111359.3750, Test Loss: 86590.4375\n",
      "Graph 2, Epoch 95: Train Loss: 115714.0781, Test Loss: 86622.8828\n",
      "Graph 2, Epoch 96: Train Loss: 118245.1953, Test Loss: 86832.1484\n",
      "Graph 2, Epoch 97: Train Loss: 108374.1406, Test Loss: 86856.9141\n",
      "Graph 2, Epoch 98: Train Loss: 114282.8281, Test Loss: 86862.7891\n",
      "Graph 2, Epoch 99: Train Loss: 126224.7344, Test Loss: 86921.7891\n",
      "Graph 2, Epoch 100: Train Loss: 121491.1094, Test Loss: 86899.5703\n",
      "Graph 3, Epoch 1: Train Loss: 118366.5547, Test Loss: 90733.1406\n",
      "Graph 3, Epoch 2: Train Loss: 111151.8828, Test Loss: 90732.6562\n",
      "Graph 3, Epoch 3: Train Loss: 110458.4062, Test Loss: 90797.5469\n",
      "Graph 3, Epoch 4: Train Loss: 116319.5234, Test Loss: 90939.1406\n",
      "Graph 3, Epoch 5: Train Loss: 119124.5234, Test Loss: 91310.7422\n",
      "Graph 3, Epoch 6: Train Loss: 105465.9766, Test Loss: 91442.7578\n",
      "Graph 3, Epoch 7: Train Loss: 113844.7188, Test Loss: 91481.3672\n",
      "Graph 3, Epoch 8: Train Loss: 122027.1719, Test Loss: 91389.2266\n",
      "Graph 3, Epoch 9: Train Loss: 112436.7500, Test Loss: 91399.4922\n",
      "Graph 3, Epoch 10: Train Loss: 121546.8125, Test Loss: 91370.4375\n",
      "Graph 3, Epoch 11: Train Loss: 125816.3125, Test Loss: 91296.3750\n",
      "Graph 3, Epoch 12: Train Loss: 105454.2422, Test Loss: 91093.9062\n",
      "Graph 3, Epoch 13: Train Loss: 120105.3125, Test Loss: 91123.8047\n",
      "Graph 3, Epoch 14: Train Loss: 108507.5859, Test Loss: 90930.2656\n",
      "Graph 3, Epoch 15: Train Loss: 118068.3828, Test Loss: 90622.0859\n",
      "Graph 3, Epoch 16: Train Loss: 107264.2188, Test Loss: 90314.9062\n",
      "Graph 3, Epoch 17: Train Loss: 115917.2031, Test Loss: 90325.5234\n",
      "Graph 3, Epoch 18: Train Loss: 125318.9453, Test Loss: 90451.1250\n",
      "Graph 3, Epoch 19: Train Loss: 113382.9297, Test Loss: 90418.0625\n",
      "Graph 3, Epoch 20: Train Loss: 120447.4297, Test Loss: 90224.7422\n",
      "Graph 3, Epoch 21: Train Loss: 111192.8438, Test Loss: 90244.0000\n",
      "Graph 3, Epoch 22: Train Loss: 107798.9609, Test Loss: 89954.1875\n",
      "Graph 3, Epoch 23: Train Loss: 123271.4297, Test Loss: 90084.9609\n",
      "Graph 3, Epoch 24: Train Loss: 113429.7734, Test Loss: 90300.7031\n",
      "Graph 3, Epoch 25: Train Loss: 113600.2031, Test Loss: 90336.2578\n",
      "Graph 3, Epoch 26: Train Loss: 113738.6875, Test Loss: 90572.6172\n",
      "Graph 3, Epoch 27: Train Loss: 112050.1797, Test Loss: 90862.0234\n",
      "Graph 3, Epoch 28: Train Loss: 127075.7656, Test Loss: 91230.8594\n",
      "Graph 3, Epoch 29: Train Loss: 125933.1250, Test Loss: 91598.8516\n",
      "Graph 3, Epoch 30: Train Loss: 113904.9922, Test Loss: 91857.1172\n",
      "Graph 3, Epoch 31: Train Loss: 120692.2734, Test Loss: 92259.2891\n",
      "Graph 3, Epoch 32: Train Loss: 123632.7891, Test Loss: 92512.4297\n",
      "Graph 3, Epoch 33: Train Loss: 117031.1484, Test Loss: 92464.7109\n",
      "Graph 3, Epoch 34: Train Loss: 114545.7422, Test Loss: 92464.2656\n",
      "Graph 3, Epoch 35: Train Loss: 114461.9297, Test Loss: 92164.4609\n",
      "Graph 3, Epoch 36: Train Loss: 117115.1094, Test Loss: 91937.9609\n",
      "Graph 3, Epoch 37: Train Loss: 119332.3203, Test Loss: 91966.4375\n",
      "Graph 3, Epoch 38: Train Loss: 123857.4375, Test Loss: 91986.5078\n",
      "Graph 3, Epoch 39: Train Loss: 120140.2969, Test Loss: 92178.6875\n",
      "Graph 3, Epoch 40: Train Loss: 117588.1016, Test Loss: 92309.3672\n",
      "Graph 3, Epoch 41: Train Loss: 111285.7891, Test Loss: 92773.6484\n",
      "Graph 3, Epoch 42: Train Loss: 114727.8672, Test Loss: 93180.1172\n",
      "Graph 3, Epoch 43: Train Loss: 119994.6016, Test Loss: 93613.1250\n",
      "Graph 3, Epoch 44: Train Loss: 105419.0781, Test Loss: 93998.9375\n",
      "Graph 3, Epoch 45: Train Loss: 122248.2109, Test Loss: 93900.2656\n",
      "Graph 3, Epoch 46: Train Loss: 110053.5312, Test Loss: 93370.1094\n",
      "Graph 3, Epoch 47: Train Loss: 111061.6328, Test Loss: 92566.4375\n",
      "Graph 3, Epoch 48: Train Loss: 115543.4453, Test Loss: 91834.6562\n",
      "Graph 3, Epoch 49: Train Loss: 126592.2031, Test Loss: 91341.0391\n",
      "Graph 3, Epoch 50: Train Loss: 113784.0625, Test Loss: 91217.5469\n",
      "Graph 3, Epoch 51: Train Loss: 121983.6875, Test Loss: 91208.2344\n",
      "Graph 3, Epoch 52: Train Loss: 122511.3984, Test Loss: 91140.3672\n",
      "Graph 3, Epoch 53: Train Loss: 120828.6328, Test Loss: 91519.2734\n",
      "Graph 3, Epoch 54: Train Loss: 117299.4531, Test Loss: 92151.0938\n",
      "Graph 3, Epoch 55: Train Loss: 122880.5547, Test Loss: 93045.1172\n",
      "Graph 3, Epoch 56: Train Loss: 115792.6562, Test Loss: 93669.3047\n",
      "Graph 3, Epoch 57: Train Loss: 111820.6875, Test Loss: 93882.7031\n",
      "Graph 3, Epoch 58: Train Loss: 121431.4297, Test Loss: 93871.1406\n",
      "Graph 3, Epoch 59: Train Loss: 126572.7734, Test Loss: 93758.7578\n",
      "Graph 3, Epoch 60: Train Loss: 123000.0391, Test Loss: 93351.8438\n",
      "Graph 3, Epoch 61: Train Loss: 118760.8125, Test Loss: 92746.9141\n",
      "Graph 3, Epoch 62: Train Loss: 121959.2188, Test Loss: 92083.6797\n",
      "Graph 3, Epoch 63: Train Loss: 110050.7031, Test Loss: 91350.5156\n",
      "Graph 3, Epoch 64: Train Loss: 118512.6406, Test Loss: 91062.6875\n",
      "Graph 3, Epoch 65: Train Loss: 121125.8047, Test Loss: 90855.9531\n",
      "Graph 3, Epoch 66: Train Loss: 120833.8594, Test Loss: 90870.0391\n",
      "Graph 3, Epoch 67: Train Loss: 124332.3281, Test Loss: 91116.2891\n",
      "Graph 3, Epoch 68: Train Loss: 122190.3281, Test Loss: 91355.8672\n",
      "Graph 3, Epoch 69: Train Loss: 111924.5938, Test Loss: 91459.8203\n",
      "Graph 3, Epoch 70: Train Loss: 108489.9453, Test Loss: 91461.6797\n",
      "Graph 3, Epoch 71: Train Loss: 116998.0078, Test Loss: 91577.5078\n",
      "Graph 3, Epoch 72: Train Loss: 113028.1797, Test Loss: 91763.0391\n",
      "Graph 3, Epoch 73: Train Loss: 116356.4375, Test Loss: 91760.8438\n",
      "Graph 3, Epoch 74: Train Loss: 123449.1016, Test Loss: 91903.4531\n",
      "Graph 3, Epoch 75: Train Loss: 129049.4766, Test Loss: 92180.6172\n",
      "Graph 3, Epoch 76: Train Loss: 129277.1406, Test Loss: 92733.7656\n",
      "Graph 3, Epoch 77: Train Loss: 111214.7344, Test Loss: 92812.2500\n",
      "Graph 3, Epoch 78: Train Loss: 118233.9297, Test Loss: 92825.0703\n",
      "Graph 3, Epoch 79: Train Loss: 117610.5859, Test Loss: 92927.3672\n",
      "Graph 3, Epoch 80: Train Loss: 111896.1016, Test Loss: 92943.3359\n",
      "Graph 3, Epoch 81: Train Loss: 118925.9688, Test Loss: 93098.5078\n",
      "Graph 3, Epoch 82: Train Loss: 117279.4922, Test Loss: 93547.3984\n",
      "Graph 3, Epoch 83: Train Loss: 121727.2578, Test Loss: 93605.4062\n",
      "Graph 3, Epoch 84: Train Loss: 113730.1328, Test Loss: 93448.0000\n",
      "Graph 3, Epoch 85: Train Loss: 111645.9531, Test Loss: 93025.4844\n",
      "Graph 3, Epoch 86: Train Loss: 115541.5391, Test Loss: 92746.1406\n",
      "Graph 3, Epoch 87: Train Loss: 107063.9141, Test Loss: 92297.2891\n",
      "Graph 3, Epoch 88: Train Loss: 120725.5469, Test Loss: 91817.0391\n",
      "Graph 3, Epoch 89: Train Loss: 119111.3594, Test Loss: 91546.4375\n",
      "Graph 3, Epoch 90: Train Loss: 110314.4062, Test Loss: 91394.7891\n",
      "Graph 3, Epoch 91: Train Loss: 115785.7812, Test Loss: 91558.5703\n",
      "Graph 3, Epoch 92: Train Loss: 117147.6328, Test Loss: 92240.1797\n",
      "Graph 3, Epoch 93: Train Loss: 112283.2891, Test Loss: 92732.6172\n",
      "Graph 3, Epoch 94: Train Loss: 116332.3359, Test Loss: 93102.5391\n",
      "Graph 3, Epoch 95: Train Loss: 104082.0469, Test Loss: 92958.3359\n",
      "Graph 3, Epoch 96: Train Loss: 113043.3516, Test Loss: 92535.7500\n",
      "Graph 3, Epoch 97: Train Loss: 115388.8047, Test Loss: 91988.5156\n",
      "Graph 3, Epoch 98: Train Loss: 113515.0938, Test Loss: 91442.5391\n",
      "Graph 3, Epoch 99: Train Loss: 117974.7031, Test Loss: 91115.2500\n",
      "Graph 3, Epoch 100: Train Loss: 116707.2656, Test Loss: 90825.7812\n"
     ]
    }
   ],
   "source": [
    "train_losses = []\n",
    "test_losses = []\n",
    "\n",
    "for idx, data in enumerate(graph_data_objects):\n",
    "    data = data.to(device)  # Move data to the appropriate device\n",
    "    \n",
    "    num_labeled_nodes = num_labeled_nodes_list[idx]  # Retrieve the number of labeled nodes for the current graph\n",
    "    num_total_nodes = data.num_nodes  # Total number of nodes in the current graph\n",
    "\n",
    "    # Placeholder value for unlabeled nodes - choose based on your task\n",
    "    placeholder_value = 0\n",
    "\n",
    "    # Extend data.y with the placeholder value for unlabeled nodes\n",
    "    if data.y.size(0) < num_total_nodes:\n",
    "        # Calculate the number of unlabeled nodes\n",
    "        num_unlabeled_nodes = num_total_nodes - data.y.size(0)\n",
    "        \n",
    "        # Create a tensor of placeholders for unlabeled nodes\n",
    "        placeholders = torch.full((num_unlabeled_nodes,), placeholder_value, dtype=data.y.dtype)\n",
    "        \n",
    "        # Extend data.y\n",
    "        data.y = torch.cat((data.y, placeholders))\n",
    "\n",
    "    # Generate initial masks for labeled nodes only\n",
    "    train_mask = torch.zeros(num_labeled_nodes, dtype=torch.bool)\n",
    "    test_mask = torch.zeros(num_labeled_nodes, dtype=torch.bool)\n",
    "\n",
    "    # Randomly permute indices of labeled nodes to split into training and testing\n",
    "    indices = torch.randperm(num_labeled_nodes)\n",
    "    num_train = int(num_labeled_nodes * 0.8)  # Split, e.g., 80% for training\n",
    "\n",
    "    # Set training and testing masks for labeled nodes\n",
    "    train_mask[indices[:num_train]] = True\n",
    "    test_mask[indices[num_train:]] = True\n",
    "\n",
    "    # Extend masks to cover all nodes\n",
    "    # Note: For training, include unlabeled nodes; for testing, focus only on labeled nodes\n",
    "    extended_train_mask = torch.cat((train_mask, torch.ones(num_total_nodes - num_labeled_nodes, dtype=torch.bool)))\n",
    "    extended_test_mask = torch.cat((test_mask, torch.zeros(num_total_nodes - num_labeled_nodes, dtype=torch.bool)))\n",
    "\n",
    "    # Training and testing loop\n",
    "    for epoch in range(100):  # Adjust the number of epochs as needed\n",
    "        train_loss = train(model, optimizer, data, extended_train_mask)  # Assuming extended masks are used\n",
    "        test_loss = test(model, data, extended_test_mask)\n",
    "        \n",
    "        train_losses.append(train_loss)\n",
    "        test_losses.append(test_loss)\n",
    "        \n",
    "        print(f'Graph {idx+1}, Epoch {epoch+1}: Train Loss: {train_loss:.4f}, Test Loss: {test_loss:.4f}')"
   ]
  },
  {
   "cell_type": "markdown",
   "id": "7b1890f5-268a-4465-a79b-57ca607a306d",
   "metadata": {},
   "source": [
    "## **Training and Test Set**"
   ]
  },
  {
   "cell_type": "markdown",
   "id": "a0ce0a51-056e-44b4-85f4-619633b00314",
   "metadata": {},
   "source": [
    "The section below prepares data for training and testing in a graph-based context where some nodes are labeled and others are not. The purpose of the mask is to identify and only include the labeled nodes in training and testing."
   ]
  },
  {
   "cell_type": "markdown",
   "id": "7f5fb6bb-ff38-447f-9973-1e0b79999228",
   "metadata": {},
   "source": [
    "1. Split the labeled nodes into training and test sets\n",
    "2. Creates masks to identify which nodes belong to each set."
   ]
  },
  {
   "cell_type": "markdown",
   "id": "4867b852-28c6-4073-abf5-bcc9a80cecb1",
   "metadata": {},
   "source": [
    "## **Execute the Training Loop, Calculate Loss**"
   ]
  },
  {
   "cell_type": "markdown",
   "id": "8b2a1162-272c-4ce3-bb99-4488b1c9bdaa",
   "metadata": {},
   "source": [
    "This section executes the training loop."
   ]
  },
  {
   "cell_type": "markdown",
   "id": "10c4af52-6dca-4eb3-9a5b-a5901ab6fb5f",
   "metadata": {},
   "source": [
    "## **Evaluate the Model**"
   ]
  },
  {
   "cell_type": "markdown",
   "id": "d1ae8381-f8c9-40e7-ba71-20e7b3b9111a",
   "metadata": {},
   "source": [
    "Test the trained model onto the test dataset."
   ]
  },
  {
   "cell_type": "code",
   "execution_count": 18,
   "id": "319109de-a3f6-452a-9df9-ac883c901cdf",
   "metadata": {},
   "outputs": [
    {
     "name": "stdout",
     "output_type": "stream",
     "text": [
      "Test Loss: 90825.78\n"
     ]
    }
   ],
   "source": [
    "# Assuming you have the necessary variables defined\n",
    "test_loss = test(model, data, test_mask)\n",
    "print(f'Test Loss: {test_loss:.2f}')"
   ]
  },
  {
   "cell_type": "markdown",
   "id": "984e11e9-1b08-4265-8e4a-5e47d8e35699",
   "metadata": {},
   "source": [
    "## **Visualise the Loss Function**"
   ]
  },
  {
   "cell_type": "code",
   "execution_count": 19,
   "id": "709b2d8d-930b-4347-a588-202fbc54cffc",
   "metadata": {},
   "outputs": [
    {
     "data": {
      "image/png": "[encoded data removed]",
      "text/plain": [
       "<Figure size 640x480 with 1 Axes>"
      ]
     },
     "metadata": {},
     "output_type": "display_data"
    }
   ],
   "source": [
    "import matplotlib.pyplot as plt\n",
    "\n",
    "plt.plot(train_losses, label='Training Loss')\n",
    "plt.plot(test_losses, label='Test Loss')\n",
    "plt.xlabel('Epoch')\n",
    "plt.ylabel('Loss')\n",
    "plt.title('Training and Test Loss Over Epochs')\n",
    "plt.legend()\n",
    "plt.show()\n"
   ]
  },
  {
   "cell_type": "markdown",
   "id": "ca1bdf9f-16fc-4d30-8003-2f21f37b8203",
   "metadata": {},
   "source": [
    "## **Save the Model**"
   ]
  },
  {
   "cell_type": "code",
   "execution_count": 20,
   "id": "ab5a8fc3-ccc4-49fa-811c-981455d24291",
   "metadata": {},
   "outputs": [],
   "source": [
    "# Define the file path variable using an f-string if you need dynamic components\n",
    "file_path = rf'data\\1_pytorch_model\\model.pth'  \n",
    "\n",
    "# Save the model\n",
    "torch.save(model.state_dict(), file_path)"
   ]
  }
 ],
 "metadata": {
  "kernelspec": {
   "display_name": "Python 3 (ipykernel)",
   "language": "python",
   "name": "python3"
  },
  "language_info": {
   "codemirror_mode": {
    "name": "ipython",
    "version": 3
   },
   "file_extension": ".py",
   "mimetype": "text/x-python",
   "name": "python",
   "nbconvert_exporter": "python",
   "pygments_lexer": "ipython3",
   "version": "3.10.6"
  }
 },
 "nbformat": 4,
 "nbformat_minor": 5
}
