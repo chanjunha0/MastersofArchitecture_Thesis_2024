{
 "cells": [
  {
   "cell_type": "markdown",
   "id": "42e25500-4cef-42ff-b8c0-69805ae327d7",
   "metadata": {},
   "source": [
    "## **Notebook Description**"
   ]
  },
  {
   "cell_type": "markdown",
   "id": "5a14a73f-c9b1-4f79-abbd-fef7da8f2301",
   "metadata": {},
   "source": [
    "This notebook: \n",
    "1. Trains the model on the training data.\n",
    "2. Test against the test data."
   ]
  },
  {
   "cell_type": "markdown",
   "id": "c7eafdc0-571d-4052-84d4-dc4f76de3625",
   "metadata": {},
   "source": [
    "## **Import Libraries**"
   ]
  },
  {
   "cell_type": "code",
   "execution_count": 1,
   "id": "9bfe50d6-1fc3-407a-a875-93b1d3114832",
   "metadata": {},
   "outputs": [],
   "source": [
    "import os\n",
    "import torch\n",
    "import pandas as pd\n",
    "from torch_geometric.data import Data, DataLoader\n",
    "from torch_geometric.nn import GCNConv\n",
    "import torch.nn.functional as F\n",
    "from math import sqrt\n",
    "import matplotlib.pyplot as plt"
   ]
  },
  {
   "cell_type": "markdown",
   "id": "bb88d39d-cd32-45d0-b913-b25b95a04f3b",
   "metadata": {},
   "source": [
    "## **Import PyTorch Data Objects from a Folder**"
   ]
  },
  {
   "cell_type": "markdown",
   "id": "01d80ba1-aed3-48b3-aa80-e3cb85447533",
   "metadata": {},
   "source": [
    "**Set Folder Path**"
   ]
  },
  {
   "cell_type": "code",
   "execution_count": 2,
   "id": "0d973479-8cf6-489e-b204-9fc9a98d2536",
   "metadata": {},
   "outputs": [],
   "source": [
    "# Set folder path for pytorch data objects\n",
    "folder_path = r'data\\torch_data_object_training'"
   ]
  },
  {
   "cell_type": "code",
   "execution_count": 3,
   "id": "a9ba4683-3e17-49ac-803a-e4c93afb0942",
   "metadata": {},
   "outputs": [],
   "source": [
    "# Path to the CSV containing labeled nodes info\n",
    "labels_info_path = r'data\\torch_data_object_training\\labels_info.csv' "
   ]
  },
  {
   "cell_type": "markdown",
   "id": "df7306c7-1216-4f17-afe5-fe592faecb79",
   "metadata": {},
   "source": [
    "**Define Functions**"
   ]
  },
  {
   "cell_type": "markdown",
   "id": "61fbe0cd-c989-43f5-800a-b6ef5896f8f3",
   "metadata": {},
   "source": [
    "Define a function to load all graph data objects from a folder. Each graph is assumed to be saved as a separate file."
   ]
  },
  {
   "cell_type": "code",
   "execution_count": 4,
   "id": "6e008ed4-32f0-450f-a6fa-8adc35ccb695",
   "metadata": {},
   "outputs": [],
   "source": [
    "# Function to load all graph data objects from a folder\n",
    "def load_graph_data_objects(folder_path):\n",
    "    graph_data_objects = []\n",
    "    for file_name in os.listdir(folder_path):\n",
    "        if file_name.endswith('.pt'):  # Assuming saved PyTorch tensor files\n",
    "            graph_path = os.path.join(folder_path, file_name)\n",
    "            graph_data = torch.load(graph_path)\n",
    "            if isinstance(graph_data, Data):\n",
    "                graph_data_objects.append(graph_data)\n",
    "    return graph_data_objects"
   ]
  },
  {
   "cell_type": "code",
   "execution_count": 5,
   "id": "91fbe23d-58e2-480e-87ea-274794b6b0ac",
   "metadata": {},
   "outputs": [],
   "source": [
    "# Function to load the number of labeled nodes for each dataset from a CSV\n",
    "def load_num_labeled_nodes(labels_info_path):\n",
    "    labels_info = pd.read_csv(labels_info_path)\n",
    "    return labels_info['num_labeled_nodes'].tolist()"
   ]
  },
  {
   "cell_type": "code",
   "execution_count": 6,
   "id": "10ac217e-5059-473b-9a55-1b749fd4a26a",
   "metadata": {},
   "outputs": [],
   "source": [
    "# Function to Count Graph Data Objects in a Folder\n",
    "def count_graph_data_objects(folder_path):\n",
    "    count = 0\n",
    "    for file_name in os.listdir(folder_path):\n",
    "        if file_name.endswith('.pt'):  # Assuming saved PyTorch tensor files\n",
    "            count += 1\n",
    "    return count"
   ]
  },
  {
   "cell_type": "markdown",
   "id": "d86f797e-c2ca-4c1b-9534-caa5715cb9d0",
   "metadata": {},
   "source": [
    "**Load and count graph data objects**"
   ]
  },
  {
   "cell_type": "code",
   "execution_count": 7,
   "id": "7b32ffcc-8900-4fd3-b1ac-8f608a37136b",
   "metadata": {},
   "outputs": [
    {
     "name": "stdout",
     "output_type": "stream",
     "text": [
      "Loaded 3 graph data objects.\n"
     ]
    }
   ],
   "source": [
    "# Load graph data objects\n",
    "\n",
    "graph_data_objects = load_graph_data_objects(folder_path)\n",
    "print(f'Loaded {len(graph_data_objects)} graph data objects.')"
   ]
  },
  {
   "cell_type": "code",
   "execution_count": 8,
   "id": "df88d0a5-d8e4-4cc9-bd59-468d8c3bde24",
   "metadata": {},
   "outputs": [
    {
     "name": "stdout",
     "output_type": "stream",
     "text": [
      "Total number of graph data objects in the folder: 3\n"
     ]
    }
   ],
   "source": [
    "# Count graph data objects directly from the folder \n",
    "\n",
    "num_graphs = count_graph_data_objects(folder_path)\n",
    "print(f'Total number of graph data objects in the folder: {num_graphs}')\n",
    "\n",
    "# Load the number of labeled nodes for each graph\n",
    "num_labeled_nodes_list = load_num_labeled_nodes(labels_info_path)  "
   ]
  },
  {
   "cell_type": "markdown",
   "id": "f2ce697d-b2f6-48eb-ab98-0b537b4479af",
   "metadata": {},
   "source": [
    "## **Define the GNN Model**"
   ]
  },
  {
   "cell_type": "markdown",
   "id": "1acacb8b-685f-40fb-9ee6-61b57a378ffd",
   "metadata": {},
   "source": [
    "This section sets up a class that specifies a 2 layer GCN model and a method for how data flows through the model (forward pass)."
   ]
  },
  {
   "cell_type": "code",
   "execution_count": 9,
   "id": "6030d3fc-a986-4b65-9f53-29321a4fda83",
   "metadata": {},
   "outputs": [],
   "source": [
    "class SimpleGCN(torch.nn.Module):\n",
    "    def __init__(self, num_node_features, num_classes):\n",
    "        '''\n",
    "        Initialises a model that processes graph-structured data using \n",
    "        simple two-layer GCN architecture.\n",
    "        \n",
    "        Args:\n",
    "        num_node_features = number of features each node in the input graph has\n",
    "        num_classes = number of output classes\n",
    "        '''\n",
    "        super(SimpleGCN, self).__init__()\n",
    "        self.conv1 = GCNConv(num_node_features, 16)  # First GCN layer\n",
    "        self.conv2 = GCNConv(16, num_classes)        # Second GCN layer\n",
    "\n",
    "    def forward(self, data):\n",
    "        '''\n",
    "        Defines the forward pass of the model\n",
    "\n",
    "        Args:\n",
    "        data = object containing graph data\n",
    "        '''\n",
    "        x, edge_index = data.x, data.edge_index    # Extract node features and graph structure\n",
    "        x = self.conv1(x, edge_index)    # Apply the first GCN convolution layer\n",
    "        x = F.relu(x)  # Apply the ReLU activation function to the input tensor x\n",
    "        x = F.dropout(x, training=self.training) # Apply dropout regularisation to reduce overfitting during training\n",
    "        x = self.conv2(x, edge_index) # Apply the second GCN convolution layer\n",
    "        \n",
    "        return x  # model's predictions for each node "
   ]
  },
  {
   "cell_type": "markdown",
   "id": "2203d44e-8af6-42d5-b745-677573de7464",
   "metadata": {},
   "source": [
    "## **Model Settings and Optimiser**"
   ]
  },
  {
   "cell_type": "markdown",
   "id": "02793063-735e-4960-98eb-e2d28c5a58b3",
   "metadata": {},
   "source": [
    "This section creates the model settings, calls the model function and sets the optimiser."
   ]
  },
  {
   "cell_type": "code",
   "execution_count": 10,
   "id": "df221bb9-06a9-4097-94a8-15575e0c6ff7",
   "metadata": {},
   "outputs": [],
   "source": [
    "# Model Settings\n",
    "num_node_features = graph_data_objects[0].num_node_features  #  Retrieves the number of features associated with the nodes\n",
    "num_classes = 1  # Set the number of output classes (no changes needed)\n",
    "\n",
    "# Call GCN model and set optimiser\n",
    "\n",
    "# Optimiser will adjust the model's weights during training to minimise error.\n",
    "model = SimpleGCN(num_node_features, num_classes)\n",
    "\n",
    "# Using Adam optimizer, lr = learning rate\n",
    "optimizer = torch.optim.Adam(model.parameters(), lr=0.01) \n",
    "\n",
    "# Adjust the criterion according to your task\n",
    "criterion = torch.nn.MSELoss()  "
   ]
  },
  {
   "cell_type": "markdown",
   "id": "ac0b288a-fbf0-4152-a828-1bb867b06a18",
   "metadata": {},
   "source": [
    "## **Training Loop**"
   ]
  },
  {
   "cell_type": "markdown",
   "id": "c2780a93-7c99-4bfd-ad7c-8b043a01f71c",
   "metadata": {},
   "source": [
    "This section defines the training and test function and returns the MSE loss."
   ]
  },
  {
   "cell_type": "code",
   "execution_count": 11,
   "id": "e97f6125-9061-4159-b481-947b17f3f0d4",
   "metadata": {},
   "outputs": [],
   "source": [
    "def train(model, optimizer, data, mask):\n",
    "    model.train()\n",
    "    optimizer.zero_grad()\n",
    "    \n",
    "    out = model(data)  # Model outputs for all nodes\n",
    "    out = out.squeeze()\n",
    "    \n",
    "    # Mask to identify non-placeholder labels\n",
    "    # Adjust this condition based on your placeholder_value and task\n",
    "    valid_label_mask = data.y != placeholder_value\n",
    "    \n",
    "    # Apply both the extended mask and valid_label_mask to filter predictions and labels\n",
    "    valid_out = out[mask & valid_label_mask]\n",
    "    valid_labels = data.y[mask & valid_label_mask]\n",
    "    \n",
    "    loss = F.mse_loss(valid_out, valid_labels)  # Calculate loss on non-placeholder, valid data points only\n",
    "    \n",
    "    loss.backward()\n",
    "    optimizer.step()\n",
    "    \n",
    "    return loss.item()"
   ]
  },
  {
   "cell_type": "code",
   "execution_count": 12,
   "id": "377b495d-8f95-40e4-84ab-be0b3bd58d9a",
   "metadata": {},
   "outputs": [],
   "source": [
    "def test(model, data, mask):\n",
    "    model.eval()\n",
    "    with torch.no_grad():\n",
    "        out = model(data)\n",
    "        out = out.squeeze()  # Ensure the output matches expected dimensions\n",
    "\n",
    "        # Ensure the mask is for the full set of nodes, adjusting if it was originally for labeled nodes only\n",
    "        if mask.size(0) != out.size(0):\n",
    "            # This assumes the original mask size corresponds to the number of labeled nodes\n",
    "            # and needs to be extended to match the full set of nodes (similar to what was done for training)\n",
    "            extended_mask = torch.cat((mask, torch.zeros(data.num_nodes - mask.size(0), dtype=torch.bool, device=mask.device)))\n",
    "        else:\n",
    "            extended_mask = mask\n",
    "\n",
    "        # Apply the extended mask to filter predictions and labels for loss calculation\n",
    "        valid_out = out[extended_mask]\n",
    "        valid_labels = data.y[extended_mask]\n",
    "        \n",
    "        test_loss = F.mse_loss(valid_out, valid_labels).item()\n",
    "\n",
    "    return test_loss\n"
   ]
  },
  {
   "cell_type": "code",
   "execution_count": 13,
   "id": "5e9f1e32-eed0-4202-829f-fc194c4dfa70",
   "metadata": {},
   "outputs": [
    {
     "data": {
      "text/plain": [
       "SimpleGCN(\n",
       "  (conv1): GCNConv(4, 16)\n",
       "  (conv2): GCNConv(16, 1)\n",
       ")"
      ]
     },
     "execution_count": 13,
     "metadata": {},
     "output_type": "execute_result"
    }
   ],
   "source": [
    "# Check if GPU is avaliable \n",
    "device = torch.device('cuda' if torch.cuda.is_available() else 'cpu')\n",
    "model.to(device)"
   ]
  },
  {
   "cell_type": "code",
   "execution_count": 14,
   "id": "f904ef0a-7038-4d35-ba04-f98fc68d8680",
   "metadata": {},
   "outputs": [
    {
     "name": "stdout",
     "output_type": "stream",
     "text": [
      "Graph 1, Epoch 1: Train Loss: 577871.3125, Test Loss: 463591.7500\n",
      "Graph 1, Epoch 2: Train Loss: 565397.9375, Test Loss: 432833.1562\n",
      "Graph 1, Epoch 3: Train Loss: 499383.0312, Test Loss: 402849.7812\n",
      "Graph 1, Epoch 4: Train Loss: 492689.8125, Test Loss: 373501.6562\n",
      "Graph 1, Epoch 5: Train Loss: 428074.5938, Test Loss: 345353.4062\n",
      "Graph 1, Epoch 6: Train Loss: 448608.9688, Test Loss: 318551.1562\n",
      "Graph 1, Epoch 7: Train Loss: 404594.1562, Test Loss: 292956.7812\n",
      "Graph 1, Epoch 8: Train Loss: 355247.2500, Test Loss: 268776.0625\n",
      "Graph 1, Epoch 9: Train Loss: 332937.1875, Test Loss: 246620.0625\n",
      "Graph 1, Epoch 10: Train Loss: 303994.9375, Test Loss: 226770.2500\n",
      "Graph 1, Epoch 11: Train Loss: 288504.6875, Test Loss: 208252.8594\n",
      "Graph 1, Epoch 12: Train Loss: 306404.3750, Test Loss: 190798.5156\n",
      "Graph 1, Epoch 13: Train Loss: 245606.5625, Test Loss: 174387.1562\n",
      "Graph 1, Epoch 14: Train Loss: 233828.2500, Test Loss: 159127.8125\n",
      "Graph 1, Epoch 15: Train Loss: 227885.6094, Test Loss: 145102.5469\n",
      "Graph 1, Epoch 16: Train Loss: 222592.3750, Test Loss: 132352.3125\n",
      "Graph 1, Epoch 17: Train Loss: 199709.0938, Test Loss: 120944.5391\n",
      "Graph 1, Epoch 18: Train Loss: 194772.4844, Test Loss: 110856.1562\n",
      "Graph 1, Epoch 19: Train Loss: 185427.3750, Test Loss: 102155.0000\n",
      "Graph 1, Epoch 20: Train Loss: 184202.2188, Test Loss: 94772.8438\n",
      "Graph 1, Epoch 21: Train Loss: 172800.6406, Test Loss: 88634.1250\n",
      "Graph 1, Epoch 22: Train Loss: 170994.4688, Test Loss: 83621.2266\n",
      "Graph 1, Epoch 23: Train Loss: 180774.9531, Test Loss: 79727.2500\n",
      "Graph 1, Epoch 24: Train Loss: 182187.2344, Test Loss: 76864.6875\n",
      "Graph 1, Epoch 25: Train Loss: 168240.7812, Test Loss: 74816.0156\n",
      "Graph 1, Epoch 26: Train Loss: 175026.0781, Test Loss: 73500.8594\n",
      "Graph 1, Epoch 27: Train Loss: 157813.5625, Test Loss: 72669.1562\n",
      "Graph 1, Epoch 28: Train Loss: 165279.4688, Test Loss: 72171.6797\n",
      "Graph 1, Epoch 29: Train Loss: 173831.6250, Test Loss: 71908.5234\n",
      "Graph 1, Epoch 30: Train Loss: 191376.8906, Test Loss: 71794.2031\n",
      "Graph 1, Epoch 31: Train Loss: 172824.6094, Test Loss: 71742.5234\n",
      "Graph 1, Epoch 32: Train Loss: 152269.5625, Test Loss: 71716.3828\n",
      "Graph 1, Epoch 33: Train Loss: 162498.5000, Test Loss: 71720.3203\n",
      "Graph 1, Epoch 34: Train Loss: 169535.0469, Test Loss: 71751.0234\n",
      "Graph 1, Epoch 35: Train Loss: 168409.4062, Test Loss: 71833.3672\n",
      "Graph 1, Epoch 36: Train Loss: 160578.8438, Test Loss: 71975.3281\n",
      "Graph 1, Epoch 37: Train Loss: 155670.2969, Test Loss: 72205.1562\n",
      "Graph 1, Epoch 38: Train Loss: 162892.0781, Test Loss: 72586.9062\n",
      "Graph 1, Epoch 39: Train Loss: 140095.6875, Test Loss: 73079.3438\n",
      "Graph 1, Epoch 40: Train Loss: 156929.7344, Test Loss: 73690.9219\n",
      "Graph 1, Epoch 41: Train Loss: 152105.5625, Test Loss: 74396.7266\n",
      "Graph 1, Epoch 42: Train Loss: 132104.0938, Test Loss: 75099.6484\n",
      "Graph 1, Epoch 43: Train Loss: 152296.7969, Test Loss: 75805.0781\n",
      "Graph 1, Epoch 44: Train Loss: 145281.1094, Test Loss: 76566.7812\n",
      "Graph 1, Epoch 45: Train Loss: 141035.9531, Test Loss: 77261.7031\n",
      "Graph 1, Epoch 46: Train Loss: 138859.9219, Test Loss: 77858.3203\n",
      "Graph 1, Epoch 47: Train Loss: 147643.7812, Test Loss: 78380.0391\n",
      "Graph 1, Epoch 48: Train Loss: 137574.9844, Test Loss: 78837.0000\n",
      "Graph 1, Epoch 49: Train Loss: 138912.1406, Test Loss: 79192.0781\n",
      "Graph 1, Epoch 50: Train Loss: 126018.0547, Test Loss: 79382.6875\n",
      "Graph 1, Epoch 51: Train Loss: 131827.8594, Test Loss: 79514.6172\n",
      "Graph 1, Epoch 52: Train Loss: 135879.3750, Test Loss: 79522.4844\n",
      "Graph 1, Epoch 53: Train Loss: 149757.4844, Test Loss: 79410.6641\n",
      "Graph 1, Epoch 54: Train Loss: 134690.8281, Test Loss: 79176.0391\n",
      "Graph 1, Epoch 55: Train Loss: 133434.4375, Test Loss: 78856.0156\n",
      "Graph 1, Epoch 56: Train Loss: 140362.7031, Test Loss: 78436.5625\n",
      "Graph 1, Epoch 57: Train Loss: 133438.9375, Test Loss: 77987.0312\n",
      "Graph 1, Epoch 58: Train Loss: 141650.7500, Test Loss: 77597.9609\n",
      "Graph 1, Epoch 59: Train Loss: 137731.7656, Test Loss: 77482.0938\n",
      "Graph 1, Epoch 60: Train Loss: 129999.9844, Test Loss: 77427.3750\n",
      "Graph 1, Epoch 61: Train Loss: 137576.6094, Test Loss: 77506.3281\n",
      "Graph 1, Epoch 62: Train Loss: 144465.1094, Test Loss: 77681.8828\n",
      "Graph 1, Epoch 63: Train Loss: 134715.4062, Test Loss: 77898.1562\n",
      "Graph 1, Epoch 64: Train Loss: 124797.4141, Test Loss: 78003.2344\n",
      "Graph 1, Epoch 65: Train Loss: 137629.2500, Test Loss: 78135.3594\n",
      "Graph 1, Epoch 66: Train Loss: 134796.4688, Test Loss: 78319.7812\n",
      "Graph 1, Epoch 67: Train Loss: 127447.1953, Test Loss: 78434.6875\n",
      "Graph 1, Epoch 68: Train Loss: 141246.9375, Test Loss: 78566.1719\n",
      "Graph 1, Epoch 69: Train Loss: 133322.9531, Test Loss: 78706.0391\n",
      "Graph 1, Epoch 70: Train Loss: 138559.1406, Test Loss: 78784.0156\n",
      "Graph 1, Epoch 71: Train Loss: 135301.1406, Test Loss: 78839.0781\n",
      "Graph 1, Epoch 72: Train Loss: 125480.0078, Test Loss: 78871.7734\n",
      "Graph 1, Epoch 73: Train Loss: 138345.3594, Test Loss: 78905.1016\n",
      "Graph 1, Epoch 74: Train Loss: 127038.9453, Test Loss: 78857.0000\n",
      "Graph 1, Epoch 75: Train Loss: 133154.1406, Test Loss: 78733.1250\n",
      "Graph 1, Epoch 76: Train Loss: 135568.6719, Test Loss: 78546.6016\n",
      "Graph 1, Epoch 77: Train Loss: 136639.8125, Test Loss: 78496.3672\n",
      "Graph 1, Epoch 78: Train Loss: 135900.8125, Test Loss: 78395.5547\n",
      "Graph 1, Epoch 79: Train Loss: 127609.0547, Test Loss: 78200.5078\n",
      "Graph 1, Epoch 80: Train Loss: 129022.4453, Test Loss: 78039.4141\n",
      "Graph 1, Epoch 81: Train Loss: 125555.9922, Test Loss: 77879.9219\n",
      "Graph 1, Epoch 82: Train Loss: 119593.0312, Test Loss: 77697.3672\n",
      "Graph 1, Epoch 83: Train Loss: 124401.7344, Test Loss: 77560.8203\n",
      "Graph 1, Epoch 84: Train Loss: 137261.4062, Test Loss: 77509.2344\n",
      "Graph 1, Epoch 85: Train Loss: 123677.2891, Test Loss: 77371.6797\n",
      "Graph 1, Epoch 86: Train Loss: 131806.1406, Test Loss: 77284.6250\n",
      "Graph 1, Epoch 87: Train Loss: 132391.4375, Test Loss: 77297.0000\n",
      "Graph 1, Epoch 88: Train Loss: 126682.5312, Test Loss: 77298.5234\n",
      "Graph 1, Epoch 89: Train Loss: 123238.5859, Test Loss: 77345.8672\n",
      "Graph 1, Epoch 90: Train Loss: 134115.6250, Test Loss: 77322.6719\n",
      "Graph 1, Epoch 91: Train Loss: 111960.5391, Test Loss: 77167.6016\n",
      "Graph 1, Epoch 92: Train Loss: 130496.5781, Test Loss: 77127.3984\n",
      "Graph 1, Epoch 93: Train Loss: 124836.2969, Test Loss: 77050.2109\n",
      "Graph 1, Epoch 94: Train Loss: 127317.6094, Test Loss: 76966.8203\n",
      "Graph 1, Epoch 95: Train Loss: 117499.5234, Test Loss: 76745.3750\n",
      "Graph 1, Epoch 96: Train Loss: 128604.5703, Test Loss: 76443.6406\n",
      "Graph 1, Epoch 97: Train Loss: 127714.1484, Test Loss: 76188.8438\n",
      "Graph 1, Epoch 98: Train Loss: 126490.3203, Test Loss: 76086.2188\n",
      "Graph 1, Epoch 99: Train Loss: 139325.5781, Test Loss: 76064.8672\n",
      "Graph 1, Epoch 100: Train Loss: 126482.1484, Test Loss: 76054.5703\n",
      "Graph 2, Epoch 1: Train Loss: 129013.9844, Test Loss: 78943.9297\n",
      "Graph 2, Epoch 2: Train Loss: 128617.8281, Test Loss: 79027.4062\n",
      "Graph 2, Epoch 3: Train Loss: 122166.9766, Test Loss: 79162.2734\n",
      "Graph 2, Epoch 4: Train Loss: 120196.5156, Test Loss: 79274.7734\n",
      "Graph 2, Epoch 5: Train Loss: 121924.3516, Test Loss: 79440.1875\n",
      "Graph 2, Epoch 6: Train Loss: 141379.5312, Test Loss: 79710.5312\n",
      "Graph 2, Epoch 7: Train Loss: 139409.4531, Test Loss: 80000.9609\n",
      "Graph 2, Epoch 8: Train Loss: 126385.7109, Test Loss: 80182.5547\n",
      "Graph 2, Epoch 9: Train Loss: 124179.5312, Test Loss: 80305.3281\n",
      "Graph 2, Epoch 10: Train Loss: 135814.5469, Test Loss: 80486.2891\n",
      "Graph 2, Epoch 11: Train Loss: 120328.3828, Test Loss: 80592.3438\n",
      "Graph 2, Epoch 12: Train Loss: 128657.0156, Test Loss: 80565.8438\n",
      "Graph 2, Epoch 13: Train Loss: 125934.1562, Test Loss: 80513.8281\n",
      "Graph 2, Epoch 14: Train Loss: 148765.9844, Test Loss: 80558.4062\n",
      "Graph 2, Epoch 15: Train Loss: 117206.6641, Test Loss: 80417.3281\n",
      "Graph 2, Epoch 16: Train Loss: 140239.6094, Test Loss: 80295.0234\n",
      "Graph 2, Epoch 17: Train Loss: 127255.7500, Test Loss: 80151.8047\n",
      "Graph 2, Epoch 18: Train Loss: 134175.5000, Test Loss: 80019.2266\n",
      "Graph 2, Epoch 19: Train Loss: 126240.5938, Test Loss: 79889.0156\n",
      "Graph 2, Epoch 20: Train Loss: 125660.5156, Test Loss: 79769.2188\n",
      "Graph 2, Epoch 21: Train Loss: 125665.1641, Test Loss: 79560.7500\n",
      "Graph 2, Epoch 22: Train Loss: 132629.3125, Test Loss: 79401.4141\n",
      "Graph 2, Epoch 23: Train Loss: 118069.3516, Test Loss: 79181.8203\n",
      "Graph 2, Epoch 24: Train Loss: 130059.3047, Test Loss: 78998.7891\n",
      "Graph 2, Epoch 25: Train Loss: 133775.2500, Test Loss: 78889.2500\n",
      "Graph 2, Epoch 26: Train Loss: 132104.0938, Test Loss: 78941.8750\n",
      "Graph 2, Epoch 27: Train Loss: 129876.3047, Test Loss: 78981.8281\n",
      "Graph 2, Epoch 28: Train Loss: 120954.5938, Test Loss: 79004.9766\n",
      "Graph 2, Epoch 29: Train Loss: 127565.7422, Test Loss: 79065.9141\n",
      "Graph 2, Epoch 30: Train Loss: 133536.3750, Test Loss: 79196.6562\n",
      "Graph 2, Epoch 31: Train Loss: 130796.0469, Test Loss: 79358.3281\n",
      "Graph 2, Epoch 32: Train Loss: 132970.8281, Test Loss: 79621.0625\n",
      "Graph 2, Epoch 33: Train Loss: 125886.4531, Test Loss: 79848.0078\n",
      "Graph 2, Epoch 34: Train Loss: 133003.2344, Test Loss: 80138.1016\n",
      "Graph 2, Epoch 35: Train Loss: 125678.7891, Test Loss: 80382.5781\n",
      "Graph 2, Epoch 36: Train Loss: 131496.9062, Test Loss: 80588.9062\n",
      "Graph 2, Epoch 37: Train Loss: 125620.0000, Test Loss: 80633.1797\n",
      "Graph 2, Epoch 38: Train Loss: 123491.8750, Test Loss: 80605.2422\n",
      "Graph 2, Epoch 39: Train Loss: 131373.6250, Test Loss: 80503.3438\n",
      "Graph 2, Epoch 40: Train Loss: 126436.6172, Test Loss: 80208.9375\n",
      "Graph 2, Epoch 41: Train Loss: 137843.9375, Test Loss: 79928.7891\n",
      "Graph 2, Epoch 42: Train Loss: 131683.6875, Test Loss: 79729.0234\n",
      "Graph 2, Epoch 43: Train Loss: 130508.7188, Test Loss: 79570.5234\n",
      "Graph 2, Epoch 44: Train Loss: 125156.6172, Test Loss: 79400.8984\n",
      "Graph 2, Epoch 45: Train Loss: 130886.7031, Test Loss: 79306.2344\n",
      "Graph 2, Epoch 46: Train Loss: 127230.0859, Test Loss: 79201.9062\n",
      "Graph 2, Epoch 47: Train Loss: 127136.8828, Test Loss: 79135.1094\n",
      "Graph 2, Epoch 48: Train Loss: 114366.1406, Test Loss: 79058.4219\n",
      "Graph 2, Epoch 49: Train Loss: 132512.2500, Test Loss: 79107.5547\n",
      "Graph 2, Epoch 50: Train Loss: 125559.8281, Test Loss: 79232.5391\n",
      "Graph 2, Epoch 51: Train Loss: 137049.3594, Test Loss: 79377.0859\n",
      "Graph 2, Epoch 52: Train Loss: 137871.1875, Test Loss: 79446.2344\n",
      "Graph 2, Epoch 53: Train Loss: 128537.6094, Test Loss: 79578.0703\n",
      "Graph 2, Epoch 54: Train Loss: 132653.7031, Test Loss: 79686.0781\n",
      "Graph 2, Epoch 55: Train Loss: 135393.2812, Test Loss: 79865.8906\n",
      "Graph 2, Epoch 56: Train Loss: 134219.4688, Test Loss: 80009.8516\n",
      "Graph 2, Epoch 57: Train Loss: 126885.9219, Test Loss: 80138.0312\n",
      "Graph 2, Epoch 58: Train Loss: 134452.5156, Test Loss: 80220.8438\n",
      "Graph 2, Epoch 59: Train Loss: 125364.7031, Test Loss: 80236.4453\n",
      "Graph 2, Epoch 60: Train Loss: 135976.8281, Test Loss: 80270.2500\n",
      "Graph 2, Epoch 61: Train Loss: 122695.8516, Test Loss: 80207.5859\n",
      "Graph 2, Epoch 62: Train Loss: 130972.3750, Test Loss: 80171.7812\n",
      "Graph 2, Epoch 63: Train Loss: 130819.1953, Test Loss: 80133.6172\n",
      "Graph 2, Epoch 64: Train Loss: 125358.7578, Test Loss: 80156.3984\n",
      "Graph 2, Epoch 65: Train Loss: 146883.5781, Test Loss: 80288.2266\n",
      "Graph 2, Epoch 66: Train Loss: 122874.7812, Test Loss: 80355.1172\n",
      "Graph 2, Epoch 67: Train Loss: 127071.3750, Test Loss: 80331.6562\n",
      "Graph 2, Epoch 68: Train Loss: 129024.5391, Test Loss: 80227.4297\n",
      "Graph 2, Epoch 69: Train Loss: 129574.8125, Test Loss: 80114.5859\n",
      "Graph 2, Epoch 70: Train Loss: 129287.8047, Test Loss: 80064.5703\n",
      "Graph 2, Epoch 71: Train Loss: 143503.5938, Test Loss: 79960.1094\n",
      "Graph 2, Epoch 72: Train Loss: 120677.4609, Test Loss: 79814.9141\n",
      "Graph 2, Epoch 73: Train Loss: 129769.2344, Test Loss: 79605.8516\n",
      "Graph 2, Epoch 74: Train Loss: 124358.2266, Test Loss: 79394.7578\n",
      "Graph 2, Epoch 75: Train Loss: 124260.1328, Test Loss: 79130.7500\n",
      "Graph 2, Epoch 76: Train Loss: 130271.7891, Test Loss: 79016.8594\n",
      "Graph 2, Epoch 77: Train Loss: 133639.7969, Test Loss: 78984.6953\n",
      "Graph 2, Epoch 78: Train Loss: 125461.0703, Test Loss: 78965.7578\n",
      "Graph 2, Epoch 79: Train Loss: 131384.2344, Test Loss: 79070.1094\n",
      "Graph 2, Epoch 80: Train Loss: 126521.8672, Test Loss: 79190.8906\n",
      "Graph 2, Epoch 81: Train Loss: 129249.9297, Test Loss: 79390.3672\n",
      "Graph 2, Epoch 82: Train Loss: 130904.4062, Test Loss: 79603.7656\n",
      "Graph 2, Epoch 83: Train Loss: 119100.1406, Test Loss: 79758.8516\n",
      "Graph 2, Epoch 84: Train Loss: 121387.7578, Test Loss: 79816.5781\n",
      "Graph 2, Epoch 85: Train Loss: 132020.2656, Test Loss: 79828.8125\n",
      "Graph 2, Epoch 86: Train Loss: 128216.5391, Test Loss: 79786.3281\n",
      "Graph 2, Epoch 87: Train Loss: 128746.8594, Test Loss: 79754.2891\n",
      "Graph 2, Epoch 88: Train Loss: 116084.2656, Test Loss: 79567.8281\n",
      "Graph 2, Epoch 89: Train Loss: 136109.5781, Test Loss: 79500.9219\n",
      "Graph 2, Epoch 90: Train Loss: 123627.2109, Test Loss: 79388.2734\n",
      "Graph 2, Epoch 91: Train Loss: 125783.6875, Test Loss: 79230.1406\n",
      "Graph 2, Epoch 92: Train Loss: 131163.8438, Test Loss: 79093.3438\n",
      "Graph 2, Epoch 93: Train Loss: 128408.0000, Test Loss: 79066.2422\n",
      "Graph 2, Epoch 94: Train Loss: 135522.1875, Test Loss: 79117.7500\n",
      "Graph 2, Epoch 95: Train Loss: 122318.8047, Test Loss: 79012.3047\n",
      "Graph 2, Epoch 96: Train Loss: 119538.8516, Test Loss: 78986.5234\n",
      "Graph 2, Epoch 97: Train Loss: 114820.1016, Test Loss: 78929.6797\n",
      "Graph 2, Epoch 98: Train Loss: 130886.2969, Test Loss: 79014.3516\n",
      "Graph 2, Epoch 99: Train Loss: 132524.3281, Test Loss: 79048.0312\n",
      "Graph 2, Epoch 100: Train Loss: 127612.7109, Test Loss: 79063.8125\n",
      "Graph 3, Epoch 1: Train Loss: 129258.8828, Test Loss: 91296.5469\n",
      "Graph 3, Epoch 2: Train Loss: 131946.6719, Test Loss: 91655.1562\n",
      "Graph 3, Epoch 3: Train Loss: 118429.4297, Test Loss: 92109.4766\n",
      "Graph 3, Epoch 4: Train Loss: 118604.6172, Test Loss: 92491.7031\n",
      "Graph 3, Epoch 5: Train Loss: 122404.4844, Test Loss: 92771.1875\n",
      "Graph 3, Epoch 6: Train Loss: 142625.1719, Test Loss: 93257.4141\n",
      "Graph 3, Epoch 7: Train Loss: 140072.2188, Test Loss: 93613.2891\n",
      "Graph 3, Epoch 8: Train Loss: 118951.1484, Test Loss: 93916.9219\n",
      "Graph 3, Epoch 9: Train Loss: 122942.2734, Test Loss: 94174.2656\n",
      "Graph 3, Epoch 10: Train Loss: 127715.1562, Test Loss: 94304.3359\n",
      "Graph 3, Epoch 11: Train Loss: 114018.2891, Test Loss: 94126.4766\n",
      "Graph 3, Epoch 12: Train Loss: 127311.4688, Test Loss: 93864.4531\n",
      "Graph 3, Epoch 13: Train Loss: 123150.9844, Test Loss: 93614.7891\n",
      "Graph 3, Epoch 14: Train Loss: 132450.5938, Test Loss: 93372.7812\n",
      "Graph 3, Epoch 15: Train Loss: 126224.3984, Test Loss: 93172.6172\n",
      "Graph 3, Epoch 16: Train Loss: 118486.4766, Test Loss: 92788.9844\n",
      "Graph 3, Epoch 17: Train Loss: 122452.3672, Test Loss: 92557.3359\n",
      "Graph 3, Epoch 18: Train Loss: 126796.2109, Test Loss: 92382.1172\n",
      "Graph 3, Epoch 19: Train Loss: 122415.3984, Test Loss: 92241.0938\n",
      "Graph 3, Epoch 20: Train Loss: 131636.1406, Test Loss: 92271.6484\n",
      "Graph 3, Epoch 21: Train Loss: 130992.4453, Test Loss: 92295.7891\n",
      "Graph 3, Epoch 22: Train Loss: 123208.5078, Test Loss: 92555.2969\n",
      "Graph 3, Epoch 23: Train Loss: 125144.6953, Test Loss: 92634.5078\n",
      "Graph 3, Epoch 24: Train Loss: 128812.8594, Test Loss: 93057.9922\n",
      "Graph 3, Epoch 25: Train Loss: 120837.7344, Test Loss: 93367.7109\n",
      "Graph 3, Epoch 26: Train Loss: 132716.8906, Test Loss: 93824.8125\n",
      "Graph 3, Epoch 27: Train Loss: 123184.5312, Test Loss: 94154.5312\n",
      "Graph 3, Epoch 28: Train Loss: 122348.8359, Test Loss: 94476.3516\n",
      "Graph 3, Epoch 29: Train Loss: 117350.1641, Test Loss: 94644.1250\n",
      "Graph 3, Epoch 30: Train Loss: 126468.8984, Test Loss: 94768.3672\n",
      "Graph 3, Epoch 31: Train Loss: 131073.1719, Test Loss: 94908.4453\n",
      "Graph 3, Epoch 32: Train Loss: 128334.0078, Test Loss: 94791.1875\n",
      "Graph 3, Epoch 33: Train Loss: 128758.6562, Test Loss: 94602.9609\n",
      "Graph 3, Epoch 34: Train Loss: 124850.6719, Test Loss: 94380.5156\n",
      "Graph 3, Epoch 35: Train Loss: 125028.9453, Test Loss: 93974.5547\n",
      "Graph 3, Epoch 36: Train Loss: 138785.2031, Test Loss: 93536.0391\n",
      "Graph 3, Epoch 37: Train Loss: 120906.6797, Test Loss: 93012.0625\n",
      "Graph 3, Epoch 38: Train Loss: 134128.4219, Test Loss: 92707.0000\n",
      "Graph 3, Epoch 39: Train Loss: 123445.2734, Test Loss: 92453.2891\n",
      "Graph 3, Epoch 40: Train Loss: 125321.7266, Test Loss: 92145.8125\n",
      "Graph 3, Epoch 41: Train Loss: 127034.5391, Test Loss: 91866.1719\n",
      "Graph 3, Epoch 42: Train Loss: 130604.9375, Test Loss: 91939.9141\n",
      "Graph 3, Epoch 43: Train Loss: 125701.9922, Test Loss: 92026.7578\n",
      "Graph 3, Epoch 44: Train Loss: 120263.2109, Test Loss: 92235.8438\n",
      "Graph 3, Epoch 45: Train Loss: 126810.7578, Test Loss: 92547.0078\n",
      "Graph 3, Epoch 46: Train Loss: 121208.4766, Test Loss: 92783.6797\n",
      "Graph 3, Epoch 47: Train Loss: 123874.2422, Test Loss: 92933.9844\n",
      "Graph 3, Epoch 48: Train Loss: 116537.9141, Test Loss: 92960.0078\n",
      "Graph 3, Epoch 49: Train Loss: 131936.5312, Test Loss: 93082.3203\n",
      "Graph 3, Epoch 50: Train Loss: 120776.1406, Test Loss: 93150.9219\n",
      "Graph 3, Epoch 51: Train Loss: 123530.6953, Test Loss: 93280.9375\n",
      "Graph 3, Epoch 52: Train Loss: 122152.8828, Test Loss: 93639.2969\n",
      "Graph 3, Epoch 53: Train Loss: 135613.3750, Test Loss: 93992.5156\n",
      "Graph 3, Epoch 54: Train Loss: 114101.0703, Test Loss: 94091.9844\n",
      "Graph 3, Epoch 55: Train Loss: 119843.1719, Test Loss: 94120.9297\n",
      "Graph 3, Epoch 56: Train Loss: 118238.8750, Test Loss: 94196.9531\n",
      "Graph 3, Epoch 57: Train Loss: 130016.8828, Test Loss: 94235.3594\n",
      "Graph 3, Epoch 58: Train Loss: 118395.7266, Test Loss: 94080.9062\n",
      "Graph 3, Epoch 59: Train Loss: 134863.0938, Test Loss: 94089.2969\n",
      "Graph 3, Epoch 60: Train Loss: 129459.4531, Test Loss: 94086.0156\n",
      "Graph 3, Epoch 61: Train Loss: 124730.3828, Test Loss: 93959.1719\n",
      "Graph 3, Epoch 62: Train Loss: 122352.9062, Test Loss: 93692.8828\n",
      "Graph 3, Epoch 63: Train Loss: 126283.3984, Test Loss: 93471.2656\n",
      "Graph 3, Epoch 64: Train Loss: 115830.9922, Test Loss: 92991.5469\n",
      "Graph 3, Epoch 65: Train Loss: 131211.6406, Test Loss: 92552.7891\n",
      "Graph 3, Epoch 66: Train Loss: 133042.3906, Test Loss: 92126.0469\n",
      "Graph 3, Epoch 67: Train Loss: 131368.6875, Test Loss: 91844.7344\n",
      "Graph 3, Epoch 68: Train Loss: 123432.4922, Test Loss: 91860.2422\n",
      "Graph 3, Epoch 69: Train Loss: 127390.7031, Test Loss: 91986.2734\n",
      "Graph 3, Epoch 70: Train Loss: 131878.4688, Test Loss: 92159.9531\n",
      "Graph 3, Epoch 71: Train Loss: 125746.0078, Test Loss: 92626.0859\n",
      "Graph 3, Epoch 72: Train Loss: 133618.8594, Test Loss: 93150.2734\n",
      "Graph 3, Epoch 73: Train Loss: 131482.0625, Test Loss: 93545.7344\n",
      "Graph 3, Epoch 74: Train Loss: 126393.8594, Test Loss: 93758.6719\n",
      "Graph 3, Epoch 75: Train Loss: 137430.3281, Test Loss: 93910.8828\n",
      "Graph 3, Epoch 76: Train Loss: 121895.3828, Test Loss: 93931.1016\n",
      "Graph 3, Epoch 77: Train Loss: 127249.0312, Test Loss: 94122.2422\n",
      "Graph 3, Epoch 78: Train Loss: 124586.9688, Test Loss: 94090.3828\n",
      "Graph 3, Epoch 79: Train Loss: 127687.1875, Test Loss: 93827.1094\n",
      "Graph 3, Epoch 80: Train Loss: 111950.9531, Test Loss: 93340.7969\n",
      "Graph 3, Epoch 81: Train Loss: 124642.0547, Test Loss: 92935.3750\n",
      "Graph 3, Epoch 82: Train Loss: 125051.4844, Test Loss: 92822.3828\n",
      "Graph 3, Epoch 83: Train Loss: 121943.2422, Test Loss: 92583.3125\n",
      "Graph 3, Epoch 84: Train Loss: 138963.1094, Test Loss: 92497.8438\n",
      "Graph 3, Epoch 85: Train Loss: 127459.1328, Test Loss: 92528.2969\n",
      "Graph 3, Epoch 86: Train Loss: 125827.5938, Test Loss: 92542.5781\n",
      "Graph 3, Epoch 87: Train Loss: 125405.2266, Test Loss: 92602.5156\n",
      "Graph 3, Epoch 88: Train Loss: 122527.0781, Test Loss: 93041.2656\n",
      "Graph 3, Epoch 89: Train Loss: 114829.9375, Test Loss: 93331.6016\n",
      "Graph 3, Epoch 90: Train Loss: 128964.4219, Test Loss: 93680.7734\n",
      "Graph 3, Epoch 91: Train Loss: 132411.4375, Test Loss: 93951.5938\n",
      "Graph 3, Epoch 92: Train Loss: 135274.0625, Test Loss: 93910.0938\n",
      "Graph 3, Epoch 93: Train Loss: 116519.6562, Test Loss: 93738.8672\n",
      "Graph 3, Epoch 94: Train Loss: 118079.7656, Test Loss: 93592.6406\n",
      "Graph 3, Epoch 95: Train Loss: 116977.9453, Test Loss: 93439.8984\n",
      "Graph 3, Epoch 96: Train Loss: 130364.8984, Test Loss: 93517.3984\n",
      "Graph 3, Epoch 97: Train Loss: 120237.4297, Test Loss: 93450.4297\n",
      "Graph 3, Epoch 98: Train Loss: 120012.6250, Test Loss: 93490.8203\n",
      "Graph 3, Epoch 99: Train Loss: 129275.6250, Test Loss: 93546.9375\n",
      "Graph 3, Epoch 100: Train Loss: 121907.6641, Test Loss: 93537.1250\n"
     ]
    }
   ],
   "source": [
    "train_losses = []\n",
    "test_losses = []\n",
    "\n",
    "for idx, data in enumerate(graph_data_objects):\n",
    "    data = data.to(device)  # Move data to the appropriate device\n",
    "    \n",
    "    num_labeled_nodes = num_labeled_nodes_list[idx]  # Retrieve the number of labeled nodes for the current graph\n",
    "    num_total_nodes = data.num_nodes  # Total number of nodes in the current graph\n",
    "\n",
    "    # Placeholder value for unlabeled nodes - choose based on your task\n",
    "    placeholder_value = 0\n",
    "\n",
    "    # Extend data.y with the placeholder value for unlabeled nodes\n",
    "    if data.y.size(0) < num_total_nodes:\n",
    "        # Calculate the number of unlabeled nodes\n",
    "        num_unlabeled_nodes = num_total_nodes - data.y.size(0)\n",
    "        \n",
    "        # Create a tensor of placeholders for unlabeled nodes\n",
    "        placeholders = torch.full((num_unlabeled_nodes,), placeholder_value, dtype=data.y.dtype)\n",
    "        \n",
    "        # Extend data.y\n",
    "        data.y = torch.cat((data.y, placeholders))\n",
    "\n",
    "    # Generate initial masks for labeled nodes only\n",
    "    train_mask = torch.zeros(num_labeled_nodes, dtype=torch.bool)\n",
    "    test_mask = torch.zeros(num_labeled_nodes, dtype=torch.bool)\n",
    "\n",
    "    # Randomly permute indices of labeled nodes to split into training and testing\n",
    "    indices = torch.randperm(num_labeled_nodes)\n",
    "    num_train = int(num_labeled_nodes * 0.8)  # Split, e.g., 80% for training\n",
    "\n",
    "    # Set training and testing masks for labeled nodes\n",
    "    train_mask[indices[:num_train]] = True\n",
    "    test_mask[indices[num_train:]] = True\n",
    "\n",
    "    # Extend masks to cover all nodes\n",
    "    # Note: For training, include unlabeled nodes; for testing, focus only on labeled nodes\n",
    "    extended_train_mask = torch.cat((train_mask, torch.ones(num_total_nodes - num_labeled_nodes, dtype=torch.bool)))\n",
    "    extended_test_mask = torch.cat((test_mask, torch.zeros(num_total_nodes - num_labeled_nodes, dtype=torch.bool)))\n",
    "\n",
    "    # Training and testing loop\n",
    "    for epoch in range(100):  # Adjust the number of epochs as needed\n",
    "        train_loss = train(model, optimizer, data, extended_train_mask)  # Assuming extended masks are used\n",
    "        test_loss = test(model, data, extended_test_mask)\n",
    "        \n",
    "        train_losses.append(train_loss)\n",
    "        test_losses.append(test_loss)\n",
    "        \n",
    "        print(f'Graph {idx+1}, Epoch {epoch+1}: Train Loss: {train_loss:.4f}, Test Loss: {test_loss:.4f}')"
   ]
  },
  {
   "cell_type": "markdown",
   "id": "7b1890f5-268a-4465-a79b-57ca607a306d",
   "metadata": {},
   "source": [
    "## **Training and Test Set**"
   ]
  },
  {
   "cell_type": "markdown",
   "id": "a0ce0a51-056e-44b4-85f4-619633b00314",
   "metadata": {},
   "source": [
    "The section below prepares data for training and testing in a graph-based context where some nodes are labeled and others are not. The purpose of the mask is to identify and only include the labeled nodes in training and testing."
   ]
  },
  {
   "cell_type": "markdown",
   "id": "7f5fb6bb-ff38-447f-9973-1e0b79999228",
   "metadata": {},
   "source": [
    "1. Split the labeled nodes into training and test sets\n",
    "2. Creates masks to identify which nodes belong to each set."
   ]
  },
  {
   "cell_type": "code",
   "execution_count": 15,
   "id": "bc300b96-bb13-4f45-ab40-c7e710869e0e",
   "metadata": {},
   "outputs": [
    {
     "data": {
      "text/plain": [
       "'\\n# Settings for splitting labeled nodes\\nnum_labeled_nodes = 453  # Number of labeled nodes\\ntrain_proportion = 0.8   # Set the percentage of label nodes used for training model\\nnum_train = int(num_labeled_nodes * train_proportion) # Calculate num of nodes used for training\\n\\n# Generate masks\\ntrain_mask = torch.zeros(num_labeled_nodes, dtype=torch.bool) # Two boolean tensors (arrays) are created with the same length as the number of labeled nodes, initially filled with False\\ntest_mask = torch.zeros(num_labeled_nodes, dtype=torch.bool)\\nindices = torch.randperm(num_labeled_nodes) # Generates a random permutation of indices ranging from 0 to the number of labeled nodes minus one\\ntrain_mask[indices[:num_train]] = True # Mask set to true for indices corresponding to the training set.\\ntest_mask[indices[num_train:]] = True\\n\\n# Extend masks to cover all nodes, assuming unlabeled nodes are not used for training/testing\\nextended_train_mask = torch.cat((train_mask, torch.zeros(data.num_nodes - num_labeled_nodes, dtype=torch.bool)))\\nextended_test_mask = torch.cat((test_mask, torch.zeros(data.num_nodes - num_labeled_nodes, dtype=torch.bool)))\\n\\n# Assign data object\\ndata.train_mask = extended_train_mask\\ndata.test_mask = extended_test_mask\\n'"
      ]
     },
     "execution_count": 15,
     "metadata": {},
     "output_type": "execute_result"
    }
   ],
   "source": [
    "# Superseded\n",
    "\n",
    "'''\n",
    "# Settings for splitting labeled nodes\n",
    "num_labeled_nodes = 453  # Number of labeled nodes\n",
    "train_proportion = 0.8   # Set the percentage of label nodes used for training model\n",
    "num_train = int(num_labeled_nodes * train_proportion) # Calculate num of nodes used for training\n",
    "\n",
    "# Generate masks\n",
    "train_mask = torch.zeros(num_labeled_nodes, dtype=torch.bool) # Two boolean tensors (arrays) are created with the same length as the number of labeled nodes, initially filled with False\n",
    "test_mask = torch.zeros(num_labeled_nodes, dtype=torch.bool)\n",
    "indices = torch.randperm(num_labeled_nodes) # Generates a random permutation of indices ranging from 0 to the number of labeled nodes minus one\n",
    "train_mask[indices[:num_train]] = True # Mask set to true for indices corresponding to the training set.\n",
    "test_mask[indices[num_train:]] = True\n",
    "\n",
    "# Extend masks to cover all nodes, assuming unlabeled nodes are not used for training/testing\n",
    "extended_train_mask = torch.cat((train_mask, torch.zeros(data.num_nodes - num_labeled_nodes, dtype=torch.bool)))\n",
    "extended_test_mask = torch.cat((test_mask, torch.zeros(data.num_nodes - num_labeled_nodes, dtype=torch.bool)))\n",
    "\n",
    "# Assign data object\n",
    "data.train_mask = extended_train_mask\n",
    "data.test_mask = extended_test_mask\n",
    "'''"
   ]
  },
  {
   "cell_type": "markdown",
   "id": "4867b852-28c6-4073-abf5-bcc9a80cecb1",
   "metadata": {},
   "source": [
    "## **Execute the Training Loop, Calculate Loss**"
   ]
  },
  {
   "cell_type": "markdown",
   "id": "8b2a1162-272c-4ce3-bb99-4488b1c9bdaa",
   "metadata": {},
   "source": [
    "This section executes the training loop."
   ]
  },
  {
   "cell_type": "code",
   "execution_count": 16,
   "id": "5dc21915-4be4-4dee-9437-81ce98515561",
   "metadata": {},
   "outputs": [
    {
     "data": {
      "text/plain": [
       "\"\\nnum_epochs = 100  # Set number of epochs for training\\n\\ntrain_losses = []  # To store training loss per epoch\\ntest_losses = []  # To store test loss per epoch\\n\\nfor epoch in range(num_epochs):\\n    train_loss = train()  # Train the model and get the training loss\\n    test_loss = test()  # Test the model and get the test loss\\n    \\n    # Print the losses to monitor the progress\\n    print(f'Epoch: {epoch+1}/{num_epochs}, Train Loss: {train_loss:.2f}, Test Loss: {test_loss:.2f}')\\n    \\n    # Append losses for visualization/analysis\\n    train_losses.append(train_loss)\\n    test_losses.append(test_loss)\\n\""
      ]
     },
     "execution_count": 16,
     "metadata": {},
     "output_type": "execute_result"
    }
   ],
   "source": [
    "#superseded\n",
    "'''\n",
    "num_epochs = 100  # Set number of epochs for training\n",
    "\n",
    "train_losses = []  # To store training loss per epoch\n",
    "test_losses = []  # To store test loss per epoch\n",
    "\n",
    "for epoch in range(num_epochs):\n",
    "    train_loss = train()  # Train the model and get the training loss\n",
    "    test_loss = test()  # Test the model and get the test loss\n",
    "    \n",
    "    # Print the losses to monitor the progress\n",
    "    print(f'Epoch: {epoch+1}/{num_epochs}, Train Loss: {train_loss:.2f}, Test Loss: {test_loss:.2f}')\n",
    "    \n",
    "    # Append losses for visualization/analysis\n",
    "    train_losses.append(train_loss)\n",
    "    test_losses.append(test_loss)\n",
    "'''"
   ]
  },
  {
   "cell_type": "markdown",
   "id": "10c4af52-6dca-4eb3-9a5b-a5901ab6fb5f",
   "metadata": {},
   "source": [
    "## **Evaluate the Model**"
   ]
  },
  {
   "cell_type": "markdown",
   "id": "d1ae8381-f8c9-40e7-ba71-20e7b3b9111a",
   "metadata": {},
   "source": [
    "Test the trained model onto the test dataset."
   ]
  },
  {
   "cell_type": "code",
   "execution_count": 17,
   "id": "319109de-a3f6-452a-9df9-ac883c901cdf",
   "metadata": {},
   "outputs": [
    {
     "name": "stdout",
     "output_type": "stream",
     "text": [
      "Test Loss: 93537.12\n"
     ]
    }
   ],
   "source": [
    "# Assuming you have the necessary variables defined\n",
    "test_loss = test(model, data, test_mask)\n",
    "print(f'Test Loss: {test_loss:.2f}')"
   ]
  },
  {
   "cell_type": "markdown",
   "id": "984e11e9-1b08-4265-8e4a-5e47d8e35699",
   "metadata": {},
   "source": [
    "## **Visualise the Loss Function**"
   ]
  },
  {
   "cell_type": "code",
   "execution_count": 18,
   "id": "709b2d8d-930b-4347-a588-202fbc54cffc",
   "metadata": {},
   "outputs": [
    {
     "data": {
      "image/png": "[encoded data removed]",
      "text/plain": [
       "<Figure size 640x480 with 1 Axes>"
      ]
     },
     "metadata": {},
     "output_type": "display_data"
    }
   ],
   "source": [
    "import matplotlib.pyplot as plt\n",
    "\n",
    "plt.plot(train_losses, label='Training Loss')\n",
    "plt.plot(test_losses, label='Test Loss')\n",
    "plt.xlabel('Epoch')\n",
    "plt.ylabel('Loss')\n",
    "plt.title('Training and Test Loss Over Epochs')\n",
    "plt.legend()\n",
    "plt.show()\n"
   ]
  },
  {
   "cell_type": "markdown",
   "id": "ca1bdf9f-16fc-4d30-8003-2f21f37b8203",
   "metadata": {},
   "source": [
    "## **Save the Model**"
   ]
  },
  {
   "cell_type": "code",
   "execution_count": 19,
   "id": "ab5a8fc3-ccc4-49fa-811c-981455d24291",
   "metadata": {},
   "outputs": [],
   "source": [
    "# Define the file path variable using an f-string if you need dynamic components\n",
    "file_path = rf'data\\1_pytorch_model\\model.pth'  \n",
    "\n",
    "# Save the model\n",
    "torch.save(model.state_dict(), file_path)"
   ]
  }
 ],
 "metadata": {
  "kernelspec": {
   "display_name": "Python 3 (ipykernel)",
   "language": "python",
   "name": "python3"
  },
  "language_info": {
   "codemirror_mode": {
    "name": "ipython",
    "version": 3
   },
   "file_extension": ".py",
   "mimetype": "text/x-python",
   "name": "python",
   "nbconvert_exporter": "python",
   "pygments_lexer": "ipython3",
   "version": "3.10.6"
  }
 },
 "nbformat": 4,
 "nbformat_minor": 5
}
