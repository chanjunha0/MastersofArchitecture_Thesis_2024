{
 "cells": [
  {
   "cell_type": "markdown",
   "id": "42e25500-4cef-42ff-b8c0-69805ae327d7",
   "metadata": {},
   "source": [
    "## **Notebook Description**"
   ]
  },
  {
   "cell_type": "markdown",
   "id": "5a14a73f-c9b1-4f79-abbd-fef7da8f2301",
   "metadata": {},
   "source": [
    "This notebook: \n",
    "1. Trains the model on the training data.\n",
    "2. Test against the test data."
   ]
  },
  {
   "cell_type": "markdown",
   "id": "c7eafdc0-571d-4052-84d4-dc4f76de3625",
   "metadata": {},
   "source": [
    "## **Import Libraries**"
   ]
  },
  {
   "cell_type": "code",
   "execution_count": 1,
   "id": "9bfe50d6-1fc3-407a-a875-93b1d3114832",
   "metadata": {},
   "outputs": [],
   "source": [
    "import os\n",
    "import torch\n",
    "import pandas as pd\n",
    "from torch_geometric.data import Data, DataLoader\n",
    "from torch_geometric.nn import GCNConv\n",
    "import torch.nn.functional as F\n",
    "from math import sqrt\n",
    "import matplotlib.pyplot as plt"
   ]
  },
  {
   "cell_type": "markdown",
   "id": "bb88d39d-cd32-45d0-b913-b25b95a04f3b",
   "metadata": {},
   "source": [
    "## **Set Folder Paths**"
   ]
  },
  {
   "cell_type": "code",
   "execution_count": 2,
   "id": "0d973479-8cf6-489e-b204-9fc9a98d2536",
   "metadata": {},
   "outputs": [],
   "source": [
    "# Set folder path for pytorch data objects\n",
    "folder_path = r'data\\torch_data_object_training'"
   ]
  },
  {
   "cell_type": "code",
   "execution_count": 3,
   "id": "a9ba4683-3e17-49ac-803a-e4c93afb0942",
   "metadata": {},
   "outputs": [],
   "source": [
    "# Path to the CSV containing labeled nodes info\n",
    "labels_info_path = r'data\\torch_data_object_training\\labels_info.csv' "
   ]
  },
  {
   "cell_type": "code",
   "execution_count": 4,
   "id": "bbd32fef-2a35-4941-8ba9-30d641edd510",
   "metadata": {},
   "outputs": [],
   "source": [
    "model_path = r'data\\1_pytorch_model\\model.pth' "
   ]
  },
  {
   "cell_type": "markdown",
   "id": "b9b01342-5f71-44a1-81aa-ed68a181b191",
   "metadata": {},
   "source": [
    "## **Functions**"
   ]
  },
  {
   "cell_type": "markdown",
   "id": "61fbe0cd-c989-43f5-800a-b6ef5896f8f3",
   "metadata": {},
   "source": [
    "Define a function to load all graph data objects from a folder. Each graph is assumed to be saved as a separate file."
   ]
  },
  {
   "cell_type": "code",
   "execution_count": 5,
   "id": "6e008ed4-32f0-450f-a6fa-8adc35ccb695",
   "metadata": {},
   "outputs": [],
   "source": [
    "# Function to load all graph data objects from a folder\n",
    "def load_graph_data_objects(folder_path, start_run=None, end_run=None):\n",
    "    graph_data_objects = []\n",
    "    for file_name in sorted(os.listdir(folder_path)):\n",
    "        if file_name.endswith('.pt'):\n",
    "            run_number = int(file_name.split('_')[1].split('.')[0])  # Assumes filename format is \"run_X.pt\"\n",
    "            if start_run is not None and run_number < start_run:\n",
    "                continue\n",
    "            if end_run is not None and run_number > end_run:\n",
    "                break\n",
    "            graph_path = os.path.join(folder_path, file_name)\n",
    "            graph_data = torch.load(graph_path)\n",
    "            if isinstance(graph_data, Data):\n",
    "                graph_data_objects.append(graph_data)\n",
    "    return graph_data_objects"
   ]
  },
  {
   "cell_type": "code",
   "execution_count": 6,
   "id": "7bf08d48-f6f9-4952-894a-7a174481e4a5",
   "metadata": {},
   "outputs": [],
   "source": [
    "# Function to load or initialize the model\n",
    "def load_or_initialize_model(model_path, model_class, *model_args, **model_kwargs):\n",
    "    if os.path.exists(model_path):\n",
    "        model = model_class(*model_args, **model_kwargs)\n",
    "        model.load_state_dict(torch.load(model_path))\n",
    "        print(\"Loaded previously trained model.\")\n",
    "    else:\n",
    "        model = model_class(*model_args, **model_kwargs)\n",
    "        print(\"Initialized new model.\")\n",
    "    return model"
   ]
  },
  {
   "cell_type": "code",
   "execution_count": 7,
   "id": "91fbe23d-58e2-480e-87ea-274794b6b0ac",
   "metadata": {},
   "outputs": [],
   "source": [
    "# Function to load the number of labeled nodes for each dataset from a CSV\n",
    "def load_num_labeled_nodes(labels_info_path):\n",
    "    labels_info = pd.read_csv(labels_info_path)\n",
    "    return labels_info['num_labeled_nodes'].tolist()"
   ]
  },
  {
   "cell_type": "code",
   "execution_count": 8,
   "id": "10ac217e-5059-473b-9a55-1b749fd4a26a",
   "metadata": {},
   "outputs": [],
   "source": [
    "# Function to Count Graph Data Objects in a Folder\n",
    "def count_graph_data_objects(folder_path):\n",
    "    count = 0\n",
    "    for file_name in os.listdir(folder_path):\n",
    "        if file_name.endswith('.pt'):  # Assuming saved PyTorch tensor files\n",
    "            count += 1\n",
    "    return count"
   ]
  },
  {
   "cell_type": "code",
   "execution_count": 9,
   "id": "984eddce-8868-4305-a155-408582dfcd25",
   "metadata": {},
   "outputs": [],
   "source": [
    "def train(model, optimizer, data, mask):\n",
    "    model.train()\n",
    "    optimizer.zero_grad()\n",
    "    \n",
    "    out = model(data)  # Model outputs for all nodes\n",
    "    out = out.squeeze()\n",
    "    \n",
    "    # Mask to identify non-placeholder labels\n",
    "    # Adjust this condition based on your placeholder_value and task\n",
    "    valid_label_mask = data.y != placeholder_value\n",
    "    \n",
    "    # Apply both the extended mask and valid_label_mask to filter predictions and labels\n",
    "    valid_out = out[mask & valid_label_mask]\n",
    "    valid_labels = data.y[mask & valid_label_mask]\n",
    "    \n",
    "    loss = F.mse_loss(valid_out, valid_labels)  # Calculate loss on non-placeholder, valid data points only\n",
    "    \n",
    "    loss.backward()\n",
    "    optimizer.step()\n",
    "    \n",
    "    return loss.item()"
   ]
  },
  {
   "cell_type": "code",
   "execution_count": 10,
   "id": "cb794181-da75-4494-a813-32ea4862d1c0",
   "metadata": {},
   "outputs": [],
   "source": [
    "def test(model, data, mask):\n",
    "    model.eval()\n",
    "    with torch.no_grad():\n",
    "        out = model(data)\n",
    "        out = out.squeeze()  # Ensure the output matches expected dimensions\n",
    "\n",
    "        # Ensure the mask is for the full set of nodes, adjusting if it was originally for labeled nodes only\n",
    "        if mask.size(0) != out.size(0):\n",
    "            # This assumes the original mask size corresponds to the number of labeled nodes\n",
    "            # and needs to be extended to match the full set of nodes (similar to what was done for training)\n",
    "            extended_mask = torch.cat((mask, torch.zeros(data.num_nodes - mask.size(0), dtype=torch.bool, device=mask.device)))\n",
    "        else:\n",
    "            extended_mask = mask\n",
    "\n",
    "        # Apply the extended mask to filter predictions and labels for loss calculation\n",
    "        valid_out = out[extended_mask]\n",
    "        valid_labels = data.y[extended_mask]\n",
    "        \n",
    "        test_loss = F.mse_loss(valid_out, valid_labels).item()\n",
    "\n",
    "    return test_loss\n"
   ]
  },
  {
   "cell_type": "markdown",
   "id": "4f8836bd-e460-458f-aa6a-0e94bc091b77",
   "metadata": {},
   "source": [
    "## **Classes**"
   ]
  },
  {
   "cell_type": "markdown",
   "id": "f2ce697d-b2f6-48eb-ab98-0b537b4479af",
   "metadata": {},
   "source": [
    "#### **Define the GNN Model**"
   ]
  },
  {
   "cell_type": "markdown",
   "id": "1acacb8b-685f-40fb-9ee6-61b57a378ffd",
   "metadata": {},
   "source": [
    "This section sets up a class that specifies a 2 layer GCN model and a method for how data flows through the model (forward pass)."
   ]
  },
  {
   "cell_type": "code",
   "execution_count": 11,
   "id": "6030d3fc-a986-4b65-9f53-29321a4fda83",
   "metadata": {},
   "outputs": [],
   "source": [
    "class SimpleGCN(torch.nn.Module):\n",
    "    def __init__(self, num_node_features, num_classes):\n",
    "        '''\n",
    "        Initialises a model that processes graph-structured data using \n",
    "        simple two-layer GCN architecture.\n",
    "        \n",
    "        Args:\n",
    "        num_node_features = number of features each node in the input graph has\n",
    "        num_classes = number of output classes\n",
    "        '''\n",
    "        super(SimpleGCN, self).__init__()\n",
    "        self.conv1 = GCNConv(num_node_features, 16)  # First GCN layer\n",
    "        self.conv2 = GCNConv(16, num_classes)        # Second GCN layer\n",
    "\n",
    "    def forward(self, data):\n",
    "        '''\n",
    "        Defines the forward pass of the model\n",
    "\n",
    "        Args:\n",
    "        data = object containing graph data\n",
    "        '''\n",
    "        x, edge_index = data.x, data.edge_index    # Extract node features and graph structure\n",
    "        x = self.conv1(x, edge_index)    # Apply the first GCN convolution layer\n",
    "        x = F.relu(x)  # Apply the ReLU activation function to the input tensor x\n",
    "        x = F.dropout(x, training=self.training) # Apply dropout regularisation to reduce overfitting during training\n",
    "        x = self.conv2(x, edge_index) # Apply the second GCN convolution layer\n",
    "        \n",
    "        return x  # model's predictions for each node "
   ]
  },
  {
   "cell_type": "markdown",
   "id": "167be48b-2d9a-436e-84a4-1f5c83c4d665",
   "metadata": {},
   "source": [
    "## **Load Model & Objects**"
   ]
  },
  {
   "cell_type": "code",
   "execution_count": 12,
   "id": "7b32ffcc-8900-4fd3-b1ac-8f608a37136b",
   "metadata": {},
   "outputs": [
    {
     "name": "stdout",
     "output_type": "stream",
     "text": [
      "Loaded 3 graph data objects.\n"
     ]
    }
   ],
   "source": [
    "# Load graph data objects\n",
    "\n",
    "start_run, end_run = 1, 3    # SPECIFY THE RANGE OF PT HERE\n",
    "graph_data_objects = load_graph_data_objects(folder_path, start_run=start_run, end_run=end_run)\n",
    "\n",
    "print(f'Loaded {len(graph_data_objects)} graph data objects.')"
   ]
  },
  {
   "cell_type": "code",
   "execution_count": 13,
   "id": "df88d0a5-d8e4-4cc9-bd59-468d8c3bde24",
   "metadata": {},
   "outputs": [
    {
     "name": "stdout",
     "output_type": "stream",
     "text": [
      "Total number of graph data objects in the folder: 3\n"
     ]
    }
   ],
   "source": [
    "# Count graph data objects directly from the folder \n",
    "\n",
    "num_graphs = count_graph_data_objects(folder_path)\n",
    "print(f'Total number of graph data objects in the folder: {num_graphs}')\n",
    "\n",
    "# Load the number of labeled nodes for each graph\n",
    "num_labeled_nodes_list = load_num_labeled_nodes(labels_info_path)  "
   ]
  },
  {
   "cell_type": "markdown",
   "id": "2203d44e-8af6-42d5-b745-677573de7464",
   "metadata": {},
   "source": [
    "## **Model Settings and Optimiser**"
   ]
  },
  {
   "cell_type": "markdown",
   "id": "02793063-735e-4960-98eb-e2d28c5a58b3",
   "metadata": {},
   "source": [
    "This section creates the model settings, calls the model function and sets the optimiser."
   ]
  },
  {
   "cell_type": "code",
   "execution_count": 14,
   "id": "df221bb9-06a9-4097-94a8-15575e0c6ff7",
   "metadata": {},
   "outputs": [],
   "source": [
    "# Model Settings\n",
    "num_node_features = graph_data_objects[0].num_node_features  #  Retrieves the number of features associated with the nodes\n",
    "num_classes = 1  # Set the number of output classes (no changes needed)\n",
    "\n",
    "# Adjust the criterion according to your task\n",
    "criterion = torch.nn.MSELoss()  "
   ]
  },
  {
   "cell_type": "markdown",
   "id": "ac0b288a-fbf0-4152-a828-1bb867b06a18",
   "metadata": {},
   "source": [
    "## **Training Loop**"
   ]
  },
  {
   "cell_type": "markdown",
   "id": "c2780a93-7c99-4bfd-ad7c-8b043a01f71c",
   "metadata": {},
   "source": [
    "This section defines the training and test function and returns the MSE loss."
   ]
  },
  {
   "cell_type": "code",
   "execution_count": 15,
   "id": "abaee5c2-1b25-431e-8ded-491ebefa84e7",
   "metadata": {},
   "outputs": [
    {
     "name": "stdout",
     "output_type": "stream",
     "text": [
      "Initialized new model.\n"
     ]
    }
   ],
   "source": [
    "model = load_or_initialize_model(model_path, SimpleGCN, num_node_features, num_classes)\n",
    "\n",
    "# Using Adam optimizer, lr = learning rate\n",
    "optimizer = torch.optim.Adam(model.parameters(), lr=0.01)"
   ]
  },
  {
   "cell_type": "code",
   "execution_count": 16,
   "id": "5e9f1e32-eed0-4202-829f-fc194c4dfa70",
   "metadata": {},
   "outputs": [
    {
     "data": {
      "text/plain": [
       "SimpleGCN(\n",
       "  (conv1): GCNConv(4, 16)\n",
       "  (conv2): GCNConv(16, 1)\n",
       ")"
      ]
     },
     "execution_count": 16,
     "metadata": {},
     "output_type": "execute_result"
    }
   ],
   "source": [
    "# Check if GPU is avaliable \n",
    "device = torch.device('cuda' if torch.cuda.is_available() else 'cpu')\n",
    "model.to(device)"
   ]
  },
  {
   "cell_type": "code",
   "execution_count": 17,
   "id": "f904ef0a-7038-4d35-ba04-f98fc68d8680",
   "metadata": {},
   "outputs": [
    {
     "name": "stdout",
     "output_type": "stream",
     "text": [
      "Graph 1, Epoch 1: Train Loss: 342909.5312, Test Loss: 152875.8125\n",
      "Graph 1, Epoch 2: Train Loss: 279092.3750, Test Loss: 127306.6875\n",
      "Graph 1, Epoch 3: Train Loss: 262352.7188, Test Loss: 108245.7344\n",
      "Graph 1, Epoch 4: Train Loss: 260686.2344, Test Loss: 95408.7734\n",
      "Graph 1, Epoch 5: Train Loss: 246656.6406, Test Loss: 87367.9766\n",
      "Graph 1, Epoch 6: Train Loss: 211200.0312, Test Loss: 82152.3750\n",
      "Graph 1, Epoch 7: Train Loss: 220685.6562, Test Loss: 78977.0469\n",
      "Graph 1, Epoch 8: Train Loss: 207501.3125, Test Loss: 77169.5312\n",
      "Graph 1, Epoch 9: Train Loss: 211616.1406, Test Loss: 76233.4844\n",
      "Graph 1, Epoch 10: Train Loss: 173496.6875, Test Loss: 75846.1484\n",
      "Graph 1, Epoch 11: Train Loss: 173167.0625, Test Loss: 75723.8828\n",
      "Graph 1, Epoch 12: Train Loss: 163304.8750, Test Loss: 75670.0234\n",
      "Graph 1, Epoch 13: Train Loss: 174018.7969, Test Loss: 75667.1719\n",
      "Graph 1, Epoch 14: Train Loss: 162948.8906, Test Loss: 75743.5625\n",
      "Graph 1, Epoch 15: Train Loss: 147383.4688, Test Loss: 75914.9922\n",
      "Graph 1, Epoch 16: Train Loss: 147916.0469, Test Loss: 76222.5859\n",
      "Graph 1, Epoch 17: Train Loss: 141225.6562, Test Loss: 76674.6875\n",
      "Graph 1, Epoch 18: Train Loss: 142791.8125, Test Loss: 77302.4766\n",
      "Graph 1, Epoch 19: Train Loss: 140505.0469, Test Loss: 78117.7969\n",
      "Graph 1, Epoch 20: Train Loss: 144040.1562, Test Loss: 78962.5625\n",
      "Graph 1, Epoch 21: Train Loss: 144223.9688, Test Loss: 79749.6562\n",
      "Graph 1, Epoch 22: Train Loss: 134547.9531, Test Loss: 80366.6250\n",
      "Graph 1, Epoch 23: Train Loss: 132361.2656, Test Loss: 80797.8281\n",
      "Graph 1, Epoch 24: Train Loss: 124015.7812, Test Loss: 81040.0938\n",
      "Graph 1, Epoch 25: Train Loss: 118029.7188, Test Loss: 81025.7578\n",
      "Graph 1, Epoch 26: Train Loss: 126329.4922, Test Loss: 80687.6172\n",
      "Graph 1, Epoch 27: Train Loss: 118402.8984, Test Loss: 80080.7812\n",
      "Graph 1, Epoch 28: Train Loss: 122225.1172, Test Loss: 79542.0000\n",
      "Graph 1, Epoch 29: Train Loss: 122438.4297, Test Loss: 78926.2891\n",
      "Graph 1, Epoch 30: Train Loss: 115959.2812, Test Loss: 78348.5938\n",
      "Graph 1, Epoch 31: Train Loss: 123172.7812, Test Loss: 77962.9922\n",
      "Graph 1, Epoch 32: Train Loss: 117364.8984, Test Loss: 77659.9062\n",
      "Graph 1, Epoch 33: Train Loss: 114811.8203, Test Loss: 77477.2188\n",
      "Graph 1, Epoch 34: Train Loss: 103792.0938, Test Loss: 77323.3281\n",
      "Graph 1, Epoch 35: Train Loss: 106054.0078, Test Loss: 77297.5234\n",
      "Graph 1, Epoch 36: Train Loss: 106415.9141, Test Loss: 77308.4062\n",
      "Graph 1, Epoch 37: Train Loss: 120859.7578, Test Loss: 77487.6250\n",
      "Graph 1, Epoch 38: Train Loss: 114006.8359, Test Loss: 77791.3750\n",
      "Graph 1, Epoch 39: Train Loss: 120894.3828, Test Loss: 78192.8203\n",
      "Graph 1, Epoch 40: Train Loss: 106790.1719, Test Loss: 78626.7578\n",
      "Graph 1, Epoch 41: Train Loss: 116839.0156, Test Loss: 79065.4219\n",
      "Graph 1, Epoch 42: Train Loss: 114222.6484, Test Loss: 79454.5703\n",
      "Graph 1, Epoch 43: Train Loss: 109954.9766, Test Loss: 79671.6250\n",
      "Graph 1, Epoch 44: Train Loss: 114736.3359, Test Loss: 79684.3281\n",
      "Graph 1, Epoch 45: Train Loss: 109127.4922, Test Loss: 79654.8125\n",
      "Graph 1, Epoch 46: Train Loss: 112880.8047, Test Loss: 79451.8750\n",
      "Graph 1, Epoch 47: Train Loss: 107789.7344, Test Loss: 79166.9922\n",
      "Graph 1, Epoch 48: Train Loss: 107965.9141, Test Loss: 78879.6328\n",
      "Graph 1, Epoch 49: Train Loss: 109190.7734, Test Loss: 78532.3281\n",
      "Graph 1, Epoch 50: Train Loss: 101424.3750, Test Loss: 78144.4141\n",
      "Graph 1, Epoch 51: Train Loss: 111894.0547, Test Loss: 77968.8516\n",
      "Graph 1, Epoch 52: Train Loss: 106914.3984, Test Loss: 77845.4141\n",
      "Graph 1, Epoch 53: Train Loss: 101720.8047, Test Loss: 77785.7344\n",
      "Graph 1, Epoch 54: Train Loss: 104676.7109, Test Loss: 77807.5391\n",
      "Graph 1, Epoch 55: Train Loss: 111776.8906, Test Loss: 77946.7969\n",
      "Graph 1, Epoch 56: Train Loss: 102173.6875, Test Loss: 77993.8672\n",
      "Graph 1, Epoch 57: Train Loss: 109048.0391, Test Loss: 78314.5781\n",
      "Graph 1, Epoch 58: Train Loss: 108157.2109, Test Loss: 78677.7109\n",
      "Graph 1, Epoch 59: Train Loss: 110465.5391, Test Loss: 79049.6484\n",
      "Graph 1, Epoch 60: Train Loss: 111699.8594, Test Loss: 79394.6953\n",
      "Graph 1, Epoch 61: Train Loss: 101910.2969, Test Loss: 79575.4688\n",
      "Graph 1, Epoch 62: Train Loss: 107653.7656, Test Loss: 79571.0781\n",
      "Graph 1, Epoch 63: Train Loss: 106064.0938, Test Loss: 79437.4766\n",
      "Graph 1, Epoch 64: Train Loss: 105693.7500, Test Loss: 79319.6328\n",
      "Graph 1, Epoch 65: Train Loss: 105750.3672, Test Loss: 79124.8281\n",
      "Graph 1, Epoch 66: Train Loss: 112938.3906, Test Loss: 78923.1484\n",
      "Graph 1, Epoch 67: Train Loss: 112493.4141, Test Loss: 78762.7812\n",
      "Graph 1, Epoch 68: Train Loss: 106355.8516, Test Loss: 78558.1484\n",
      "Graph 1, Epoch 69: Train Loss: 109693.5312, Test Loss: 78443.6172\n",
      "Graph 1, Epoch 70: Train Loss: 107657.8438, Test Loss: 78473.7109\n",
      "Graph 1, Epoch 71: Train Loss: 102726.1719, Test Loss: 78483.3047\n",
      "Graph 1, Epoch 72: Train Loss: 105017.4609, Test Loss: 78456.1875\n",
      "Graph 1, Epoch 73: Train Loss: 103240.4766, Test Loss: 78518.1797\n",
      "Graph 1, Epoch 74: Train Loss: 108134.3672, Test Loss: 78470.3359\n",
      "Graph 1, Epoch 75: Train Loss: 105454.8047, Test Loss: 78413.3125\n",
      "Graph 1, Epoch 76: Train Loss: 113914.1875, Test Loss: 78410.5625\n",
      "Graph 1, Epoch 77: Train Loss: 102440.9609, Test Loss: 78393.9062\n",
      "Graph 1, Epoch 78: Train Loss: 108819.4766, Test Loss: 78515.1484\n",
      "Graph 1, Epoch 79: Train Loss: 101347.1406, Test Loss: 78564.1172\n",
      "Graph 1, Epoch 80: Train Loss: 105115.2422, Test Loss: 78481.0234\n",
      "Graph 1, Epoch 81: Train Loss: 109765.1016, Test Loss: 78502.9219\n",
      "Graph 1, Epoch 82: Train Loss: 110408.1484, Test Loss: 78493.0312\n",
      "Graph 1, Epoch 83: Train Loss: 105478.1172, Test Loss: 78581.3828\n",
      "Graph 1, Epoch 84: Train Loss: 100570.3516, Test Loss: 78526.9531\n",
      "Graph 1, Epoch 85: Train Loss: 112826.9766, Test Loss: 78418.6172\n",
      "Graph 1, Epoch 86: Train Loss: 99121.0000, Test Loss: 78400.7422\n",
      "Graph 1, Epoch 87: Train Loss: 104588.9922, Test Loss: 78415.1016\n",
      "Graph 1, Epoch 88: Train Loss: 103586.2266, Test Loss: 78431.4375\n",
      "Graph 1, Epoch 89: Train Loss: 116175.8203, Test Loss: 78404.1328\n",
      "Graph 1, Epoch 90: Train Loss: 106212.6328, Test Loss: 78416.9609\n",
      "Graph 1, Epoch 91: Train Loss: 103511.6484, Test Loss: 78555.2734\n",
      "Graph 1, Epoch 92: Train Loss: 108931.0625, Test Loss: 78610.7422\n",
      "Graph 1, Epoch 93: Train Loss: 100247.9766, Test Loss: 78546.8438\n",
      "Graph 1, Epoch 94: Train Loss: 105239.5000, Test Loss: 78458.0391\n",
      "Graph 1, Epoch 95: Train Loss: 105798.3672, Test Loss: 78469.5469\n",
      "Graph 1, Epoch 96: Train Loss: 104632.6406, Test Loss: 78386.4688\n",
      "Graph 1, Epoch 97: Train Loss: 101464.8828, Test Loss: 78230.7266\n",
      "Graph 1, Epoch 98: Train Loss: 112689.9297, Test Loss: 78092.7812\n",
      "Graph 1, Epoch 99: Train Loss: 111198.0078, Test Loss: 78020.8047\n",
      "Graph 1, Epoch 100: Train Loss: 101949.6797, Test Loss: 77924.3047\n",
      "Graph 2, Epoch 1: Train Loss: 108331.6797, Test Loss: 76451.6406\n",
      "Graph 2, Epoch 2: Train Loss: 103258.8906, Test Loss: 76641.1953\n",
      "Graph 2, Epoch 3: Train Loss: 116047.8359, Test Loss: 77048.1172\n",
      "Graph 2, Epoch 4: Train Loss: 96108.2344, Test Loss: 77414.1172\n",
      "Graph 2, Epoch 5: Train Loss: 107362.2891, Test Loss: 77766.6406\n",
      "Graph 2, Epoch 6: Train Loss: 110489.7578, Test Loss: 77946.2578\n",
      "Graph 2, Epoch 7: Train Loss: 105927.0078, Test Loss: 78271.2656\n",
      "Graph 2, Epoch 8: Train Loss: 101944.8828, Test Loss: 78520.2891\n",
      "Graph 2, Epoch 9: Train Loss: 111014.5234, Test Loss: 78940.1172\n",
      "Graph 2, Epoch 10: Train Loss: 104266.8750, Test Loss: 79272.1719\n",
      "Graph 2, Epoch 11: Train Loss: 100850.8125, Test Loss: 79455.6719\n",
      "Graph 2, Epoch 12: Train Loss: 101502.7734, Test Loss: 79197.0859\n",
      "Graph 2, Epoch 13: Train Loss: 105057.4062, Test Loss: 78925.9766\n",
      "Graph 2, Epoch 14: Train Loss: 102841.6406, Test Loss: 78395.4766\n",
      "Graph 2, Epoch 15: Train Loss: 103771.3438, Test Loss: 77928.8828\n",
      "Graph 2, Epoch 16: Train Loss: 106872.9375, Test Loss: 77650.4922\n",
      "Graph 2, Epoch 17: Train Loss: 102449.0312, Test Loss: 77501.7500\n",
      "Graph 2, Epoch 18: Train Loss: 109674.0781, Test Loss: 77548.5547\n",
      "Graph 2, Epoch 19: Train Loss: 104252.6172, Test Loss: 77631.0312\n",
      "Graph 2, Epoch 20: Train Loss: 105041.0156, Test Loss: 77861.5859\n",
      "Graph 2, Epoch 21: Train Loss: 111942.6953, Test Loss: 78119.3203\n",
      "Graph 2, Epoch 22: Train Loss: 105483.5859, Test Loss: 78249.9844\n",
      "Graph 2, Epoch 23: Train Loss: 105784.8672, Test Loss: 78403.1250\n",
      "Graph 2, Epoch 24: Train Loss: 109097.1953, Test Loss: 78496.8906\n",
      "Graph 2, Epoch 25: Train Loss: 103757.5391, Test Loss: 78581.1562\n",
      "Graph 2, Epoch 26: Train Loss: 99579.6562, Test Loss: 78641.0078\n",
      "Graph 2, Epoch 27: Train Loss: 101897.8828, Test Loss: 78644.7734\n",
      "Graph 2, Epoch 28: Train Loss: 108463.4688, Test Loss: 78516.7422\n",
      "Graph 2, Epoch 29: Train Loss: 103692.6406, Test Loss: 78269.3125\n",
      "Graph 2, Epoch 30: Train Loss: 101796.6719, Test Loss: 77875.0078\n",
      "Graph 2, Epoch 31: Train Loss: 104228.3438, Test Loss: 77649.8516\n",
      "Graph 2, Epoch 32: Train Loss: 101696.7109, Test Loss: 77257.8984\n",
      "Graph 2, Epoch 33: Train Loss: 104165.3359, Test Loss: 76957.1328\n",
      "Graph 2, Epoch 34: Train Loss: 111311.3516, Test Loss: 76785.7578\n",
      "Graph 2, Epoch 35: Train Loss: 97058.9531, Test Loss: 76669.7031\n",
      "Graph 2, Epoch 36: Train Loss: 111553.2969, Test Loss: 76953.4922\n",
      "Graph 2, Epoch 37: Train Loss: 110404.9375, Test Loss: 77214.8750\n",
      "Graph 2, Epoch 38: Train Loss: 110808.5000, Test Loss: 77475.8672\n",
      "Graph 2, Epoch 39: Train Loss: 100055.4688, Test Loss: 77700.2344\n",
      "Graph 2, Epoch 40: Train Loss: 101589.9375, Test Loss: 78010.8203\n",
      "Graph 2, Epoch 41: Train Loss: 102240.8047, Test Loss: 78389.2188\n",
      "Graph 2, Epoch 42: Train Loss: 104942.9766, Test Loss: 78698.1016\n",
      "Graph 2, Epoch 43: Train Loss: 105411.8359, Test Loss: 78901.1250\n",
      "Graph 2, Epoch 44: Train Loss: 96708.0156, Test Loss: 78795.8984\n",
      "Graph 2, Epoch 45: Train Loss: 105751.7578, Test Loss: 78328.1250\n",
      "Graph 2, Epoch 46: Train Loss: 102346.2344, Test Loss: 77814.8750\n",
      "Graph 2, Epoch 47: Train Loss: 100013.4141, Test Loss: 77384.3984\n",
      "Graph 2, Epoch 48: Train Loss: 97213.0859, Test Loss: 77055.1172\n",
      "Graph 2, Epoch 49: Train Loss: 109171.0938, Test Loss: 77064.0938\n",
      "Graph 2, Epoch 50: Train Loss: 103110.7578, Test Loss: 77122.9766\n",
      "Graph 2, Epoch 51: Train Loss: 103088.5234, Test Loss: 77223.0156\n",
      "Graph 2, Epoch 52: Train Loss: 105819.5859, Test Loss: 77326.6641\n",
      "Graph 2, Epoch 53: Train Loss: 103629.0078, Test Loss: 77685.7500\n",
      "Graph 2, Epoch 54: Train Loss: 105871.8984, Test Loss: 78010.7031\n",
      "Graph 2, Epoch 55: Train Loss: 106420.2734, Test Loss: 78452.9062\n",
      "Graph 2, Epoch 56: Train Loss: 105527.0938, Test Loss: 78783.3984\n",
      "Graph 2, Epoch 57: Train Loss: 104799.7500, Test Loss: 79025.8438\n",
      "Graph 2, Epoch 58: Train Loss: 98899.6484, Test Loss: 79082.1172\n",
      "Graph 2, Epoch 59: Train Loss: 107607.6172, Test Loss: 78941.0312\n",
      "Graph 2, Epoch 60: Train Loss: 104986.7969, Test Loss: 78921.2422\n",
      "Graph 2, Epoch 61: Train Loss: 105923.8047, Test Loss: 78975.3672\n",
      "Graph 2, Epoch 62: Train Loss: 103730.4219, Test Loss: 79220.7266\n",
      "Graph 2, Epoch 63: Train Loss: 102886.6953, Test Loss: 79013.5625\n",
      "Graph 2, Epoch 64: Train Loss: 108335.6094, Test Loss: 78737.9297\n",
      "Graph 2, Epoch 65: Train Loss: 109956.1875, Test Loss: 78302.0391\n",
      "Graph 2, Epoch 66: Train Loss: 112598.4609, Test Loss: 78418.6562\n",
      "Graph 2, Epoch 67: Train Loss: 101458.0312, Test Loss: 78485.8281\n",
      "Graph 2, Epoch 68: Train Loss: 98598.2578, Test Loss: 78403.1719\n",
      "Graph 2, Epoch 69: Train Loss: 107101.2266, Test Loss: 78208.9922\n",
      "Graph 2, Epoch 70: Train Loss: 94830.4297, Test Loss: 77795.1562\n",
      "Graph 2, Epoch 71: Train Loss: 110873.9688, Test Loss: 77605.0859\n",
      "Graph 2, Epoch 72: Train Loss: 104705.3125, Test Loss: 77715.6641\n",
      "Graph 2, Epoch 73: Train Loss: 102035.9297, Test Loss: 77749.0312\n",
      "Graph 2, Epoch 74: Train Loss: 105495.4922, Test Loss: 78151.2969\n",
      "Graph 2, Epoch 75: Train Loss: 111378.3438, Test Loss: 78716.2344\n",
      "Graph 2, Epoch 76: Train Loss: 104563.6016, Test Loss: 79087.2734\n",
      "Graph 2, Epoch 77: Train Loss: 101758.7578, Test Loss: 79006.9297\n",
      "Graph 2, Epoch 78: Train Loss: 99321.7500, Test Loss: 78927.3125\n",
      "Graph 2, Epoch 79: Train Loss: 108689.5547, Test Loss: 78894.3281\n",
      "Graph 2, Epoch 80: Train Loss: 102636.8516, Test Loss: 78815.1094\n",
      "Graph 2, Epoch 81: Train Loss: 107889.1562, Test Loss: 78899.2734\n",
      "Graph 2, Epoch 82: Train Loss: 102434.9609, Test Loss: 78885.6641\n",
      "Graph 2, Epoch 83: Train Loss: 101859.7500, Test Loss: 78634.3828\n",
      "Graph 2, Epoch 84: Train Loss: 106650.2188, Test Loss: 78138.8203\n",
      "Graph 2, Epoch 85: Train Loss: 107859.2734, Test Loss: 77765.4766\n",
      "Graph 2, Epoch 86: Train Loss: 105677.5156, Test Loss: 77593.0078\n",
      "Graph 2, Epoch 87: Train Loss: 102140.5703, Test Loss: 77574.4141\n",
      "Graph 2, Epoch 88: Train Loss: 112799.8594, Test Loss: 77867.0000\n",
      "Graph 2, Epoch 89: Train Loss: 99170.0078, Test Loss: 78012.4766\n",
      "Graph 2, Epoch 90: Train Loss: 100146.5547, Test Loss: 77906.1797\n",
      "Graph 2, Epoch 91: Train Loss: 99978.5234, Test Loss: 77818.0234\n",
      "Graph 2, Epoch 92: Train Loss: 100052.7891, Test Loss: 77789.3203\n",
      "Graph 2, Epoch 93: Train Loss: 104719.4219, Test Loss: 77650.5859\n",
      "Graph 2, Epoch 94: Train Loss: 109737.4219, Test Loss: 77539.0781\n",
      "Graph 2, Epoch 95: Train Loss: 102492.5859, Test Loss: 77304.7344\n",
      "Graph 2, Epoch 96: Train Loss: 102303.3516, Test Loss: 76848.5156\n",
      "Graph 2, Epoch 97: Train Loss: 100320.8828, Test Loss: 76566.6562\n",
      "Graph 2, Epoch 98: Train Loss: 112828.7578, Test Loss: 76181.3281\n",
      "Graph 2, Epoch 99: Train Loss: 108529.7266, Test Loss: 76085.6406\n",
      "Graph 2, Epoch 100: Train Loss: 117391.2031, Test Loss: 76616.6328\n",
      "Graph 3, Epoch 1: Train Loss: 112094.1562, Test Loss: 86814.6719\n",
      "Graph 3, Epoch 2: Train Loss: 94331.5078, Test Loss: 87344.5938\n",
      "Graph 3, Epoch 3: Train Loss: 102012.3750, Test Loss: 87923.3125\n",
      "Graph 3, Epoch 4: Train Loss: 92743.6562, Test Loss: 88319.3516\n",
      "Graph 3, Epoch 5: Train Loss: 98388.0938, Test Loss: 88631.5938\n",
      "Graph 3, Epoch 6: Train Loss: 107609.0547, Test Loss: 88795.0625\n",
      "Graph 3, Epoch 7: Train Loss: 100808.0469, Test Loss: 88936.8281\n",
      "Graph 3, Epoch 8: Train Loss: 105691.9844, Test Loss: 89107.0859\n",
      "Graph 3, Epoch 9: Train Loss: 104801.1328, Test Loss: 89220.6719\n",
      "Graph 3, Epoch 10: Train Loss: 108793.9375, Test Loss: 89261.8047\n",
      "Graph 3, Epoch 11: Train Loss: 98720.0703, Test Loss: 88848.7734\n",
      "Graph 3, Epoch 12: Train Loss: 107756.6719, Test Loss: 88591.2422\n",
      "Graph 3, Epoch 13: Train Loss: 102861.1172, Test Loss: 88069.7969\n",
      "Graph 3, Epoch 14: Train Loss: 96415.9141, Test Loss: 87772.1562\n",
      "Graph 3, Epoch 15: Train Loss: 97958.4531, Test Loss: 87303.6719\n",
      "Graph 3, Epoch 16: Train Loss: 98207.4062, Test Loss: 86795.2109\n",
      "Graph 3, Epoch 17: Train Loss: 101906.0859, Test Loss: 86762.7422\n",
      "Graph 3, Epoch 18: Train Loss: 105663.7578, Test Loss: 86882.1562\n",
      "Graph 3, Epoch 19: Train Loss: 110971.3438, Test Loss: 87025.0078\n",
      "Graph 3, Epoch 20: Train Loss: 106914.1406, Test Loss: 87663.6484\n",
      "Graph 3, Epoch 21: Train Loss: 100969.9766, Test Loss: 88243.0078\n",
      "Graph 3, Epoch 22: Train Loss: 103046.4844, Test Loss: 88726.6172\n",
      "Graph 3, Epoch 23: Train Loss: 105912.7266, Test Loss: 88524.1875\n",
      "Graph 3, Epoch 24: Train Loss: 102453.9141, Test Loss: 88437.4531\n",
      "Graph 3, Epoch 25: Train Loss: 98963.5703, Test Loss: 88380.2969\n",
      "Graph 3, Epoch 26: Train Loss: 99367.6953, Test Loss: 88186.4219\n",
      "Graph 3, Epoch 27: Train Loss: 105428.7344, Test Loss: 87841.2109\n",
      "Graph 3, Epoch 28: Train Loss: 101201.8281, Test Loss: 87438.1016\n",
      "Graph 3, Epoch 29: Train Loss: 103643.5938, Test Loss: 87258.3828\n",
      "Graph 3, Epoch 30: Train Loss: 105497.3203, Test Loss: 87004.7891\n",
      "Graph 3, Epoch 31: Train Loss: 101149.9609, Test Loss: 86415.4766\n",
      "Graph 3, Epoch 32: Train Loss: 99721.0000, Test Loss: 86092.3750\n",
      "Graph 3, Epoch 33: Train Loss: 102588.4531, Test Loss: 86307.9688\n",
      "Graph 3, Epoch 34: Train Loss: 108193.1250, Test Loss: 87038.1172\n",
      "Graph 3, Epoch 35: Train Loss: 102152.4219, Test Loss: 87833.0703\n",
      "Graph 3, Epoch 36: Train Loss: 101612.8203, Test Loss: 88701.6797\n",
      "Graph 3, Epoch 37: Train Loss: 105267.5000, Test Loss: 89524.6641\n",
      "Graph 3, Epoch 38: Train Loss: 100084.6172, Test Loss: 90167.1875\n",
      "Graph 3, Epoch 39: Train Loss: 104098.3359, Test Loss: 90472.0312\n",
      "Graph 3, Epoch 40: Train Loss: 108096.2812, Test Loss: 90647.2109\n",
      "Graph 3, Epoch 41: Train Loss: 106198.1719, Test Loss: 90340.0234\n",
      "Graph 3, Epoch 42: Train Loss: 107961.2422, Test Loss: 89849.1406\n",
      "Graph 3, Epoch 43: Train Loss: 98513.3125, Test Loss: 89072.0625\n",
      "Graph 3, Epoch 44: Train Loss: 107844.9141, Test Loss: 88546.8750\n",
      "Graph 3, Epoch 45: Train Loss: 107122.9766, Test Loss: 88071.7734\n",
      "Graph 3, Epoch 46: Train Loss: 107269.9297, Test Loss: 87539.2734\n",
      "Graph 3, Epoch 47: Train Loss: 101876.5156, Test Loss: 86995.8125\n",
      "Graph 3, Epoch 48: Train Loss: 102217.0312, Test Loss: 86572.1484\n",
      "Graph 3, Epoch 49: Train Loss: 94809.3906, Test Loss: 86251.8438\n",
      "Graph 3, Epoch 50: Train Loss: 98950.2422, Test Loss: 86112.4062\n",
      "Graph 3, Epoch 51: Train Loss: 92386.8438, Test Loss: 85891.3828\n",
      "Graph 3, Epoch 52: Train Loss: 107042.0625, Test Loss: 86127.6875\n",
      "Graph 3, Epoch 53: Train Loss: 102989.9531, Test Loss: 86596.9297\n",
      "Graph 3, Epoch 54: Train Loss: 103441.4062, Test Loss: 87360.2266\n",
      "Graph 3, Epoch 55: Train Loss: 106135.3828, Test Loss: 88397.0391\n",
      "Graph 3, Epoch 56: Train Loss: 105225.3281, Test Loss: 89693.4922\n",
      "Graph 3, Epoch 57: Train Loss: 102948.0469, Test Loss: 90620.8281\n",
      "Graph 3, Epoch 58: Train Loss: 107707.6328, Test Loss: 91166.2344\n",
      "Graph 3, Epoch 59: Train Loss: 99407.2656, Test Loss: 91290.2422\n",
      "Graph 3, Epoch 60: Train Loss: 99035.4609, Test Loss: 90723.4375\n",
      "Graph 3, Epoch 61: Train Loss: 100755.9375, Test Loss: 89787.5234\n",
      "Graph 3, Epoch 62: Train Loss: 99722.5625, Test Loss: 88647.7734\n",
      "Graph 3, Epoch 63: Train Loss: 100061.1875, Test Loss: 87451.1484\n",
      "Graph 3, Epoch 64: Train Loss: 103812.9062, Test Loss: 86780.2500\n",
      "Graph 3, Epoch 65: Train Loss: 103078.6484, Test Loss: 86230.5078\n",
      "Graph 3, Epoch 66: Train Loss: 102234.4531, Test Loss: 86168.3672\n",
      "Graph 3, Epoch 67: Train Loss: 104936.1094, Test Loss: 86449.3594\n",
      "Graph 3, Epoch 68: Train Loss: 99560.6797, Test Loss: 87066.1172\n",
      "Graph 3, Epoch 69: Train Loss: 98467.7891, Test Loss: 87284.2422\n",
      "Graph 3, Epoch 70: Train Loss: 102707.9922, Test Loss: 87753.9688\n",
      "Graph 3, Epoch 71: Train Loss: 94912.7031, Test Loss: 88444.6172\n",
      "Graph 3, Epoch 72: Train Loss: 109181.4062, Test Loss: 89126.1719\n",
      "Graph 3, Epoch 73: Train Loss: 101784.2969, Test Loss: 89827.7891\n",
      "Graph 3, Epoch 74: Train Loss: 95082.0859, Test Loss: 89957.6016\n",
      "Graph 3, Epoch 75: Train Loss: 98882.8672, Test Loss: 89728.8672\n",
      "Graph 3, Epoch 76: Train Loss: 104420.0000, Test Loss: 89285.7031\n",
      "Graph 3, Epoch 77: Train Loss: 102480.8984, Test Loss: 88657.3594\n",
      "Graph 3, Epoch 78: Train Loss: 101386.6719, Test Loss: 87915.2031\n",
      "Graph 3, Epoch 79: Train Loss: 105729.0469, Test Loss: 86954.2344\n",
      "Graph 3, Epoch 80: Train Loss: 105714.1875, Test Loss: 86059.1719\n",
      "Graph 3, Epoch 81: Train Loss: 101264.9375, Test Loss: 85605.4141\n",
      "Graph 3, Epoch 82: Train Loss: 100324.5234, Test Loss: 85330.6406\n",
      "Graph 3, Epoch 83: Train Loss: 105201.7344, Test Loss: 85310.1484\n",
      "Graph 3, Epoch 84: Train Loss: 105594.1406, Test Loss: 85648.8594\n",
      "Graph 3, Epoch 85: Train Loss: 109910.2500, Test Loss: 86749.7578\n",
      "Graph 3, Epoch 86: Train Loss: 110130.0156, Test Loss: 87962.5078\n",
      "Graph 3, Epoch 87: Train Loss: 98903.9844, Test Loss: 89194.9062\n",
      "Graph 3, Epoch 88: Train Loss: 103162.5938, Test Loss: 90195.3203\n",
      "Graph 3, Epoch 89: Train Loss: 99120.2422, Test Loss: 90658.0234\n",
      "Graph 3, Epoch 90: Train Loss: 101530.2422, Test Loss: 90459.8281\n",
      "Graph 3, Epoch 91: Train Loss: 106290.5391, Test Loss: 89777.9688\n",
      "Graph 3, Epoch 92: Train Loss: 99295.5469, Test Loss: 88820.2031\n",
      "Graph 3, Epoch 93: Train Loss: 102667.0312, Test Loss: 88048.6797\n",
      "Graph 3, Epoch 94: Train Loss: 99886.3516, Test Loss: 87188.4141\n",
      "Graph 3, Epoch 95: Train Loss: 96921.3672, Test Loss: 86348.1016\n",
      "Graph 3, Epoch 96: Train Loss: 102932.4531, Test Loss: 85909.0703\n",
      "Graph 3, Epoch 97: Train Loss: 102408.3906, Test Loss: 85915.1016\n",
      "Graph 3, Epoch 98: Train Loss: 96589.3359, Test Loss: 85924.0469\n",
      "Graph 3, Epoch 99: Train Loss: 103608.4062, Test Loss: 86357.3750\n",
      "Graph 3, Epoch 100: Train Loss: 103679.3516, Test Loss: 87113.2734\n"
     ]
    }
   ],
   "source": [
    "train_losses = []\n",
    "test_losses = []\n",
    "\n",
    "for idx, data in enumerate(graph_data_objects):\n",
    "    data = data.to(device)  # Move data to the appropriate device\n",
    "    \n",
    "    num_labeled_nodes = num_labeled_nodes_list[idx]  # Retrieve the number of labeled nodes for the current graph\n",
    "    num_total_nodes = data.num_nodes  # Total number of nodes in the current graph\n",
    "\n",
    "    # Placeholder value for unlabeled nodes - choose based on your task\n",
    "    placeholder_value = 0\n",
    "\n",
    "    # Extend data.y with the placeholder value for unlabeled nodes\n",
    "    if data.y.size(0) < num_total_nodes:\n",
    "        # Calculate the number of unlabeled nodes\n",
    "        num_unlabeled_nodes = num_total_nodes - data.y.size(0)\n",
    "        \n",
    "        # Create a tensor of placeholders for unlabeled nodes\n",
    "        placeholders = torch.full((num_unlabeled_nodes,), placeholder_value, dtype=data.y.dtype)\n",
    "        \n",
    "        # Extend data.y\n",
    "        data.y = torch.cat((data.y, placeholders))\n",
    "\n",
    "    # Generate initial masks for labeled nodes only\n",
    "    train_mask = torch.zeros(num_labeled_nodes, dtype=torch.bool)\n",
    "    test_mask = torch.zeros(num_labeled_nodes, dtype=torch.bool)\n",
    "\n",
    "    # Randomly permute indices of labeled nodes to split into training and testing\n",
    "    indices = torch.randperm(num_labeled_nodes)\n",
    "    num_train = int(num_labeled_nodes * 0.8)  # Split, e.g., 80% for training\n",
    "\n",
    "    # Set training and testing masks for labeled nodes\n",
    "    train_mask[indices[:num_train]] = True\n",
    "    test_mask[indices[num_train:]] = True\n",
    "\n",
    "    # Extend masks to cover all nodes\n",
    "    # Note: For training, include unlabeled nodes; for testing, focus only on labeled nodes\n",
    "    extended_train_mask = torch.cat((train_mask, torch.ones(num_total_nodes - num_labeled_nodes, dtype=torch.bool)))\n",
    "    extended_test_mask = torch.cat((test_mask, torch.zeros(num_total_nodes - num_labeled_nodes, dtype=torch.bool)))\n",
    "\n",
    "    # Training and testing loop\n",
    "    for epoch in range(100):  # Adjust the number of epochs as needed\n",
    "        train_loss = train(model, optimizer, data, extended_train_mask)  # Assuming extended masks are used\n",
    "        test_loss = test(model, data, extended_test_mask)\n",
    "        \n",
    "        train_losses.append(train_loss)\n",
    "        test_losses.append(test_loss)\n",
    "        \n",
    "        print(f'Graph {idx+1}, Epoch {epoch+1}: Train Loss: {train_loss:.4f}, Test Loss: {test_loss:.4f}')"
   ]
  },
  {
   "cell_type": "markdown",
   "id": "7b1890f5-268a-4465-a79b-57ca607a306d",
   "metadata": {},
   "source": [
    "## **Training and Test Set**"
   ]
  },
  {
   "cell_type": "markdown",
   "id": "a0ce0a51-056e-44b4-85f4-619633b00314",
   "metadata": {},
   "source": [
    "The section below prepares data for training and testing in a graph-based context where some nodes are labeled and others are not. The purpose of the mask is to identify and only include the labeled nodes in training and testing."
   ]
  },
  {
   "cell_type": "markdown",
   "id": "7f5fb6bb-ff38-447f-9973-1e0b79999228",
   "metadata": {},
   "source": [
    "1. Split the labeled nodes into training and test sets\n",
    "2. Creates masks to identify which nodes belong to each set."
   ]
  },
  {
   "cell_type": "markdown",
   "id": "4867b852-28c6-4073-abf5-bcc9a80cecb1",
   "metadata": {},
   "source": [
    "## **Execute the Training Loop, Calculate Loss**"
   ]
  },
  {
   "cell_type": "markdown",
   "id": "8b2a1162-272c-4ce3-bb99-4488b1c9bdaa",
   "metadata": {},
   "source": [
    "This section executes the training loop."
   ]
  },
  {
   "cell_type": "markdown",
   "id": "10c4af52-6dca-4eb3-9a5b-a5901ab6fb5f",
   "metadata": {},
   "source": [
    "## **Evaluate the Model**"
   ]
  },
  {
   "cell_type": "markdown",
   "id": "d1ae8381-f8c9-40e7-ba71-20e7b3b9111a",
   "metadata": {},
   "source": [
    "Test the trained model onto the test dataset."
   ]
  },
  {
   "cell_type": "code",
   "execution_count": 18,
   "id": "319109de-a3f6-452a-9df9-ac883c901cdf",
   "metadata": {},
   "outputs": [
    {
     "name": "stdout",
     "output_type": "stream",
     "text": [
      "Test Loss: 87113.27\n"
     ]
    }
   ],
   "source": [
    "# Assuming you have the necessary variables defined\n",
    "test_loss = test(model, data, test_mask)\n",
    "print(f'Test Loss: {test_loss:.2f}')"
   ]
  },
  {
   "cell_type": "markdown",
   "id": "984e11e9-1b08-4265-8e4a-5e47d8e35699",
   "metadata": {},
   "source": [
    "## **Visualise the Loss Function**"
   ]
  },
  {
   "cell_type": "code",
   "execution_count": 19,
   "id": "709b2d8d-930b-4347-a588-202fbc54cffc",
   "metadata": {},
   "outputs": [
    {
     "data": {
      "image/png": "[encoded data removed]",
      "text/plain": [
       "<Figure size 640x480 with 1 Axes>"
      ]
     },
     "metadata": {},
     "output_type": "display_data"
    }
   ],
   "source": [
    "import matplotlib.pyplot as plt\n",
    "\n",
    "plt.plot(train_losses, label='Training Loss')\n",
    "plt.plot(test_losses, label='Test Loss')\n",
    "plt.xlabel('Epoch')\n",
    "plt.ylabel('Loss')\n",
    "plt.title('Training and Test Loss Over Epochs')\n",
    "plt.legend()\n",
    "plt.show()\n"
   ]
  },
  {
   "cell_type": "markdown",
   "id": "ca1bdf9f-16fc-4d30-8003-2f21f37b8203",
   "metadata": {},
   "source": [
    "## **Save the Model**"
   ]
  },
  {
   "cell_type": "code",
   "execution_count": 20,
   "id": "ab5a8fc3-ccc4-49fa-811c-981455d24291",
   "metadata": {},
   "outputs": [],
   "source": [
    "# Define the file path variable using an f-string if you need dynamic components\n",
    "file_path = rf'data\\1_pytorch_model\\model.pth'  \n",
    "\n",
    "# Save the model\n",
    "torch.save(model.state_dict(), file_path)"
   ]
  }
 ],
 "metadata": {
  "kernelspec": {
   "display_name": "Python 3 (ipykernel)",
   "language": "python",
   "name": "python3"
  },
  "language_info": {
   "codemirror_mode": {
    "name": "ipython",
    "version": 3
   },
   "file_extension": ".py",
   "mimetype": "text/x-python",
   "name": "python",
   "nbconvert_exporter": "python",
   "pygments_lexer": "ipython3",
   "version": "3.10.6"
  }
 },
 "nbformat": 4,
 "nbformat_minor": 5
}
