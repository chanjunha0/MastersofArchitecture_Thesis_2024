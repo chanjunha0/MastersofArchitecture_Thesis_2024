{
 "cells": [
  {
   "cell_type": "markdown",
   "id": "c7eafdc0-571d-4052-84d4-dc4f76de3625",
   "metadata": {},
   "source": [
    "## **Import Libraries**"
   ]
  },
  {
   "cell_type": "code",
   "execution_count": 1,
   "id": "9bfe50d6-1fc3-407a-a875-93b1d3114832",
   "metadata": {},
   "outputs": [],
   "source": [
    "import torch\n",
    "from torch_geometric.data import Data\n",
    "from torch_geometric.nn import GCNConv\n",
    "import torch.nn.functional as F\n",
    "from math import sqrt"
   ]
  },
  {
   "cell_type": "markdown",
   "id": "1152a0f5-3356-460f-94ab-b08e13f42202",
   "metadata": {},
   "source": [
    "## **Loading the Data Object**"
   ]
  },
  {
   "cell_type": "code",
   "execution_count": 2,
   "id": "bfd2de9d-d102-4581-a2a3-db140bef58d6",
   "metadata": {},
   "outputs": [
    {
     "data": {
      "text/plain": [
       "Data(x=[713, 4], edge_index=[2, 117780], edge_attr=[117780, 1], y=[453])"
      ]
     },
     "execution_count": 2,
     "metadata": {},
     "output_type": "execute_result"
    }
   ],
   "source": [
    "# Load the previously saved Data object\n",
    "data = torch.load('data/graph_data.pt')\n",
    "\n",
    "# print check\n",
    "data"
   ]
  },
  {
   "cell_type": "markdown",
   "id": "f2ce697d-b2f6-48eb-ab98-0b537b4479af",
   "metadata": {},
   "source": [
    "## **Define the GNN Model**"
   ]
  },
  {
   "cell_type": "code",
   "execution_count": 3,
   "id": "6030d3fc-a986-4b65-9f53-29321a4fda83",
   "metadata": {},
   "outputs": [],
   "source": [
    "class SimpleGCN(torch.nn.Module):\n",
    "    def __init__(self, num_node_features, num_classes):\n",
    "        super(SimpleGCN, self).__init__()\n",
    "        self.conv1 = GCNConv(num_node_features, 16)  # First GCN layer\n",
    "        self.conv2 = GCNConv(16, num_classes)        # Second GCN layer\n",
    "\n",
    "    def forward(self, data):\n",
    "        x, edge_index = data.x, data.edge_index\n",
    "        x = self.conv1(x, edge_index)\n",
    "        x = F.relu(x)\n",
    "        x = F.dropout(x, training=self.training)\n",
    "        x = self.conv2(x, edge_index)\n",
    "        return x  # No log_softmax for regression"
   ]
  },
  {
   "cell_type": "markdown",
   "id": "2203d44e-8af6-42d5-b745-677573de7464",
   "metadata": {},
   "source": [
    "## **Initialise the Model and Optimiser**"
   ]
  },
  {
   "cell_type": "code",
   "execution_count": 4,
   "id": "df221bb9-06a9-4097-94a8-15575e0c6ff7",
   "metadata": {},
   "outputs": [],
   "source": [
    "num_node_features = 4  # From your Data object, x=[713, 4]\n",
    "num_classes = 1  # Assuming a regression task; adjust based on your specific task\n",
    "\n",
    "model = SimpleGCN(num_node_features, num_classes)\n",
    "optimizer = torch.optim.Adam(model.parameters(), lr=0.01)  # Using Adam optimizer"
   ]
  },
  {
   "cell_type": "markdown",
   "id": "7b1890f5-268a-4465-a79b-57ca607a306d",
   "metadata": {},
   "source": [
    "## **Training, Validation and Test Set**"
   ]
  },
  {
   "cell_type": "code",
   "execution_count": 5,
   "id": "bc300b96-bb13-4f45-ab40-c7e710869e0e",
   "metadata": {},
   "outputs": [],
   "source": [
    "# Assuming the first 453 nodes have labels\n",
    "num_labeled_nodes = 453  # Number of nodes with labels\n",
    "train_proportion = 0.8\n",
    "num_train = int(num_labeled_nodes * train_proportion)\n",
    "\n",
    "# Generate masks\n",
    "train_mask = torch.zeros(num_labeled_nodes, dtype=torch.bool)\n",
    "test_mask = torch.zeros(num_labeled_nodes, dtype=torch.bool)\n",
    "indices = torch.randperm(num_labeled_nodes)\n",
    "train_mask[indices[:num_train]] = True\n",
    "test_mask[indices[num_train:]] = True\n",
    "\n",
    "# Extend masks to cover all nodes, assuming unlabeled nodes are not used for training/testing\n",
    "extended_train_mask = torch.cat((train_mask, torch.zeros(data.num_nodes - num_labeled_nodes, dtype=torch.bool)))\n",
    "extended_test_mask = torch.cat((test_mask, torch.zeros(data.num_nodes - num_labeled_nodes, dtype=torch.bool)))\n",
    "\n",
    "# Update data object\n",
    "data.train_mask = extended_train_mask\n",
    "data.test_mask = extended_test_mask"
   ]
  },
  {
   "cell_type": "markdown",
   "id": "ac0b288a-fbf0-4152-a828-1bb867b06a18",
   "metadata": {},
   "source": [
    "## **Training Loop**"
   ]
  },
  {
   "cell_type": "markdown",
   "id": "c2780a93-7c99-4bfd-ad7c-8b043a01f71c",
   "metadata": {},
   "source": [
    "This code assumes a regression task with mse_loss as the loss function. If you're performing a classification task, you'll need to adjust the loss function (e.g., using F.nll_loss for multi-class classification with log_softmax output)."
   ]
  },
  {
   "cell_type": "markdown",
   "id": "c2b2dde6-05c6-4bbf-8ede-9d32aa8f3839",
   "metadata": {},
   "source": [
    "The adjustments above are conceptual and rely on the assumption that your labeled data (data.y) directly corresponds to the first 453 nodes and that the masks (train_mask and test_mask) are correctly indicating which of these nodes are for training or testing. If your labeled nodes are scattered throughout the graph or if there's a different logic to which nodes are labeled, you'll need to adjust the indexing logic to correctly match the labeled nodes in data.y to their predictions in out."
   ]
  },
  {
   "cell_type": "code",
   "execution_count": 6,
   "id": "e97f6125-9061-4159-b481-947b17f3f0d4",
   "metadata": {},
   "outputs": [],
   "source": [
    "def train():\n",
    "    model.train()\n",
    "    optimizer.zero_grad()\n",
    "\n",
    "    out = model(data)  # This will output predictions for all nodes\n",
    "    out = out.squeeze()  # Remove any singleton dimensions\n",
    "\n",
    "    # Focus loss calculation on the labeled subset of nodes\n",
    "    # Here, use the non-extended train mask to select the corresponding predictions\n",
    "    train_loss = F.mse_loss(out[:num_labeled_nodes][train_mask], data.y[train_mask])\n",
    "\n",
    "    train_loss.backward()\n",
    "    optimizer.step()\n",
    "    return train_loss.item()"
   ]
  },
  {
   "cell_type": "code",
   "execution_count": 7,
   "id": "50fe2405-33e8-46d6-95e7-221025e47018",
   "metadata": {},
   "outputs": [],
   "source": [
    "def test():\n",
    "    model.eval()\n",
    "    with torch.no_grad():\n",
    "        out = model(data)\n",
    "        out = out.squeeze()  # Ensure output matches target dimension\n",
    "\n",
    "        # Use the original (non-extended) test mask for labeled nodes\n",
    "        test_loss = F.mse_loss(out[:num_labeled_nodes][test_mask], data.y[test_mask]).item()\n",
    "\n",
    "    return test_loss"
   ]
  },
  {
   "cell_type": "markdown",
   "id": "4867b852-28c6-4073-abf5-bcc9a80cecb1",
   "metadata": {},
   "source": [
    "## **Execute the Training Loop, Calculate Loss**"
   ]
  },
  {
   "cell_type": "code",
   "execution_count": 8,
   "id": "5dc21915-4be4-4dee-9437-81ce98515561",
   "metadata": {},
   "outputs": [
    {
     "name": "stdout",
     "output_type": "stream",
     "text": [
      "Epoch: 1/100, Train Loss: 206532.5156, Test Loss: 189078.1094\n",
      "Epoch: 2/100, Train Loss: 199124.1562, Test Loss: 172115.4688\n",
      "Epoch: 3/100, Train Loss: 173676.1250, Test Loss: 156888.7969\n",
      "Epoch: 4/100, Train Loss: 163953.3906, Test Loss: 144157.4844\n",
      "Epoch: 5/100, Train Loss: 162963.6406, Test Loss: 134515.0938\n",
      "Epoch: 6/100, Train Loss: 146072.2031, Test Loss: 126551.7109\n",
      "Epoch: 7/100, Train Loss: 147840.2812, Test Loss: 120540.3594\n",
      "Epoch: 8/100, Train Loss: 148874.3281, Test Loss: 116318.8594\n",
      "Epoch: 9/100, Train Loss: 158654.5781, Test Loss: 113360.5391\n",
      "Epoch: 10/100, Train Loss: 160754.6562, Test Loss: 111495.3203\n",
      "Epoch: 11/100, Train Loss: 148070.7031, Test Loss: 110564.1172\n",
      "Epoch: 12/100, Train Loss: 158442.2500, Test Loss: 110112.6250\n",
      "Epoch: 13/100, Train Loss: 143109.3906, Test Loss: 109884.6797\n",
      "Epoch: 14/100, Train Loss: 152645.7812, Test Loss: 109914.6016\n",
      "Epoch: 15/100, Train Loss: 136189.7500, Test Loss: 110079.2656\n",
      "Epoch: 16/100, Train Loss: 154134.7656, Test Loss: 110528.0078\n",
      "Epoch: 17/100, Train Loss: 155341.2344, Test Loss: 111293.0781\n",
      "Epoch: 18/100, Train Loss: 153931.1562, Test Loss: 112271.3281\n",
      "Epoch: 19/100, Train Loss: 149691.9531, Test Loss: 113547.7500\n",
      "Epoch: 20/100, Train Loss: 154583.1562, Test Loss: 115070.4141\n",
      "Epoch: 21/100, Train Loss: 143714.9688, Test Loss: 116796.6484\n",
      "Epoch: 22/100, Train Loss: 147840.4375, Test Loss: 118620.1641\n",
      "Epoch: 23/100, Train Loss: 137905.3438, Test Loss: 120311.4297\n",
      "Epoch: 24/100, Train Loss: 139883.7969, Test Loss: 121813.4609\n",
      "Epoch: 25/100, Train Loss: 135606.2031, Test Loss: 122924.5625\n",
      "Epoch: 26/100, Train Loss: 144521.7812, Test Loss: 123607.5391\n",
      "Epoch: 27/100, Train Loss: 144824.6250, Test Loss: 123801.7656\n",
      "Epoch: 28/100, Train Loss: 142833.4688, Test Loss: 123670.0312\n",
      "Epoch: 29/100, Train Loss: 137580.9219, Test Loss: 123013.7266\n",
      "Epoch: 30/100, Train Loss: 153569.6562, Test Loss: 122241.0469\n",
      "Epoch: 31/100, Train Loss: 144172.7812, Test Loss: 121419.6719\n",
      "Epoch: 32/100, Train Loss: 133372.4219, Test Loss: 120468.5703\n",
      "Epoch: 33/100, Train Loss: 139823.5000, Test Loss: 119342.7344\n",
      "Epoch: 34/100, Train Loss: 139933.7344, Test Loss: 118160.8594\n",
      "Epoch: 35/100, Train Loss: 144937.6719, Test Loss: 117169.4141\n",
      "Epoch: 36/100, Train Loss: 144764.6250, Test Loss: 116435.8047\n",
      "Epoch: 37/100, Train Loss: 141806.0625, Test Loss: 115899.4297\n",
      "Epoch: 38/100, Train Loss: 134273.5625, Test Loss: 115323.1172\n",
      "Epoch: 39/100, Train Loss: 141459.3594, Test Loss: 114992.7031\n",
      "Epoch: 40/100, Train Loss: 145749.5312, Test Loss: 114884.3047\n",
      "Epoch: 41/100, Train Loss: 145794.6250, Test Loss: 114954.2969\n",
      "Epoch: 42/100, Train Loss: 154392.4688, Test Loss: 115195.7812\n",
      "Epoch: 43/100, Train Loss: 153967.4219, Test Loss: 115600.4062\n",
      "Epoch: 44/100, Train Loss: 141307.5000, Test Loss: 116202.9219\n",
      "Epoch: 45/100, Train Loss: 134665.2188, Test Loss: 116843.6016\n",
      "Epoch: 46/100, Train Loss: 141981.0000, Test Loss: 117710.1016\n",
      "Epoch: 47/100, Train Loss: 141223.9375, Test Loss: 118614.2969\n",
      "Epoch: 48/100, Train Loss: 144528.8906, Test Loss: 119417.0781\n",
      "Epoch: 49/100, Train Loss: 146359.3750, Test Loss: 120227.4609\n",
      "Epoch: 50/100, Train Loss: 143736.2344, Test Loss: 120720.9922\n",
      "Epoch: 51/100, Train Loss: 136563.9375, Test Loss: 121039.7656\n",
      "Epoch: 52/100, Train Loss: 133805.7031, Test Loss: 120971.6719\n",
      "Epoch: 53/100, Train Loss: 142324.0625, Test Loss: 120861.8047\n",
      "Epoch: 54/100, Train Loss: 155697.9062, Test Loss: 120816.8125\n",
      "Epoch: 55/100, Train Loss: 141435.1562, Test Loss: 120547.4297\n",
      "Epoch: 56/100, Train Loss: 141404.7188, Test Loss: 120056.6484\n",
      "Epoch: 57/100, Train Loss: 135828.5625, Test Loss: 119354.8984\n",
      "Epoch: 58/100, Train Loss: 153254.7812, Test Loss: 118784.6484\n",
      "Epoch: 59/100, Train Loss: 145308.8750, Test Loss: 118554.5469\n",
      "Epoch: 60/100, Train Loss: 148426.2344, Test Loss: 118446.8672\n",
      "Epoch: 61/100, Train Loss: 144933.0156, Test Loss: 118562.8672\n",
      "Epoch: 62/100, Train Loss: 135223.7500, Test Loss: 118454.8672\n",
      "Epoch: 63/100, Train Loss: 127081.5703, Test Loss: 118310.9141\n",
      "Epoch: 64/100, Train Loss: 133736.3750, Test Loss: 118161.4531\n",
      "Epoch: 65/100, Train Loss: 139252.4688, Test Loss: 117898.0078\n",
      "Epoch: 66/100, Train Loss: 143121.1406, Test Loss: 117616.6719\n",
      "Epoch: 67/100, Train Loss: 132397.4531, Test Loss: 117242.8125\n",
      "Epoch: 68/100, Train Loss: 144800.3594, Test Loss: 116811.6484\n",
      "Epoch: 69/100, Train Loss: 150682.6250, Test Loss: 116502.6484\n",
      "Epoch: 70/100, Train Loss: 128552.8594, Test Loss: 116044.2188\n",
      "Epoch: 71/100, Train Loss: 147564.0312, Test Loss: 115884.6406\n",
      "Epoch: 72/100, Train Loss: 141931.6094, Test Loss: 115959.6719\n",
      "Epoch: 73/100, Train Loss: 138844.2500, Test Loss: 116120.1953\n",
      "Epoch: 74/100, Train Loss: 136145.0781, Test Loss: 116599.3047\n",
      "Epoch: 75/100, Train Loss: 128804.0469, Test Loss: 117045.2344\n",
      "Epoch: 76/100, Train Loss: 147138.8594, Test Loss: 117423.3516\n",
      "Epoch: 77/100, Train Loss: 147529.0625, Test Loss: 117973.7812\n",
      "Epoch: 78/100, Train Loss: 130365.8984, Test Loss: 118312.6172\n",
      "Epoch: 79/100, Train Loss: 136704.0625, Test Loss: 118426.5938\n",
      "Epoch: 80/100, Train Loss: 145116.2500, Test Loss: 118457.4062\n",
      "Epoch: 81/100, Train Loss: 141365.6406, Test Loss: 118651.8594\n",
      "Epoch: 82/100, Train Loss: 133533.7031, Test Loss: 118575.3750\n",
      "Epoch: 83/100, Train Loss: 142330.7031, Test Loss: 118589.6484\n",
      "Epoch: 84/100, Train Loss: 135165.6250, Test Loss: 118562.6719\n",
      "Epoch: 85/100, Train Loss: 133110.3906, Test Loss: 118407.8438\n",
      "Epoch: 86/100, Train Loss: 138796.2500, Test Loss: 118251.4922\n",
      "Epoch: 87/100, Train Loss: 139098.1562, Test Loss: 118081.1953\n",
      "Epoch: 88/100, Train Loss: 145110.1875, Test Loss: 117871.8203\n",
      "Epoch: 89/100, Train Loss: 140650.7500, Test Loss: 117528.2344\n",
      "Epoch: 90/100, Train Loss: 149578.9062, Test Loss: 117412.7344\n",
      "Epoch: 91/100, Train Loss: 134794.2031, Test Loss: 117195.5156\n",
      "Epoch: 92/100, Train Loss: 141207.0781, Test Loss: 117264.0625\n",
      "Epoch: 93/100, Train Loss: 143924.5156, Test Loss: 117399.6953\n",
      "Epoch: 94/100, Train Loss: 145041.8750, Test Loss: 117654.1328\n",
      "Epoch: 95/100, Train Loss: 143026.1250, Test Loss: 118013.4609\n",
      "Epoch: 96/100, Train Loss: 140190.1719, Test Loss: 118196.5312\n",
      "Epoch: 97/100, Train Loss: 144082.3594, Test Loss: 118336.1797\n",
      "Epoch: 98/100, Train Loss: 154430.2031, Test Loss: 118792.9141\n",
      "Epoch: 99/100, Train Loss: 143402.8594, Test Loss: 119445.6406\n",
      "Epoch: 100/100, Train Loss: 141011.1094, Test Loss: 119992.5703\n"
     ]
    }
   ],
   "source": [
    "num_epochs = 100  # Define the number of epochs for training\n",
    "\n",
    "train_losses = []  # To store training loss per epoch\n",
    "test_losses = []  # To store test loss per epoch\n",
    "\n",
    "for epoch in range(num_epochs):\n",
    "    train_loss = train()  # Train the model and get the training loss\n",
    "    test_loss = test()  # Test the model and get the test loss\n",
    "    \n",
    "    # Optionally, print the losses to monitor the progress\n",
    "    print(f'Epoch: {epoch+1}/{num_epochs}, Train Loss: {train_loss:.4f}, Test Loss: {test_loss:.4f}')\n",
    "    \n",
    "    # Append losses for visualization/analysis\n",
    "    train_losses.append(train_loss)\n",
    "    test_losses.append(test_loss)"
   ]
  },
  {
   "cell_type": "markdown",
   "id": "10c4af52-6dca-4eb3-9a5b-a5901ab6fb5f",
   "metadata": {},
   "source": [
    "## **Evaluate the Model**"
   ]
  },
  {
   "cell_type": "code",
   "execution_count": 9,
   "id": "319109de-a3f6-452a-9df9-ac883c901cdf",
   "metadata": {},
   "outputs": [
    {
     "name": "stdout",
     "output_type": "stream",
     "text": [
      "Test Loss: 119992.5703\n"
     ]
    }
   ],
   "source": [
    "# Assuming test() function returns test loss and potentially other metrics\n",
    "test_loss = test()\n",
    "print(f'Test Loss: {test_loss:.4f}')"
   ]
  },
  {
   "cell_type": "code",
   "execution_count": 10,
   "id": "709b2d8d-930b-4347-a588-202fbc54cffc",
   "metadata": {},
   "outputs": [
    {
     "data": {
      "image/png": "[encoded data removed]",
      "text/plain": [
       "<Figure size 640x480 with 1 Axes>"
      ]
     },
     "metadata": {},
     "output_type": "display_data"
    }
   ],
   "source": [
    "import matplotlib.pyplot as plt\n",
    "\n",
    "plt.plot(train_losses, label='Training Loss')\n",
    "plt.plot(test_losses, label='Test Loss')\n",
    "plt.xlabel('Epoch')\n",
    "plt.ylabel('Loss')\n",
    "plt.title('Training and Test Loss Over Epochs')\n",
    "plt.legend()\n",
    "plt.show()"
   ]
  },
  {
   "cell_type": "code",
   "execution_count": null,
   "id": "d7df58fa-b735-4213-8bac-81b952c48683",
   "metadata": {},
   "outputs": [],
   "source": []
  }
 ],
 "metadata": {
  "kernelspec": {
   "display_name": "Python 3 (ipykernel)",
   "language": "python",
   "name": "python3"
  },
  "language_info": {
   "codemirror_mode": {
    "name": "ipython",
    "version": 3
   },
   "file_extension": ".py",
   "mimetype": "text/x-python",
   "name": "python",
   "nbconvert_exporter": "python",
   "pygments_lexer": "ipython3",
   "version": "3.10.6"
  }
 },
 "nbformat": 4,
 "nbformat_minor": 5
}
